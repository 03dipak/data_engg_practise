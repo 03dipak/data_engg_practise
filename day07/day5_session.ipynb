{
 "cells": [
  {
   "cell_type": "code",
   "execution_count": 1,
   "id": "de4a70b5-df05-48d1-b75c-28552dc417fb",
   "metadata": {},
   "outputs": [
    {
     "name": "stderr",
     "output_type": "stream",
     "text": [
      "SLF4J: Class path contains multiple SLF4J bindings.\n",
      "SLF4J: Found binding in [jar:file:/home/glue_user/spark/jars/log4j-slf4j-impl-2.17.2.jar!/org/slf4j/impl/StaticLoggerBinder.class]\n",
      "SLF4J: Found binding in [jar:file:/home/glue_user/spark/jars/slf4j-reload4j-1.7.36.jar!/org/slf4j/impl/StaticLoggerBinder.class]\n",
      "SLF4J: Found binding in [jar:file:/home/glue_user/aws-glue-libs/jars/log4j-slf4j-impl-2.17.2.jar!/org/slf4j/impl/StaticLoggerBinder.class]\n",
      "SLF4J: Found binding in [jar:file:/home/glue_user/aws-glue-libs/jars/slf4j-reload4j-1.7.36.jar!/org/slf4j/impl/StaticLoggerBinder.class]\n",
      "SLF4J: See http://www.slf4j.org/codes.html#multiple_bindings for an explanation.\n",
      "SLF4J: Actual binding is of type [org.apache.logging.slf4j.Log4jLoggerFactory]\n"
     ]
    },
    {
     "name": "stdout",
     "output_type": "stream",
     "text": [
      ":: loading settings :: url = jar:file:/home/glue_user/spark/jars/ivy-2.5.0.jar!/org/apache/ivy/core/settings/ivysettings.xml\n"
     ]
    },
    {
     "name": "stderr",
     "output_type": "stream",
     "text": [
      "Ivy Default Cache set to: /home/glue_user/.ivy2/cache\n",
      "The jars for the packages stored in: /home/glue_user/.ivy2/jars\n",
      "mysql#mysql-connector-java added as a dependency\n",
      ":: resolving dependencies :: org.apache.spark#spark-submit-parent-360db026-af7e-43a7-a3c0-518885506481;1.0\n",
      "\tconfs: [default]\n",
      "\tfound mysql#mysql-connector-java;8.0.33 in central\n",
      "\tfound com.mysql#mysql-connector-j;8.0.33 in central\n",
      "\tfound com.google.protobuf#protobuf-java;3.21.9 in central\n",
      ":: resolution report :: resolve 255ms :: artifacts dl 9ms\n",
      "\t:: modules in use:\n",
      "\tcom.google.protobuf#protobuf-java;3.21.9 from central in [default]\n",
      "\tcom.mysql#mysql-connector-j;8.0.33 from central in [default]\n",
      "\tmysql#mysql-connector-java;8.0.33 from central in [default]\n",
      "\t---------------------------------------------------------------------\n",
      "\t|                  |            modules            ||   artifacts   |\n",
      "\t|       conf       | number| search|dwnlded|evicted|| number|dwnlded|\n",
      "\t---------------------------------------------------------------------\n",
      "\t|      default     |   3   |   0   |   0   |   0   ||   2   |   0   |\n",
      "\t---------------------------------------------------------------------\n",
      ":: retrieving :: org.apache.spark#spark-submit-parent-360db026-af7e-43a7-a3c0-518885506481\n",
      "\tconfs: [default]\n",
      "\t0 artifacts copied, 2 already retrieved (0kB/12ms)\n",
      "Setting default log level to \"WARN\".\n",
      "To adjust logging level use sc.setLogLevel(newLevel). For SparkR, use setLogLevel(newLevel).\n"
     ]
    }
   ],
   "source": [
    "from pyspark.sql import SparkSession\n",
    "\n",
    "spark = SparkSession.builder.master('local[6]').appName('sql-Tranform-demo').config(\"spark.jars.packages\", \"mysql:mysql-connector-java:8.0.33\").getOrCreate()"
   ]
  },
  {
   "cell_type": "code",
   "execution_count": 14,
   "id": "71240b2f-d332-4d49-bb29-25a56bf09665",
   "metadata": {},
   "outputs": [],
   "source": [
    "df = spark.read.csv('data/5m-Sales-Records.csv', header = True)\n",
    "#df = spark.read.csv('s3://feb2025-training-bucket/data/5m-Sales-Records.csv', header = True)"
   ]
  },
  {
   "cell_type": "code",
   "execution_count": 15,
   "id": "8ea8896a-5ae5-419f-84ed-5e5bc091cc9b",
   "metadata": {},
   "outputs": [
    {
     "name": "stdout",
     "output_type": "stream",
     "text": [
      "+--------------------+-------+---------------+-------------+--------------+----------+---------+---------+----------+----------+---------+-------------+----------+------------+\n",
      "|              Region|Country|      Item Type|Sales Channel|Order Priority|Order Date| Order ID|Ship Date|Units Sold|Unit Price|Unit Cost|Total Revenue|Total Cost|Total Profit|\n",
      "+--------------------+-------+---------------+-------------+--------------+----------+---------+---------+----------+----------+---------+-------------+----------+------------+\n",
      "|Australia and Oce...|  Palau|Office Supplies|       Online|             H|  3/6/2016|517073523|3/26/2016|      2401|    651.21|   524.96|   1563555.21|1260428.96|   303126.25|\n",
      "|              Europe| Poland|      Beverages|       Online|             L| 4/18/2010|380507028|5/26/2010|      9340|     47.45|    31.79|    443183.00| 296918.60|   146264.40|\n",
      "+--------------------+-------+---------------+-------------+--------------+----------+---------+---------+----------+----------+---------+-------------+----------+------------+\n",
      "only showing top 2 rows\n",
      "\n",
      "root\n",
      " |-- Region: string (nullable = true)\n",
      " |-- Country: string (nullable = true)\n",
      " |-- Item Type: string (nullable = true)\n",
      " |-- Sales Channel: string (nullable = true)\n",
      " |-- Order Priority: string (nullable = true)\n",
      " |-- Order Date: string (nullable = true)\n",
      " |-- Order ID: string (nullable = true)\n",
      " |-- Ship Date: string (nullable = true)\n",
      " |-- Units Sold: string (nullable = true)\n",
      " |-- Unit Price: string (nullable = true)\n",
      " |-- Unit Cost: string (nullable = true)\n",
      " |-- Total Revenue: string (nullable = true)\n",
      " |-- Total Cost: string (nullable = true)\n",
      " |-- Total Profit: string (nullable = true)\n",
      "\n"
     ]
    },
    {
     "name": "stderr",
     "output_type": "stream",
     "text": [
      "                                                                                \r"
     ]
    },
    {
     "data": {
      "text/plain": [
       "5000000"
      ]
     },
     "execution_count": 15,
     "metadata": {},
     "output_type": "execute_result"
    }
   ],
   "source": [
    "df.show(2)\n",
    "df.printSchema()\n",
    "df.count()"
   ]
  },
  {
   "cell_type": "code",
   "execution_count": 8,
   "id": "0fb7ffed-efce-4638-9fc3-242d5918f2ad",
   "metadata": {},
   "outputs": [
    {
     "name": "stdout",
     "output_type": "stream",
     "text": [
      "root\n",
      " |-- Region: string (nullable = true)\n",
      " |-- Country: string (nullable = true)\n",
      " |-- Item_Type: string (nullable = true)\n",
      " |-- Sales_Channel: string (nullable = true)\n",
      " |-- Order_Priority: string (nullable = true)\n",
      " |-- Order_Date: string (nullable = true)\n",
      " |-- Order_ID: string (nullable = true)\n",
      " |-- Ship_Date: string (nullable = true)\n",
      " |-- Units_Sold: string (nullable = true)\n",
      " |-- Unit_Price: string (nullable = true)\n",
      " |-- Unit_Cost: string (nullable = true)\n",
      " |-- Total_Revenue: string (nullable = true)\n",
      " |-- Total_Cost: string (nullable = true)\n",
      " |-- Total_Profit: string (nullable = true)\n",
      "\n"
     ]
    }
   ],
   "source": [
    "for col_name in df.columns:\n",
    "    new_col_name = col_name.replace(\" \", \"_\")\n",
    "    df = df.withColumnRenamed(col_name, new_col_name)\n",
    "#df.count()\n",
    "df.printSchema()"
   ]
  },
  {
   "cell_type": "code",
   "execution_count": 9,
   "id": "7240fee8-b0b9-4b7b-bf28-6f47e54b05d3",
   "metadata": {},
   "outputs": [
    {
     "name": "stderr",
     "output_type": "stream",
     "text": [
      "                                                                                \r"
     ]
    },
    {
     "name": "stdout",
     "output_type": "stream",
     "text": [
      "+--------------------+-------+---------------+-------------+--------------+----------+----------+---------+----------+----------+---------+-------------+----------+------------+\n",
      "|              Region|Country|      Item_Type|Sales_Channel|Order_Priority|Order_Date|  Order_ID|Ship_Date|Units_Sold|Unit_Price|Unit_Cost|Total_Revenue|Total_Cost|Total_Profit|\n",
      "+--------------------+-------+---------------+-------------+--------------+----------+----------+---------+----------+----------+---------+-------------+----------+------------+\n",
      "|Australia and Oce...|   null|Office Supplies|       Online|             H|  3-6-2016|5555553523|3/26/2016|     -2401|   -651.21|   524.96|     15655.21|1260428.96|   303126.25|\n",
      "|              Europe| Poland|      Beverages|       Online|             L|12/25/2020|5555555028|26/5/2010|     -9340|     47.45|   -31.79|         null|  296918.6|    146264.4|\n",
      "+--------------------+-------+---------------+-------------+--------------+----------+----------+---------+----------+----------+---------+-------------+----------+------------+\n",
      "\n"
     ]
    }
   ],
   "source": [
    "# Creating news rows for error records\n",
    "from pyspark.sql import Row\n",
    "data = [\n",
    "    (\"Australia and Oceania\",None, \"Office Supplies\", \"Online\", \"H\", \"3-6-2016\", 5555553523, \"3/26/2016\", -2401, -651.21, 524.96, 15655.21, 1260428.96, 303126.25),\n",
    "    (\"Europe\", \"Poland\", \"Beverages\", \"Online\", \"L\", \"12/25/2020\", 5555555028, \"26/5/2010\", -9340, 47.45, -31.79, None, 296918.60, 146264.40)\n",
    "]\n",
    "\n",
    "df_new = spark.createDataFrame(data, df.schema)\n",
    "df_new.show()\n"
   ]
  },
  {
   "cell_type": "code",
   "execution_count": 10,
   "id": "5dffffeb-d1b9-45ab-a67a-8514825b5139",
   "metadata": {},
   "outputs": [
    {
     "name": "stderr",
     "output_type": "stream",
     "text": [
      "                                                                                \r"
     ]
    },
    {
     "data": {
      "text/plain": [
       "5000002"
      ]
     },
     "execution_count": 10,
     "metadata": {},
     "output_type": "execute_result"
    }
   ],
   "source": [
    "df_merged = df.union(df_new)\n",
    "df_merged.createOrReplaceTempView(\"salesdata\")\n",
    "df_merged.count()"
   ]
  },
  {
   "cell_type": "code",
   "execution_count": 11,
   "id": "e9248139-bddd-4a0f-832a-96781bc20fb0",
   "metadata": {},
   "outputs": [
    {
     "name": "stdout",
     "output_type": "stream",
     "text": [
      "+--------------------+------------+---------------+-------------+--------------+----------+---------+----------+----------+----------+---------+-------------+----------+------------+\n",
      "|              Region|     Country|      Item_Type|Sales_Channel|Order_Priority|Order_Date| Order_ID| Ship_Date|Units_Sold|Unit_Price|Unit_Cost|Total_Revenue|Total_Cost|Total_Profit|\n",
      "+--------------------+------------+---------------+-------------+--------------+----------+---------+----------+----------+----------+---------+-------------+----------+------------+\n",
      "|Australia and Oce...|       Palau|Office Supplies|       Online|             H|  3/6/2016|517073523| 3/26/2016|      2401|    651.21|   524.96|   1563555.21|1260428.96|   303126.25|\n",
      "|              Europe|      Poland|      Beverages|       Online|             L| 4/18/2010|380507028| 5/26/2010|      9340|     47.45|    31.79|     443183.0|  296918.6|    146264.4|\n",
      "|       North America|      Canada|         Cereal|       Online|             M|  1/8/2015|504055583| 1/31/2015|       103|     205.7|   117.11|      21187.1|  12062.33|     9124.77|\n",
      "|              Europe|     Belarus|         Snacks|       Online|             C| 1/19/2014|954955518| 2/27/2014|      1414|    152.58|    97.44|    215748.12| 137780.16|    77967.96|\n",
      "|Middle East and N...|        Oman|         Cereal|      Offline|             H| 4/26/2019|970755660|  6/2/2019|      7027|     205.7|   117.11|    1445453.9| 822931.97|   622521.93|\n",
      "|  Sub-Saharan Africa|Burkina Faso|Office Supplies|       Online|             C|  3/3/2012|309317338|  4/5/2012|      2729|    651.21|   524.96|   1777152.09|1432615.84|   344536.25|\n",
      "|              Europe|  Montenegro|  Personal Care|       Online|             H|11/24/2012|598814380|12/25/2012|      1337|     81.73|    56.67|    109273.01|  75767.79|    33505.22|\n",
      "|Middle East and N...|  Azerbaijan|      Cosmetics|      Offline|             M| 3/18/2011|387733113|  5/5/2011|      7699|     437.2|   263.33|    3366002.8|2027377.67|  1338625.13|\n",
      "|  Sub-Saharan Africa| South Sudan|        Clothes|      Offline|             C| 5/10/2014|994872367| 6/17/2014|      3696|    109.28|    35.84|    403898.88| 132464.64|   271434.24|\n",
      "|       North America|   Greenland|  Personal Care|       Online|             C| 5/25/2020|659343469| 6/14/2020|      3239|     81.73|    56.67|    264723.47| 183554.13|    81169.34|\n",
      "|              Europe|    Portugal|      Cosmetics|       Online|             M|11/12/2012|390570247|11/13/2012|      7270|     437.2|   263.33|    3178444.0| 1914409.1|   1264034.9|\n",
      "|  Sub-Saharan Africa|Sierra Leone|        Clothes|      Offline|             C| 7/25/2019|818289029| 7/27/2019|      8763|    109.28|    35.84|    957620.64| 314065.92|   643554.72|\n",
      "|              Europe|     Germany|  Personal Care|      Offline|             H|12/25/2010|842548644| 1/24/2011|      7722|     81.73|    56.67|    631119.06| 437605.74|   193513.32|\n",
      "|              Europe|  Montenegro|  Personal Care|      Offline|             L|  8/3/2012|783710420| 8/10/2012|      6184|     81.73|    56.67|    505418.32| 350447.28|   154971.04|\n",
      "|                Asia|  Bangladesh|         Cereal|      Offline|             L| 12/3/2013|132448184| 1/15/2014|      3216|     205.7|   117.11|     661531.2| 376625.76|   284905.44|\n",
      "|  Sub-Saharan Africa|  Mauritius |         Snacks|       Online|             M| 9/22/2016|699748265| 10/3/2016|      9917|    152.58|    97.44|   1513135.86| 966312.48|   546823.38|\n",
      "|                Asia|  Kyrgyzstan|         Snacks|      Offline|             H|11/22/2018|766909492|12/15/2018|      4416|    152.58|    97.44|    673793.28| 430295.04|   243498.24|\n",
      "|  Sub-Saharan Africa|  Madagascar|        Clothes|       Online|             C|10/27/2019|935543191|10/29/2019|      6875|    109.28|    35.84|     751300.0|  246400.0|    504900.0|\n",
      "|              Europe|     Romania|           Meat|       Online|             M| 1/25/2015|977573192|  2/7/2015|      4486|    421.89|   364.69|   1892598.54|1635999.34|    256599.2|\n",
      "|              Europe|       Malta|  Personal Care|      Offline|             H| 5/21/2012|285235822| 6/22/2012|      6473|     81.73|    56.67|    529038.29| 366824.91|   162213.38|\n",
      "+--------------------+------------+---------------+-------------+--------------+----------+---------+----------+----------+----------+---------+-------------+----------+------------+\n",
      "only showing top 20 rows\n",
      "\n",
      "root\n",
      " |-- Region: string (nullable = true)\n",
      " |-- Country: string (nullable = true)\n",
      " |-- Item_Type: string (nullable = true)\n",
      " |-- Sales_Channel: string (nullable = true)\n",
      " |-- Order_Priority: string (nullable = true)\n",
      " |-- Order_Date: string (nullable = true)\n",
      " |-- Order_ID: integer (nullable = true)\n",
      " |-- Ship_Date: string (nullable = true)\n",
      " |-- Units_Sold: integer (nullable = true)\n",
      " |-- Unit_Price: double (nullable = true)\n",
      " |-- Unit_Cost: double (nullable = true)\n",
      " |-- Total_Revenue: double (nullable = true)\n",
      " |-- Total_Cost: double (nullable = true)\n",
      " |-- Total_Profit: double (nullable = true)\n",
      "\n"
     ]
    }
   ],
   "source": [
    "df_sql = spark.sql(\"\"\"\n",
    "    SELECT \n",
    "        Region,\n",
    "        Country,\n",
    "        Item_Type,\n",
    "        Sales_Channel,\n",
    "        Order_Priority,\n",
    "        Order_Date,\n",
    "        CAST(Order_ID AS INT) AS Order_ID,\n",
    "        Ship_Date,\n",
    "        CAST(Units_Sold AS INT) AS Units_Sold,\n",
    "        CAST(Unit_Price AS DOUBLE) AS Unit_Price,\n",
    "        CAST(Unit_Cost AS DOUBLE) AS Unit_Cost,\n",
    "        CAST(Total_Revenue AS DOUBLE) AS Total_Revenue,\n",
    "        CAST(Total_Cost AS DOUBLE) AS Total_Cost,\n",
    "        CAST(Total_Profit AS DOUBLE) AS Total_Profit\n",
    "    FROM salesdata\n",
    "\"\"\")\n",
    "df_sql.show()\n",
    "df_sql.printSchema()\n"
   ]
  },
  {
   "cell_type": "code",
   "execution_count": 25,
   "id": "e4d12a86-f272-48ba-bf42-abead9c00c0e",
   "metadata": {},
   "outputs": [
    {
     "name": "stderr",
     "output_type": "stream",
     "text": [
      "                                                                                \r"
     ]
    },
    {
     "data": {
      "text/plain": [
       "5000002"
      ]
     },
     "execution_count": 25,
     "metadata": {},
     "output_type": "execute_result"
    }
   ],
   "source": [
    "df_sql = spark.sql(\"\"\"\n",
    "    SELECT Region, \n",
    "           Country, \n",
    "           Total_Revenue, \n",
    "           Order_Date, \n",
    "           TO_DATE(Order_Date, 'M/d/yyyy') AS Converted_Order_Date,\n",
    "           DATE_FORMAT(TO_DATE(Order_Date, 'M/d/yyyy'), 'dd-MM-yyyy') AS Formatted_Order_Date\n",
    "    FROM salesdata\n",
    "\"\"\")\n",
    "df_sql.createOrReplaceTempView(\"salesdata_1\")\n",
    "df_sql.count()\n"
   ]
  },
  {
   "cell_type": "code",
   "execution_count": 18,
   "id": "d20807e0-8c92-48be-a4c3-df7ae61912a3",
   "metadata": {},
   "outputs": [
    {
     "name": "stderr",
     "output_type": "stream",
     "text": [
      "                                                                                \r"
     ]
    },
    {
     "name": "stdout",
     "output_type": "stream",
     "text": [
      "+--------------------+-------+---------------+-------------+--------------+----------+----------+---------+----------+----------+---------+-------------+----------+------------+\n",
      "|              Region|Country|      Item_Type|Sales_Channel|Order_Priority|Order_Date|  Order_ID|Ship_Date|Units_Sold|Unit_Price|Unit_Cost|Total_Revenue|Total_Cost|Total_Profit|\n",
      "+--------------------+-------+---------------+-------------+--------------+----------+----------+---------+----------+----------+---------+-------------+----------+------------+\n",
      "|Australia and Oce...|   null|Office Supplies|       Online|             H|  3-6-2016|5555553523|3/26/2016|     -2401|   -651.21|   524.96|     15655.21|1260428.96|   303126.25|\n",
      "+--------------------+-------+---------------+-------------+--------------+----------+----------+---------+----------+----------+---------+-------------+----------+------------+\n",
      "\n"
     ]
    },
    {
     "name": "stderr",
     "output_type": "stream",
     "text": [
      "                                                                                \r"
     ]
    },
    {
     "data": {
      "text/plain": [
       "1"
      ]
     },
     "execution_count": 18,
     "metadata": {},
     "output_type": "execute_result"
    }
   ],
   "source": [
    "#^[1-9]{1}[0-9]{0,1}: Matches a 1- or 2-digit month (1-12).\n",
    "#/: Matches the literal separator.\n",
    "#[1-9]{1}[0-9]{0,1}: Matches a 1- or 2-digit day (1-31).\n",
    "#[0-9]{4}$: Matches a 4-digit year (e.g., 2015).\n",
    "\n",
    "df_sql = spark.sql(\"\"\"\n",
    "    SELECT * FROM salesdata where Order_Date not RLIKE '^[1-9]{1}[0-9]{0,1}/[1-9]{1}[0-9]{0,1}/[0-9]{4}$';\n",
    "\"\"\")\n",
    "df_sql.show()\n",
    "df_sql.count()"
   ]
  },
  {
   "cell_type": "code",
   "execution_count": 19,
   "id": "91329dcf-dcd7-467a-83a4-5b73afc6b7e6",
   "metadata": {},
   "outputs": [
    {
     "name": "stderr",
     "output_type": "stream",
     "text": [
      "[Stage 40:=================================================>        (6 + 1) / 7]\r"
     ]
    },
    {
     "name": "stdout",
     "output_type": "stream",
     "text": [
      "+--------------------+-------+---------------+-------------+--------------+----------+----------+---------+----------+----------+---------+-------------+----------+------------+\n",
      "|              Region|Country|      Item_Type|Sales_Channel|Order_Priority|Order_Date|  Order_ID|Ship_Date|Units_Sold|Unit_Price|Unit_Cost|Total_Revenue|Total_Cost|Total_Profit|\n",
      "+--------------------+-------+---------------+-------------+--------------+----------+----------+---------+----------+----------+---------+-------------+----------+------------+\n",
      "|              Europe|Belarus|     Vegetables|       Online|             C| 5/10/2020| 555555284|5/16/2020|         9|    154.06|    90.93|      1386.54|    818.37|      568.17|\n",
      "|Australia and Oce...|   Fiji|      Household|       Online|             C| 9/25/2012| 555555713|9/27/2012|       136|    668.27|   502.54|     90884.72|  68345.44|    22539.28|\n",
      "|              Europe|Belarus|     Vegetables|       Online|             C| 5/10/2020| 555555284|5/16/2020|         9|    154.06|    90.93|      1386.54|    818.37|      568.17|\n",
      "|Australia and Oce...|   Fiji|      Household|       Online|             C| 9/25/2012| 555555713|9/27/2012|       136|    668.27|   502.54|     90884.72|  68345.44|    22539.28|\n",
      "|Australia and Oce...|   null|Office Supplies|       Online|             H|  3-6-2016|5555553523|3/26/2016|     -2401|   -651.21|   524.96|     15655.21|1260428.96|   303126.25|\n",
      "|              Europe| Poland|      Beverages|       Online|             L|12/25/2020|5555555028|26/5/2010|     -9340|     47.45|   -31.79|         null|  296918.6|    146264.4|\n",
      "+--------------------+-------+---------------+-------------+--------------+----------+----------+---------+----------+----------+---------+-------------+----------+------------+\n",
      "\n"
     ]
    },
    {
     "name": "stderr",
     "output_type": "stream",
     "text": [
      "                                                                                \r"
     ]
    }
   ],
   "source": [
    "spark.sql(\"\"\" \n",
    "SELECT * FROM salesdata WHERE `Order_ID` LIKE '555555%'\n",
    "\"\"\").show()"
   ]
  },
  {
   "cell_type": "code",
   "execution_count": 20,
   "id": "580f03f3-7054-45c7-ba94-9daa1331e178",
   "metadata": {},
   "outputs": [
    {
     "name": "stderr",
     "output_type": "stream",
     "text": [
      "[Stage 43:=================================================>        (6 + 1) / 7]\r"
     ]
    },
    {
     "name": "stdout",
     "output_type": "stream",
     "text": [
      "+--------------------+-------+---------------+-------------+--------------+----------+----------+---------+----------+----------+---------+-------------+----------+------------+\n",
      "|              Region|Country|      Item_Type|Sales_Channel|Order_Priority|Order_Date|  Order_ID|Ship_Date|Units_Sold|Unit_Price|Unit_Cost|Total_Revenue|Total_Cost|Total_Profit|\n",
      "+--------------------+-------+---------------+-------------+--------------+----------+----------+---------+----------+----------+---------+-------------+----------+------------+\n",
      "|Australia and Oce...|   null|Office Supplies|       Online|             H|  3-6-2016|5555553523|3/26/2016|     -2401|   -651.21|   524.96|     15655.21|1260428.96|   303126.25|\n",
      "|              Europe| Poland|      Beverages|       Online|             L|12/25/2020|5555555028|26/5/2010|     -9340|     47.45|   -31.79|         null|  296918.6|    146264.4|\n",
      "+--------------------+-------+---------------+-------------+--------------+----------+----------+---------+----------+----------+---------+-------------+----------+------------+\n",
      "\n"
     ]
    },
    {
     "name": "stderr",
     "output_type": "stream",
     "text": [
      "                                                                                \r"
     ]
    }
   ],
   "source": [
    "#Range Check\n",
    "spark.sql(\"\"\" \n",
    "SELECT * FROM salesdata WHERE Units_Sold < 0    OR Total_Revenue < 0   OR Total_Profit < 0 OR Unit_Price < 0;\n",
    "\"\"\").show()\n",
    "\n"
   ]
  },
  {
   "cell_type": "code",
   "execution_count": 21,
   "id": "8a294161-6b24-4075-b65a-ee6559764b26",
   "metadata": {},
   "outputs": [
    {
     "name": "stderr",
     "output_type": "stream",
     "text": [
      "[Stage 44:==============================================>         (10 + 2) / 12]\r"
     ]
    },
    {
     "name": "stdout",
     "output_type": "stream",
     "text": [
      "+--------+\n",
      "|count(1)|\n",
      "+--------+\n",
      "| 2492996|\n",
      "+--------+\n",
      "\n"
     ]
    },
    {
     "name": "stderr",
     "output_type": "stream",
     "text": [
      "                                                                                \r"
     ]
    }
   ],
   "source": [
    "#Consistency Check\n",
    "spark.sql(\"\"\" \n",
    "SELECT count(*) FROM salesdata WHERE Total_Profit > Total_Revenue\n",
    "\"\"\").show()\n",
    "\n"
   ]
  },
  {
   "cell_type": "code",
   "execution_count": 26,
   "id": "46b3fabe-ceeb-4cd7-9306-03a6f0f53e10",
   "metadata": {},
   "outputs": [
    {
     "name": "stderr",
     "output_type": "stream",
     "text": [
      "[Stage 54:=================================================>        (6 + 1) / 7]\r"
     ]
    },
    {
     "name": "stdout",
     "output_type": "stream",
     "text": [
      "+--------------------+-------+-------------+----------+--------------------+--------------------+\n",
      "|              Region|Country|Total_Revenue|Order_Date|Converted_Order_Date|Formatted_Order_Date|\n",
      "+--------------------+-------+-------------+----------+--------------------+--------------------+\n",
      "|Australia and Oce...|   null|     15655.21|  3-6-2016|                null|                null|\n",
      "+--------------------+-------+-------------+----------+--------------------+--------------------+\n",
      "\n"
     ]
    },
    {
     "name": "stderr",
     "output_type": "stream",
     "text": [
      "                                                                                \r"
     ]
    }
   ],
   "source": [
    "#Date Format Check\n",
    "spark.sql(\"\"\" \n",
    "SELECT * FROM salesdata_1 WHERE CAST(Converted_Order_Date AS DATE) IS NULL; \"\"\").show()\n",
    "\n"
   ]
  },
  {
   "cell_type": "code",
   "execution_count": null,
   "id": "a6ed5ad1-da30-41dc-9df7-75878d367504",
   "metadata": {},
   "outputs": [],
   "source": []
  },
  {
   "cell_type": "code",
   "execution_count": 33,
   "id": "5bb6a23b-b641-4f18-b1d4-afbf4bd3cbe3",
   "metadata": {},
   "outputs": [
    {
     "name": "stderr",
     "output_type": "stream",
     "text": [
      "                                                                                \r"
     ]
    },
    {
     "name": "stdout",
     "output_type": "stream",
     "text": [
      "+--------------------+-------+---------------+-------------+--------------+----------+----------+---------+----------+----------+---------+-------------+----------+------------+--------------------+\n",
      "|              Region|Country|      Item_Type|Sales_Channel|Order_Priority|Order_Date|  Order_ID|Ship_Date|Units_Sold|Unit_Price|Unit_Cost|Total_Revenue|Total_Cost|Total_Profit|          error_flag|\n",
      "+--------------------+-------+---------------+-------------+--------------+----------+----------+---------+----------+----------+---------+-------------+----------+------------+--------------------+\n",
      "|Australia and Oce...|   null|Office Supplies|       Online|             H|  3-6-2016|5555553523|3/26/2016|     -2401|   -651.21|   524.96|     15655.21|1260428.96|   303126.25|     Country is NULL|\n",
      "|              Europe| Poland|      Beverages|       Online|             L|12/25/2020|5555555028|26/5/2010|     -9340|     47.45|   -31.79|         null|  296918.6|    146264.4|Units_Sold is neg...|\n",
      "+--------------------+-------+---------------+-------------+--------------+----------+----------+---------+----------+----------+---------+-------------+----------+------------+--------------------+\n",
      "\n"
     ]
    },
    {
     "name": "stderr",
     "output_type": "stream",
     "text": [
      "                                                                                \r"
     ]
    },
    {
     "data": {
      "text/plain": [
       "2"
      ]
     },
     "execution_count": 33,
     "metadata": {},
     "output_type": "execute_result"
    }
   ],
   "source": [
    "error_records_df = spark.sql(\"\"\"\n",
    "SELECT *\n",
    "FROM (\n",
    "    SELECT *,\n",
    "        CASE \n",
    "            WHEN Order_ID IS NULL THEN 'Order_ID is NULL'\n",
    "            WHEN Country IS NULL THEN 'Country is NULL'\n",
    "            WHEN Units_Sold IS NULL THEN 'Units_Sold is NULL'\n",
    "            WHEN Units_Sold < 0 THEN 'Units_Sold is negative'\n",
    "            WHEN Total_Revenue < 0 THEN 'Total_Revenue is negative'\n",
    "            WHEN Total_Profit < 0 THEN 'Total_Profit is negative'\n",
    "            WHEN Order_Date IS NULL THEN 'Order_Date is NULL'\n",
    "            WHEN Ship_Date IS NULL THEN 'Ship_Date is NULL'\n",
    "            WHEN Order_Date NOT RLIKE '^[1-9]{1}[0-9]{0,1}/[1-9]{1}[0-9]{0,1}/[0-9]{4}$' THEN 'Order_Date has invalid format (expected M/d/yyyy)'\n",
    "            WHEN Ship_Date NOT  RLIKE '^[1-9]{1}[0-9]{0,1}/[1-9]{1}[0-9]{0,1}/[0-9]{4}$' THEN 'Ship_Date has invalid format (expected M/d/yyyy)'\n",
    "           -- WHEN  Ship_Date < Order_Date THEN 'Ship_Date before Order_Date'\n",
    "            ELSE NULL\n",
    "        END AS error_flag\n",
    "    FROM salesdata\n",
    ") AS temp\n",
    "WHERE error_flag IS NOT NULL;\n",
    "\"\"\")\n",
    "error_records_df.show()\n",
    "error_records_df.count()"
   ]
  },
  {
   "cell_type": "code",
   "execution_count": 31,
   "id": "e16ad990-d6ad-4bb2-bf61-766ac6430fc4",
   "metadata": {},
   "outputs": [
    {
     "name": "stderr",
     "output_type": "stream",
     "text": [
      "                                                                                \r"
     ]
    },
    {
     "data": {
      "text/plain": [
       "5000000"
      ]
     },
     "execution_count": 31,
     "metadata": {},
     "output_type": "execute_result"
    }
   ],
   "source": [
    "valid_records = spark.sql(\"\"\"\n",
    "SELECT *\n",
    "FROM (\n",
    "    SELECT *,\n",
    "        CASE \n",
    "            WHEN Order_ID IS NULL THEN 'Order_ID is NULL'\n",
    "            WHEN Country IS NULL THEN 'Country is NULL'\n",
    "            WHEN Units_Sold IS NULL THEN 'Units_Sold is NULL'\n",
    "            WHEN Units_Sold < 0 THEN 'Units_Sold is negative'\n",
    "            WHEN Total_Revenue < 0 THEN 'Total_Revenue is negative'\n",
    "            WHEN Total_Profit < 0 THEN 'Total_Profit is negative'\n",
    "            WHEN Order_Date IS NULL THEN 'Order_Date is NULL'\n",
    "            WHEN Ship_Date IS NULL THEN 'Ship_Date is NULL'\n",
    "            WHEN Order_Date NOT RLIKE '^[1-9]{1}[0-9]{0,1}/[1-9]{1}[0-9]{0,1}/[0-9]{4}$' THEN 'Order_Date has invalid format (expected M/d/yyyy)'\n",
    "            WHEN Ship_Date NOT  RLIKE '^[1-9]{1}[0-9]{0,1}/[1-9]{1}[0-9]{0,1}/[0-9]{4}$' THEN 'Ship_Date has invalid format (expected M/d/yyyy)'\n",
    "           --WHEN  Ship_Date < Order_Date THEN 'Ship_Date before Order_Date'    \n",
    "            ELSE NULL\n",
    "        END AS error_flag\n",
    "    FROM salesdata\n",
    ") AS temp\n",
    "WHERE error_flag IS NULL;\n",
    "\"\"\")\n",
    "valid_records.createOrReplaceTempView(\"valid_salesdata\")\n",
    "valid_records.count()\n"
   ]
  },
  {
   "cell_type": "code",
   "execution_count": 34,
   "id": "69fbe763-26ed-4883-9e05-0d1208102264",
   "metadata": {},
   "outputs": [
    {
     "name": "stdout",
     "output_type": "stream",
     "text": [
      "+--------------------+------------+---------------+-------------+--------------+----------+---------+----------+----------+----------+---------+-------------+----------+------------+---------+\n",
      "|              Region|     Country|      Item_Type|Sales_Channel|Order_Priority|Order_Date| Order_ID| Ship_Date|Units_Sold|Unit_Price|Unit_Cost|Total_Revenue|Total_Cost|Total_Profit|   Status|\n",
      "+--------------------+------------+---------------+-------------+--------------+----------+---------+----------+----------+----------+---------+-------------+----------+------------+---------+\n",
      "|Australia and Oce...|       Palau|Office Supplies|       Online|             H|  3/6/2016|517073523| 3/26/2016|      2401|    651.21|   524.96|   1563555.21|1260428.96|   303126.25|Completed|\n",
      "|              Europe|      Poland|      Beverages|       Online|             L| 4/18/2010|380507028| 5/26/2010|      9340|     47.45|    31.79|    443183.00| 296918.60|   146264.40|Completed|\n",
      "|       North America|      Canada|         Cereal|       Online|             M|  1/8/2015|504055583| 1/31/2015|       103|    205.70|   117.11|     21187.10|  12062.33|     9124.77|Completed|\n",
      "|              Europe|     Belarus|         Snacks|       Online|             C| 1/19/2014|954955518| 2/27/2014|      1414|    152.58|    97.44|    215748.12| 137780.16|    77967.96|Completed|\n",
      "|Middle East and N...|        Oman|         Cereal|      Offline|             H| 4/26/2019|970755660|  6/2/2019|      7027|    205.70|   117.11|   1445453.90| 822931.97|   622521.93|Completed|\n",
      "|  Sub-Saharan Africa|Burkina Faso|Office Supplies|       Online|             C|  3/3/2012|309317338|  4/5/2012|      2729|    651.21|   524.96|   1777152.09|1432615.84|   344536.25|Completed|\n",
      "|              Europe|  Montenegro|  Personal Care|       Online|             H|11/24/2012|598814380|12/25/2012|      1337|     81.73|    56.67|    109273.01|  75767.79|    33505.22|Completed|\n",
      "|Middle East and N...|  Azerbaijan|      Cosmetics|      Offline|             M| 3/18/2011|387733113|  5/5/2011|      7699|    437.20|   263.33|   3366002.80|2027377.67|  1338625.13|Completed|\n",
      "|  Sub-Saharan Africa| South Sudan|        Clothes|      Offline|             C| 5/10/2014|994872367| 6/17/2014|      3696|    109.28|    35.84|    403898.88| 132464.64|   271434.24|Completed|\n",
      "|       North America|   Greenland|  Personal Care|       Online|             C| 5/25/2020|659343469| 6/14/2020|      3239|     81.73|    56.67|    264723.47| 183554.13|    81169.34|Completed|\n",
      "|              Europe|    Portugal|      Cosmetics|       Online|             M|11/12/2012|390570247|11/13/2012|      7270|    437.20|   263.33|   3178444.00|1914409.10|  1264034.90|Completed|\n",
      "|  Sub-Saharan Africa|Sierra Leone|        Clothes|      Offline|             C| 7/25/2019|818289029| 7/27/2019|      8763|    109.28|    35.84|    957620.64| 314065.92|   643554.72|Completed|\n",
      "|              Europe|     Germany|  Personal Care|      Offline|             H|12/25/2010|842548644| 1/24/2011|      7722|     81.73|    56.67|    631119.06| 437605.74|   193513.32|Completed|\n",
      "|              Europe|  Montenegro|  Personal Care|      Offline|             L|  8/3/2012|783710420| 8/10/2012|      6184|     81.73|    56.67|    505418.32| 350447.28|   154971.04|Completed|\n",
      "|                Asia|  Bangladesh|         Cereal|      Offline|             L| 12/3/2013|132448184| 1/15/2014|      3216|    205.70|   117.11|    661531.20| 376625.76|   284905.44|Completed|\n",
      "|  Sub-Saharan Africa|  Mauritius |         Snacks|       Online|             M| 9/22/2016|699748265| 10/3/2016|      9917|    152.58|    97.44|   1513135.86| 966312.48|   546823.38|Completed|\n",
      "|                Asia|  Kyrgyzstan|         Snacks|      Offline|             H|11/22/2018|766909492|12/15/2018|      4416|    152.58|    97.44|    673793.28| 430295.04|   243498.24|Completed|\n",
      "|  Sub-Saharan Africa|  Madagascar|        Clothes|       Online|             C|10/27/2019|935543191|10/29/2019|      6875|    109.28|    35.84|    751300.00| 246400.00|   504900.00|Completed|\n",
      "|              Europe|     Romania|           Meat|       Online|             M| 1/25/2015|977573192|  2/7/2015|      4486|    421.89|   364.69|   1892598.54|1635999.34|   256599.20|Completed|\n",
      "|              Europe|       Malta|  Personal Care|      Offline|             H| 5/21/2012|285235822| 6/22/2012|      6473|     81.73|    56.67|    529038.29| 366824.91|   162213.38|Completed|\n",
      "+--------------------+------------+---------------+-------------+--------------+----------+---------+----------+----------+----------+---------+-------------+----------+------------+---------+\n",
      "only showing top 20 rows\n",
      "\n"
     ]
    }
   ],
   "source": [
    "spark.sql(\"SELECT *, 'Completed' AS Status FROM salesdata\").show()"
   ]
  },
  {
   "cell_type": "code",
   "execution_count": 35,
   "id": "6a3e065a-78d8-4ac8-ac19-1d75ff9c0488",
   "metadata": {},
   "outputs": [
    {
     "name": "stdout",
     "output_type": "stream",
     "text": [
      "+--------------------+------------+----------+\n",
      "|              Region|     Country|   Revenue|\n",
      "+--------------------+------------+----------+\n",
      "|Australia and Oce...|       Palau|1563555.21|\n",
      "|              Europe|      Poland| 443183.00|\n",
      "|       North America|      Canada|  21187.10|\n",
      "|              Europe|     Belarus| 215748.12|\n",
      "|Middle East and N...|        Oman|1445453.90|\n",
      "|  Sub-Saharan Africa|Burkina Faso|1777152.09|\n",
      "|              Europe|  Montenegro| 109273.01|\n",
      "|Middle East and N...|  Azerbaijan|3366002.80|\n",
      "|  Sub-Saharan Africa| South Sudan| 403898.88|\n",
      "|       North America|   Greenland| 264723.47|\n",
      "|              Europe|    Portugal|3178444.00|\n",
      "|  Sub-Saharan Africa|Sierra Leone| 957620.64|\n",
      "|              Europe|     Germany| 631119.06|\n",
      "|              Europe|  Montenegro| 505418.32|\n",
      "|                Asia|  Bangladesh| 661531.20|\n",
      "|  Sub-Saharan Africa|  Mauritius |1513135.86|\n",
      "|                Asia|  Kyrgyzstan| 673793.28|\n",
      "|  Sub-Saharan Africa|  Madagascar| 751300.00|\n",
      "|              Europe|     Romania|1892598.54|\n",
      "|              Europe|       Malta| 529038.29|\n",
      "+--------------------+------------+----------+\n",
      "only showing top 20 rows\n",
      "\n"
     ]
    }
   ],
   "source": [
    "spark.sql(\"\"\" \n",
    "SELECT Region, Country, Total_Revenue AS Revenue FROM salesdata;\n",
    "\"\"\").show()\n"
   ]
  },
  {
   "cell_type": "code",
   "execution_count": 36,
   "id": "63efd5ed-0909-49cf-980b-6f05997ce463",
   "metadata": {},
   "outputs": [
    {
     "name": "stdout",
     "output_type": "stream",
     "text": [
      "+--------------------+------------+---------------+-------------+----------+-------------+\n",
      "|              Region|     Country|      Item_Type|Sales_Channel|Order_Date|Total_Revenue|\n",
      "+--------------------+------------+---------------+-------------+----------+-------------+\n",
      "|Australia and Oce...|       Palau|Office Supplies|       Online|  3/6/2016|   1563555.21|\n",
      "|              Europe|      Poland|      Beverages|       Online| 4/18/2010|    443183.00|\n",
      "|       North America|      Canada|         Cereal|       Online|  1/8/2015|     21187.10|\n",
      "|              Europe|     Belarus|         Snacks|       Online| 1/19/2014|    215748.12|\n",
      "|Middle East and N...|        Oman|         Cereal|      Offline| 4/26/2019|   1445453.90|\n",
      "|  Sub-Saharan Africa|Burkina Faso|Office Supplies|       Online|  3/3/2012|   1777152.09|\n",
      "|              Europe|  Montenegro|  Personal Care|       Online|11/24/2012|    109273.01|\n",
      "|Middle East and N...|  Azerbaijan|      Cosmetics|      Offline| 3/18/2011|   3366002.80|\n",
      "|  Sub-Saharan Africa| South Sudan|        Clothes|      Offline| 5/10/2014|    403898.88|\n",
      "|       North America|   Greenland|  Personal Care|       Online| 5/25/2020|    264723.47|\n",
      "|              Europe|    Portugal|      Cosmetics|       Online|11/12/2012|   3178444.00|\n",
      "|  Sub-Saharan Africa|Sierra Leone|        Clothes|      Offline| 7/25/2019|    957620.64|\n",
      "|              Europe|     Germany|  Personal Care|      Offline|12/25/2010|    631119.06|\n",
      "|              Europe|  Montenegro|  Personal Care|      Offline|  8/3/2012|    505418.32|\n",
      "|                Asia|  Bangladesh|         Cereal|      Offline| 12/3/2013|    661531.20|\n",
      "|  Sub-Saharan Africa|  Mauritius |         Snacks|       Online| 9/22/2016|   1513135.86|\n",
      "|                Asia|  Kyrgyzstan|         Snacks|      Offline|11/22/2018|    673793.28|\n",
      "|  Sub-Saharan Africa|  Madagascar|        Clothes|       Online|10/27/2019|    751300.00|\n",
      "|              Europe|     Romania|           Meat|       Online| 1/25/2015|   1892598.54|\n",
      "|              Europe|       Malta|  Personal Care|      Offline| 5/21/2012|    529038.29|\n",
      "+--------------------+------------+---------------+-------------+----------+-------------+\n",
      "only showing top 20 rows\n",
      "\n"
     ]
    }
   ],
   "source": [
    "spark.sql(\"\"\" \n",
    "SELECT Region, Country, Item_Type, Sales_Channel, Order_Date, Total_Revenue FROM salesdata;\n",
    "\"\"\").show()\n"
   ]
  },
  {
   "cell_type": "code",
   "execution_count": 37,
   "id": "5e915bfd-ef0f-4171-ad20-15d9f6b370a5",
   "metadata": {},
   "outputs": [
    {
     "name": "stderr",
     "output_type": "stream",
     "text": [
      "[Stage 85:=================================================>        (6 + 1) / 7]\r"
     ]
    },
    {
     "name": "stdout",
     "output_type": "stream",
     "text": [
      "+------+-------+---------+-------------+--------------+----------+----------+---------+----------+----------+---------+-------------+----------+------------+\n",
      "|Region|Country|Item_Type|Sales_Channel|Order_Priority|Order_Date|  Order_ID|Ship_Date|Units_Sold|Unit_Price|Unit_Cost|Total_Revenue|Total_Cost|Total_Profit|\n",
      "+------+-------+---------+-------------+--------------+----------+----------+---------+----------+----------+---------+-------------+----------+------------+\n",
      "|Europe| Poland|Beverages|       Online|             L|12/25/2020|5555555028|26/5/2010|     -9340|     47.45|   -31.79|         null|  296918.6|    146264.4|\n",
      "+------+-------+---------+-------------+--------------+----------+----------+---------+----------+----------+---------+-------------+----------+------------+\n",
      "\n"
     ]
    },
    {
     "name": "stderr",
     "output_type": "stream",
     "text": [
      "                                                                                \r"
     ]
    }
   ],
   "source": [
    "spark.sql(\"\"\" \n",
    "SELECT * FROM salesdata WHERE Total_Revenue IS  NULL;\n",
    "\"\"\").show()\n"
   ]
  },
  {
   "cell_type": "code",
   "execution_count": 39,
   "id": "15a35234-cfb1-4f32-be79-e015d5bb6cf8",
   "metadata": {},
   "outputs": [
    {
     "name": "stderr",
     "output_type": "stream",
     "text": [
      "[Stage 91:=================================================>        (6 + 1) / 7]\r"
     ]
    },
    {
     "name": "stdout",
     "output_type": "stream",
     "text": [
      "+------+-------+---------+-------------+--------------+----------+----------+---------+----------+----------+---------+-------------+----------+------------+-------------+\n",
      "|Region|Country|Item_Type|Sales_Channel|Order_Priority|Order_Date|  Order_ID|Ship_Date|Units_Sold|Unit_Price|Unit_Cost|Total_Revenue|Total_Cost|Total_Profit|Total_Revenue|\n",
      "+------+-------+---------+-------------+--------------+----------+----------+---------+----------+----------+---------+-------------+----------+------------+-------------+\n",
      "|Europe| Poland|Beverages|       Online|             L|12/25/2020|5555555028|26/5/2010|     -9340|     47.45|   -31.79|         null|  296918.6|    146264.4|            0|\n",
      "+------+-------+---------+-------------+--------------+----------+----------+---------+----------+----------+---------+-------------+----------+------------+-------------+\n",
      "\n"
     ]
    },
    {
     "name": "stderr",
     "output_type": "stream",
     "text": [
      "                                                                                \r"
     ]
    }
   ],
   "source": [
    "spark.sql(\"\"\" \n",
    "SELECT *, COALESCE(Total_Revenue, 0) AS Total_Revenue FROM salesdata WHERE Total_Revenue IS  NULL;\n",
    "\"\"\").show()\n"
   ]
  },
  {
   "cell_type": "code",
   "execution_count": 40,
   "id": "c0b82fef-4a55-4273-a528-de26c9906871",
   "metadata": {},
   "outputs": [
    {
     "name": "stderr",
     "output_type": "stream",
     "text": [
      "                                                                                \r"
     ]
    },
    {
     "name": "stdout",
     "output_type": "stream",
     "text": [
      "+----------+------------+-------------+------------------+\n",
      "|total_rows|null_country|null_order_id|null_total_revenue|\n",
      "+----------+------------+-------------+------------------+\n",
      "|   5000002|           1|            0|                 1|\n",
      "+----------+------------+-------------+------------------+\n",
      "\n"
     ]
    }
   ],
   "source": [
    "#Null Check\n",
    "spark.sql(\"\"\" \n",
    "SELECT COUNT(*) AS total_rows, \n",
    "COUNT(CASE WHEN Country IS NULL THEN 1 END) AS null_country, \n",
    "COUNT(CASE WHEN Order_ID IS NULL THEN 1 END) AS null_order_id, \n",
    "COUNT(CASE WHEN Total_Revenue IS NULL THEN 1 END) AS null_total_revenue \n",
    "FROM salesdata;\n",
    "\"\"\").show()\n",
    "\n"
   ]
  },
  {
   "cell_type": "code",
   "execution_count": 41,
   "id": "5eb555c5-a4f9-4251-a036-f2432de2b082",
   "metadata": {},
   "outputs": [
    {
     "name": "stderr",
     "output_type": "stream",
     "text": [
      "[Stage 95:=================================>                       (7 + 5) / 12]\r"
     ]
    },
    {
     "name": "stdout",
     "output_type": "stream",
     "text": [
      "+--------------------+------------------------+\n",
      "|             Country|Total_Revenue_by_Country|\n",
      "+--------------------+------------------------+\n",
      "|              Turkey|    3.607858333332002E10|\n",
      "|              Angola|    3.593869337192004...|\n",
      "|          East Timor|       3.606127505553E10|\n",
      "|             Albania|    3.592686260609997E10|\n",
      "|           Nicaragua|    3.576133702022005E10|\n",
      "|               China|    3.601271524842999E10|\n",
      "|             Somalia|    3.598757324060997E10|\n",
      "|             Croatia|    3.607999540734997E10|\n",
      "|             Andorra|    3.597381030885995E10|\n",
      "|              Norway|    3.583466901126996E10|\n",
      "|               Niger|    3.598542696423003E10|\n",
      "|             Ireland|    3.607509419343001...|\n",
      "|       Liechtenstein|    3.608427412681992E10|\n",
      "|           Swaziland|    3.580642420097002E10|\n",
      "|Democratic Republ...|    3.589081698501998E10|\n",
      "|              Bhutan|    3.609033808057003E10|\n",
      "|              Israel|    3.601851570352997...|\n",
      "|            Tunisia |    3.581875832232997E10|\n",
      "|              Mexico|    3.605792129497997E10|\n",
      "|             Armenia|    3.601612209510997E10|\n",
      "+--------------------+------------------------+\n",
      "only showing top 20 rows\n",
      "\n"
     ]
    },
    {
     "name": "stderr",
     "output_type": "stream",
     "text": [
      "                                                                                \r"
     ]
    }
   ],
   "source": [
    "spark.sql(\"\"\" \n",
    "SELECT Country, SUM(Total_Revenue) AS Total_Revenue_by_Country \n",
    "FROM salesdata \n",
    "GROUP BY Country\n",
    "\"\"\").show()\n"
   ]
  },
  {
   "cell_type": "code",
   "execution_count": 42,
   "id": "0d5a2718-a13f-4652-b3d5-8547b78ea205",
   "metadata": {},
   "outputs": [
    {
     "name": "stderr",
     "output_type": "stream",
     "text": [
      "[Stage 98:=======================>                                 (5 + 6) / 12]\r"
     ]
    },
    {
     "name": "stdout",
     "output_type": "stream",
     "text": [
      "+--------------------+------------------------+\n",
      "|             Country|Total_Revenue_by_Country|\n",
      "+--------------------+------------------------+\n",
      "|              Rwanda|    3.634388914491001E10|\n",
      "|              Canada|    3.621494398565999E10|\n",
      "|         Philippines|    3.620237518002995E10|\n",
      "|    Marshall Islands|    3.615366341424998...|\n",
      "|              Panama|    3.613639346960005E10|\n",
      "|             Lesotho|    3.613016405397003E10|\n",
      "|             Liberia|    3.612976405918994E10|\n",
      "|              Taiwan|    3.612489163990006E10|\n",
      "|            Maldives|    3.612321549976002E10|\n",
      "|Saint Kitts and N...|       3.611518957761E10|\n",
      "| Trinidad and Tobago|    3.611428475709001E10|\n",
      "|          Kazakhstan|    3.611396150080001E10|\n",
      "|            Cameroon|    3.611375133907995...|\n",
      "|               Japan|    3.611290325129999...|\n",
      "|         Seychelles |    3.611215496095000...|\n",
      "|               Tonga|    3.611178305527998E10|\n",
      "|              Serbia|    3.610944077914002E10|\n",
      "|              Monaco|    3.610605266115996E10|\n",
      "|          Costa Rica|    3.610160880999997E10|\n",
      "|              Belize|    3.609807695073996E10|\n",
      "+--------------------+------------------------+\n",
      "only showing top 20 rows\n",
      "\n"
     ]
    },
    {
     "name": "stderr",
     "output_type": "stream",
     "text": [
      "                                                                                \r"
     ]
    }
   ],
   "source": [
    "spark.sql(\"\"\" \n",
    "SELECT Country, SUM(Total_Revenue) AS Total_Revenue_by_Country \n",
    "FROM salesdata \n",
    "GROUP BY Country\n",
    "ORDER BY Total_Revenue_by_Country DESC;\n",
    "\"\"\").show()\n"
   ]
  },
  {
   "cell_type": "code",
   "execution_count": 43,
   "id": "b41dacff-ea62-4adb-acac-20e75921b99e",
   "metadata": {},
   "outputs": [
    {
     "name": "stderr",
     "output_type": "stream",
     "text": [
      "25/02/18 15:07:30 WARN RowBasedKeyValueBatch: Calling spill() on RowBasedKeyValueBatch. Will not spill but return 0.\n",
      "25/02/18 15:07:30 WARN RowBasedKeyValueBatch: Calling spill() on RowBasedKeyValueBatch. Will not spill but return 0.\n",
      "25/02/18 15:07:30 WARN RowBasedKeyValueBatch: Calling spill() on RowBasedKeyValueBatch. Will not spill but return 0.\n",
      "25/02/18 15:07:30 WARN RowBasedKeyValueBatch: Calling spill() on RowBasedKeyValueBatch. Will not spill but return 0.\n",
      "25/02/18 15:07:30 WARN RowBasedKeyValueBatch: Calling spill() on RowBasedKeyValueBatch. Will not spill but return 0.\n",
      "25/02/18 15:07:30 WARN RowBasedKeyValueBatch: Calling spill() on RowBasedKeyValueBatch. Will not spill but return 0.\n",
      "[Stage 101:=======================>                                (5 + 6) / 12]\r"
     ]
    },
    {
     "name": "stdout",
     "output_type": "stream",
     "text": [
      "+---------+-----------+\n",
      "| Order_ID|order_count|\n",
      "+---------+-----------+\n",
      "|172520816|          2|\n",
      "|693221271|          2|\n",
      "|286153352|          2|\n",
      "|524290597|          2|\n",
      "|600975596|          2|\n",
      "|229758298|          2|\n",
      "|823808801|          2|\n",
      "|513141620|          2|\n",
      "|423505628|          2|\n",
      "|935651767|          2|\n",
      "|323637330|          2|\n",
      "|990212619|          2|\n",
      "|336575877|          2|\n",
      "|917588269|          2|\n",
      "|520938909|          2|\n",
      "|846018779|          2|\n",
      "|558573520|          2|\n",
      "|560909402|          2|\n",
      "|278614413|          2|\n",
      "|192224967|          2|\n",
      "+---------+-----------+\n",
      "only showing top 20 rows\n",
      "\n"
     ]
    },
    {
     "name": "stderr",
     "output_type": "stream",
     "text": [
      "                                                                                \r"
     ]
    }
   ],
   "source": [
    "#Duplicate Check\n",
    "spark.sql(\"\"\" \n",
    "SELECT Order_ID, COUNT(*) AS order_count FROM salesdata GROUP BY Order_ID HAVING order_count > 1;\n",
    "\"\"\").show()\n",
    "\n"
   ]
  },
  {
   "cell_type": "code",
   "execution_count": 45,
   "id": "e960a481-2e06-4a23-a477-2b2e3eacb0fa",
   "metadata": {},
   "outputs": [
    {
     "name": "stderr",
     "output_type": "stream",
     "text": [
      "[Stage 107:==================================================>    (11 + 1) / 12]\r"
     ]
    },
    {
     "name": "stdout",
     "output_type": "stream",
     "text": [
      "+--------------------+\n",
      "|             Country|\n",
      "+--------------------+\n",
      "|              Turkey|\n",
      "|              Angola|\n",
      "|          East Timor|\n",
      "|             Albania|\n",
      "|           Nicaragua|\n",
      "|               China|\n",
      "|             Somalia|\n",
      "|             Croatia|\n",
      "|             Andorra|\n",
      "|              Norway|\n",
      "|               Niger|\n",
      "|             Ireland|\n",
      "|       Liechtenstein|\n",
      "|           Swaziland|\n",
      "|Democratic Republ...|\n",
      "|              Bhutan|\n",
      "|              Israel|\n",
      "|            Tunisia |\n",
      "|              Mexico|\n",
      "|             Armenia|\n",
      "+--------------------+\n",
      "only showing top 20 rows\n",
      "\n"
     ]
    },
    {
     "name": "stderr",
     "output_type": "stream",
     "text": [
      "                                                                                \r"
     ]
    }
   ],
   "source": [
    "spark.sql(\"\"\" \n",
    "SELECT DISTINCT Country,Region,Order_ID FROM salesdata;\n",
    "\"\"\").show()\n"
   ]
  },
  {
   "cell_type": "code",
   "execution_count": 46,
   "id": "12bd81d3-da5e-47ed-ac4c-553cb5417510",
   "metadata": {},
   "outputs": [],
   "source": [
    "#spark.read.csv('s3://feb2025-training-bucket/data/customers.csv/000.csv', header = True, inferSchema = True).createOrReplaceTempView(\"customers\")\n",
    "#spark.read.csv('s3://feb2025-training-bucket/data/customerorder_04102024.csv/customerorder.csv', header = True, inferSchema = True).createOrReplaceTempView(\"customerorder\")\n",
    "\n",
    "spark.read.csv('data/customers.csv', header = True, inferSchema = True).createOrReplaceTempView(\"customers\")\n",
    "spark.read.csv('data/customerorder_04102024.csv', header = True, inferSchema = True).createOrReplaceTempView(\"customerorder\")"
   ]
  },
  {
   "cell_type": "code",
   "execution_count": 47,
   "id": "4f14aaed-33af-4dc3-b483-bd15f5c93ac2",
   "metadata": {},
   "outputs": [
    {
     "name": "stderr",
     "output_type": "stream",
     "text": [
      "25/02/18 15:10:42 WARN package: Truncated the string representation of a plan since it was too large. This behavior can be adjusted by setting 'spark.sql.debug.maxToStringFields'.\n",
      "[Stage 117:============================>                            (2 + 2) / 4]\r"
     ]
    },
    {
     "name": "stdout",
     "output_type": "stream",
     "text": [
      "+--------------------+-------+---------+-------------+--------------+----------+---------+---------+----------+----------+---------+-------------+----------+------------+---------+-----------+-----------+------+--------+--------------------+-----+-------+--------+-----------+------+----+-------+--------+------------+----------+--------------------+----------+-------------+---------------+---------------+\n",
      "|              Region|Country|Item_Type|Sales_Channel|Order_Priority|Order_Date| Order_ID|Ship_Date|Units_Sold|Unit_Price|Unit_Cost|Total_Revenue|Total_Cost|Total_Profit| Order_ID|customer_id|customer_id|tax_id|tax_code|       customer_name|state|   city|postcode|     street|number|unit| region|district|         lon|       lat|     ship_to_address|valid_from|     valid_to|units_purchased|loyalty_segment|\n",
      "+--------------------+-------+---------+-------------+--------------+----------+---------+---------+----------+----------+---------+-------------+----------+------------+---------+-----------+-----------+------+--------+--------------------+-----+-------+--------+-----------+------+----+-------+--------+------------+----------+--------------------+----------+-------------+---------------+---------------+\n",
      "|Australia and Oce...| Tuvalu|Baby Food|      Offline|             H| 7/28/2010|669165933|8/27/2010|      9925|    255.28|   159.42|   2533654.00|1582243.50|   951410.50|669165933|   30585978|   30585978|  null|    null|STEPHENS,  GERALD...|   OR|ADDRESS|       0|   NO SITUS|  null|null|   null|    null|-122.1055158| 45.374317|OR, 0, NO SITUS, nan|1523100473|         null|           18.0|              3|\n",
      "|Australia and Oce...| Tuvalu|Baby Food|      Offline|             H| 7/28/2010|669165933|8/27/2010|      9925|    255.28|   159.42|   2533654.00|1582243.50|   951410.50|669165933|   11123757|   11123757|  null|    null|     SMITH,  SHIRLEY|   IN| BREMEN| 46506.0|N CENTER ST| 521.0|null|Indiana|    50.0| -86.1465825|41.4507625|IN, 46506.0, N CE...|1532824233|1.548137353E9|           34.0|              3|\n",
      "+--------------------+-------+---------+-------------+--------------+----------+---------+---------+----------+----------+---------+-------------+----------+------------+---------+-----------+-----------+------+--------+--------------------+-----+-------+--------+-----------+------+----+-------+--------+------------+----------+--------------------+----------+-------------+---------------+---------------+\n",
      "only showing top 2 rows\n",
      "\n"
     ]
    },
    {
     "name": "stderr",
     "output_type": "stream",
     "text": [
      "                                                                                \r"
     ]
    }
   ],
   "source": [
    "\n",
    "df=spark.sql(\"\"\" SELECT * FROM salesdata a JOIN customerorder b ON a.Order_ID = b.Order_ID \n",
    "                JOIN customers c ON b.customer_id = c.customer_id \"\"\")\n",
    "\n",
    "df.show(2)"
   ]
  },
  {
   "cell_type": "code",
   "execution_count": 48,
   "id": "f120c227-967b-4a16-9db1-f47e726d12f1",
   "metadata": {},
   "outputs": [
    {
     "name": "stderr",
     "output_type": "stream",
     "text": [
      "[Stage 118:==========================================>             (9 + 3) / 12]\r"
     ]
    },
    {
     "name": "stdout",
     "output_type": "stream",
     "text": [
      "+--------------------+---------------+-----------------------+--------------------+\n",
      "|             Country|      Item_Type|Office_Supplies_Revenue|   Beverages_Revenue|\n",
      "+--------------------+---------------+-----------------------+--------------------+\n",
      "|           Swaziland|      Beverages|                    0.0|5.3145945450000006E8|\n",
      "|         South Korea|  Personal Care|                    0.0|                 0.0|\n",
      "|         Afghanistan|      Cosmetics|                    0.0|                 0.0|\n",
      "|              Panama|      Household|                    0.0|                 0.0|\n",
      "|            Barbados|      Baby Food|                    0.0|                 0.0|\n",
      "|           Macedonia|         Snacks|                    0.0|                 0.0|\n",
      "|Saint Vincent and...|        Clothes|                    0.0|                 0.0|\n",
      "|             Germany|         Fruits|                    0.0|                 0.0|\n",
      "|       Liechtenstein|      Cosmetics|                    0.0|                 0.0|\n",
      "|                Togo|      Household|                    0.0|                 0.0|\n",
      "|               Nepal|Office Supplies|    7.318638562829998E9|                 0.0|\n",
      "|              Rwanda|      Household|                    0.0|                 0.0|\n",
      "|             Nigeria|      Baby Food|                    0.0|                 0.0|\n",
      "|          Montenegro|      Baby Food|                    0.0|                 0.0|\n",
      "|               India|      Baby Food|                    0.0|                 0.0|\n",
      "|Federated States ...|           Meat|                    0.0|                 0.0|\n",
      "|             Belgium|     Vegetables|                    0.0|                 0.0|\n",
      "|             Croatia|      Cosmetics|                    0.0|                 0.0|\n",
      "|          Azerbaijan|         Cereal|                    0.0|                 0.0|\n",
      "|               Kenya|           Meat|                    0.0|                 0.0|\n",
      "+--------------------+---------------+-----------------------+--------------------+\n",
      "only showing top 20 rows\n",
      "\n"
     ]
    },
    {
     "name": "stderr",
     "output_type": "stream",
     "text": [
      "                                                                                \r"
     ]
    }
   ],
   "source": [
    "#convert row to column\n",
    "\n",
    "spark.sql(\"\"\" SELECT Country,Item_Type,\n",
    "       SUM(CASE WHEN Item_Type = 'Office Supplies' THEN Total_Revenue ELSE 0 END) AS Office_Supplies_Revenue,\n",
    "       SUM(CASE WHEN Item_Type = 'Beverages' THEN Total_Revenue ELSE 0 END) AS Beverages_Revenue\n",
    "FROM salesdata\n",
    "GROUP BY Country,Item_Type \"\"\").show()\n"
   ]
  },
  {
   "cell_type": "code",
   "execution_count": 50,
   "id": "dcb78dab-7b16-487d-bc0f-fb1790897c91",
   "metadata": {},
   "outputs": [
    {
     "name": "stderr",
     "output_type": "stream",
     "text": [
      "[Stage 124:==============>                                         (3 + 6) / 12]\r"
     ]
    },
    {
     "name": "stdout",
     "output_type": "stream",
     "text": [
      "+-------+-------------+----------+------------------+\n",
      "|Country|Total_Revenue|Units_Sold|revenue_units_rank|\n",
      "+-------+-------------+----------+------------------+\n",
      "|   null|     15655.21|     -2401|                 1|\n",
      "|Albania|    999931.76|      3917|                 1|\n",
      "|Albania|    999931.76|      3917|                 1|\n",
      "|Albania|    999931.76|      3917|                 1|\n",
      "|Albania|    999879.30|      2370|                 4|\n",
      "+-------+-------------+----------+------------------+\n",
      "only showing top 5 rows\n",
      "\n"
     ]
    },
    {
     "name": "stderr",
     "output_type": "stream",
     "text": [
      "                                                                                \r"
     ]
    }
   ],
   "source": [
    "result_df = spark.sql(\"\"\"\n",
    "SELECT Country, Total_Revenue, Units_Sold,\n",
    "       RANK() OVER (PARTITION BY Country ORDER BY Total_Revenue DESC, Units_Sold DESC) AS revenue_units_rank\n",
    "FROM salesdata\n",
    "\"\"\")\n",
    "result_df.show(5)\n"
   ]
  },
  {
   "cell_type": "code",
   "execution_count": null,
   "id": "c8c966f3-9da7-4925-890b-9aefe4f71d66",
   "metadata": {},
   "outputs": [],
   "source": []
  }
 ],
 "metadata": {
  "kernelspec": {
   "display_name": "Python 3 (ipykernel)",
   "language": "python",
   "name": "python3"
  },
  "language_info": {
   "codemirror_mode": {
    "name": "ipython",
    "version": 3
   },
   "file_extension": ".py",
   "mimetype": "text/x-python",
   "name": "python",
   "nbconvert_exporter": "python",
   "pygments_lexer": "ipython3",
   "version": "3.10.2"
  }
 },
 "nbformat": 4,
 "nbformat_minor": 5
}
