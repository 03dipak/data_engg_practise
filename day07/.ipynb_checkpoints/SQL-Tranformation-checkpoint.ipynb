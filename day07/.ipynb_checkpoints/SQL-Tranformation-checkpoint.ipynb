{
 "cells": [
  {
   "cell_type": "code",
   "execution_count": 1,
   "metadata": {},
   "outputs": [
    {
     "name": "stderr",
     "output_type": "stream",
     "text": [
      "SLF4J: Class path contains multiple SLF4J bindings.\n",
      "SLF4J: Found binding in [jar:file:/home/glue_user/spark/jars/log4j-slf4j-impl-2.17.2.jar!/org/slf4j/impl/StaticLoggerBinder.class]\n",
      "SLF4J: Found binding in [jar:file:/home/glue_user/spark/jars/slf4j-reload4j-1.7.36.jar!/org/slf4j/impl/StaticLoggerBinder.class]\n",
      "SLF4J: Found binding in [jar:file:/home/glue_user/aws-glue-libs/jars/log4j-slf4j-impl-2.17.2.jar!/org/slf4j/impl/StaticLoggerBinder.class]\n",
      "SLF4J: Found binding in [jar:file:/home/glue_user/aws-glue-libs/jars/slf4j-reload4j-1.7.36.jar!/org/slf4j/impl/StaticLoggerBinder.class]\n",
      "SLF4J: See http://www.slf4j.org/codes.html#multiple_bindings for an explanation.\n",
      "SLF4J: Actual binding is of type [org.apache.logging.slf4j.Log4jLoggerFactory]\n"
     ]
    },
    {
     "name": "stdout",
     "output_type": "stream",
     "text": [
      ":: loading settings :: url = jar:file:/home/glue_user/spark/jars/ivy-2.5.0.jar!/org/apache/ivy/core/settings/ivysettings.xml\n"
     ]
    },
    {
     "name": "stderr",
     "output_type": "stream",
     "text": [
      "Ivy Default Cache set to: /home/glue_user/.ivy2/cache\n",
      "The jars for the packages stored in: /home/glue_user/.ivy2/jars\n",
      "mysql#mysql-connector-java added as a dependency\n",
      ":: resolving dependencies :: org.apache.spark#spark-submit-parent-0d2d504a-6373-4c20-8848-9e847341718c;1.0\n",
      "\tconfs: [default]\n",
      "\tfound mysql#mysql-connector-java;8.0.33 in central\n",
      "\tfound com.mysql#mysql-connector-j;8.0.33 in central\n",
      "\tfound com.google.protobuf#protobuf-java;3.21.9 in central\n",
      ":: resolution report :: resolve 228ms :: artifacts dl 5ms\n",
      "\t:: modules in use:\n",
      "\tcom.google.protobuf#protobuf-java;3.21.9 from central in [default]\n",
      "\tcom.mysql#mysql-connector-j;8.0.33 from central in [default]\n",
      "\tmysql#mysql-connector-java;8.0.33 from central in [default]\n",
      "\t---------------------------------------------------------------------\n",
      "\t|                  |            modules            ||   artifacts   |\n",
      "\t|       conf       | number| search|dwnlded|evicted|| number|dwnlded|\n",
      "\t---------------------------------------------------------------------\n",
      "\t|      default     |   3   |   0   |   0   |   0   ||   2   |   0   |\n",
      "\t---------------------------------------------------------------------\n",
      ":: retrieving :: org.apache.spark#spark-submit-parent-0d2d504a-6373-4c20-8848-9e847341718c\n",
      "\tconfs: [default]\n",
      "\t0 artifacts copied, 2 already retrieved (0kB/10ms)\n",
      "Setting default log level to \"WARN\".\n",
      "To adjust logging level use sc.setLogLevel(newLevel). For SparkR, use setLogLevel(newLevel).\n",
      "25/03/06 04:12:07 WARN Utils: Service 'SparkUI' could not bind on port 4040. Attempting port 4041.\n"
     ]
    }
   ],
   "source": [
    "from pyspark.sql import SparkSession\n",
    "\n",
    "# Initialize Spark Session with MySQL JDBC Driver\n",
    "spark = SparkSession.builder.master('local[8]').appName('sql-Tranform-demo').config(\"spark.jars.packages\", \"mysql:mysql-connector-java:8.0.33\").getOrCreate()\n",
    "\n",
    "#df = spark.read.csv('s3://feb2025-training-bucket/data/5m-Sales-Records.csv', header = True)\n",
    "#df = spark.read.csv('/mnt/s3_feb2025/data/5m-Sales-Records.csv', header = True)\n",
    "#df = spark.read.csv('abfss://4afe1d84-eaf5-405f-a28b-03b576203110@onelake.dfs.fabric.microsoft.com/bb6f7778-293e-4c55-8576-e25b56eddb04/Files/5m-Sales-Records.csv', header = True)\n"
   ]
  },
  {
   "cell_type": "code",
   "execution_count": 2,
   "metadata": {
    "application/vnd.databricks.v1+cell": {
     "cellMetadata": {
      "byteLimit": 2048000,
      "rowLimit": 10000
     },
     "inputWidgets": {},
     "nuid": "db36ad4f-78c3-4018-8c78-f4fb3fd730db",
     "showTitle": false,
     "tableResultSettingsMap": {},
     "title": ""
    }
   },
   "outputs": [
    {
     "name": "stderr",
     "output_type": "stream",
     "text": [
      "                                                                                \r"
     ]
    },
    {
     "name": "stdout",
     "output_type": "stream",
     "text": [
      "root\n",
      " |-- Region: string (nullable = true)\n",
      " |-- Country: string (nullable = true)\n",
      " |-- Item Type: string (nullable = true)\n",
      " |-- Sales Channel: string (nullable = true)\n",
      " |-- Order Priority: string (nullable = true)\n",
      " |-- Order Date: string (nullable = true)\n",
      " |-- Order ID: string (nullable = true)\n",
      " |-- Ship Date: string (nullable = true)\n",
      " |-- Units Sold: string (nullable = true)\n",
      " |-- Unit Price: string (nullable = true)\n",
      " |-- Unit Cost: string (nullable = true)\n",
      " |-- Total Revenue: string (nullable = true)\n",
      " |-- Total Cost: string (nullable = true)\n",
      " |-- Total Profit: string (nullable = true)\n",
      "\n",
      "+--------------------+-------+---------------+-------------+--------------+----------+---------+---------+----------+----------+---------+-------------+----------+------------+\n",
      "|              Region|Country|      Item Type|Sales Channel|Order Priority|Order Date| Order ID|Ship Date|Units Sold|Unit Price|Unit Cost|Total Revenue|Total Cost|Total Profit|\n",
      "+--------------------+-------+---------------+-------------+--------------+----------+---------+---------+----------+----------+---------+-------------+----------+------------+\n",
      "|Australia and Oce...|  Palau|Office Supplies|       Online|             H|  3/6/2016|517073523|3/26/2016|      2401|    651.21|   524.96|   1563555.21|1260428.96|   303126.25|\n",
      "|              Europe| Poland|      Beverages|       Online|             L| 4/18/2010|380507028|5/26/2010|      9340|     47.45|    31.79|    443183.00| 296918.60|   146264.40|\n",
      "|       North America| Canada|         Cereal|       Online|             M|  1/8/2015|504055583|1/31/2015|       103|    205.70|   117.11|     21187.10|  12062.33|     9124.77|\n",
      "|              Europe|Belarus|         Snacks|       Online|             C| 1/19/2014|954955518|2/27/2014|      1414|    152.58|    97.44|    215748.12| 137780.16|    77967.96|\n",
      "|Middle East and N...|   Oman|         Cereal|      Offline|             H| 4/26/2019|970755660| 6/2/2019|      7027|    205.70|   117.11|   1445453.90| 822931.97|   622521.93|\n",
      "+--------------------+-------+---------------+-------------+--------------+----------+---------+---------+----------+----------+---------+-------------+----------+------------+\n",
      "only showing top 5 rows\n",
      "\n"
     ]
    },
    {
     "name": "stderr",
     "output_type": "stream",
     "text": [
      "                                                                                \r"
     ]
    },
    {
     "data": {
      "text/plain": [
       "5000000"
      ]
     },
     "execution_count": 2,
     "metadata": {},
     "output_type": "execute_result"
    }
   ],
   "source": [
    "#schema_str=\"Region str,Country string  \"\n",
    "\n",
    "\n",
    "df = spark.read.csv('data/5m-Sales-Records.csv', header = True)\n",
    "#df = spark.read.csv('s3://feb2025-training-bucket/data/5m-Sales-Records.csv', header = True)\n",
    "df.printSchema()\n",
    "df.show(5)\n",
    "df.count()"
   ]
  },
  {
   "cell_type": "code",
   "execution_count": 3,
   "metadata": {
    "application/vnd.databricks.v1+cell": {
     "cellMetadata": {
      "byteLimit": 2048000,
      "rowLimit": 10000
     },
     "inputWidgets": {},
     "nuid": "29cd804a-c165-4948-966e-da03083e8994",
     "showTitle": false,
     "tableResultSettingsMap": {},
     "title": ""
    }
   },
   "outputs": [
    {
     "name": "stderr",
     "output_type": "stream",
     "text": [
      "[Stage 5:=======>                                                   (1 + 7) / 8]\r"
     ]
    },
    {
     "name": "stdout",
     "output_type": "stream",
     "text": [
      "root\n",
      " |-- Region: string (nullable = true)\n",
      " |-- Country: string (nullable = true)\n",
      " |-- Item_Type: string (nullable = true)\n",
      " |-- Sales_Channel: string (nullable = true)\n",
      " |-- Order_Priority: string (nullable = true)\n",
      " |-- Order_Date: string (nullable = true)\n",
      " |-- Order_ID: string (nullable = true)\n",
      " |-- Ship_Date: string (nullable = true)\n",
      " |-- Units_Sold: string (nullable = true)\n",
      " |-- Unit_Price: string (nullable = true)\n",
      " |-- Unit_Cost: string (nullable = true)\n",
      " |-- Total_Revenue: string (nullable = true)\n",
      " |-- Total_Cost: string (nullable = true)\n",
      " |-- Total_Profit: string (nullable = true)\n",
      "\n"
     ]
    },
    {
     "name": "stderr",
     "output_type": "stream",
     "text": [
      "                                                                                \r"
     ]
    }
   ],
   "source": [
    "for col_name in df.columns:\n",
    "    new_col_name = col_name.replace(\" \", \"_\")\n",
    "    df = df.withColumnRenamed(col_name, new_col_name)\n",
    "df.count()\n",
    "df.printSchema()"
   ]
  },
  {
   "cell_type": "code",
   "execution_count": 4,
   "metadata": {},
   "outputs": [
    {
     "name": "stderr",
     "output_type": "stream",
     "text": [
      "                                                                                \r"
     ]
    },
    {
     "name": "stdout",
     "output_type": "stream",
     "text": [
      "+--------------------+-------+---------------+-------------+--------------+----------+----------+---------+----------+----------+---------+-------------+----------+------------+\n",
      "|              Region|Country|      Item_Type|Sales_Channel|Order_Priority|Order_Date|  Order_ID|Ship_Date|Units_Sold|Unit_Price|Unit_Cost|Total_Revenue|Total_Cost|Total_Profit|\n",
      "+--------------------+-------+---------------+-------------+--------------+----------+----------+---------+----------+----------+---------+-------------+----------+------------+\n",
      "|Australia and Oce...|   null|Office Supplies|       Online|             H|  3-6-2016|5555553523|3/26/2016|     -2401|   -651.21|   524.96|     15655.21|1260428.96|   303126.25|\n",
      "|              Europe| Poland|      Beverages|       Online|             L|12/25/2020|5555555028|26/5/2010|     -9340|     47.45|   -31.79|         null|  296918.6|    146264.4|\n",
      "+--------------------+-------+---------------+-------------+--------------+----------+----------+---------+----------+----------+---------+-------------+----------+------------+\n",
      "\n"
     ]
    },
    {
     "name": "stderr",
     "output_type": "stream",
     "text": [
      "                                                                                \r"
     ]
    },
    {
     "data": {
      "text/plain": [
       "5000002"
      ]
     },
     "execution_count": 4,
     "metadata": {},
     "output_type": "execute_result"
    }
   ],
   "source": [
    "# Creating news rows for error records\n",
    "from pyspark.sql import Row\n",
    "data = [\n",
    "    (\"Australia and Oceania\",None, \"Office Supplies\", \"Online\", \"H\", \"3-6-2016\", 5555553523, \"3/26/2016\", -2401, -651.21, 524.96, 15655.21, 1260428.96, 303126.25),\n",
    "    (\"Europe\", \"Poland\", \"Beverages\", \"Online\", \"L\", \"12/25/2020\", 5555555028, \"26/5/2010\", -9340, 47.45, -31.79, None, 296918.60, 146264.40)\n",
    "]\n",
    "\n",
    "df_new = spark.createDataFrame(data, df.schema)\n",
    "df_new.show()\n",
    "df_merged = df.union(df_new)\n",
    "df_merged.createOrReplaceTempView(\"salesdata\")\n",
    "df_merged.count()"
   ]
  },
  {
   "cell_type": "markdown",
   "metadata": {},
   "source": [
    "#### 1. Casting Data Types"
   ]
  },
  {
   "cell_type": "code",
   "execution_count": 5,
   "metadata": {},
   "outputs": [
    {
     "name": "stdout",
     "output_type": "stream",
     "text": [
      "+--------------------+------------+---------------+-------------+--------------+----------+---------+----------+----------+----------+---------+-------------+----------+------------+\n",
      "|              Region|     Country|      Item_Type|Sales_Channel|Order_Priority|Order_Date| Order_ID| Ship_Date|Units_Sold|Unit_Price|Unit_Cost|Total_Revenue|Total_Cost|Total_Profit|\n",
      "+--------------------+------------+---------------+-------------+--------------+----------+---------+----------+----------+----------+---------+-------------+----------+------------+\n",
      "|Australia and Oce...|       Palau|Office Supplies|       Online|             H|  3/6/2016|517073523| 3/26/2016|      2401|    651.21|   524.96|   1563555.21|1260428.96|   303126.25|\n",
      "|              Europe|      Poland|      Beverages|       Online|             L| 4/18/2010|380507028| 5/26/2010|      9340|     47.45|    31.79|     443183.0|  296918.6|    146264.4|\n",
      "|       North America|      Canada|         Cereal|       Online|             M|  1/8/2015|504055583| 1/31/2015|       103|     205.7|   117.11|      21187.1|  12062.33|     9124.77|\n",
      "|              Europe|     Belarus|         Snacks|       Online|             C| 1/19/2014|954955518| 2/27/2014|      1414|    152.58|    97.44|    215748.12| 137780.16|    77967.96|\n",
      "|Middle East and N...|        Oman|         Cereal|      Offline|             H| 4/26/2019|970755660|  6/2/2019|      7027|     205.7|   117.11|    1445453.9| 822931.97|   622521.93|\n",
      "|  Sub-Saharan Africa|Burkina Faso|Office Supplies|       Online|             C|  3/3/2012|309317338|  4/5/2012|      2729|    651.21|   524.96|   1777152.09|1432615.84|   344536.25|\n",
      "|              Europe|  Montenegro|  Personal Care|       Online|             H|11/24/2012|598814380|12/25/2012|      1337|     81.73|    56.67|    109273.01|  75767.79|    33505.22|\n",
      "|Middle East and N...|  Azerbaijan|      Cosmetics|      Offline|             M| 3/18/2011|387733113|  5/5/2011|      7699|     437.2|   263.33|    3366002.8|2027377.67|  1338625.13|\n",
      "|  Sub-Saharan Africa| South Sudan|        Clothes|      Offline|             C| 5/10/2014|994872367| 6/17/2014|      3696|    109.28|    35.84|    403898.88| 132464.64|   271434.24|\n",
      "|       North America|   Greenland|  Personal Care|       Online|             C| 5/25/2020|659343469| 6/14/2020|      3239|     81.73|    56.67|    264723.47| 183554.13|    81169.34|\n",
      "|              Europe|    Portugal|      Cosmetics|       Online|             M|11/12/2012|390570247|11/13/2012|      7270|     437.2|   263.33|    3178444.0| 1914409.1|   1264034.9|\n",
      "|  Sub-Saharan Africa|Sierra Leone|        Clothes|      Offline|             C| 7/25/2019|818289029| 7/27/2019|      8763|    109.28|    35.84|    957620.64| 314065.92|   643554.72|\n",
      "|              Europe|     Germany|  Personal Care|      Offline|             H|12/25/2010|842548644| 1/24/2011|      7722|     81.73|    56.67|    631119.06| 437605.74|   193513.32|\n",
      "|              Europe|  Montenegro|  Personal Care|      Offline|             L|  8/3/2012|783710420| 8/10/2012|      6184|     81.73|    56.67|    505418.32| 350447.28|   154971.04|\n",
      "|                Asia|  Bangladesh|         Cereal|      Offline|             L| 12/3/2013|132448184| 1/15/2014|      3216|     205.7|   117.11|     661531.2| 376625.76|   284905.44|\n",
      "|  Sub-Saharan Africa|  Mauritius |         Snacks|       Online|             M| 9/22/2016|699748265| 10/3/2016|      9917|    152.58|    97.44|   1513135.86| 966312.48|   546823.38|\n",
      "|                Asia|  Kyrgyzstan|         Snacks|      Offline|             H|11/22/2018|766909492|12/15/2018|      4416|    152.58|    97.44|    673793.28| 430295.04|   243498.24|\n",
      "|  Sub-Saharan Africa|  Madagascar|        Clothes|       Online|             C|10/27/2019|935543191|10/29/2019|      6875|    109.28|    35.84|     751300.0|  246400.0|    504900.0|\n",
      "|              Europe|     Romania|           Meat|       Online|             M| 1/25/2015|977573192|  2/7/2015|      4486|    421.89|   364.69|   1892598.54|1635999.34|    256599.2|\n",
      "|              Europe|       Malta|  Personal Care|      Offline|             H| 5/21/2012|285235822| 6/22/2012|      6473|     81.73|    56.67|    529038.29| 366824.91|   162213.38|\n",
      "+--------------------+------------+---------------+-------------+--------------+----------+---------+----------+----------+----------+---------+-------------+----------+------------+\n",
      "only showing top 20 rows\n",
      "\n",
      "root\n",
      " |-- Region: string (nullable = true)\n",
      " |-- Country: string (nullable = true)\n",
      " |-- Item_Type: string (nullable = true)\n",
      " |-- Sales_Channel: string (nullable = true)\n",
      " |-- Order_Priority: string (nullable = true)\n",
      " |-- Order_Date: string (nullable = true)\n",
      " |-- Order_ID: integer (nullable = true)\n",
      " |-- Ship_Date: string (nullable = true)\n",
      " |-- Units_Sold: integer (nullable = true)\n",
      " |-- Unit_Price: double (nullable = true)\n",
      " |-- Unit_Cost: double (nullable = true)\n",
      " |-- Total_Revenue: double (nullable = true)\n",
      " |-- Total_Cost: double (nullable = true)\n",
      " |-- Total_Profit: double (nullable = true)\n",
      "\n"
     ]
    }
   ],
   "source": [
    "df_sql = spark.sql(\"\"\"\n",
    "    SELECT \n",
    "        Region,\n",
    "        Country,\n",
    "        Item_Type,\n",
    "        Sales_Channel,\n",
    "        Order_Priority,\n",
    "        Order_Date,\n",
    "        CAST(Order_ID AS INT) AS Order_ID,\n",
    "        Ship_Date,\n",
    "        CAST(Units_Sold AS INT) AS Units_Sold,\n",
    "        CAST(Unit_Price AS DOUBLE) AS Unit_Price,\n",
    "        CAST(Unit_Cost AS DOUBLE) AS Unit_Cost,\n",
    "        CAST(Total_Revenue AS DOUBLE) AS Total_Revenue,\n",
    "        CAST(Total_Cost AS DOUBLE) AS Total_Cost,\n",
    "        CAST(Total_Profit AS DOUBLE) AS Total_Profit\n",
    "    FROM salesdata\n",
    "\"\"\")\n",
    "df_sql.show()\n",
    "df_sql.printSchema()\n"
   ]
  },
  {
   "cell_type": "markdown",
   "metadata": {
    "application/vnd.databricks.v1+cell": {
     "cellMetadata": {
      "byteLimit": 2048000,
      "rowLimit": 10000
     },
     "inputWidgets": {},
     "nuid": "3a291e2b-2b72-49bf-808b-5cada50814eb",
     "showTitle": false,
     "tableResultSettingsMap": {},
     "title": ""
    }
   },
   "source": [
    "#### 2. Select Specific Columns"
   ]
  },
  {
   "cell_type": "code",
   "execution_count": 6,
   "metadata": {
    "application/vnd.databricks.v1+cell": {
     "cellMetadata": {
      "byteLimit": 2048000,
      "implicitDf": true,
      "rowLimit": 10000
     },
     "inputWidgets": {},
     "nuid": "2af81f2e-9ad1-4601-baac-58d4aeb08519",
     "showTitle": false,
     "tableResultSettingsMap": {},
     "title": ""
    }
   },
   "outputs": [
    {
     "name": "stdout",
     "output_type": "stream",
     "text": [
      "+--------------------+------------+-------------+----------+--------------------+--------------------+\n",
      "|              Region|     Country|Total_Revenue|Order_Date|Converted_Order_Date|Formatted_Order_Date|\n",
      "+--------------------+------------+-------------+----------+--------------------+--------------------+\n",
      "|Australia and Oce...|       Palau|   1563555.21|  3/6/2016|          2016-03-06|          06-03-2016|\n",
      "|              Europe|      Poland|    443183.00| 4/18/2010|          2010-04-18|          18-04-2010|\n",
      "|       North America|      Canada|     21187.10|  1/8/2015|          2015-01-08|          08-01-2015|\n",
      "|              Europe|     Belarus|    215748.12| 1/19/2014|          2014-01-19|          19-01-2014|\n",
      "|Middle East and N...|        Oman|   1445453.90| 4/26/2019|          2019-04-26|          26-04-2019|\n",
      "|  Sub-Saharan Africa|Burkina Faso|   1777152.09|  3/3/2012|          2012-03-03|          03-03-2012|\n",
      "|              Europe|  Montenegro|    109273.01|11/24/2012|          2012-11-24|          24-11-2012|\n",
      "|Middle East and N...|  Azerbaijan|   3366002.80| 3/18/2011|          2011-03-18|          18-03-2011|\n",
      "|  Sub-Saharan Africa| South Sudan|    403898.88| 5/10/2014|          2014-05-10|          10-05-2014|\n",
      "|       North America|   Greenland|    264723.47| 5/25/2020|          2020-05-25|          25-05-2020|\n",
      "|              Europe|    Portugal|   3178444.00|11/12/2012|          2012-11-12|          12-11-2012|\n",
      "|  Sub-Saharan Africa|Sierra Leone|    957620.64| 7/25/2019|          2019-07-25|          25-07-2019|\n",
      "|              Europe|     Germany|    631119.06|12/25/2010|          2010-12-25|          25-12-2010|\n",
      "|              Europe|  Montenegro|    505418.32|  8/3/2012|          2012-08-03|          03-08-2012|\n",
      "|                Asia|  Bangladesh|    661531.20| 12/3/2013|          2013-12-03|          03-12-2013|\n",
      "|  Sub-Saharan Africa|  Mauritius |   1513135.86| 9/22/2016|          2016-09-22|          22-09-2016|\n",
      "|                Asia|  Kyrgyzstan|    673793.28|11/22/2018|          2018-11-22|          22-11-2018|\n",
      "|  Sub-Saharan Africa|  Madagascar|    751300.00|10/27/2019|          2019-10-27|          27-10-2019|\n",
      "|              Europe|     Romania|   1892598.54| 1/25/2015|          2015-01-25|          25-01-2015|\n",
      "|              Europe|       Malta|    529038.29| 5/21/2012|          2012-05-21|          21-05-2012|\n",
      "+--------------------+------------+-------------+----------+--------------------+--------------------+\n",
      "only showing top 20 rows\n",
      "\n"
     ]
    }
   ],
   "source": [
    "df_sql = spark.sql(\"\"\"\n",
    "    SELECT Region, \n",
    "           Country, \n",
    "           Total_Revenue, \n",
    "           Order_Date, \n",
    "           TO_DATE(Order_Date, 'M/d/yyyy') AS Converted_Order_Date,\n",
    "           DATE_FORMAT(TO_DATE(Order_Date, 'M/d/yyyy'), 'dd-MM-yyyy') AS Formatted_Order_Date\n",
    "    FROM salesdata\n",
    "\"\"\").show()\n"
   ]
  },
  {
   "cell_type": "code",
   "execution_count": null,
   "metadata": {},
   "outputs": [],
   "source": [
    "#^[1-9]{1}[0-9]{0,1}: Matches a 1- or 2-digit month (1-12).\n",
    "#/: Matches the literal separator.\n",
    "#[1-9]{1}[0-9]{0,1}: Matches a 1- or 2-digit day (1-31).\n",
    "#[0-9]{4}$: Matches a 4-digit year (e.g., 2015).\n",
    "\n",
    "df_sql = spark.sql(\"\"\"\n",
    "    SELECT * FROM salesdata where Order_Date not RLIKE '^[1-9]{1}[0-9]{0,1}/[1-9]{1}[0-9]{0,1}/[0-9]{4}$';\n",
    "\"\"\")\n",
    "df_sql.show()\n",
    "df_sql.count()"
   ]
  },
  {
   "cell_type": "markdown",
   "metadata": {
    "application/vnd.databricks.v1+cell": {
     "cellMetadata": {
      "byteLimit": 2048000,
      "rowLimit": 10000
     },
     "inputWidgets": {},
     "nuid": "98268f20-e8c4-436b-a476-642e6c837e0f",
     "showTitle": false,
     "tableResultSettingsMap": {},
     "title": ""
    }
   },
   "source": [
    "#### 3. Filter Rows (Condition-Based)"
   ]
  },
  {
   "cell_type": "code",
   "execution_count": 7,
   "metadata": {
    "application/vnd.databricks.v1+cell": {
     "cellMetadata": {
      "byteLimit": 2048000,
      "implicitDf": true,
      "rowLimit": 10000
     },
     "inputWidgets": {},
     "nuid": "94057114-1757-4399-bdf3-ec6cd5e94742",
     "showTitle": false,
     "tableResultSettingsMap": {},
     "title": ""
    }
   },
   "outputs": [
    {
     "name": "stderr",
     "output_type": "stream",
     "text": [
      "[Stage 18:=========================================>               (8 + 3) / 11]\r"
     ]
    },
    {
     "name": "stdout",
     "output_type": "stream",
     "text": [
      "+--------------------+-------+---------------+-------------+--------------+----------+----------+---------+----------+----------+---------+-------------+----------+------------+\n",
      "|              Region|Country|      Item_Type|Sales_Channel|Order_Priority|Order_Date|  Order_ID|Ship_Date|Units_Sold|Unit_Price|Unit_Cost|Total_Revenue|Total_Cost|Total_Profit|\n",
      "+--------------------+-------+---------------+-------------+--------------+----------+----------+---------+----------+----------+---------+-------------+----------+------------+\n",
      "|              Europe|Belarus|     Vegetables|       Online|             C| 5/10/2020| 555555284|5/16/2020|         9|    154.06|    90.93|      1386.54|    818.37|      568.17|\n",
      "|Australia and Oce...|   Fiji|      Household|       Online|             C| 9/25/2012| 555555713|9/27/2012|       136|    668.27|   502.54|     90884.72|  68345.44|    22539.28|\n",
      "|              Europe|Belarus|     Vegetables|       Online|             C| 5/10/2020| 555555284|5/16/2020|         9|    154.06|    90.93|      1386.54|    818.37|      568.17|\n",
      "|Australia and Oce...|   Fiji|      Household|       Online|             C| 9/25/2012| 555555713|9/27/2012|       136|    668.27|   502.54|     90884.72|  68345.44|    22539.28|\n",
      "|Australia and Oce...|   null|Office Supplies|       Online|             H|  3-6-2016|5555553523|3/26/2016|     -2401|   -651.21|   524.96|     15655.21|1260428.96|   303126.25|\n",
      "|              Europe| Poland|      Beverages|       Online|             L|12/25/2020|5555555028|26/5/2010|     -9340|     47.45|   -31.79|         null|  296918.6|    146264.4|\n",
      "+--------------------+-------+---------------+-------------+--------------+----------+----------+---------+----------+----------+---------+-------------+----------+------------+\n",
      "\n"
     ]
    },
    {
     "name": "stderr",
     "output_type": "stream",
     "text": [
      "                                                                                \r"
     ]
    }
   ],
   "source": [
    "spark.sql(\"\"\" \n",
    "SELECT * FROM salesdata WHERE `Order_ID` LIKE '555555%'\n",
    "\"\"\").show()"
   ]
  },
  {
   "cell_type": "code",
   "execution_count": null,
   "metadata": {
    "application/vnd.databricks.v1+cell": {
     "cellMetadata": {
      "byteLimit": 2048000,
      "implicitDf": true,
      "rowLimit": 10000
     },
     "inputWidgets": {},
     "nuid": "8caee364-6ac7-408f-98b3-10088d2616c1",
     "showTitle": false,
     "tableResultSettingsMap": {},
     "title": ""
    }
   },
   "outputs": [],
   "source": [
    "\n",
    "df_new= spark.sql(\"SELECT * FROM salesdata WHERE Country = 'Australia'\")\n",
    "print(df_new.count())\n",
    "df_new.count()\n",
    "df_new.createOrReplaceTempView(\"salesdata_new\")"
   ]
  },
  {
   "cell_type": "code",
   "execution_count": null,
   "metadata": {
    "application/vnd.databricks.v1+cell": {
     "cellMetadata": {
      "byteLimit": 2048000,
      "implicitDf": true,
      "rowLimit": 10000
     },
     "inputWidgets": {},
     "nuid": "b3e5f3f8-e2af-4a6c-8e87-1d4be09ea173",
     "showTitle": false,
     "tableResultSettingsMap": {},
     "title": ""
    }
   },
   "outputs": [],
   "source": [
    "#Range Check\n",
    "spark.sql(\"\"\" \n",
    "SELECT * FROM salesdata WHERE Units_Sold < 0    OR Total_Revenue < 0   OR Total_Profit < 0 OR Unit_Price < 0;\n",
    "\"\"\").show()\n",
    "\n"
   ]
  },
  {
   "cell_type": "code",
   "execution_count": null,
   "metadata": {
    "application/vnd.databricks.v1+cell": {
     "cellMetadata": {
      "byteLimit": 2048000,
      "implicitDf": true,
      "rowLimit": 10000
     },
     "inputWidgets": {},
     "nuid": "c2cdc9ab-f797-493f-a08f-6fc8739894a8",
     "showTitle": false,
     "tableResultSettingsMap": {},
     "title": ""
    }
   },
   "outputs": [],
   "source": [
    "#Consistency Check\n",
    "spark.sql(\"\"\" \n",
    "SELECT count(*) FROM salesdata WHERE Total_Profit > Total_Revenue\n",
    "\"\"\").show()\n",
    "\n"
   ]
  },
  {
   "cell_type": "code",
   "execution_count": null,
   "metadata": {
    "application/vnd.databricks.v1+cell": {
     "cellMetadata": {
      "byteLimit": 2048000,
      "implicitDf": true,
      "rowLimit": 10000
     },
     "inputWidgets": {},
     "nuid": "7ed83a4c-a989-4b0d-aadf-62d2bba51943",
     "showTitle": false,
     "tableResultSettingsMap": {},
     "title": ""
    }
   },
   "outputs": [],
   "source": [
    "#Date Format Check\n",
    "spark.sql(\"\"\" \n",
    "SELECT * FROM salesdata WHERE CAST(Order_Date AS DATE) IS NULL;\n",
    "\"\"\").show()\n",
    "\n"
   ]
  },
  {
   "cell_type": "markdown",
   "metadata": {
    "application/vnd.databricks.v1+cell": {
     "cellMetadata": {
      "byteLimit": 2048000,
      "rowLimit": 10000
     },
     "inputWidgets": {},
     "nuid": "773b63b9-631e-46c6-8704-3fe6b5c7942e",
     "showTitle": false,
     "tableResultSettingsMap": {},
     "title": ""
    }
   },
   "source": [
    "#### 4. Adding New Columns"
   ]
  },
  {
   "cell_type": "code",
   "execution_count": 8,
   "metadata": {
    "application/vnd.databricks.v1+cell": {
     "cellMetadata": {
      "byteLimit": 2048000,
      "implicitDf": true,
      "rowLimit": 10000
     },
     "inputWidgets": {},
     "nuid": "842a83b2-4983-48a8-a5f9-79283d55da82",
     "showTitle": false,
     "tableResultSettingsMap": {},
     "title": ""
    }
   },
   "outputs": [
    {
     "name": "stdout",
     "output_type": "stream",
     "text": [
      "+--------------------+------------+---------------+-------------+--------------+----------+---------+----------+----------+----------+---------+-------------+----------+------------+---------+\n",
      "|              Region|     Country|      Item_Type|Sales_Channel|Order_Priority|Order_Date| Order_ID| Ship_Date|Units_Sold|Unit_Price|Unit_Cost|Total_Revenue|Total_Cost|Total_Profit|   Status|\n",
      "+--------------------+------------+---------------+-------------+--------------+----------+---------+----------+----------+----------+---------+-------------+----------+------------+---------+\n",
      "|Australia and Oce...|       Palau|Office Supplies|       Online|             H|  3/6/2016|517073523| 3/26/2016|      2401|    651.21|   524.96|   1563555.21|1260428.96|   303126.25|Completed|\n",
      "|              Europe|      Poland|      Beverages|       Online|             L| 4/18/2010|380507028| 5/26/2010|      9340|     47.45|    31.79|    443183.00| 296918.60|   146264.40|Completed|\n",
      "|       North America|      Canada|         Cereal|       Online|             M|  1/8/2015|504055583| 1/31/2015|       103|    205.70|   117.11|     21187.10|  12062.33|     9124.77|Completed|\n",
      "|              Europe|     Belarus|         Snacks|       Online|             C| 1/19/2014|954955518| 2/27/2014|      1414|    152.58|    97.44|    215748.12| 137780.16|    77967.96|Completed|\n",
      "|Middle East and N...|        Oman|         Cereal|      Offline|             H| 4/26/2019|970755660|  6/2/2019|      7027|    205.70|   117.11|   1445453.90| 822931.97|   622521.93|Completed|\n",
      "|  Sub-Saharan Africa|Burkina Faso|Office Supplies|       Online|             C|  3/3/2012|309317338|  4/5/2012|      2729|    651.21|   524.96|   1777152.09|1432615.84|   344536.25|Completed|\n",
      "|              Europe|  Montenegro|  Personal Care|       Online|             H|11/24/2012|598814380|12/25/2012|      1337|     81.73|    56.67|    109273.01|  75767.79|    33505.22|Completed|\n",
      "|Middle East and N...|  Azerbaijan|      Cosmetics|      Offline|             M| 3/18/2011|387733113|  5/5/2011|      7699|    437.20|   263.33|   3366002.80|2027377.67|  1338625.13|Completed|\n",
      "|  Sub-Saharan Africa| South Sudan|        Clothes|      Offline|             C| 5/10/2014|994872367| 6/17/2014|      3696|    109.28|    35.84|    403898.88| 132464.64|   271434.24|Completed|\n",
      "|       North America|   Greenland|  Personal Care|       Online|             C| 5/25/2020|659343469| 6/14/2020|      3239|     81.73|    56.67|    264723.47| 183554.13|    81169.34|Completed|\n",
      "|              Europe|    Portugal|      Cosmetics|       Online|             M|11/12/2012|390570247|11/13/2012|      7270|    437.20|   263.33|   3178444.00|1914409.10|  1264034.90|Completed|\n",
      "|  Sub-Saharan Africa|Sierra Leone|        Clothes|      Offline|             C| 7/25/2019|818289029| 7/27/2019|      8763|    109.28|    35.84|    957620.64| 314065.92|   643554.72|Completed|\n",
      "|              Europe|     Germany|  Personal Care|      Offline|             H|12/25/2010|842548644| 1/24/2011|      7722|     81.73|    56.67|    631119.06| 437605.74|   193513.32|Completed|\n",
      "|              Europe|  Montenegro|  Personal Care|      Offline|             L|  8/3/2012|783710420| 8/10/2012|      6184|     81.73|    56.67|    505418.32| 350447.28|   154971.04|Completed|\n",
      "|                Asia|  Bangladesh|         Cereal|      Offline|             L| 12/3/2013|132448184| 1/15/2014|      3216|    205.70|   117.11|    661531.20| 376625.76|   284905.44|Completed|\n",
      "|  Sub-Saharan Africa|  Mauritius |         Snacks|       Online|             M| 9/22/2016|699748265| 10/3/2016|      9917|    152.58|    97.44|   1513135.86| 966312.48|   546823.38|Completed|\n",
      "|                Asia|  Kyrgyzstan|         Snacks|      Offline|             H|11/22/2018|766909492|12/15/2018|      4416|    152.58|    97.44|    673793.28| 430295.04|   243498.24|Completed|\n",
      "|  Sub-Saharan Africa|  Madagascar|        Clothes|       Online|             C|10/27/2019|935543191|10/29/2019|      6875|    109.28|    35.84|    751300.00| 246400.00|   504900.00|Completed|\n",
      "|              Europe|     Romania|           Meat|       Online|             M| 1/25/2015|977573192|  2/7/2015|      4486|    421.89|   364.69|   1892598.54|1635999.34|   256599.20|Completed|\n",
      "|              Europe|       Malta|  Personal Care|      Offline|             H| 5/21/2012|285235822| 6/22/2012|      6473|     81.73|    56.67|    529038.29| 366824.91|   162213.38|Completed|\n",
      "+--------------------+------------+---------------+-------------+--------------+----------+---------+----------+----------+----------+---------+-------------+----------+------------+---------+\n",
      "only showing top 20 rows\n",
      "\n"
     ]
    }
   ],
   "source": [
    "\n",
    "spark.sql(\"SELECT *, 'Completed' AS Status FROM salesdata\").show()"
   ]
  },
  {
   "cell_type": "markdown",
   "metadata": {
    "application/vnd.databricks.v1+cell": {
     "cellMetadata": {
      "byteLimit": 2048000,
      "rowLimit": 10000
     },
     "inputWidgets": {},
     "nuid": "5a2094ba-ae7b-4fa8-a668-fdb653e70aa9",
     "showTitle": false,
     "tableResultSettingsMap": {},
     "title": ""
    }
   },
   "source": [
    "#### 4. Renaming Columns"
   ]
  },
  {
   "cell_type": "code",
   "execution_count": 9,
   "metadata": {
    "application/vnd.databricks.v1+cell": {
     "cellMetadata": {
      "byteLimit": 2048000,
      "implicitDf": true,
      "rowLimit": 10000
     },
     "inputWidgets": {},
     "nuid": "84f5ff2f-a0b3-4743-9558-1c68f5363bd3",
     "showTitle": false,
     "tableResultSettingsMap": {},
     "title": ""
    }
   },
   "outputs": [
    {
     "name": "stdout",
     "output_type": "stream",
     "text": [
      "+--------------------+------------+----------+\n",
      "|              Region|     Country|   Revenue|\n",
      "+--------------------+------------+----------+\n",
      "|Australia and Oce...|       Palau|1563555.21|\n",
      "|              Europe|      Poland| 443183.00|\n",
      "|       North America|      Canada|  21187.10|\n",
      "|              Europe|     Belarus| 215748.12|\n",
      "|Middle East and N...|        Oman|1445453.90|\n",
      "|  Sub-Saharan Africa|Burkina Faso|1777152.09|\n",
      "|              Europe|  Montenegro| 109273.01|\n",
      "|Middle East and N...|  Azerbaijan|3366002.80|\n",
      "|  Sub-Saharan Africa| South Sudan| 403898.88|\n",
      "|       North America|   Greenland| 264723.47|\n",
      "|              Europe|    Portugal|3178444.00|\n",
      "|  Sub-Saharan Africa|Sierra Leone| 957620.64|\n",
      "|              Europe|     Germany| 631119.06|\n",
      "|              Europe|  Montenegro| 505418.32|\n",
      "|                Asia|  Bangladesh| 661531.20|\n",
      "|  Sub-Saharan Africa|  Mauritius |1513135.86|\n",
      "|                Asia|  Kyrgyzstan| 673793.28|\n",
      "|  Sub-Saharan Africa|  Madagascar| 751300.00|\n",
      "|              Europe|     Romania|1892598.54|\n",
      "|              Europe|       Malta| 529038.29|\n",
      "+--------------------+------------+----------+\n",
      "only showing top 20 rows\n",
      "\n"
     ]
    }
   ],
   "source": [
    "spark.sql(\"\"\" \n",
    "SELECT Region, Country, Total_Revenue AS Revenue FROM salesdata;\n",
    "\"\"\").show()\n"
   ]
  },
  {
   "cell_type": "markdown",
   "metadata": {
    "application/vnd.databricks.v1+cell": {
     "cellMetadata": {
      "byteLimit": 2048000,
      "rowLimit": 10000
     },
     "inputWidgets": {},
     "nuid": "2a077833-1e7a-470e-8b1c-2fa788ab9513",
     "showTitle": false,
     "tableResultSettingsMap": {},
     "title": ""
    }
   },
   "source": [
    "#### 5. Dropping Columns"
   ]
  },
  {
   "cell_type": "code",
   "execution_count": null,
   "metadata": {
    "application/vnd.databricks.v1+cell": {
     "cellMetadata": {
      "byteLimit": 2048000,
      "implicitDf": true,
      "rowLimit": 10000
     },
     "inputWidgets": {},
     "nuid": "d0ff2c13-e739-4b06-a7b0-5009f674204a",
     "showTitle": false,
     "tableResultSettingsMap": {},
     "title": ""
    }
   },
   "outputs": [],
   "source": [
    "spark.sql(\"\"\" \n",
    "SELECT Region, Country, Item_Type, Sales_Channel, Order_Date, Total_Revenue FROM salesdata;\n",
    "\"\"\").show()\n"
   ]
  },
  {
   "cell_type": "markdown",
   "metadata": {
    "application/vnd.databricks.v1+cell": {
     "cellMetadata": {
      "byteLimit": 2048000,
      "rowLimit": 10000
     },
     "inputWidgets": {},
     "nuid": "6955cb08-7c50-4512-bc50-bf9b29a7ca67",
     "showTitle": false,
     "tableResultSettingsMap": {},
     "title": ""
    }
   },
   "source": [
    "#### 6. Handling Missing Data"
   ]
  },
  {
   "cell_type": "code",
   "execution_count": 10,
   "metadata": {
    "application/vnd.databricks.v1+cell": {
     "cellMetadata": {
      "byteLimit": 2048000,
      "implicitDf": true,
      "rowLimit": 10000
     },
     "inputWidgets": {},
     "nuid": "ffda1610-03ba-4d62-a597-81b38c8a01ae",
     "showTitle": false,
     "tableResultSettingsMap": {},
     "title": ""
    }
   },
   "outputs": [
    {
     "name": "stderr",
     "output_type": "stream",
     "text": [
      "[Stage 23:==============================================>          (9 + 2) / 11]\r"
     ]
    },
    {
     "name": "stdout",
     "output_type": "stream",
     "text": [
      "+------+-------+---------+-------------+--------------+----------+----------+---------+----------+----------+---------+-------------+----------+------------+\n",
      "|Region|Country|Item_Type|Sales_Channel|Order_Priority|Order_Date|  Order_ID|Ship_Date|Units_Sold|Unit_Price|Unit_Cost|Total_Revenue|Total_Cost|Total_Profit|\n",
      "+------+-------+---------+-------------+--------------+----------+----------+---------+----------+----------+---------+-------------+----------+------------+\n",
      "|Europe| Poland|Beverages|       Online|             L|12/25/2020|5555555028|26/5/2010|     -9340|     47.45|   -31.79|         null|  296918.6|    146264.4|\n",
      "+------+-------+---------+-------------+--------------+----------+----------+---------+----------+----------+---------+-------------+----------+------------+\n",
      "\n"
     ]
    },
    {
     "name": "stderr",
     "output_type": "stream",
     "text": [
      "                                                                                \r"
     ]
    }
   ],
   "source": [
    "spark.sql(\"\"\" \n",
    "SELECT * FROM salesdata WHERE Total_Revenue IS  NULL;\n",
    "\"\"\").show()\n"
   ]
  },
  {
   "cell_type": "code",
   "execution_count": 11,
   "metadata": {
    "application/vnd.databricks.v1+cell": {
     "cellMetadata": {
      "byteLimit": 2048000,
      "implicitDf": true,
      "rowLimit": 10000
     },
     "inputWidgets": {},
     "nuid": "42aaf33d-a0ee-47fd-910f-3d7c227293c0",
     "showTitle": false,
     "tableResultSettingsMap": {},
     "title": ""
    }
   },
   "outputs": [
    {
     "name": "stderr",
     "output_type": "stream",
     "text": [
      "[Stage 26:=========================================>               (8 + 3) / 11]\r"
     ]
    },
    {
     "name": "stdout",
     "output_type": "stream",
     "text": [
      "+------+-------+---------+-------------+--------------+----------+----------+---------+----------+----------+---------+-------------+----------+------------+--------------------+\n",
      "|Region|Country|Item_Type|Sales_Channel|Order_Priority|Order_Date|  Order_ID|Ship_Date|Units_Sold|Unit_Price|Unit_Cost|Total_Revenue|Total_Cost|Total_Profit|Total_Revenue_Filled|\n",
      "+------+-------+---------+-------------+--------------+----------+----------+---------+----------+----------+---------+-------------+----------+------------+--------------------+\n",
      "|Europe| Poland|Beverages|       Online|             L|12/25/2020|5555555028|26/5/2010|     -9340|     47.45|   -31.79|         null|  296918.6|    146264.4|                   0|\n",
      "+------+-------+---------+-------------+--------------+----------+----------+---------+----------+----------+---------+-------------+----------+------------+--------------------+\n",
      "\n"
     ]
    },
    {
     "name": "stderr",
     "output_type": "stream",
     "text": [
      "                                                                                \r"
     ]
    }
   ],
   "source": [
    "spark.sql(\"\"\" \n",
    "SELECT *, COALESCE(Total_Revenue, 0) AS Total_Revenue_Filled FROM salesdata WHERE Total_Revenue IS  NULL;\n",
    "\"\"\").show()\n"
   ]
  },
  {
   "cell_type": "code",
   "execution_count": null,
   "metadata": {
    "application/vnd.databricks.v1+cell": {
     "cellMetadata": {
      "byteLimit": 2048000,
      "implicitDf": true,
      "rowLimit": 10000
     },
     "inputWidgets": {},
     "nuid": "74aaada6-74ac-40ac-a8d8-05a7e6101d84",
     "showTitle": false,
     "tableResultSettingsMap": {},
     "title": ""
    }
   },
   "outputs": [],
   "source": [
    "#Null Check\n",
    "spark.sql(\"\"\" \n",
    "SELECT COUNT(*) AS total_rows, \n",
    "COUNT(CASE WHEN Country IS NULL THEN 1 END) AS null_country, \n",
    "COUNT(CASE WHEN Order_ID IS NULL THEN 1 END) AS null_order_id, \n",
    "COUNT(CASE WHEN Total_Revenue IS NULL THEN 1 END) AS null_total_revenue \n",
    "FROM salesdata;\n",
    "\"\"\").show()\n",
    "\n"
   ]
  },
  {
   "cell_type": "markdown",
   "metadata": {
    "application/vnd.databricks.v1+cell": {
     "cellMetadata": {
      "byteLimit": 2048000,
      "rowLimit": 10000
     },
     "inputWidgets": {},
     "nuid": "e01acda3-0ec7-48ae-8fef-3b78e52c77c2",
     "showTitle": false,
     "tableResultSettingsMap": {},
     "title": ""
    }
   },
   "source": [
    "#### 7. Aggregation and Grouping"
   ]
  },
  {
   "cell_type": "code",
   "execution_count": 12,
   "metadata": {},
   "outputs": [
    {
     "name": "stderr",
     "output_type": "stream",
     "text": [
      "[Stage 27:=====================>                                   (6 + 8) / 16]\r"
     ]
    },
    {
     "name": "stdout",
     "output_type": "stream",
     "text": [
      "+--------------------+------------------------+\n",
      "|             Country|Total_Revenue_by_Country|\n",
      "+--------------------+------------------------+\n",
      "|              Turkey|    3.607858333332002E10|\n",
      "|              Angola|       3.593869337192E10|\n",
      "|          East Timor|    3.606127505553001E10|\n",
      "|             Albania|    3.592686260610001E10|\n",
      "|           Nicaragua|    3.576133702022002E10|\n",
      "|               China|    3.601271524843001E10|\n",
      "|             Somalia|    3.598757324061004E10|\n",
      "|             Croatia|    3.607999540734997...|\n",
      "|             Andorra|    3.597381030885998...|\n",
      "|              Norway|       3.583466901127E10|\n",
      "|               Niger|       3.598542696423E10|\n",
      "|             Ireland|    3.607509419343001...|\n",
      "|       Liechtenstein|    3.608427412681998...|\n",
      "|           Swaziland|    3.580642420097002E10|\n",
      "|Democratic Republ...|    3.589081698501999E10|\n",
      "|              Bhutan|    3.609033808057001...|\n",
      "|              Israel|    3.601851570353004E10|\n",
      "|            Tunisia |    3.581875832232997E10|\n",
      "|              Mexico|    3.605792129497999...|\n",
      "|             Armenia|    3.601612209510999E10|\n",
      "+--------------------+------------------------+\n",
      "only showing top 20 rows\n",
      "\n"
     ]
    },
    {
     "name": "stderr",
     "output_type": "stream",
     "text": [
      "                                                                                \r"
     ]
    }
   ],
   "source": [
    "spark.sql(\"\"\" \n",
    "SELECT Country, SUM(Total_Revenue) AS Total_Revenue_by_Country \n",
    "FROM salesdata \n",
    "GROUP BY Country\n",
    "\"\"\").show()\n"
   ]
  },
  {
   "cell_type": "code",
   "execution_count": 13,
   "metadata": {
    "application/vnd.databricks.v1+cell": {
     "cellMetadata": {
      "byteLimit": 2048000,
      "implicitDf": true,
      "rowLimit": 10000
     },
     "inputWidgets": {},
     "nuid": "b845fd0b-b1d0-4bbe-bf3e-421361ecd5f1",
     "showTitle": false,
     "tableResultSettingsMap": {},
     "title": ""
    }
   },
   "outputs": [
    {
     "name": "stderr",
     "output_type": "stream",
     "text": [
      "[Stage 30:========================>                                (7 + 9) / 16]\r"
     ]
    },
    {
     "name": "stdout",
     "output_type": "stream",
     "text": [
      "+--------------------+------------------------+\n",
      "|             Country|Total_Revenue_by_Country|\n",
      "+--------------------+------------------------+\n",
      "|              Rwanda|    3.634388914491003...|\n",
      "|              Canada|    3.621494398565996E10|\n",
      "|         Philippines|    3.620237518003002E10|\n",
      "|    Marshall Islands|    3.615366341424999E10|\n",
      "|              Panama|    3.613639346959999E10|\n",
      "|             Lesotho|       3.613016405397E10|\n",
      "|             Liberia|    3.612976405918999E10|\n",
      "|              Taiwan|    3.612489163990002...|\n",
      "|            Maldives|    3.612321549975999E10|\n",
      "|Saint Kitts and N...|    3.611518957761001...|\n",
      "| Trinidad and Tobago|       3.611428475709E10|\n",
      "|          Kazakhstan|        3.61139615008E10|\n",
      "|            Cameroon|    3.611375133907999E10|\n",
      "|               Japan|    3.611290325129998E10|\n",
      "|         Seychelles |    3.611215496095000...|\n",
      "|               Tonga|    3.611178305528001...|\n",
      "|              Serbia|    3.610944077914001E10|\n",
      "|              Monaco|    3.610605266116003E10|\n",
      "|          Costa Rica|    3.610160880999999E10|\n",
      "|              Belize|    3.609807695073998E10|\n",
      "+--------------------+------------------------+\n",
      "only showing top 20 rows\n",
      "\n"
     ]
    },
    {
     "name": "stderr",
     "output_type": "stream",
     "text": [
      "                                                                                \r"
     ]
    }
   ],
   "source": [
    "spark.sql(\"\"\" \n",
    "SELECT Country, SUM(Total_Revenue) AS Total_Revenue_by_Country \n",
    "FROM salesdata \n",
    "GROUP BY Country\n",
    "ORDER BY Total_Revenue_by_Country DESC;\n",
    "\"\"\").show()\n"
   ]
  },
  {
   "cell_type": "code",
   "execution_count": null,
   "metadata": {
    "application/vnd.databricks.v1+cell": {
     "cellMetadata": {
      "byteLimit": 2048000,
      "implicitDf": true,
      "rowLimit": 10000
     },
     "inputWidgets": {},
     "nuid": "977d452a-faa5-4586-92a9-9006a29ce344",
     "showTitle": false,
     "tableResultSettingsMap": {},
     "title": ""
    }
   },
   "outputs": [],
   "source": [
    "#Duplicate Check\n",
    "spark.sql(\"\"\" \n",
    "SELECT Order_ID, COUNT(*) AS order_count FROM salesdata GROUP BY Order_ID HAVING order_count > 1;\n",
    "\"\"\").show()\n",
    "\n"
   ]
  },
  {
   "cell_type": "markdown",
   "metadata": {
    "application/vnd.databricks.v1+cell": {
     "cellMetadata": {
      "byteLimit": 2048000,
      "rowLimit": 10000
     },
     "inputWidgets": {},
     "nuid": "ce684e68-4447-4211-85f1-6ad3ccf3300c",
     "showTitle": false,
     "tableResultSettingsMap": {},
     "title": ""
    }
   },
   "source": [
    "#### 8. Sorting"
   ]
  },
  {
   "cell_type": "code",
   "execution_count": null,
   "metadata": {
    "application/vnd.databricks.v1+cell": {
     "cellMetadata": {
      "byteLimit": 2048000,
      "implicitDf": true,
      "rowLimit": 10000
     },
     "inputWidgets": {},
     "nuid": "19593068-f0f4-4b0b-9c0d-b293997f4c40",
     "showTitle": false,
     "tableResultSettingsMap": {},
     "title": ""
    }
   },
   "outputs": [],
   "source": [
    "spark.sql(\"\"\" \n",
    "SELECT * FROM salesdata where Country ='China' ORDER BY Total_Revenue DESC;\n",
    "\"\"\").show()\n"
   ]
  },
  {
   "cell_type": "markdown",
   "metadata": {
    "application/vnd.databricks.v1+cell": {
     "cellMetadata": {
      "byteLimit": 2048000,
      "rowLimit": 10000
     },
     "inputWidgets": {},
     "nuid": "5136246e-6a70-4944-848a-e59558616d93",
     "showTitle": false,
     "tableResultSettingsMap": {},
     "title": ""
    }
   },
   "source": [
    "#### 9. Distinct Values"
   ]
  },
  {
   "cell_type": "code",
   "execution_count": 14,
   "metadata": {
    "application/vnd.databricks.v1+cell": {
     "cellMetadata": {
      "byteLimit": 2048000,
      "implicitDf": true,
      "rowLimit": 10000
     },
     "inputWidgets": {},
     "nuid": "9eeb97fc-8143-4176-a0e6-4563ef845631",
     "showTitle": false,
     "tableResultSettingsMap": {},
     "title": ""
    }
   },
   "outputs": [
    {
     "name": "stderr",
     "output_type": "stream",
     "text": [
      "[Stage 33:==========>                                              (3 + 8) / 16]\r"
     ]
    },
    {
     "name": "stdout",
     "output_type": "stream",
     "text": [
      "+--------------------+\n",
      "|             Country|\n",
      "+--------------------+\n",
      "|              Turkey|\n",
      "|              Angola|\n",
      "|          East Timor|\n",
      "|             Albania|\n",
      "|           Nicaragua|\n",
      "|               China|\n",
      "|             Somalia|\n",
      "|             Croatia|\n",
      "|             Andorra|\n",
      "|              Norway|\n",
      "|               Niger|\n",
      "|             Ireland|\n",
      "|       Liechtenstein|\n",
      "|           Swaziland|\n",
      "|Democratic Republ...|\n",
      "|              Bhutan|\n",
      "|              Israel|\n",
      "|            Tunisia |\n",
      "|              Mexico|\n",
      "|             Armenia|\n",
      "+--------------------+\n",
      "only showing top 20 rows\n",
      "\n"
     ]
    },
    {
     "name": "stderr",
     "output_type": "stream",
     "text": [
      "                                                                                \r"
     ]
    }
   ],
   "source": [
    "spark.sql(\"\"\" \n",
    "SELECT DISTINCT Country FROM salesdata;\n",
    "\"\"\").show()\n"
   ]
  },
  {
   "cell_type": "markdown",
   "metadata": {
    "application/vnd.databricks.v1+cell": {
     "cellMetadata": {
      "byteLimit": 2048000,
      "rowLimit": 10000
     },
     "inputWidgets": {},
     "nuid": "e598a5aa-8d15-4963-9be2-c9d778e4cb59",
     "showTitle": false,
     "tableResultSettingsMap": {},
     "title": ""
    }
   },
   "source": [
    "#### 10. Joining DataFrames"
   ]
  },
  {
   "cell_type": "code",
   "execution_count": 15,
   "metadata": {
    "application/vnd.databricks.v1+cell": {
     "cellMetadata": {
      "byteLimit": 2048000,
      "rowLimit": 10000
     },
     "inputWidgets": {},
     "nuid": "1c87fb63-ae4b-4126-a605-79d3a5f4296b",
     "showTitle": false,
     "tableResultSettingsMap": {},
     "title": ""
    }
   },
   "outputs": [],
   "source": [
    "#spark.read.csv('s3://feb2025-training-bucket/data/customers.csv/000.csv', header = True, inferSchema = True).createOrReplaceTempView(\"customers\")\n",
    "#spark.read.csv('s3://feb2025-training-bucket/data/customerorder_04102024.csv/customerorder.csv', header = True, inferSchema = True).createOrReplaceTempView(\"customerorder\")\n",
    "\n",
    "spark.read.csv('data/customers.csv', header = True, inferSchema = True).createOrReplaceTempView(\"customers\")\n",
    "spark.read.csv('data/customerorder_04102024.csv', header = True, inferSchema = True).createOrReplaceTempView(\"customerorder\")"
   ]
  },
  {
   "cell_type": "code",
   "execution_count": 16,
   "metadata": {
    "application/vnd.databricks.v1+cell": {
     "cellMetadata": {
      "byteLimit": 2048000,
      "implicitDf": true,
      "rowLimit": 10000
     },
     "inputWidgets": {},
     "nuid": "f46e4fc2-65a2-48e9-9ed0-b003f210337f",
     "showTitle": false,
     "tableResultSettingsMap": {},
     "title": ""
    }
   },
   "outputs": [
    {
     "name": "stderr",
     "output_type": "stream",
     "text": [
      "25/03/06 04:42:59 WARN package: Truncated the string representation of a plan since it was too large. This behavior can be adjusted by setting 'spark.sql.debug.maxToStringFields'.\n",
      "                                                                                \r"
     ]
    },
    {
     "name": "stdout",
     "output_type": "stream",
     "text": [
      "+--------------------+-------+---------+-------------+--------------+----------+---------+---------+----------+----------+---------+-------------+----------+------------+---------+-----------+-----------+------+--------+--------------------+-----+-------+--------+-----------+------+----+-------+--------+------------+----------+--------------------+----------+-------------+---------------+---------------+\n",
      "|              Region|Country|Item_Type|Sales_Channel|Order_Priority|Order_Date| Order_ID|Ship_Date|Units_Sold|Unit_Price|Unit_Cost|Total_Revenue|Total_Cost|Total_Profit| Order_ID|customer_id|customer_id|tax_id|tax_code|       customer_name|state|   city|postcode|     street|number|unit| region|district|         lon|       lat|     ship_to_address|valid_from|     valid_to|units_purchased|loyalty_segment|\n",
      "+--------------------+-------+---------+-------------+--------------+----------+---------+---------+----------+----------+---------+-------------+----------+------------+---------+-----------+-----------+------+--------+--------------------+-----+-------+--------+-----------+------+----+-------+--------+------------+----------+--------------------+----------+-------------+---------------+---------------+\n",
      "|Australia and Oce...| Tuvalu|Baby Food|      Offline|             H| 7/28/2010|669165933|8/27/2010|      9925|    255.28|   159.42|   2533654.00|1582243.50|   951410.50|669165933|   30585978|   30585978|  null|    null|STEPHENS,  GERALD...|   OR|ADDRESS|       0|   NO SITUS|  null|null|   null|    null|-122.1055158| 45.374317|OR, 0, NO SITUS, nan|1523100473|         null|           18.0|              3|\n",
      "|Australia and Oce...| Tuvalu|Baby Food|      Offline|             H| 7/28/2010|669165933|8/27/2010|      9925|    255.28|   159.42|   2533654.00|1582243.50|   951410.50|669165933|   11123757|   11123757|  null|    null|     SMITH,  SHIRLEY|   IN| BREMEN| 46506.0|N CENTER ST| 521.0|null|Indiana|    50.0| -86.1465825|41.4507625|IN, 46506.0, N CE...|1532824233|1.548137353E9|           34.0|              3|\n",
      "+--------------------+-------+---------+-------------+--------------+----------+---------+---------+----------+----------+---------+-------------+----------+------------+---------+-----------+-----------+------+--------+--------------------+-----+-------+--------+-----------+------+----+-------+--------+------------+----------+--------------------+----------+-------------+---------------+---------------+\n",
      "only showing top 2 rows\n",
      "\n"
     ]
    }
   ],
   "source": [
    "\n",
    "df=spark.sql(\"\"\" SELECT * FROM salesdata a JOIN customerorder b ON a.Order_ID = b.Order_ID \n",
    "                JOIN customers c ON b.customer_id = c.customer_id \"\"\")\n",
    "\n",
    "df.show(2)"
   ]
  },
  {
   "cell_type": "code",
   "execution_count": null,
   "metadata": {
    "application/vnd.databricks.v1+cell": {
     "cellMetadata": {
      "byteLimit": 2048000,
      "rowLimit": 10000
     },
     "inputWidgets": {},
     "nuid": "13124b11-7d72-4b86-83bf-54981bcfd3a8",
     "showTitle": false,
     "tableResultSettingsMap": {},
     "title": ""
    }
   },
   "outputs": [],
   "source": [
    "df.count()"
   ]
  },
  {
   "cell_type": "markdown",
   "metadata": {
    "application/vnd.databricks.v1+cell": {
     "cellMetadata": {
      "byteLimit": 2048000,
      "rowLimit": 10000
     },
     "inputWidgets": {},
     "nuid": "82dffa03-a27c-4dbc-b51c-133e2182ad44",
     "showTitle": false,
     "tableResultSettingsMap": {},
     "title": ""
    }
   },
   "source": [
    "#### 11. Pivoting"
   ]
  },
  {
   "cell_type": "code",
   "execution_count": 17,
   "metadata": {
    "application/vnd.databricks.v1+cell": {
     "cellMetadata": {
      "byteLimit": 2048000,
      "implicitDf": true,
      "rowLimit": 10000
     },
     "inputWidgets": {},
     "nuid": "51a3fa2b-d4f4-4e42-bc77-51fd54c80950",
     "showTitle": false,
     "tableResultSettingsMap": {},
     "title": ""
    }
   },
   "outputs": [
    {
     "name": "stderr",
     "output_type": "stream",
     "text": [
      "[Stage 44:===================================>                    (10 + 6) / 16]\r"
     ]
    },
    {
     "name": "stdout",
     "output_type": "stream",
     "text": [
      "+--------------------+---------------+-----------------------+-----------------+\n",
      "|             Country|      Item_Type|Office_Supplies_Revenue|Beverages_Revenue|\n",
      "+--------------------+---------------+-----------------------+-----------------+\n",
      "|           Swaziland|      Beverages|                    0.0|    5.314594545E8|\n",
      "|         South Korea|  Personal Care|                    0.0|              0.0|\n",
      "|         Afghanistan|      Cosmetics|                    0.0|              0.0|\n",
      "|              Panama|      Household|                    0.0|              0.0|\n",
      "|            Barbados|      Baby Food|                    0.0|              0.0|\n",
      "|           Macedonia|         Snacks|                    0.0|              0.0|\n",
      "|Saint Vincent and...|        Clothes|                    0.0|              0.0|\n",
      "|             Germany|         Fruits|                    0.0|              0.0|\n",
      "|       Liechtenstein|      Cosmetics|                    0.0|              0.0|\n",
      "|                Togo|      Household|                    0.0|              0.0|\n",
      "|               Nepal|Office Supplies|        7.31863856283E9|              0.0|\n",
      "|              Rwanda|      Household|                    0.0|              0.0|\n",
      "|             Nigeria|      Baby Food|                    0.0|              0.0|\n",
      "|          Montenegro|      Baby Food|                    0.0|              0.0|\n",
      "|               India|      Baby Food|                    0.0|              0.0|\n",
      "|Federated States ...|           Meat|                    0.0|              0.0|\n",
      "|             Belgium|     Vegetables|                    0.0|              0.0|\n",
      "|             Croatia|      Cosmetics|                    0.0|              0.0|\n",
      "|          Azerbaijan|         Cereal|                    0.0|              0.0|\n",
      "|               Kenya|           Meat|                    0.0|              0.0|\n",
      "+--------------------+---------------+-----------------------+-----------------+\n",
      "only showing top 20 rows\n",
      "\n"
     ]
    },
    {
     "name": "stderr",
     "output_type": "stream",
     "text": [
      "                                                                                \r"
     ]
    }
   ],
   "source": [
    "#convert row to column\n",
    "\n",
    "spark.sql(\"\"\" SELECT Country,Item_Type,\n",
    "       SUM(CASE WHEN Item_Type = 'Office Supplies' THEN Total_Revenue ELSE 0 END) AS Office_Supplies_Revenue,\n",
    "       SUM(CASE WHEN Item_Type = 'Beverages' THEN Total_Revenue ELSE 0 END) AS Beverages_Revenue\n",
    "FROM salesdata\n",
    "GROUP BY Country,Item_Type \"\"\").show()\n"
   ]
  },
  {
   "cell_type": "markdown",
   "metadata": {
    "application/vnd.databricks.v1+cell": {
     "cellMetadata": {
      "byteLimit": 2048000,
      "rowLimit": 10000
     },
     "inputWidgets": {},
     "nuid": "e1b29a72-1ec2-4718-854a-f4fc0c083302",
     "showTitle": false,
     "tableResultSettingsMap": {},
     "title": ""
    }
   },
   "source": [
    "#### 12. Window Functions"
   ]
  },
  {
   "cell_type": "code",
   "execution_count": 22,
   "metadata": {
    "application/vnd.databricks.v1+cell": {
     "cellMetadata": {
      "byteLimit": 2048000,
      "implicitDf": true,
      "rowLimit": 10000
     },
     "inputWidgets": {},
     "nuid": "e1fda5f5-31e4-40e7-af2a-f136cddd7784",
     "showTitle": false,
     "tableResultSettingsMap": {},
     "title": ""
    }
   },
   "outputs": [
    {
     "name": "stderr",
     "output_type": "stream",
     "text": [
      "25/03/06 04:49:34 WARN WindowExec: No Partition Defined for Window operation! Moving all data to a single partition, this can cause serious performance degradation.\n",
      "25/03/06 04:49:34 WARN WindowExec: No Partition Defined for Window operation! Moving all data to a single partition, this can cause serious performance degradation.\n",
      "25/03/06 04:49:34 WARN WindowExec: No Partition Defined for Window operation! Moving all data to a single partition, this can cause serious performance degradation.\n",
      "25/03/06 04:49:34 WARN WindowExec: No Partition Defined for Window operation! Moving all data to a single partition, this can cause serious performance degradation.\n",
      "25/03/06 04:49:34 WARN WindowExec: No Partition Defined for Window operation! Moving all data to a single partition, this can cause serious performance degradation.\n",
      "[Stage 56:========================>                                (7 + 8) / 16]\r"
     ]
    },
    {
     "name": "stdout",
     "output_type": "stream",
     "text": [
      "+--------------------+---------+-------------+----------+------------------+\n",
      "|             Country| Order_Id|Total_Revenue|Units_Sold|revenue_units_rank|\n",
      "+--------------------+---------+-------------+----------+------------------+\n",
      "|          San Marino|243459451|    999931.76|      3917|                 1|\n",
      "|             Burundi|121096217|    999931.76|      3917|                 1|\n",
      "|        Sierra Leone|610549151|    999931.76|      3917|                 1|\n",
      "|            Slovenia|531643283|    999931.76|      3917|                 1|\n",
      "|             Albania|365822684|    999931.76|      3917|                 1|\n",
      "|             Belarus|654006516|    999931.76|      3917|                 1|\n",
      "|Central African R...|409280049|    999931.76|      3917|                 1|\n",
      "|              Uganda|286916816|    999931.76|      3917|                 1|\n",
      "|              Angola|732912385|    999931.76|      3917|                 1|\n",
      "|             Myanmar|776369750|    999931.76|      3917|                 1|\n",
      "|           Singapore|164553582|    999931.76|      3917|                 1|\n",
      "|            Malaysia|488185918|    999931.76|      3917|                 1|\n",
      "|              Poland|855275619|    999931.76|      3917|                 1|\n",
      "|        Sierra Leone|610549151|    999931.76|      3917|                 1|\n",
      "|               Sudan|898732984|    999931.76|      3917|                 1|\n",
      "|             Albania|365822684|    999931.76|      3917|                 1|\n",
      "|          San Marino|243459451|    999931.76|      3917|                 1|\n",
      "|             Belarus|654006516|    999931.76|      3917|                 1|\n",
      "|             Myanmar|776369750|    999931.76|      3917|                 1|\n",
      "|           Singapore|164553582|    999931.76|      3917|                 1|\n",
      "|            Malaysia|488185918|    999931.76|      3917|                 1|\n",
      "|              Poland|855275619|    999931.76|      3917|                 1|\n",
      "|            Slovenia|531643283|    999931.76|      3917|                 1|\n",
      "|             Burundi|121096217|    999931.76|      3917|                 1|\n",
      "|               Sudan|898732984|    999931.76|      3917|                 1|\n",
      "|             Albania|365822684|    999931.76|      3917|                 1|\n",
      "|          San Marino|243459451|    999931.76|      3917|                 1|\n",
      "|             Belarus|654006516|    999931.76|      3917|                 1|\n",
      "|             Myanmar|776369750|    999931.76|      3917|                 1|\n",
      "|Central African R...|409280049|    999931.76|      3917|                 1|\n",
      "|              Uganda|286916816|    999931.76|      3917|                 1|\n",
      "|              Angola|732912385|    999931.76|      3917|                 1|\n",
      "|             Algeria|118647038|    999912.00|      9150|                 2|\n",
      "|               Ghana|651557338|    999912.00|      9150|                 2|\n",
      "|         El Salvador|450288236|    999912.00|      9150|                 2|\n",
      "|                Cuba|162104403|    999912.00|      9150|                 2|\n",
      "|              Latvia|572651469|    999912.00|      9150|                 2|\n",
      "|               Nauru|241010272|    999912.00|      9150|                 2|\n",
      "|            Ethiopia|363373506|    999912.00|      9150|                 2|\n",
      "|             Iceland|284467637|    999912.00|      9150|                 2|\n",
      "|            Barbados|773920571|    999912.00|      9150|                 2|\n",
      "|              Bhutan|205561769|    999912.00|      9150|                 2|\n",
      "|             Germany|896283805|    999912.00|      9150|                 2|\n",
      "|              Malawi|327925002|    999912.00|      9150|                 2|\n",
      "|             Lesotho|939741170|    999912.00|      9150|                 2|\n",
      "|                Iran|406830871|    999912.00|      9150|                 2|\n",
      "|         El Salvador|450288236|    999912.00|      9150|                 2|\n",
      "|              Jordan|695014703|    999912.00|      9150|                 2|\n",
      "|             Iceland|284467637|    999912.00|      9150|                 2|\n",
      "|            Barbados|773920571|    999912.00|      9150|                 2|\n",
      "|              Bhutan|205561769|    999912.00|      9150|                 2|\n",
      "|             Lesotho|939741170|    999912.00|      9150|                 2|\n",
      "|                Iran|406830871|    999912.00|      9150|                 2|\n",
      "|               Tonga|817377936|    999912.00|      9150|                 2|\n",
      "|    Papua New Guinea|529194104|    999912.00|      9150|                 2|\n",
      "|             Germany|896283805|    999912.00|      9150|                 2|\n",
      "|               Ghana|651557338|    999912.00|      9150|                 2|\n",
      "|              Jordan|695014703|    999912.00|      9150|                 2|\n",
      "|              Mexico|485736739|    999912.00|      9150|                 2|\n",
      "|            Ethiopia|363373506|    999912.00|      9150|                 2|\n",
      "|                Cuba|162104403|    999912.00|      9150|                 2|\n",
      "|              Latvia|572651469|    999912.00|      9150|                 2|\n",
      "|               Nauru|241010272|    999912.00|      9150|                 2|\n",
      "|            Barbados|773920571|    999912.00|      9150|                 2|\n",
      "|              Bhutan|205561769|    999912.00|      9150|                 2|\n",
      "|             Lesotho|939741170|    999912.00|      9150|                 2|\n",
      "|                Iran|406830871|    999912.00|      9150|                 2|\n",
      "|               Tonga|817377936|    999912.00|      9150|                 2|\n",
      "|    Papua New Guinea|529194104|    999912.00|      9150|                 2|\n",
      "|         El Salvador|450288236|    999912.00|      9150|                 2|\n",
      "|             Germany|896283805|    999912.00|      9150|                 2|\n",
      "|              Malawi|327925002|    999912.00|      9150|                 2|\n",
      "|             Algeria|118647038|    999912.00|      9150|                 2|\n",
      "|               Ghana|651557338|    999912.00|      9150|                 2|\n",
      "|             Estonia|944984996|     99991.20|       915|                 3|\n",
      "|             Iceland|621352660|     99991.20|       915|                 3|\n",
      "|             Algeria|455532062|     99991.20|       915|                 3|\n",
      "|                Fiji|289711463|     99991.20|       915|                 3|\n",
      "|             Germany|333168828|     99991.20|       915|                 3|\n",
      "|                Cuba|498989427|     99991.20|       915|                 3|\n",
      "|               Ghana|988442361|     99991.20|       915|                 3|\n",
      "|       Cote d'Ivoire|412074697|     99991.20|       915|                 3|\n",
      "|          Uzbekistan|167348229|     99991.20|       915|                 3|\n",
      "|              Mexico|822621762|     99991.20|       915|                 3|\n",
      "|              Cyprus|656801164|     99991.20|       915|                 3|\n",
      "|       Cote d'Ivoire|412074697|     99991.20|       915|                 3|\n",
      "|                Cuba|498989427|     99991.20|       915|                 3|\n",
      "|               Ghana|988442361|     99991.20|       915|                 3|\n",
      "|             Iceland|621352660|     99991.20|       915|                 3|\n",
      "|             Algeria|455532062|     99991.20|       915|                 3|\n",
      "|Federated States ...|577895295|     99991.20|       915|                 3|\n",
      "|Federated States ...|577895295|     99991.20|       915|                 3|\n",
      "|               Kenya|376626193|     99991.20|       915|                 3|\n",
      "|         The Bahamas|210805594|     99991.20|       915|                 3|\n",
      "|    Papua New Guinea|866079127|     99991.20|       915|                 3|\n",
      "|               Egypt|743715894|     99991.20|       915|                 3|\n",
      "|                Fiji|289711463|     99991.20|       915|                 3|\n",
      "|            Ethiopia|700258529|     99991.20|       915|                 3|\n",
      "|             Germany|333168828|     99991.20|       915|                 3|\n",
      "|             Estonia|944984996|     99991.20|       915|                 3|\n",
      "+--------------------+---------+-------------+----------+------------------+\n",
      "only showing top 100 rows\n",
      "\n"
     ]
    },
    {
     "name": "stderr",
     "output_type": "stream",
     "text": [
      "                                                                                \r"
     ]
    }
   ],
   "source": [
    "result_df = spark.sql(\"\"\"\n",
    "SELECT Country, Order_Id, Total_Revenue, Units_Sold,\n",
    "       DENSE_RANK() OVER (ORDER BY Total_Revenue DESC, Units_Sold DESC) AS revenue_units_rank\n",
    "FROM salesdata\n",
    "\"\"\")\n",
    "result_df.show(100)\n"
   ]
  },
  {
   "cell_type": "markdown",
   "metadata": {
    "application/vnd.databricks.v1+cell": {
     "cellMetadata": {
      "byteLimit": 2048000,
      "rowLimit": 10000
     },
     "inputWidgets": {},
     "nuid": "09dd658a-3be0-48e7-bf8b-0bfaacf05502",
     "showTitle": false,
     "tableResultSettingsMap": {},
     "title": ""
    }
   },
   "source": [
    "####  Chaining Transformations"
   ]
  },
  {
   "cell_type": "code",
   "execution_count": null,
   "metadata": {
    "application/vnd.databricks.v1+cell": {
     "cellMetadata": {
      "byteLimit": 2048000,
      "rowLimit": 10000
     },
     "inputWidgets": {},
     "nuid": "7473ae9d-0825-43a3-bd0a-7b354033ea5b",
     "showTitle": false,
     "tableResultSettingsMap": {},
     "title": ""
    }
   },
   "outputs": [],
   "source": [
    "# selects data, adds new columns, filters, and aggregates the data\n",
    "result_df = spark.sql(\"\"\"\n",
    "    SELECT Country,\n",
    "           SUM(Total_Revenue) AS Total_Revenue_by_Country,\n",
    "           AVG(Total_Profit / Units_Sold) AS Avg_Profit_Per_Unit\n",
    "    FROM salesdata\n",
    "    WHERE Sales_Channel = 'Online'\n",
    "    GROUP BY Country\n",
    "    ORDER BY Total_Revenue_by_Country DESC\n",
    "\"\"\")\n",
    "\n",
    "# Show the result\n",
    "result_df.show()"
   ]
  },
  {
   "cell_type": "markdown",
   "metadata": {
    "application/vnd.databricks.v1+cell": {
     "cellMetadata": {},
     "inputWidgets": {},
     "nuid": "18eb2657-06ef-40ff-87fc-7a11f47aef6b",
     "showTitle": false,
     "tableResultSettingsMap": {},
     "title": ""
    }
   },
   "source": [
    "### Data Quality Checks\n"
   ]
  },
  {
   "cell_type": "code",
   "execution_count": 23,
   "metadata": {
    "application/vnd.databricks.v1+cell": {
     "cellMetadata": {
      "byteLimit": 2048000,
      "rowLimit": 10000
     },
     "inputWidgets": {},
     "nuid": "23b09423-7fc8-42bf-923b-a94cf949fb6b",
     "showTitle": false,
     "tableResultSettingsMap": {},
     "title": ""
    }
   },
   "outputs": [
    {
     "name": "stderr",
     "output_type": "stream",
     "text": [
      "[Stage 60:=========================================>               (8 + 3) / 11]\r"
     ]
    },
    {
     "name": "stdout",
     "output_type": "stream",
     "text": [
      "+--------------------+-------+---------------+-------------+--------------+----------+----------+---------+----------+----------+---------+-------------+----------+------------+--------------------+\n",
      "|              Region|Country|      Item_Type|Sales_Channel|Order_Priority|Order_Date|  Order_ID|Ship_Date|Units_Sold|Unit_Price|Unit_Cost|Total_Revenue|Total_Cost|Total_Profit|          error_flag|\n",
      "+--------------------+-------+---------------+-------------+--------------+----------+----------+---------+----------+----------+---------+-------------+----------+------------+--------------------+\n",
      "|Australia and Oce...|   null|Office Supplies|       Online|             H|  3-6-2016|5555553523|3/26/2016|     -2401|   -651.21|   524.96|     15655.21|1260428.96|   303126.25|     Country is NULL|\n",
      "|              Europe| Poland|      Beverages|       Online|             L|12/25/2020|5555555028|26/5/2010|     -9340|     47.45|   -31.79|         null|  296918.6|    146264.4|Units_Sold is neg...|\n",
      "+--------------------+-------+---------------+-------------+--------------+----------+----------+---------+----------+----------+---------+-------------+----------+------------+--------------------+\n",
      "\n"
     ]
    },
    {
     "name": "stderr",
     "output_type": "stream",
     "text": [
      "                                                                                \r"
     ]
    }
   ],
   "source": [
    "error_records_df = spark.sql(\"\"\"\n",
    "SELECT *\n",
    "FROM (\n",
    "    SELECT *,\n",
    "        CASE \n",
    "            WHEN Order_ID IS NULL THEN 'Order_ID is NULL'\n",
    "            WHEN Country IS NULL THEN 'Country is NULL'\n",
    "            WHEN Units_Sold IS NULL THEN 'Units_Sold is NULL'\n",
    "            WHEN Units_Sold < 0 THEN 'Units_Sold is negative'\n",
    "            WHEN Total_Revenue < 0 THEN 'Total_Revenue is negative'\n",
    "            WHEN Total_Profit < 0 THEN 'Total_Profit is negative'\n",
    "            WHEN Order_Date IS NULL THEN 'Order_Date is NULL'\n",
    "            WHEN Ship_Date IS NULL THEN 'Ship_Date is NULL'\n",
    "            WHEN Order_Date NOT RLIKE '^[1-9]{1}[0-9]{0,1}/[1-9]{1}[0-9]{0,1}/[0-9]{4}$' THEN 'Order_Date has invalid format (expected M/d/yyyy)'\n",
    "            WHEN Ship_Date NOT  RLIKE '^[1-9]{1}[0-9]{0,1}/[1-9]{1}[0-9]{0,1}/[0-9]{4}$' THEN 'Ship_Date has invalid format (expected M/d/yyyy)'\n",
    "           -- WHEN  Ship_Date < Order_Date THEN 'Ship_Date before Order_Date'\n",
    "            ELSE NULL\n",
    "        END AS error_flag\n",
    "    FROM salesdata\n",
    ") AS temp\n",
    "WHERE error_flag IS NOT NULL;\n",
    "\"\"\")\n",
    "error_records_df.show()"
   ]
  },
  {
   "cell_type": "code",
   "execution_count": 24,
   "metadata": {
    "application/vnd.databricks.v1+cell": {
     "cellMetadata": {
      "byteLimit": 2048000,
      "rowLimit": 10000
     },
     "inputWidgets": {},
     "nuid": "1c44836e-4e6a-4f85-b904-26dbb156c6fb",
     "showTitle": false,
     "tableResultSettingsMap": {},
     "title": ""
    }
   },
   "outputs": [
    {
     "name": "stdout",
     "output_type": "stream",
     "text": [
      "+--------------------+------------+---------------+-------------+--------------+----------+---------+----------+----------+----------+---------+-------------+----------+------------+----------+\n",
      "|              Region|     Country|      Item_Type|Sales_Channel|Order_Priority|Order_Date| Order_ID| Ship_Date|Units_Sold|Unit_Price|Unit_Cost|Total_Revenue|Total_Cost|Total_Profit|error_flag|\n",
      "+--------------------+------------+---------------+-------------+--------------+----------+---------+----------+----------+----------+---------+-------------+----------+------------+----------+\n",
      "|Australia and Oce...|       Palau|Office Supplies|       Online|             H|  3/6/2016|517073523| 3/26/2016|      2401|    651.21|   524.96|   1563555.21|1260428.96|   303126.25|      null|\n",
      "|              Europe|      Poland|      Beverages|       Online|             L| 4/18/2010|380507028| 5/26/2010|      9340|     47.45|    31.79|    443183.00| 296918.60|   146264.40|      null|\n",
      "|       North America|      Canada|         Cereal|       Online|             M|  1/8/2015|504055583| 1/31/2015|       103|    205.70|   117.11|     21187.10|  12062.33|     9124.77|      null|\n",
      "|              Europe|     Belarus|         Snacks|       Online|             C| 1/19/2014|954955518| 2/27/2014|      1414|    152.58|    97.44|    215748.12| 137780.16|    77967.96|      null|\n",
      "|Middle East and N...|        Oman|         Cereal|      Offline|             H| 4/26/2019|970755660|  6/2/2019|      7027|    205.70|   117.11|   1445453.90| 822931.97|   622521.93|      null|\n",
      "|  Sub-Saharan Africa|Burkina Faso|Office Supplies|       Online|             C|  3/3/2012|309317338|  4/5/2012|      2729|    651.21|   524.96|   1777152.09|1432615.84|   344536.25|      null|\n",
      "|              Europe|  Montenegro|  Personal Care|       Online|             H|11/24/2012|598814380|12/25/2012|      1337|     81.73|    56.67|    109273.01|  75767.79|    33505.22|      null|\n",
      "|Middle East and N...|  Azerbaijan|      Cosmetics|      Offline|             M| 3/18/2011|387733113|  5/5/2011|      7699|    437.20|   263.33|   3366002.80|2027377.67|  1338625.13|      null|\n",
      "|  Sub-Saharan Africa| South Sudan|        Clothes|      Offline|             C| 5/10/2014|994872367| 6/17/2014|      3696|    109.28|    35.84|    403898.88| 132464.64|   271434.24|      null|\n",
      "|       North America|   Greenland|  Personal Care|       Online|             C| 5/25/2020|659343469| 6/14/2020|      3239|     81.73|    56.67|    264723.47| 183554.13|    81169.34|      null|\n",
      "|              Europe|    Portugal|      Cosmetics|       Online|             M|11/12/2012|390570247|11/13/2012|      7270|    437.20|   263.33|   3178444.00|1914409.10|  1264034.90|      null|\n",
      "|  Sub-Saharan Africa|Sierra Leone|        Clothes|      Offline|             C| 7/25/2019|818289029| 7/27/2019|      8763|    109.28|    35.84|    957620.64| 314065.92|   643554.72|      null|\n",
      "|              Europe|     Germany|  Personal Care|      Offline|             H|12/25/2010|842548644| 1/24/2011|      7722|     81.73|    56.67|    631119.06| 437605.74|   193513.32|      null|\n",
      "|              Europe|  Montenegro|  Personal Care|      Offline|             L|  8/3/2012|783710420| 8/10/2012|      6184|     81.73|    56.67|    505418.32| 350447.28|   154971.04|      null|\n",
      "|                Asia|  Bangladesh|         Cereal|      Offline|             L| 12/3/2013|132448184| 1/15/2014|      3216|    205.70|   117.11|    661531.20| 376625.76|   284905.44|      null|\n",
      "|  Sub-Saharan Africa|  Mauritius |         Snacks|       Online|             M| 9/22/2016|699748265| 10/3/2016|      9917|    152.58|    97.44|   1513135.86| 966312.48|   546823.38|      null|\n",
      "|                Asia|  Kyrgyzstan|         Snacks|      Offline|             H|11/22/2018|766909492|12/15/2018|      4416|    152.58|    97.44|    673793.28| 430295.04|   243498.24|      null|\n",
      "|  Sub-Saharan Africa|  Madagascar|        Clothes|       Online|             C|10/27/2019|935543191|10/29/2019|      6875|    109.28|    35.84|    751300.00| 246400.00|   504900.00|      null|\n",
      "|              Europe|     Romania|           Meat|       Online|             M| 1/25/2015|977573192|  2/7/2015|      4486|    421.89|   364.69|   1892598.54|1635999.34|   256599.20|      null|\n",
      "|              Europe|       Malta|  Personal Care|      Offline|             H| 5/21/2012|285235822| 6/22/2012|      6473|     81.73|    56.67|    529038.29| 366824.91|   162213.38|      null|\n",
      "+--------------------+------------+---------------+-------------+--------------+----------+---------+----------+----------+----------+---------+-------------+----------+------------+----------+\n",
      "only showing top 20 rows\n",
      "\n"
     ]
    }
   ],
   "source": [
    "valid_records = spark.sql(\"\"\"\n",
    "SELECT *\n",
    "FROM (\n",
    "    SELECT *,\n",
    "        CASE \n",
    "            WHEN Order_ID IS NULL THEN 'Order_ID is NULL'\n",
    "            WHEN Country IS NULL THEN 'Country is NULL'\n",
    "            WHEN Units_Sold IS NULL THEN 'Units_Sold is NULL'\n",
    "            WHEN Units_Sold < 0 THEN 'Units_Sold is negative'\n",
    "            WHEN Total_Revenue < 0 THEN 'Total_Revenue is negative'\n",
    "            WHEN Total_Profit < 0 THEN 'Total_Profit is negative'\n",
    "            WHEN Order_Date IS NULL THEN 'Order_Date is NULL'\n",
    "            WHEN Ship_Date IS NULL THEN 'Ship_Date is NULL'\n",
    "            WHEN Order_Date NOT RLIKE '^[1-9]{1}[0-9]{0,1}/[1-9]{1}[0-9]{0,1}/[0-9]{4}$' THEN 'Order_Date has invalid format (expected M/d/yyyy)'\n",
    "            WHEN Ship_Date NOT  RLIKE '^[1-9]{1}[0-9]{0,1}/[1-9]{1}[0-9]{0,1}/[0-9]{4}$' THEN 'Ship_Date has invalid format (expected M/d/yyyy)'\n",
    "           --WHEN  Ship_Date < Order_Date THEN 'Ship_Date before Order_Date'    \n",
    "            ELSE NULL\n",
    "        END AS error_flag\n",
    "    FROM salesdata\n",
    ") AS temp\n",
    "WHERE error_flag IS NULL;\n",
    "\"\"\")\n",
    "valid_records.show()\n",
    "valid_records.createOrReplaceTempView(\"valid_salesdata\")"
   ]
  },
  {
   "cell_type": "code",
   "execution_count": 26,
   "metadata": {
    "application/vnd.databricks.v1+cell": {
     "cellMetadata": {
      "byteLimit": 2048000,
      "rowLimit": 10000
     },
     "inputWidgets": {},
     "nuid": "d611f4c4-39f8-48a6-a31b-f1429fcc0dc2",
     "showTitle": false,
     "tableResultSettingsMap": {},
     "title": ""
    }
   },
   "outputs": [
    {
     "name": "stderr",
     "output_type": "stream",
     "text": [
      "                                                                                \r"
     ]
    },
    {
     "name": "stdout",
     "output_type": "stream",
     "text": [
      "5000000\n"
     ]
    },
    {
     "name": "stderr",
     "output_type": "stream",
     "text": [
      "                                                                                \r"
     ]
    },
    {
     "name": "stdout",
     "output_type": "stream",
     "text": [
      "2\n"
     ]
    },
    {
     "name": "stderr",
     "output_type": "stream",
     "text": [
      "                                                                                \r"
     ]
    }
   ],
   "source": [
    "#  valid records\n",
    "print(valid_records.count())\n",
    "#  error records\n",
    "print(error_records_df.count())\n",
    "\n",
    "# Optionally, write error records to a CSV file for later review\n",
    "error_records_df.write.csv(\"error_records.csv\", header=True)"
   ]
  },
  {
   "cell_type": "code",
   "execution_count": 27,
   "metadata": {},
   "outputs": [
    {
     "name": "stderr",
     "output_type": "stream",
     "text": [
      "                                                                                \r"
     ]
    },
    {
     "name": "stdout",
     "output_type": "stream",
     "text": [
      "+--------------------+--------------------+---------------+-------------+--------------+----------------+--------------------+--------------------+--------------------+\n",
      "|              Region|             Country|      Item_Type|Sales_Channel|Order_Priority|Total_Units_Sold|       Total_Revenue|          Total_Cost|        Total_Profit|\n",
      "+--------------------+--------------------+---------------+-------------+--------------+----------------+--------------------+--------------------+--------------------+\n",
      "|  Sub-Saharan Africa|              Uganda|  Personal Care|      Offline|             L|       1357772.0|1.1097070555999999E8|       7.694493924E7|       3.402576632E7|\n",
      "|Australia and Oce...|               Tonga|      Cosmetics|      Offline|             C|       1309658.0| 5.725824776000001E8|3.4487224114000005E8|2.2771023646000004E8|\n",
      "|                Asia|              Taiwan|Office Supplies|       Online|             H|       1783481.0|     1.16142066201E9| 9.362561857599999E8|      2.2516447625E8|\n",
      "|Australia and Oce...|    Papua New Guinea|      Cosmetics|      Offline|             M|       1497947.0| 6.549024283999999E8|      3.9445438351E8|2.6044804489000002E8|\n",
      "|                Asia|          Kyrgyzstan|      Household|       Online|             M|       1806590.0|1.2072898993000002E9| 9.078837385999999E8|       2.994061607E8|\n",
      "|Middle East and N...|United Arab Emirates|Office Supplies|       Online|             L|       1198981.0| 7.807884170100001E8|      6.2941706576E8|      1.5137135125E8|\n",
      "|Australia and Oce...|              Tuvalu|         Snacks|       Online|             M|       1048945.0|       1.600480281E8|1.0220920080000001E8|5.7838827300000004E7|\n",
      "|  Sub-Saharan Africa|             Nigeria|     Vegetables|       Online|             M|       1710938.0|2.6358710827999994E8|1.5557559233999997E8|1.0801151594000001E8|\n",
      "|Central America a...|               Haiti|         Snacks|      Offline|             L|        971448.0|      1.4822353584E8|       9.465789312E7| 5.356564271999999E7|\n",
      "|              Europe|         Netherlands|         Snacks|       Online|             L|        836673.0|      1.2765956634E8|       8.152541712E7|       4.613414922E7|\n",
      "|                Asia|                Laos|         Snacks|       Online|             C|       1371922.0|      2.0932785876E8|      1.3368007968E8|       7.564777908E7|\n",
      "|              Europe|             Romania|         Fruits|      Offline|             L|       1536130.0|1.4332092899999999E7|        1.06300196E7|           3702073.3|\n",
      "|Central America a...|            Honduras|      Cosmetics|      Offline|             L|       1262044.0|       5.517656368E8|3.3233404652000004E8|2.1943159028000003E8|\n",
      "|  Sub-Saharan Africa|                Mali|  Personal Care|      Offline|             L|        914971.0| 7.478057982999998E7|       5.185140657E7|2.2929173259999998E7|\n",
      "|              Europe|         Netherlands|        Clothes|      Offline|             C|        946130.0|1.0339308639999999E8|3.3909299199999996E7|        6.94837872E7|\n",
      "|                Asia|            Mongolia|      Baby Food|       Online|             C|        991888.0|      2.5320916864E8|      1.5812678496E8|       9.508238368E7|\n",
      "|       North America|           Greenland|      Beverages|       Online|             L|       1276573.0|6.0573388849999994E7|       4.058225567E7|       1.999113318E7|\n",
      "|              Europe|             Austria|      Baby Food|      Offline|             H|       1246395.0|3.1817971559999996E8|1.9870029089999998E8|1.1947942469999999E8|\n",
      "|  Sub-Saharan Africa|             Namibia|           Meat|      Offline|             C|       1893593.0| 7.988879507700001E8|      6.9057443117E8|1.0831351960000001E8|\n",
      "|                Asia|            Mongolia|  Personal Care|      Offline|             L|       1910571.0|      1.5615096783E8|      1.0827205857E8|       4.787890926E7|\n",
      "+--------------------+--------------------+---------------+-------------+--------------+----------------+--------------------+--------------------+--------------------+\n",
      "only showing top 20 rows\n",
      "\n"
     ]
    },
    {
     "name": "stderr",
     "output_type": "stream",
     "text": [
      "                                                                                \r"
     ]
    },
    {
     "data": {
      "text/plain": [
       "17760"
      ]
     },
     "execution_count": 27,
     "metadata": {},
     "output_type": "execute_result"
    }
   ],
   "source": [
    "salesdata_aggregated_df  = spark.sql(\"\"\" \n",
    "SELECT\n",
    "    Region,\n",
    "    Country,\n",
    "    Item_Type,\n",
    "    Sales_Channel,\n",
    "    Order_Priority,\n",
    "    SUM(Units_Sold) AS Total_Units_Sold,\n",
    "    SUM(Total_Revenue) AS Total_Revenue,\n",
    "    SUM(Total_Cost) AS Total_Cost,\n",
    "    SUM(Total_Profit) AS Total_Profit\n",
    "FROM valid_salesdata\n",
    "GROUP BY Region, Country, Item_Type, Sales_Channel, Order_Priority;\n",
    "\"\"\")\n",
    "salesdata_aggregated_df.show()\n",
    "salesdata_aggregated_df.count()"
   ]
  },
  {
   "cell_type": "code",
   "execution_count": 30,
   "metadata": {},
   "outputs": [
    {
     "name": "stdout",
     "output_type": "stream",
     "text": [
      "root\n",
      " |-- Region: string (nullable = true)\n",
      " |-- Country: string (nullable = true)\n",
      " |-- Item_Type: string (nullable = true)\n",
      " |-- Sales_Channel: string (nullable = true)\n",
      " |-- Order_Priority: string (nullable = true)\n",
      " |-- Total_Units_Sold: double (nullable = true)\n",
      " |-- Total_Revenue: double (nullable = true)\n",
      " |-- Total_Cost: double (nullable = true)\n",
      " |-- Total_Profit: double (nullable = true)\n",
      "\n"
     ]
    }
   ],
   "source": [
    "salesdata_aggregated_df.printSchema()"
   ]
  },
  {
   "cell_type": "code",
   "execution_count": 31,
   "metadata": {},
   "outputs": [
    {
     "name": "stderr",
     "output_type": "stream",
     "text": [
      "                                                                                \r"
     ]
    }
   ],
   "source": [
    "MYSQL_URL = \"jdbc:mysql://172.17.0.3:3306/demo1\"\n",
    "MYSQL_PROPERTIES = {\n",
    "    'user': 'root',\n",
    "    'password': '*7E567C9DC06217268D72D52BABCA14EAB8993ACF',\n",
    "    'driver': 'com.mysql.jdbc.Driver',\n",
    "    'allowPublicKeyRetrieval':'true',\n",
    "    'useSSL':'false'\n",
    "}\n",
    "salesdata_aggregated_df.write.jdbc(url=MYSQL_URL, table=\"aggregatedsalesdata2\", mode=\"append\", properties=MYSQL_PROPERTIES)"
   ]
  },
  {
   "cell_type": "code",
   "execution_count": null,
   "metadata": {},
   "outputs": [],
   "source": []
  }
 ],
 "metadata": {
  "application/vnd.databricks.v1+notebook": {
   "computePreferences": null,
   "dashboards": [],
   "environmentMetadata": null,
   "language": "python",
   "notebookMetadata": {
    "mostRecentlyExecutedCommandWithImplicitDF": {
     "commandId": 961976602242091,
     "dataframes": [
      "_sqldf"
     ]
    },
    "pythonIndentUnit": 2
   },
   "notebookName": "Day7-Common-Transformation-SQL",
   "widgets": {}
  },
  "kernelspec": {
   "display_name": "Python 3 (ipykernel)",
   "language": "python",
   "name": "python3"
  },
  "language_info": {
   "codemirror_mode": {
    "name": "ipython",
    "version": 3
   },
   "file_extension": ".py",
   "mimetype": "text/x-python",
   "name": "python",
   "nbconvert_exporter": "python",
   "pygments_lexer": "ipython3",
   "version": "3.10.2"
  }
 },
 "nbformat": 4,
 "nbformat_minor": 4
}
