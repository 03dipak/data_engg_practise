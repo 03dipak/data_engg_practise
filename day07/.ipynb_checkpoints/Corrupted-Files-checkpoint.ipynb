{
 "cells": [
  {
   "cell_type": "code",
   "execution_count": 1,
   "metadata": {},
   "outputs": [
    {
     "name": "stderr",
     "output_type": "stream",
     "text": [
      "SLF4J: Class path contains multiple SLF4J bindings.\n",
      "SLF4J: Found binding in [jar:file:/home/glue_user/spark/jars/log4j-slf4j-impl-2.17.2.jar!/org/slf4j/impl/StaticLoggerBinder.class]\n",
      "SLF4J: Found binding in [jar:file:/home/glue_user/spark/jars/slf4j-reload4j-1.7.36.jar!/org/slf4j/impl/StaticLoggerBinder.class]\n",
      "SLF4J: Found binding in [jar:file:/home/glue_user/aws-glue-libs/jars/log4j-slf4j-impl-2.17.2.jar!/org/slf4j/impl/StaticLoggerBinder.class]\n",
      "SLF4J: Found binding in [jar:file:/home/glue_user/aws-glue-libs/jars/slf4j-reload4j-1.7.36.jar!/org/slf4j/impl/StaticLoggerBinder.class]\n",
      "SLF4J: See http://www.slf4j.org/codes.html#multiple_bindings for an explanation.\n",
      "SLF4J: Actual binding is of type [org.apache.logging.slf4j.Log4jLoggerFactory]\n",
      "Setting default log level to \"WARN\".\n",
      "To adjust logging level use sc.setLogLevel(newLevel). For SparkR, use setLogLevel(newLevel).\n"
     ]
    }
   ],
   "source": [
    "from pyspark.sql import SparkSession\n",
    "# Initialize Spark Session with MySQL JDBC Driver\n",
    "spark = SparkSession.builder.master('local[2]').appName('datasource-api').getOrCreate()\n"
   ]
  },
  {
   "cell_type": "markdown",
   "metadata": {
    "application/vnd.databricks.v1+cell": {
     "cellMetadata": {},
     "inputWidgets": {},
     "nuid": "dc21242f-f205-431b-aa5a-369152875c81",
     "showTitle": false,
     "tableResultSettingsMap": {},
     "title": ""
    }
   },
   "source": [
    "### Read Common Options\n",
    "\n",
    "- **`header`**: (CSV, JSON) Whether the first line is a header (`True` or `False`).\n",
    "- **`inferSchema`**: (CSV, JSON) Automatically infer column data types.\n",
    "- **`path`**: Specifies the file path.\n",
    "- **`mode`**: \n",
    "    - PERMISSIVE (default): nulls are inserted for fields that could not be parsed correctly\n",
    "    - DROPMALFORMED: drops lines that contain fields that could not be parsed\n",
    "    - FAILFAST: aborts the reading if any malformed data is found\n"
   ]
  },
  {
   "cell_type": "markdown",
   "metadata": {
    "application/vnd.databricks.v1+cell": {
     "cellMetadata": {},
     "inputWidgets": {},
     "nuid": "5130e4af-e88d-4870-8f8e-05dd60d1946b",
     "showTitle": false,
     "tableResultSettingsMap": {},
     "title": ""
    }
   },
   "source": [
    "### Identify corrupted records in a dataset"
   ]
  },
  {
   "cell_type": "code",
   "execution_count": 2,
   "metadata": {
    "application/vnd.databricks.v1+cell": {
     "cellMetadata": {
      "byteLimit": 2048000,
      "rowLimit": 10000
     },
     "inputWidgets": {},
     "nuid": "efeb6e23-948d-4af4-a73d-6889f84b1e7d",
     "showTitle": false,
     "tableResultSettingsMap": {},
     "title": ""
    }
   },
   "outputs": [],
   "source": [
    "\n",
    "\n",
    "sales_schema = '''\n",
    "SalesOrderNumber string,\n",
    "SalesOrderLineNumber int,\n",
    "OrderDate string,\n",
    "CustomerName string,\n",
    "EmailAddress string,\n",
    "Item string,\n",
    "Quantity int,\n",
    "UnitPrice double ,\n",
    "TaxAmount double ,\n",
    "_corrupt_record string\n",
    "'''"
   ]
  },
  {
   "cell_type": "code",
   "execution_count": 3,
   "metadata": {},
   "outputs": [],
   "source": [
    "#spark.read.csv(\"data/supply_sales_07012024.txt\")"
   ]
  },
  {
   "cell_type": "code",
   "execution_count": 23,
   "metadata": {
    "application/vnd.databricks.v1+cell": {
     "cellMetadata": {
      "byteLimit": 2048000,
      "rowLimit": 10000
     },
     "inputWidgets": {},
     "nuid": "e87e533d-5482-4555-874e-242af7e85bc1",
     "showTitle": false,
     "tableResultSettingsMap": {},
     "title": ""
    }
   },
   "outputs": [
    {
     "name": "stdout",
     "output_type": "stream",
     "text": [
      "root\n",
      " |-- SalesOrderNumber: string (nullable = true)\n",
      " |-- SalesOrderLineNumber: integer (nullable = true)\n",
      " |-- OrderDate: string (nullable = true)\n",
      " |-- CustomerName: string (nullable = true)\n",
      " |-- EmailAddress: string (nullable = true)\n",
      " |-- Item: string (nullable = true)\n",
      " |-- Quantity: integer (nullable = true)\n",
      " |-- UnitPrice: double (nullable = true)\n",
      " |-- TaxAmount: double (nullable = true)\n",
      " |-- _corrupt_record: string (nullable = true)\n",
      "\n"
     ]
    }
   ],
   "source": [
    "from pyspark.sql import functions as F\n",
    "\n",
    "\n",
    "df = spark.read.schema(sales_schema).format(\"csv\").options(header = True, mode = \"PERMISSIVE\", columnNameOfCorruptRecord = \"_corrupt_record\").load(\"data/supply_sales_07012024.txt\")\n",
    "df.printSchema()\n"
   ]
  },
  {
   "cell_type": "code",
   "execution_count": 24,
   "metadata": {},
   "outputs": [
    {
     "name": "stdout",
     "output_type": "stream",
     "text": [
      "+----------------+---------------------------------------------------------------------------------------------------------+\n",
      "|SalesOrderNumber|_corrupt_record                                                                                          |\n",
      "+----------------+---------------------------------------------------------------------------------------------------------+\n",
      "|SO45346         |SO45346,1,7/1/2024,Dylan, Harris,dylan43@adventure-works.com,\"Road-150 Red, 56\",1,3578.27,286.2616       |\n",
      "|SO45353         |SO45353,1,                                                                                               |\n",
      "|SO45354         |SO45354,15/1/2024,Armando Dominguez,armando13@adventure-works.com,\"Road-650 Black, 48\",1,699.0982,55.9279|\n",
      "+----------------+---------------------------------------------------------------------------------------------------------+\n",
      "\n"
     ]
    }
   ],
   "source": [
    "df.filter(F.col(\"_corrupt_record\").isNotNull()).select(\"SalesOrderNumber\",\"_corrupt_record\").show(truncate=False)\n"
   ]
  },
  {
   "cell_type": "code",
   "execution_count": 20,
   "metadata": {},
   "outputs": [
    {
     "name": "stdout",
     "output_type": "stream",
     "text": [
      "+----------------+--------------------+---------+-----------------+------------------------------+------------------+--------+---------+---------+---------------+\n",
      "|SalesOrderNumber|SalesOrderLineNumber|OrderDate|CustomerName     |EmailAddress                  |Item              |Quantity|UnitPrice|TaxAmount|_corrupt_record|\n",
      "+----------------+--------------------+---------+-----------------+------------------------------+------------------+--------+---------+---------+---------------+\n",
      "|SO45347         |1                   |7/1/2024 |Clarence Raji    |clarence35@adventure-works.com|Road-650 Black, 52|1       |699.0982 |55.9279  |null           |\n",
      "|SO45345         |1                   |7/1/2024 |Bonnie Yuan      |bonnie12@adventure-works.com  |Road-150 Red, 52  |1       |3578.27  |286.2616 |null           |\n",
      "|SO45348         |1                   |7/1/2024 |Leah Guo         |leah14@adventure-works.com    |Road-150 Red, 44  |1       |3578.27  |286.2616 |null           |\n",
      "|SO45349         |1                   |7/1/2024 |Candice Sun      |candice19@adventure-works.com |Road-150 Red, 48  |1       |3578.27  |286.2616 |null           |\n",
      "|SO45350         |1                   |7/1/2024 |John Tengo 8 años|ruben16@adventure-works.com   |Road-150 Red, 44  |1       |3578.27  |286.2616 |null           |\n",
      "|SO45355         |null                |4/1/2024 |Maurice Sharma   |maurice10@adventure-works.com |Road-150 Red, 48  |1       |3578.27  |286.2616 |null           |\n",
      "+----------------+--------------------+---------+-----------------+------------------------------+------------------+--------+---------+---------+---------------+\n",
      "\n"
     ]
    }
   ],
   "source": [
    "df.filter(F.col(\"_corrupt_record\").isNull()).show(truncate=False)"
   ]
  },
  {
   "cell_type": "code",
   "execution_count": 30,
   "metadata": {
    "application/vnd.databricks.v1+cell": {
     "cellMetadata": {
      "byteLimit": 2048000,
      "rowLimit": 10000
     },
     "inputWidgets": {},
     "nuid": "58101f7b-8969-42ac-a060-fad30cda1c7b",
     "showTitle": false,
     "tableResultSettingsMap": {},
     "title": ""
    }
   },
   "outputs": [
    {
     "name": "stdout",
     "output_type": "stream",
     "text": [
      "root\n",
      " |-- SalesOrderNumber: string (nullable = true)\n",
      " |-- SalesOrderLineNumber: integer (nullable = true)\n",
      " |-- OrderDate: string (nullable = true)\n",
      " |-- CustomerName: string (nullable = true)\n",
      " |-- EmailAddress: string (nullable = true)\n",
      " |-- Item: string (nullable = true)\n",
      " |-- Quantity: integer (nullable = true)\n",
      " |-- UnitPrice: double (nullable = true)\n",
      " |-- TaxAmount: double (nullable = true)\n",
      " |-- _corrupt_record: string (nullable = true)\n",
      "\n",
      "+----------------+--------------------+---------+-----------------+--------------------+--------------------+--------+---------+---------+---------------+\n",
      "|SalesOrderNumber|SalesOrderLineNumber|OrderDate|     CustomerName|        EmailAddress|                Item|Quantity|UnitPrice|TaxAmount|_corrupt_record|\n",
      "+----------------+--------------------+---------+-----------------+--------------------+--------------------+--------+---------+---------+---------------+\n",
      "|         SO45345|                   1| 4/1/2024|      Bonnie Yuan|bonnie12@adventur...|    Road-150 Red, 52|       1|  3578.27| 286.2616|           null|\n",
      "|         SO45348|                   1| 4/1/2024|         Leah Guo|leah14@adventure-...|    Road-150 Red, 44|       1|  3578.27| 286.2616|           null|\n",
      "|         SO45349|                   1| 4/1/2024|      Candice Sun|candice19@adventu...|    Road-150 Red, 48|       1|  3578.27| 286.2616|           null|\n",
      "|         SO45350|                   1| 4/1/2024|John Tengo 8 años|ruben16@adventure...|    Road-150 Red, 44|       1|  3578.27| 286.2616|           null|\n",
      "|         SO45346|                   1| 4/1/2024|     Dylan Harris|dylan43@adventure...|Road-150 Red, dfd...|       1|  3578.27| 286.2616|           null|\n",
      "|         SO45355|                null| 4/1/2024|   Maurice Sharma|maurice10@adventu...|    Road-150 Red, 48|       1|  3578.27| 286.2616|           null|\n",
      "+----------------+--------------------+---------+-----------------+--------------------+--------------------+--------+---------+---------+---------------+\n",
      "\n"
     ]
    }
   ],
   "source": [
    "\n",
    "#PERMISSIVE,DROPMALFORMED,FAILFAST\n",
    "\n",
    "df= spark.read.csv(\"data/supply_sales_06012024.dat\",sep=\":\",schema=sales_schema,header=True,mode = \"PERMISSIVE\",columnNameOfCorruptRecord='_corrupt_record', quote='\"', escape='\\\\',multiLine=True)\n",
    "df.printSchema()\n",
    "\n",
    "df.filter(F.col(\"_corrupt_record\").isNull()).show()\n"
   ]
  },
  {
   "cell_type": "code",
   "execution_count": 31,
   "metadata": {},
   "outputs": [
    {
     "name": "stdout",
     "output_type": "stream",
     "text": [
      "+----------------+--------------------+-----------------+-----------------------------+------------------------------+------------------+--------+---------+---------+-----------------------------------------------------------------------------------------------------------+\n",
      "|SalesOrderNumber|SalesOrderLineNumber|OrderDate        |CustomerName                 |EmailAddress                  |Item              |Quantity|UnitPrice|TaxAmount|_corrupt_record                                                                                            |\n",
      "+----------------+--------------------+-----------------+-----------------------------+------------------------------+------------------+--------+---------+---------+-----------------------------------------------------------------------------------------------------------+\n",
      "|SO45347         |1                   |4/1/2024         |Clarence Raji                |clarence35@adventure-works.com|Road-650 Black, 52|1       |699.0982 |null     |SO45347:1:4/1/2024:Clarence Raji:clarence35@adventure-works.com:\"Road-650 Black, 52\":1:699.0982:55.9279dfdd|\n",
      "|SO45353         |1                   |null             |null                         |null                          |null              |null    |null     |null     |SO45353:1:                                                                                                 |\n",
      "|SO45354         |null                |Armando Dominguez|armando13@adventure-works.com|Road-650 Black, 48            |1                 |null    |55.9279  |null     |SO45354:15/1/2024:Armando Dominguez:armando13@adventure-works.com:\"Road-650 Black, 48\":1:699.0982:55.9279  |\n",
      "+----------------+--------------------+-----------------+-----------------------------+------------------------------+------------------+--------+---------+---------+-----------------------------------------------------------------------------------------------------------+\n",
      "\n"
     ]
    }
   ],
   "source": [
    "df.filter(F.col(\"_corrupt_record\").isNotNull()).show(truncate=False)"
   ]
  },
  {
   "cell_type": "code",
   "execution_count": 29,
   "metadata": {},
   "outputs": [
    {
     "name": "stdout",
     "output_type": "stream",
     "text": [
      "+----------------+--------------------+---------+-----------------+------------------------------+--------------------------------------------+--------+---------+---------+---------------+\n",
      "|SalesOrderNumber|SalesOrderLineNumber|OrderDate|CustomerName     |EmailAddress                  |Item                                        |Quantity|UnitPrice|TaxAmount|_corrupt_record|\n",
      "+----------------+--------------------+---------+-----------------+------------------------------+--------------------------------------------+--------+---------+---------+---------------+\n",
      "|SO45347         |1                   |4/1/2024 |Clarence Raji    |clarence35@adventure-works.com|Road-650 Black, 52                          |1       |699.0982 |55.9279  |null           |\n",
      "|SO45345         |1                   |4/1/2024 |Bonnie Yuan      |bonnie12@adventure-works.com  |Road-150 Red, 52                            |1       |3578.27  |286.2616 |null           |\n",
      "|SO45348         |1                   |4/1/2024 |Leah Guo         |leah14@adventure-works.com    |Road-150 Red, 44                            |1       |3578.27  |286.2616 |null           |\n",
      "|SO45349         |1                   |4/1/2024 |Candice Sun      |candice19@adventure-works.com |Road-150 Red, 48                            |1       |3578.27  |286.2616 |null           |\n",
      "|SO45350         |1                   |4/1/2024 |John Tengo 8 años|ruben16@adventure-works.com   |Road-150 Red, 44                            |1       |3578.27  |286.2616 |null           |\n",
      "|SO45346         |1                   |4/1/2024 |Dylan Harris     |dylan43@adventure-works.com   |Road-150 Red, dfdfd\\n\\ndfdfddfdfd4fdd   \\n56|1       |3578.27  |286.2616 |null           |\n",
      "|SO45355         |null                |4/1/2024 |Maurice Sharma   |maurice10@adventure-works.com |Road-150 Red, 48                            |1       |3578.27  |286.2616 |null           |\n",
      "+----------------+--------------------+---------+-----------------+------------------------------+--------------------------------------------+--------+---------+---------+---------------+\n",
      "\n"
     ]
    }
   ],
   "source": [
    "df.filter(F.col(\"_corrupt_record\").isNull()).show(truncate=False)"
   ]
  },
  {
   "cell_type": "code",
   "execution_count": null,
   "metadata": {},
   "outputs": [],
   "source": []
  }
 ],
 "metadata": {
  "application/vnd.databricks.v1+notebook": {
   "computePreferences": null,
   "dashboards": [],
   "environmentMetadata": null,
   "language": "python",
   "notebookMetadata": {
    "pythonIndentUnit": 2
   },
   "notebookName": "Class7-Datasource-API",
   "widgets": {}
  },
  "kernelspec": {
   "display_name": "Python 3 (ipykernel)",
   "language": "python",
   "name": "python3"
  },
  "language_info": {
   "codemirror_mode": {
    "name": "ipython",
    "version": 3
   },
   "file_extension": ".py",
   "mimetype": "text/x-python",
   "name": "python",
   "nbconvert_exporter": "python",
   "pygments_lexer": "ipython3",
   "version": "3.10.2"
  }
 },
 "nbformat": 4,
 "nbformat_minor": 4
}
