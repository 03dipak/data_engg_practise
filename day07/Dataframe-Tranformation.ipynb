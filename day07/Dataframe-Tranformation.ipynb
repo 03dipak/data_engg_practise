{
 "cells": [
  {
   "cell_type": "code",
   "execution_count": 2,
   "metadata": {},
   "outputs": [
    {
     "name": "stderr",
     "output_type": "stream",
     "text": [
      "SLF4J: Class path contains multiple SLF4J bindings.\n",
      "SLF4J: Found binding in [jar:file:/home/glue_user/spark/jars/log4j-slf4j-impl-2.17.2.jar!/org/slf4j/impl/StaticLoggerBinder.class]\n",
      "SLF4J: Found binding in [jar:file:/home/glue_user/spark/jars/slf4j-reload4j-1.7.36.jar!/org/slf4j/impl/StaticLoggerBinder.class]\n",
      "SLF4J: Found binding in [jar:file:/home/glue_user/aws-glue-libs/jars/log4j-slf4j-impl-2.17.2.jar!/org/slf4j/impl/StaticLoggerBinder.class]\n",
      "SLF4J: Found binding in [jar:file:/home/glue_user/aws-glue-libs/jars/slf4j-reload4j-1.7.36.jar!/org/slf4j/impl/StaticLoggerBinder.class]\n",
      "SLF4J: See http://www.slf4j.org/codes.html#multiple_bindings for an explanation.\n",
      "SLF4J: Actual binding is of type [org.apache.logging.slf4j.Log4jLoggerFactory]\n"
     ]
    },
    {
     "name": "stdout",
     "output_type": "stream",
     "text": [
      ":: loading settings :: url = jar:file:/home/glue_user/spark/jars/ivy-2.5.0.jar!/org/apache/ivy/core/settings/ivysettings.xml\n"
     ]
    },
    {
     "name": "stderr",
     "output_type": "stream",
     "text": [
      "Ivy Default Cache set to: /home/glue_user/.ivy2/cache\n",
      "The jars for the packages stored in: /home/glue_user/.ivy2/jars\n",
      "mysql#mysql-connector-java added as a dependency\n",
      ":: resolving dependencies :: org.apache.spark#spark-submit-parent-d3643721-3d7f-46ee-ba9f-e016e5d25938;1.0\n",
      "\tconfs: [default]\n",
      "\tfound mysql#mysql-connector-java;8.0.33 in central\n",
      "\tfound com.mysql#mysql-connector-j;8.0.33 in central\n",
      "\tfound com.google.protobuf#protobuf-java;3.21.9 in central\n",
      ":: resolution report :: resolve 203ms :: artifacts dl 7ms\n",
      "\t:: modules in use:\n",
      "\tcom.google.protobuf#protobuf-java;3.21.9 from central in [default]\n",
      "\tcom.mysql#mysql-connector-j;8.0.33 from central in [default]\n",
      "\tmysql#mysql-connector-java;8.0.33 from central in [default]\n",
      "\t---------------------------------------------------------------------\n",
      "\t|                  |            modules            ||   artifacts   |\n",
      "\t|       conf       | number| search|dwnlded|evicted|| number|dwnlded|\n",
      "\t---------------------------------------------------------------------\n",
      "\t|      default     |   3   |   0   |   0   |   0   ||   2   |   0   |\n",
      "\t---------------------------------------------------------------------\n",
      ":: retrieving :: org.apache.spark#spark-submit-parent-d3643721-3d7f-46ee-ba9f-e016e5d25938\n",
      "\tconfs: [default]\n",
      "\t0 artifacts copied, 2 already retrieved (0kB/16ms)\n",
      "Setting default log level to \"WARN\".\n",
      "To adjust logging level use sc.setLogLevel(newLevel). For SparkR, use setLogLevel(newLevel).\n",
      "25/03/06 04:24:20 WARN Utils: Service 'SparkUI' could not bind on port 4040. Attempting port 4041.\n",
      "25/03/06 04:24:20 WARN Utils: Service 'SparkUI' could not bind on port 4041. Attempting port 4042.\n"
     ]
    }
   ],
   "source": [
    "from pyspark.sql import SparkSession\n",
    "from pyspark.sql import functions as F\n",
    "\n",
    "\n",
    "# Initialize Spark Session with MySQL JDBC Driver\n",
    "spark = SparkSession.builder.master('local[2]').appName('dataframe-Tranform-demo').config(\"spark.jars.packages\", \"mysql:mysql-connector-java:8.0.33\").getOrCreate()\n",
    "\n",
    "#df = spark.read.csv('s3://feb2025-training-bucket/data/5m-Sales-Records.csv', header = True)\n",
    "#df = spark.read.csv('/mnt/s3_feb2025/data/5m-Sales-Records.csv', header = True)\n",
    "#df = spark.read.csv('abfss://4afe1d84-eaf5-405f-a28b-03b576203110@onelake.dfs.fabric.microsoft.com/bb6f7778-293e-4c55-8576-e25b56eddb04/Files/5m-Sales-Records.csv', header = True)\n"
   ]
  },
  {
   "cell_type": "code",
   "execution_count": 3,
   "metadata": {},
   "outputs": [
    {
     "name": "stderr",
     "output_type": "stream",
     "text": [
      "                                                                                \r"
     ]
    },
    {
     "name": "stdout",
     "output_type": "stream",
     "text": [
      "root\n",
      " |-- Region: string (nullable = true)\n",
      " |-- Country: string (nullable = true)\n",
      " |-- Item Type: string (nullable = true)\n",
      " |-- Sales Channel: string (nullable = true)\n",
      " |-- Order Priority: string (nullable = true)\n",
      " |-- Order Date: string (nullable = true)\n",
      " |-- Order ID: string (nullable = true)\n",
      " |-- Ship Date: string (nullable = true)\n",
      " |-- Units Sold: string (nullable = true)\n",
      " |-- Unit Price: string (nullable = true)\n",
      " |-- Unit Cost: string (nullable = true)\n",
      " |-- Total Revenue: string (nullable = true)\n",
      " |-- Total Cost: string (nullable = true)\n",
      " |-- Total Profit: string (nullable = true)\n",
      "\n",
      "+--------------------+-------+---------------+-------------+--------------+----------+---------+---------+----------+----------+---------+-------------+----------+------------+\n",
      "|              Region|Country|      Item Type|Sales Channel|Order Priority|Order Date| Order ID|Ship Date|Units Sold|Unit Price|Unit Cost|Total Revenue|Total Cost|Total Profit|\n",
      "+--------------------+-------+---------------+-------------+--------------+----------+---------+---------+----------+----------+---------+-------------+----------+------------+\n",
      "|Australia and Oce...|  Palau|Office Supplies|       Online|             H|  3/6/2016|517073523|3/26/2016|      2401|    651.21|   524.96|   1563555.21|1260428.96|   303126.25|\n",
      "|              Europe| Poland|      Beverages|       Online|             L| 4/18/2010|380507028|5/26/2010|      9340|     47.45|    31.79|    443183.00| 296918.60|   146264.40|\n",
      "|       North America| Canada|         Cereal|       Online|             M|  1/8/2015|504055583|1/31/2015|       103|    205.70|   117.11|     21187.10|  12062.33|     9124.77|\n",
      "|              Europe|Belarus|         Snacks|       Online|             C| 1/19/2014|954955518|2/27/2014|      1414|    152.58|    97.44|    215748.12| 137780.16|    77967.96|\n",
      "|Middle East and N...|   Oman|         Cereal|      Offline|             H| 4/26/2019|970755660| 6/2/2019|      7027|    205.70|   117.11|   1445453.90| 822931.97|   622521.93|\n",
      "+--------------------+-------+---------------+-------------+--------------+----------+---------+---------+----------+----------+---------+-------------+----------+------------+\n",
      "only showing top 5 rows\n",
      "\n"
     ]
    }
   ],
   "source": [
    "df = spark.read.csv('data/5m-Sales-Records.csv', header = True)\n",
    "df.printSchema()\n",
    "df.show(5)"
   ]
  },
  {
   "cell_type": "code",
   "execution_count": 4,
   "metadata": {
    "application/vnd.databricks.v1+cell": {
     "cellMetadata": {
      "byteLimit": 2048000,
      "rowLimit": 10000
     },
     "inputWidgets": {},
     "nuid": "29cd804a-c165-4948-966e-da03083e8994",
     "showTitle": false,
     "tableResultSettingsMap": {},
     "title": ""
    }
   },
   "outputs": [
    {
     "name": "stdout",
     "output_type": "stream",
     "text": [
      "root\n",
      " |-- Region: string (nullable = true)\n",
      " |-- Country: string (nullable = true)\n",
      " |-- Item_Type: string (nullable = true)\n",
      " |-- Sales_Channel: string (nullable = true)\n",
      " |-- Order_Priority: string (nullable = true)\n",
      " |-- Order_Date: string (nullable = true)\n",
      " |-- Order_ID: string (nullable = true)\n",
      " |-- Ship_Date: string (nullable = true)\n",
      " |-- Units_Sold: string (nullable = true)\n",
      " |-- Unit_Price: string (nullable = true)\n",
      " |-- Unit_Cost: string (nullable = true)\n",
      " |-- Total_Revenue: string (nullable = true)\n",
      " |-- Total_Cost: string (nullable = true)\n",
      " |-- Total_Profit: string (nullable = true)\n",
      "\n"
     ]
    }
   ],
   "source": [
    "for col_name in df.columns:\n",
    "    new_col_name = col_name.replace(\" \", \"_\")\n",
    "    df = df.withColumnRenamed(col_name, new_col_name)\n",
    "df.createOrReplaceTempView(\"salesdata\")\n",
    "df.printSchema()"
   ]
  },
  {
   "cell_type": "markdown",
   "metadata": {},
   "source": [
    "#### 1. Casting Data Types"
   ]
  },
  {
   "cell_type": "code",
   "execution_count": 5,
   "metadata": {},
   "outputs": [
    {
     "name": "stdout",
     "output_type": "stream",
     "text": [
      "+--------------------+------------+---------------+-------------+--------------+----------+---------+----------+----------+----------+---------+-------------+----------+------------+\n",
      "|              Region|     Country|      Item_Type|Sales_Channel|Order_Priority|Order_Date| Order_ID| Ship_Date|Units_Sold|Unit_Price|Unit_Cost|Total_Revenue|Total_Cost|Total_Profit|\n",
      "+--------------------+------------+---------------+-------------+--------------+----------+---------+----------+----------+----------+---------+-------------+----------+------------+\n",
      "|Australia and Oce...|       Palau|Office Supplies|       Online|             H|  3/6/2016|517073523| 3/26/2016|      2401|    651.21|   524.96|   1563555.21|1260428.96|   303126.25|\n",
      "|              Europe|      Poland|      Beverages|       Online|             L| 4/18/2010|380507028| 5/26/2010|      9340|     47.45|    31.79|     443183.0|  296918.6|    146264.4|\n",
      "|       North America|      Canada|         Cereal|       Online|             M|  1/8/2015|504055583| 1/31/2015|       103|     205.7|   117.11|      21187.1|  12062.33|     9124.77|\n",
      "|              Europe|     Belarus|         Snacks|       Online|             C| 1/19/2014|954955518| 2/27/2014|      1414|    152.58|    97.44|    215748.12| 137780.16|    77967.96|\n",
      "|Middle East and N...|        Oman|         Cereal|      Offline|             H| 4/26/2019|970755660|  6/2/2019|      7027|     205.7|   117.11|    1445453.9| 822931.97|   622521.93|\n",
      "|  Sub-Saharan Africa|Burkina Faso|Office Supplies|       Online|             C|  3/3/2012|309317338|  4/5/2012|      2729|    651.21|   524.96|   1777152.09|1432615.84|   344536.25|\n",
      "|              Europe|  Montenegro|  Personal Care|       Online|             H|11/24/2012|598814380|12/25/2012|      1337|     81.73|    56.67|    109273.01|  75767.79|    33505.22|\n",
      "|Middle East and N...|  Azerbaijan|      Cosmetics|      Offline|             M| 3/18/2011|387733113|  5/5/2011|      7699|     437.2|   263.33|    3366002.8|2027377.67|  1338625.13|\n",
      "|  Sub-Saharan Africa| South Sudan|        Clothes|      Offline|             C| 5/10/2014|994872367| 6/17/2014|      3696|    109.28|    35.84|    403898.88| 132464.64|   271434.24|\n",
      "|       North America|   Greenland|  Personal Care|       Online|             C| 5/25/2020|659343469| 6/14/2020|      3239|     81.73|    56.67|    264723.47| 183554.13|    81169.34|\n",
      "|              Europe|    Portugal|      Cosmetics|       Online|             M|11/12/2012|390570247|11/13/2012|      7270|     437.2|   263.33|    3178444.0| 1914409.1|   1264034.9|\n",
      "|  Sub-Saharan Africa|Sierra Leone|        Clothes|      Offline|             C| 7/25/2019|818289029| 7/27/2019|      8763|    109.28|    35.84|    957620.64| 314065.92|   643554.72|\n",
      "|              Europe|     Germany|  Personal Care|      Offline|             H|12/25/2010|842548644| 1/24/2011|      7722|     81.73|    56.67|    631119.06| 437605.74|   193513.32|\n",
      "|              Europe|  Montenegro|  Personal Care|      Offline|             L|  8/3/2012|783710420| 8/10/2012|      6184|     81.73|    56.67|    505418.32| 350447.28|   154971.04|\n",
      "|                Asia|  Bangladesh|         Cereal|      Offline|             L| 12/3/2013|132448184| 1/15/2014|      3216|     205.7|   117.11|     661531.2| 376625.76|   284905.44|\n",
      "|  Sub-Saharan Africa|  Mauritius |         Snacks|       Online|             M| 9/22/2016|699748265| 10/3/2016|      9917|    152.58|    97.44|   1513135.86| 966312.48|   546823.38|\n",
      "|                Asia|  Kyrgyzstan|         Snacks|      Offline|             H|11/22/2018|766909492|12/15/2018|      4416|    152.58|    97.44|    673793.28| 430295.04|   243498.24|\n",
      "|  Sub-Saharan Africa|  Madagascar|        Clothes|       Online|             C|10/27/2019|935543191|10/29/2019|      6875|    109.28|    35.84|     751300.0|  246400.0|    504900.0|\n",
      "|              Europe|     Romania|           Meat|       Online|             M| 1/25/2015|977573192|  2/7/2015|      4486|    421.89|   364.69|   1892598.54|1635999.34|    256599.2|\n",
      "|              Europe|       Malta|  Personal Care|      Offline|             H| 5/21/2012|285235822| 6/22/2012|      6473|     81.73|    56.67|    529038.29| 366824.91|   162213.38|\n",
      "+--------------------+------------+---------------+-------------+--------------+----------+---------+----------+----------+----------+---------+-------------+----------+------------+\n",
      "only showing top 20 rows\n",
      "\n",
      "root\n",
      " |-- Region: string (nullable = true)\n",
      " |-- Country: string (nullable = true)\n",
      " |-- Item_Type: string (nullable = true)\n",
      " |-- Sales_Channel: string (nullable = true)\n",
      " |-- Order_Priority: string (nullable = true)\n",
      " |-- Order_Date: string (nullable = true)\n",
      " |-- Order_ID: integer (nullable = true)\n",
      " |-- Ship_Date: string (nullable = true)\n",
      " |-- Units_Sold: integer (nullable = true)\n",
      " |-- Unit_Price: double (nullable = true)\n",
      " |-- Unit_Cost: double (nullable = true)\n",
      " |-- Total_Revenue: double (nullable = true)\n",
      " |-- Total_Cost: double (nullable = true)\n",
      " |-- Total_Profit: double (nullable = true)\n",
      "\n"
     ]
    }
   ],
   "source": [
    "\n",
    "\n",
    "# Cast columns to the desired data types\n",
    "df_casted = df \\\n",
    "    .withColumn(\"Order_ID\", F.col(\"Order_ID\").cast(\"int\")) \\\n",
    "    .withColumn(\"Units_Sold\", F.col(\"Units_Sold\").cast(\"int\")) \\\n",
    "    .withColumn(\"Unit_Price\", F.col(\"Unit_Price\").cast(\"double\")) \\\n",
    "    .withColumn(\"Unit_Cost\", F.col(\"Unit_Cost\").cast(\"double\")) \\\n",
    "    .withColumn(\"Total_Revenue\", F.col(\"Total_Revenue\").cast(\"double\")) \\\n",
    "    .withColumn(\"Total_Cost\", F.col(\"Total_Cost\").cast(\"double\")) \\\n",
    "    .withColumn(\"Total_Profit\", F.col(\"Total_Profit\").cast(\"double\"))\n",
    "\n",
    "# Show the updated DataFrame\n",
    "df_casted.show()\n",
    "\n",
    "# Print the schema to verify the changes\n",
    "df_casted.printSchema()\n"
   ]
  },
  {
   "cell_type": "markdown",
   "metadata": {
    "application/vnd.databricks.v1+cell": {
     "cellMetadata": {},
     "inputWidgets": {},
     "nuid": "3a291e2b-2b72-49bf-808b-5cada50814eb",
     "showTitle": false,
     "tableResultSettingsMap": {},
     "title": ""
    }
   },
   "source": [
    "#### 1. Select Specific Columns"
   ]
  },
  {
   "cell_type": "code",
   "execution_count": 6,
   "metadata": {
    "application/vnd.databricks.v1+cell": {
     "cellMetadata": {
      "byteLimit": 2048000,
      "implicitDf": true,
      "rowLimit": 10000
     },
     "inputWidgets": {},
     "nuid": "2af81f2e-9ad1-4601-baac-58d4aeb08519",
     "showTitle": false,
     "tableResultSettingsMap": {},
     "title": ""
    }
   },
   "outputs": [
    {
     "name": "stdout",
     "output_type": "stream",
     "text": [
      "+--------------------+------------+----------+\n",
      "|              Region|     Country|Order_Date|\n",
      "+--------------------+------------+----------+\n",
      "|Australia and Oce...|       Palau|      null|\n",
      "|              Europe|      Poland|      null|\n",
      "|       North America|      Canada|      null|\n",
      "|              Europe|     Belarus|      null|\n",
      "|Middle East and N...|        Oman|      null|\n",
      "|  Sub-Saharan Africa|Burkina Faso|      null|\n",
      "|              Europe|  Montenegro|      null|\n",
      "|Middle East and N...|  Azerbaijan|      null|\n",
      "|  Sub-Saharan Africa| South Sudan|      null|\n",
      "|       North America|   Greenland|      null|\n",
      "|              Europe|    Portugal|      null|\n",
      "|  Sub-Saharan Africa|Sierra Leone|      null|\n",
      "|              Europe|     Germany|      null|\n",
      "|              Europe|  Montenegro|      null|\n",
      "|                Asia|  Bangladesh|      null|\n",
      "|  Sub-Saharan Africa|  Mauritius |      null|\n",
      "|                Asia|  Kyrgyzstan|      null|\n",
      "|  Sub-Saharan Africa|  Madagascar|      null|\n",
      "|              Europe|     Romania|      null|\n",
      "|              Europe|       Malta|      null|\n",
      "+--------------------+------------+----------+\n",
      "only showing top 20 rows\n",
      "\n"
     ]
    }
   ],
   "source": [
    "\n",
    "df.select(\"Region\", \"Country\", F.date_format(\"Order_Date\", \"dd-MM-yyyy\").alias(\"Order_Date\")).show()"
   ]
  },
  {
   "cell_type": "markdown",
   "metadata": {
    "application/vnd.databricks.v1+cell": {
     "cellMetadata": {},
     "inputWidgets": {},
     "nuid": "98268f20-e8c4-436b-a476-642e6c837e0f",
     "showTitle": false,
     "tableResultSettingsMap": {},
     "title": ""
    }
   },
   "source": [
    "#### 2. Filter Rows (Condition-Based)"
   ]
  },
  {
   "cell_type": "code",
   "execution_count": 7,
   "metadata": {
    "application/vnd.databricks.v1+cell": {
     "cellMetadata": {
      "byteLimit": 2048000,
      "implicitDf": true,
      "rowLimit": 10000
     },
     "inputWidgets": {},
     "nuid": "8caee364-6ac7-408f-98b3-10088d2616c1",
     "showTitle": false,
     "tableResultSettingsMap": {},
     "title": ""
    }
   },
   "outputs": [
    {
     "name": "stdout",
     "output_type": "stream",
     "text": [
      "+--------------------+---------+-------------+-------------+--------------+----------+---------+---------+----------+----------+---------+-------------+----------+------------+\n",
      "|              Region|  Country|    Item_Type|Sales_Channel|Order_Priority|Order_Date| Order_ID|Ship_Date|Units_Sold|Unit_Price|Unit_Cost|Total_Revenue|Total_Cost|Total_Profit|\n",
      "+--------------------+---------+-------------+-------------+--------------+----------+---------+---------+----------+----------+---------+-------------+----------+------------+\n",
      "|Australia and Oce...|Australia|    Beverages|      Offline|             C|12/14/2018|316851985| 1/3/2019|      2398|     47.45|    31.79|    113785.10|  76232.42|    37552.68|\n",
      "|Australia and Oce...|Australia|         Meat|      Offline|             L| 1/31/2019|611135375|2/16/2019|      7393|    421.89|   364.69|   3119032.77|2696153.17|   422879.60|\n",
      "|Australia and Oce...|Australia|      Clothes|      Offline|             L| 5/29/2015|734939706| 6/2/2015|      3846|    109.28|    35.84|    420290.88| 137840.64|   282450.24|\n",
      "|Australia and Oce...|Australia|   Vegetables|      Offline|             H| 9/27/2019|848441779|10/6/2019|      1632|    154.06|    90.93|    251425.92| 148397.76|   103028.16|\n",
      "|Australia and Oce...|Australia|Personal Care|       Online|             M| 12/2/2016|302788197| 1/6/2017|       611|     81.73|    56.67|     49937.03|  34625.37|    15311.66|\n",
      "+--------------------+---------+-------------+-------------+--------------+----------+---------+---------+----------+----------+---------+-------------+----------+------------+\n",
      "\n"
     ]
    }
   ],
   "source": [
    "df.filter(df[\"Country\"] == \"Australia\").limit(5).show()"
   ]
  },
  {
   "cell_type": "markdown",
   "metadata": {
    "application/vnd.databricks.v1+cell": {
     "cellMetadata": {},
     "inputWidgets": {},
     "nuid": "773b63b9-631e-46c6-8704-3fe6b5c7942e",
     "showTitle": false,
     "tableResultSettingsMap": {},
     "title": ""
    }
   },
   "source": [
    "#### 3. Adding New Columns"
   ]
  },
  {
   "cell_type": "code",
   "execution_count": 8,
   "metadata": {
    "application/vnd.databricks.v1+cell": {
     "cellMetadata": {
      "byteLimit": 2048000,
      "rowLimit": 10000
     },
     "inputWidgets": {},
     "nuid": "8fe4040d-72dd-4ada-b130-02cc422d087e",
     "showTitle": false,
     "tableResultSettingsMap": {},
     "title": ""
    }
   },
   "outputs": [
    {
     "name": "stdout",
     "output_type": "stream",
     "text": [
      "+--------------------+-------+---------------+-------------+--------------+----------+---------+---------+----------+----------+---------+-------------+----------+------------+------+-----------+\n",
      "|              Region|Country|      Item_Type|Sales_Channel|Order_Priority|Order_Date| Order_ID|Ship_Date|Units_Sold|Unit_Price|Unit_Cost|Total_Revenue|Total_Cost|Total_Profit|Status|currentDate|\n",
      "+--------------------+-------+---------------+-------------+--------------+----------+---------+---------+----------+----------+---------+-------------+----------+------------+------+-----------+\n",
      "|Australia and Oce...|  Palau|Office Supplies|       Online|             H|  3/6/2016|517073523|3/26/2016|      2401|    651.21|   524.96|   1563555.21|1260428.96|   303126.25|     0| 2025-03-06|\n",
      "|              Europe| Poland|      Beverages|       Online|             L| 4/18/2010|380507028|5/26/2010|      9340|     47.45|    31.79|    443183.00| 296918.60|   146264.40|     0| 2025-03-06|\n",
      "+--------------------+-------+---------------+-------------+--------------+----------+---------+---------+----------+----------+---------+-------------+----------+------------+------+-----------+\n",
      "only showing top 2 rows\n",
      "\n"
     ]
    }
   ],
   "source": [
    "\n",
    "\n",
    "df = df.withColumn(\"Status\", F.lit(0)).withColumn(\"currentDate\",F.lit( F.current_date()))\n",
    "\n",
    "#df.printSchema()\n",
    "df.show(2)"
   ]
  },
  {
   "cell_type": "code",
   "execution_count": null,
   "metadata": {
    "application/vnd.databricks.v1+cell": {
     "cellMetadata": {
      "byteLimit": 2048000,
      "implicitDf": true,
      "rowLimit": 10000
     },
     "inputWidgets": {},
     "nuid": "842a83b2-4983-48a8-a5f9-79283d55da82",
     "showTitle": false,
     "tableResultSettingsMap": {},
     "title": ""
    }
   },
   "outputs": [],
   "source": [
    "df = df.withColumn(\"Profit_Per_Unit\", df[\"Total_Profit\"] / df[\"Units_Sold\"])\n",
    "df.printSchema()"
   ]
  },
  {
   "cell_type": "code",
   "execution_count": null,
   "metadata": {
    "application/vnd.databricks.v1+cell": {
     "cellMetadata": {},
     "inputWidgets": {},
     "nuid": "f5545b7d-a306-459a-9aa7-374c4874c5c1",
     "showTitle": false,
     "tableResultSettingsMap": {},
     "title": ""
    }
   },
   "outputs": [],
   "source": []
  },
  {
   "cell_type": "markdown",
   "metadata": {
    "application/vnd.databricks.v1+cell": {
     "cellMetadata": {},
     "inputWidgets": {},
     "nuid": "5a2094ba-ae7b-4fa8-a668-fdb653e70aa9",
     "showTitle": false,
     "tableResultSettingsMap": {},
     "title": ""
    }
   },
   "source": [
    "#### 4. Renaming Columns"
   ]
  },
  {
   "cell_type": "code",
   "execution_count": 9,
   "metadata": {
    "application/vnd.databricks.v1+cell": {
     "cellMetadata": {
      "byteLimit": 2048000,
      "implicitDf": true,
      "rowLimit": 10000
     },
     "inputWidgets": {},
     "nuid": "84f5ff2f-a0b3-4743-9558-1c68f5363bd3",
     "showTitle": false,
     "tableResultSettingsMap": {},
     "title": ""
    }
   },
   "outputs": [
    {
     "name": "stdout",
     "output_type": "stream",
     "text": [
      "+--------------------+------------+---------------+-------------+--------------+----------+---------+----------+----------+----------+---------+----------+----------+------------+------+-----------+\n",
      "|              Region|     Country|      Item_Type|Sales_Channel|Order_Priority|Order_Date| Order_ID| Ship_Date|Units_Sold|Unit_Price|Unit_Cost|   Revenue|Total_Cost|Total_Profit|Status|currentDate|\n",
      "+--------------------+------------+---------------+-------------+--------------+----------+---------+----------+----------+----------+---------+----------+----------+------------+------+-----------+\n",
      "|Australia and Oce...|       Palau|Office Supplies|       Online|             H|  3/6/2016|517073523| 3/26/2016|      2401|    651.21|   524.96|1563555.21|1260428.96|   303126.25|     0| 2025-03-06|\n",
      "|              Europe|      Poland|      Beverages|       Online|             L| 4/18/2010|380507028| 5/26/2010|      9340|     47.45|    31.79| 443183.00| 296918.60|   146264.40|     0| 2025-03-06|\n",
      "|       North America|      Canada|         Cereal|       Online|             M|  1/8/2015|504055583| 1/31/2015|       103|    205.70|   117.11|  21187.10|  12062.33|     9124.77|     0| 2025-03-06|\n",
      "|              Europe|     Belarus|         Snacks|       Online|             C| 1/19/2014|954955518| 2/27/2014|      1414|    152.58|    97.44| 215748.12| 137780.16|    77967.96|     0| 2025-03-06|\n",
      "|Middle East and N...|        Oman|         Cereal|      Offline|             H| 4/26/2019|970755660|  6/2/2019|      7027|    205.70|   117.11|1445453.90| 822931.97|   622521.93|     0| 2025-03-06|\n",
      "|  Sub-Saharan Africa|Burkina Faso|Office Supplies|       Online|             C|  3/3/2012|309317338|  4/5/2012|      2729|    651.21|   524.96|1777152.09|1432615.84|   344536.25|     0| 2025-03-06|\n",
      "|              Europe|  Montenegro|  Personal Care|       Online|             H|11/24/2012|598814380|12/25/2012|      1337|     81.73|    56.67| 109273.01|  75767.79|    33505.22|     0| 2025-03-06|\n",
      "|Middle East and N...|  Azerbaijan|      Cosmetics|      Offline|             M| 3/18/2011|387733113|  5/5/2011|      7699|    437.20|   263.33|3366002.80|2027377.67|  1338625.13|     0| 2025-03-06|\n",
      "|  Sub-Saharan Africa| South Sudan|        Clothes|      Offline|             C| 5/10/2014|994872367| 6/17/2014|      3696|    109.28|    35.84| 403898.88| 132464.64|   271434.24|     0| 2025-03-06|\n",
      "|       North America|   Greenland|  Personal Care|       Online|             C| 5/25/2020|659343469| 6/14/2020|      3239|     81.73|    56.67| 264723.47| 183554.13|    81169.34|     0| 2025-03-06|\n",
      "|              Europe|    Portugal|      Cosmetics|       Online|             M|11/12/2012|390570247|11/13/2012|      7270|    437.20|   263.33|3178444.00|1914409.10|  1264034.90|     0| 2025-03-06|\n",
      "|  Sub-Saharan Africa|Sierra Leone|        Clothes|      Offline|             C| 7/25/2019|818289029| 7/27/2019|      8763|    109.28|    35.84| 957620.64| 314065.92|   643554.72|     0| 2025-03-06|\n",
      "|              Europe|     Germany|  Personal Care|      Offline|             H|12/25/2010|842548644| 1/24/2011|      7722|     81.73|    56.67| 631119.06| 437605.74|   193513.32|     0| 2025-03-06|\n",
      "|              Europe|  Montenegro|  Personal Care|      Offline|             L|  8/3/2012|783710420| 8/10/2012|      6184|     81.73|    56.67| 505418.32| 350447.28|   154971.04|     0| 2025-03-06|\n",
      "|                Asia|  Bangladesh|         Cereal|      Offline|             L| 12/3/2013|132448184| 1/15/2014|      3216|    205.70|   117.11| 661531.20| 376625.76|   284905.44|     0| 2025-03-06|\n",
      "|  Sub-Saharan Africa|  Mauritius |         Snacks|       Online|             M| 9/22/2016|699748265| 10/3/2016|      9917|    152.58|    97.44|1513135.86| 966312.48|   546823.38|     0| 2025-03-06|\n",
      "|                Asia|  Kyrgyzstan|         Snacks|      Offline|             H|11/22/2018|766909492|12/15/2018|      4416|    152.58|    97.44| 673793.28| 430295.04|   243498.24|     0| 2025-03-06|\n",
      "|  Sub-Saharan Africa|  Madagascar|        Clothes|       Online|             C|10/27/2019|935543191|10/29/2019|      6875|    109.28|    35.84| 751300.00| 246400.00|   504900.00|     0| 2025-03-06|\n",
      "|              Europe|     Romania|           Meat|       Online|             M| 1/25/2015|977573192|  2/7/2015|      4486|    421.89|   364.69|1892598.54|1635999.34|   256599.20|     0| 2025-03-06|\n",
      "|              Europe|       Malta|  Personal Care|      Offline|             H| 5/21/2012|285235822| 6/22/2012|      6473|     81.73|    56.67| 529038.29| 366824.91|   162213.38|     0| 2025-03-06|\n",
      "+--------------------+------------+---------------+-------------+--------------+----------+---------+----------+----------+----------+---------+----------+----------+------------+------+-----------+\n",
      "only showing top 20 rows\n",
      "\n"
     ]
    }
   ],
   "source": [
    "dfnew = df.withColumnRenamed(\"Total_Revenue\", \"Revenue\")\n",
    "dfnew.show()"
   ]
  },
  {
   "cell_type": "markdown",
   "metadata": {
    "application/vnd.databricks.v1+cell": {
     "cellMetadata": {},
     "inputWidgets": {},
     "nuid": "2a077833-1e7a-470e-8b1c-2fa788ab9513",
     "showTitle": false,
     "tableResultSettingsMap": {},
     "title": ""
    }
   },
   "source": [
    "#### 5. Dropping Columns"
   ]
  },
  {
   "cell_type": "code",
   "execution_count": 11,
   "metadata": {
    "application/vnd.databricks.v1+cell": {
     "cellMetadata": {
      "byteLimit": 2048000,
      "implicitDf": true,
      "rowLimit": 10000
     },
     "inputWidgets": {},
     "nuid": "d0ff2c13-e739-4b06-a7b0-5009f674204a",
     "showTitle": false,
     "tableResultSettingsMap": {},
     "title": ""
    }
   },
   "outputs": [
    {
     "name": "stdout",
     "output_type": "stream",
     "text": [
      "+--------------------+------------+---------------+-------------+----------+---------+----------+----------+----------+---------+-------------+----------+------------+-----------+\n",
      "|              Region|     Country|      Item_Type|Sales_Channel|Order_Date| Order_ID| Ship_Date|Units_Sold|Unit_Price|Unit_Cost|Total_Revenue|Total_Cost|Total_Profit|currentDate|\n",
      "+--------------------+------------+---------------+-------------+----------+---------+----------+----------+----------+---------+-------------+----------+------------+-----------+\n",
      "|Australia and Oce...|       Palau|Office Supplies|       Online|  3/6/2016|517073523| 3/26/2016|      2401|    651.21|   524.96|   1563555.21|1260428.96|   303126.25| 2025-03-06|\n",
      "|              Europe|      Poland|      Beverages|       Online| 4/18/2010|380507028| 5/26/2010|      9340|     47.45|    31.79|    443183.00| 296918.60|   146264.40| 2025-03-06|\n",
      "|       North America|      Canada|         Cereal|       Online|  1/8/2015|504055583| 1/31/2015|       103|    205.70|   117.11|     21187.10|  12062.33|     9124.77| 2025-03-06|\n",
      "|              Europe|     Belarus|         Snacks|       Online| 1/19/2014|954955518| 2/27/2014|      1414|    152.58|    97.44|    215748.12| 137780.16|    77967.96| 2025-03-06|\n",
      "|Middle East and N...|        Oman|         Cereal|      Offline| 4/26/2019|970755660|  6/2/2019|      7027|    205.70|   117.11|   1445453.90| 822931.97|   622521.93| 2025-03-06|\n",
      "|  Sub-Saharan Africa|Burkina Faso|Office Supplies|       Online|  3/3/2012|309317338|  4/5/2012|      2729|    651.21|   524.96|   1777152.09|1432615.84|   344536.25| 2025-03-06|\n",
      "|              Europe|  Montenegro|  Personal Care|       Online|11/24/2012|598814380|12/25/2012|      1337|     81.73|    56.67|    109273.01|  75767.79|    33505.22| 2025-03-06|\n",
      "|Middle East and N...|  Azerbaijan|      Cosmetics|      Offline| 3/18/2011|387733113|  5/5/2011|      7699|    437.20|   263.33|   3366002.80|2027377.67|  1338625.13| 2025-03-06|\n",
      "|  Sub-Saharan Africa| South Sudan|        Clothes|      Offline| 5/10/2014|994872367| 6/17/2014|      3696|    109.28|    35.84|    403898.88| 132464.64|   271434.24| 2025-03-06|\n",
      "|       North America|   Greenland|  Personal Care|       Online| 5/25/2020|659343469| 6/14/2020|      3239|     81.73|    56.67|    264723.47| 183554.13|    81169.34| 2025-03-06|\n",
      "|              Europe|    Portugal|      Cosmetics|       Online|11/12/2012|390570247|11/13/2012|      7270|    437.20|   263.33|   3178444.00|1914409.10|  1264034.90| 2025-03-06|\n",
      "|  Sub-Saharan Africa|Sierra Leone|        Clothes|      Offline| 7/25/2019|818289029| 7/27/2019|      8763|    109.28|    35.84|    957620.64| 314065.92|   643554.72| 2025-03-06|\n",
      "|              Europe|     Germany|  Personal Care|      Offline|12/25/2010|842548644| 1/24/2011|      7722|     81.73|    56.67|    631119.06| 437605.74|   193513.32| 2025-03-06|\n",
      "|              Europe|  Montenegro|  Personal Care|      Offline|  8/3/2012|783710420| 8/10/2012|      6184|     81.73|    56.67|    505418.32| 350447.28|   154971.04| 2025-03-06|\n",
      "|                Asia|  Bangladesh|         Cereal|      Offline| 12/3/2013|132448184| 1/15/2014|      3216|    205.70|   117.11|    661531.20| 376625.76|   284905.44| 2025-03-06|\n",
      "|  Sub-Saharan Africa|  Mauritius |         Snacks|       Online| 9/22/2016|699748265| 10/3/2016|      9917|    152.58|    97.44|   1513135.86| 966312.48|   546823.38| 2025-03-06|\n",
      "|                Asia|  Kyrgyzstan|         Snacks|      Offline|11/22/2018|766909492|12/15/2018|      4416|    152.58|    97.44|    673793.28| 430295.04|   243498.24| 2025-03-06|\n",
      "|  Sub-Saharan Africa|  Madagascar|        Clothes|       Online|10/27/2019|935543191|10/29/2019|      6875|    109.28|    35.84|    751300.00| 246400.00|   504900.00| 2025-03-06|\n",
      "|              Europe|     Romania|           Meat|       Online| 1/25/2015|977573192|  2/7/2015|      4486|    421.89|   364.69|   1892598.54|1635999.34|   256599.20| 2025-03-06|\n",
      "|              Europe|       Malta|  Personal Care|      Offline| 5/21/2012|285235822| 6/22/2012|      6473|     81.73|    56.67|    529038.29| 366824.91|   162213.38| 2025-03-06|\n",
      "+--------------------+------------+---------------+-------------+----------+---------+----------+----------+----------+---------+-------------+----------+------------+-----------+\n",
      "only showing top 20 rows\n",
      "\n"
     ]
    }
   ],
   "source": [
    "df = df.drop(\"Order_Priority\").drop(\"Status\")\n",
    "df.show()"
   ]
  },
  {
   "cell_type": "markdown",
   "metadata": {
    "application/vnd.databricks.v1+cell": {
     "cellMetadata": {},
     "inputWidgets": {},
     "nuid": "6955cb08-7c50-4512-bc50-bf9b29a7ca67",
     "showTitle": false,
     "tableResultSettingsMap": {},
     "title": ""
    }
   },
   "source": [
    "#### 6. Handling Missing Data"
   ]
  },
  {
   "cell_type": "code",
   "execution_count": 12,
   "metadata": {
    "application/vnd.databricks.v1+cell": {
     "cellMetadata": {
      "byteLimit": 2048000,
      "implicitDf": true,
      "rowLimit": 10000
     },
     "inputWidgets": {},
     "nuid": "ffda1610-03ba-4d62-a597-81b38c8a01ae",
     "showTitle": false,
     "tableResultSettingsMap": {},
     "title": ""
    }
   },
   "outputs": [
    {
     "name": "stderr",
     "output_type": "stream",
     "text": [
      "                                                                                \r"
     ]
    },
    {
     "data": {
      "text/plain": [
       "5000000"
      ]
     },
     "execution_count": 12,
     "metadata": {},
     "output_type": "execute_result"
    }
   ],
   "source": [
    "df_cleaned = df.na.drop()\n",
    "df_cleaned.count()\n",
    "\n"
   ]
  },
  {
   "cell_type": "code",
   "execution_count": 13,
   "metadata": {
    "application/vnd.databricks.v1+cell": {
     "cellMetadata": {
      "byteLimit": 2048000,
      "implicitDf": true,
      "rowLimit": 10000
     },
     "inputWidgets": {},
     "nuid": "42aaf33d-a0ee-47fd-910f-3d7c227293c0",
     "showTitle": false,
     "tableResultSettingsMap": {},
     "title": ""
    }
   },
   "outputs": [
    {
     "name": "stdout",
     "output_type": "stream",
     "text": [
      "+--------------------+------------+---------------+-------------+----------+---------+----------+----------+----------+---------+-------------+----------+------------+-----------+\n",
      "|              Region|     Country|      Item_Type|Sales_Channel|Order_Date| Order_ID| Ship_Date|Units_Sold|Unit_Price|Unit_Cost|Total_Revenue|Total_Cost|Total_Profit|currentDate|\n",
      "+--------------------+------------+---------------+-------------+----------+---------+----------+----------+----------+---------+-------------+----------+------------+-----------+\n",
      "|Australia and Oce...|       Palau|Office Supplies|       Online|  3/6/2016|517073523| 3/26/2016|      2401|    651.21|   524.96|   1563555.21|1260428.96|   303126.25| 2025-03-06|\n",
      "|              Europe|      Poland|      Beverages|       Online| 4/18/2010|380507028| 5/26/2010|      9340|     47.45|    31.79|    443183.00| 296918.60|   146264.40| 2025-03-06|\n",
      "|       North America|      Canada|         Cereal|       Online|  1/8/2015|504055583| 1/31/2015|       103|    205.70|   117.11|     21187.10|  12062.33|     9124.77| 2025-03-06|\n",
      "|              Europe|     Belarus|         Snacks|       Online| 1/19/2014|954955518| 2/27/2014|      1414|    152.58|    97.44|    215748.12| 137780.16|    77967.96| 2025-03-06|\n",
      "|Middle East and N...|        Oman|         Cereal|      Offline| 4/26/2019|970755660|  6/2/2019|      7027|    205.70|   117.11|   1445453.90| 822931.97|   622521.93| 2025-03-06|\n",
      "|  Sub-Saharan Africa|Burkina Faso|Office Supplies|       Online|  3/3/2012|309317338|  4/5/2012|      2729|    651.21|   524.96|   1777152.09|1432615.84|   344536.25| 2025-03-06|\n",
      "|              Europe|  Montenegro|  Personal Care|       Online|11/24/2012|598814380|12/25/2012|      1337|     81.73|    56.67|    109273.01|  75767.79|    33505.22| 2025-03-06|\n",
      "|Middle East and N...|  Azerbaijan|      Cosmetics|      Offline| 3/18/2011|387733113|  5/5/2011|      7699|    437.20|   263.33|   3366002.80|2027377.67|  1338625.13| 2025-03-06|\n",
      "|  Sub-Saharan Africa| South Sudan|        Clothes|      Offline| 5/10/2014|994872367| 6/17/2014|      3696|    109.28|    35.84|    403898.88| 132464.64|   271434.24| 2025-03-06|\n",
      "|       North America|   Greenland|  Personal Care|       Online| 5/25/2020|659343469| 6/14/2020|      3239|     81.73|    56.67|    264723.47| 183554.13|    81169.34| 2025-03-06|\n",
      "|              Europe|    Portugal|      Cosmetics|       Online|11/12/2012|390570247|11/13/2012|      7270|    437.20|   263.33|   3178444.00|1914409.10|  1264034.90| 2025-03-06|\n",
      "|  Sub-Saharan Africa|Sierra Leone|        Clothes|      Offline| 7/25/2019|818289029| 7/27/2019|      8763|    109.28|    35.84|    957620.64| 314065.92|   643554.72| 2025-03-06|\n",
      "|              Europe|     Germany|  Personal Care|      Offline|12/25/2010|842548644| 1/24/2011|      7722|     81.73|    56.67|    631119.06| 437605.74|   193513.32| 2025-03-06|\n",
      "|              Europe|  Montenegro|  Personal Care|      Offline|  8/3/2012|783710420| 8/10/2012|      6184|     81.73|    56.67|    505418.32| 350447.28|   154971.04| 2025-03-06|\n",
      "|                Asia|  Bangladesh|         Cereal|      Offline| 12/3/2013|132448184| 1/15/2014|      3216|    205.70|   117.11|    661531.20| 376625.76|   284905.44| 2025-03-06|\n",
      "|  Sub-Saharan Africa|  Mauritius |         Snacks|       Online| 9/22/2016|699748265| 10/3/2016|      9917|    152.58|    97.44|   1513135.86| 966312.48|   546823.38| 2025-03-06|\n",
      "|                Asia|  Kyrgyzstan|         Snacks|      Offline|11/22/2018|766909492|12/15/2018|      4416|    152.58|    97.44|    673793.28| 430295.04|   243498.24| 2025-03-06|\n",
      "|  Sub-Saharan Africa|  Madagascar|        Clothes|       Online|10/27/2019|935543191|10/29/2019|      6875|    109.28|    35.84|    751300.00| 246400.00|   504900.00| 2025-03-06|\n",
      "|              Europe|     Romania|           Meat|       Online| 1/25/2015|977573192|  2/7/2015|      4486|    421.89|   364.69|   1892598.54|1635999.34|   256599.20| 2025-03-06|\n",
      "|              Europe|       Malta|  Personal Care|      Offline| 5/21/2012|285235822| 6/22/2012|      6473|     81.73|    56.67|    529038.29| 366824.91|   162213.38| 2025-03-06|\n",
      "+--------------------+------------+---------------+-------------+----------+---------+----------+----------+----------+---------+-------------+----------+------------+-----------+\n",
      "only showing top 20 rows\n",
      "\n"
     ]
    }
   ],
   "source": [
    "df_filled = df.na.fill({\"Total_Revenue\": 0})\n",
    "df_filled.show()"
   ]
  },
  {
   "cell_type": "markdown",
   "metadata": {
    "application/vnd.databricks.v1+cell": {
     "cellMetadata": {},
     "inputWidgets": {},
     "nuid": "e01acda3-0ec7-48ae-8fef-3b78e52c77c2",
     "showTitle": false,
     "tableResultSettingsMap": {},
     "title": ""
    }
   },
   "source": [
    "#### 7. Aggregation and Grouping"
   ]
  },
  {
   "cell_type": "code",
   "execution_count": 27,
   "metadata": {},
   "outputs": [
    {
     "name": "stdout",
     "output_type": "stream",
     "text": [
      "root\n",
      " |-- Region: string (nullable = true)\n",
      " |-- Country: string (nullable = true)\n",
      " |-- Item_Type: string (nullable = true)\n",
      " |-- Sales_Channel: string (nullable = true)\n",
      " |-- Order_Date: string (nullable = true)\n",
      " |-- Order_ID: string (nullable = true)\n",
      " |-- Ship_Date: string (nullable = true)\n",
      " |-- Units_Sold: string (nullable = true)\n",
      " |-- Unit_Price: string (nullable = true)\n",
      " |-- Unit_Cost: string (nullable = true)\n",
      " |-- Total_Revenue: double (nullable = true)\n",
      " |-- Total_Cost: string (nullable = true)\n",
      " |-- Total_Profit: string (nullable = true)\n",
      " |-- currentDate: date (nullable = false)\n",
      "\n"
     ]
    }
   ],
   "source": [
    "\n",
    "df= df.withColumn(\"Total_Revenue\", F.col(\"Total_Revenue\").cast(\"double\"))\n",
    "df.printSchema()"
   ]
  },
  {
   "cell_type": "code",
   "execution_count": 28,
   "metadata": {
    "application/vnd.databricks.v1+cell": {
     "cellMetadata": {
      "byteLimit": 2048000,
      "implicitDf": true,
      "rowLimit": 10000
     },
     "inputWidgets": {},
     "nuid": "b845fd0b-b1d0-4bbe-bf3e-421361ecd5f1",
     "showTitle": false,
     "tableResultSettingsMap": {},
     "title": ""
    }
   },
   "outputs": [
    {
     "name": "stderr",
     "output_type": "stream",
     "text": [
      "[Stage 13:==============================================>           (4 + 1) / 5]\r"
     ]
    },
    {
     "name": "stdout",
     "output_type": "stream",
     "text": [
      "+--------------------+------------------------+\n",
      "|             Country|Total_Revenue_by_Country|\n",
      "+--------------------+------------------------+\n",
      "|              Turkey|         3.6078570441E10|\n",
      "|              Angola|         3.5938680403E10|\n",
      "|          East Timor|          3.606126212E10|\n",
      "|             Albania|         3.5926849662E10|\n",
      "|           Nicaragua|         3.5761324107E10|\n",
      "|               China|         3.6012702269E10|\n",
      "|             Somalia|         3.5987560348E10|\n",
      "|             Croatia|         3.6079982499E10|\n",
      "|             Andorra|         3.5973797336E10|\n",
      "|              Norway|         3.5834656122E10|\n",
      "|               Niger|         3.5985414009E10|\n",
      "|             Ireland|          3.607508131E10|\n",
      "|       Liechtenstein|         3.6084261206E10|\n",
      "|           Swaziland|         3.5806411272E10|\n",
      "|Democratic Republ...|         3.5890804111E10|\n",
      "|              Bhutan|         3.6090325133E10|\n",
      "|              Israel|         3.6018502809E10|\n",
      "|            Tunisia |          3.581874535E10|\n",
      "|              Mexico|         3.6057908376E10|\n",
      "|             Armenia|         3.6016109135E10|\n",
      "+--------------------+------------------------+\n",
      "only showing top 20 rows\n",
      "\n"
     ]
    },
    {
     "name": "stderr",
     "output_type": "stream",
     "text": [
      "                                                                                \r"
     ]
    }
   ],
   "source": [
    "\n",
    "df.groupBy(\"Country\").agg(F.sum(\"Total_Revenue\").alias(\"Total_Revenue_by_Country\")).show()"
   ]
  },
  {
   "cell_type": "code",
   "execution_count": null,
   "metadata": {},
   "outputs": [],
   "source": []
  },
  {
   "cell_type": "markdown",
   "metadata": {
    "application/vnd.databricks.v1+cell": {
     "cellMetadata": {},
     "inputWidgets": {},
     "nuid": "ce684e68-4447-4211-85f1-6ad3ccf3300c",
     "showTitle": false,
     "tableResultSettingsMap": {},
     "title": ""
    }
   },
   "source": [
    "#### 8. Sorting"
   ]
  },
  {
   "cell_type": "code",
   "execution_count": 29,
   "metadata": {
    "application/vnd.databricks.v1+cell": {
     "cellMetadata": {
      "byteLimit": 2048000,
      "implicitDf": true,
      "rowLimit": 10000
     },
     "inputWidgets": {},
     "nuid": "19593068-f0f4-4b0b-9c0d-b293997f4c40",
     "showTitle": false,
     "tableResultSettingsMap": {},
     "title": ""
    }
   },
   "outputs": [
    {
     "name": "stderr",
     "output_type": "stream",
     "text": [
      "[Stage 16:==============================================>           (4 + 1) / 5]\r"
     ]
    },
    {
     "name": "stdout",
     "output_type": "stream",
     "text": [
      "+--------------------+--------------------+---------+-------------+----------+---------+----------+----------+----------+---------+-------------+----------+------------+-----------+\n",
      "|              Region|             Country|Item_Type|Sales_Channel|Order_Date| Order_ID| Ship_Date|Units_Sold|Unit_Price|Unit_Cost|Total_Revenue|Total_Cost|Total_Profit|currentDate|\n",
      "+--------------------+--------------------+---------+-------------+----------+---------+----------+----------+----------+---------+-------------+----------+------------+-----------+\n",
      "|              Europe|              Sweden|Household|      Offline| 1/23/2012|668456542|  3/6/2012|     10000|    668.27|   502.54|    6682700.0|5025400.00|  1657300.00| 2025-03-06|\n",
      "|              Europe|              Sweden|Household|      Offline| 1/23/2012|668456542|  3/6/2012|     10000|    668.27|   502.54|    6682700.0|5025400.00|  1657300.00| 2025-03-06|\n",
      "|                Asia|          Kyrgyzstan|Household|       Online| 8/28/2011|336815345| 9/17/2011|     10000|    668.27|   502.54|    6682700.0|5025400.00|  1657300.00| 2025-03-06|\n",
      "|                Asia|            Mongolia|Household|       Online|10/29/2011|624999177|12/11/2011|     10000|    668.27|   502.54|    6682700.0|5025400.00|  1657300.00| 2025-03-06|\n",
      "|              Europe|              Cyprus|Household|       Online| 3/13/2012|179003608| 3/13/2012|     10000|    668.27|   502.54|    6682700.0|5025400.00|  1657300.00| 2025-03-06|\n",
      "|  Sub-Saharan Africa|            Botswana|Household|      Offline| 10/4/2011|869725644|10/17/2011|     10000|    668.27|   502.54|    6682700.0|5025400.00|  1657300.00| 2025-03-06|\n",
      "|  Sub-Saharan Africa|         South Sudan|Household|      Offline|10/17/2011|747362411|11/14/2011|     10000|    668.27|   502.54|    6682700.0|5025400.00|  1657300.00| 2025-03-06|\n",
      "|                Asia|         Philippines|Household|       Online|12/30/2011|913183009| 1/13/2012|     10000|    668.27|   502.54|    6682700.0|5025400.00|  1657300.00| 2025-03-06|\n",
      "|              Europe|             Romania|Household|       Online| 9/22/2011|992088878|11/11/2011|     10000|    668.27|   502.54|    6682700.0|5025400.00|  1657300.00| 2025-03-06|\n",
      "|  Sub-Saharan Africa|            Tanzania|Household|      Offline|12/17/2011|135546243|  2/5/2012|     10000|    668.27|   502.54|    6682700.0|5025400.00|  1657300.00| 2025-03-06|\n",
      "|  Sub-Saharan Africa|             Senegal|Household|       Online| 8/16/2011|459178578| 8/22/2011|     10000|    668.27|   502.54|    6682700.0|5025400.00|  1657300.00| 2025-03-06|\n",
      "|  Sub-Saharan Africa|             Comoros|Household|       Online|  2/5/2012|546093308| 2/12/2012|     10000|    668.27|   502.54|    6682700.0|5025400.00|  1657300.00| 2025-03-06|\n",
      "|Middle East and N...|               Yemen|Household|      Offline|  9/9/2011|214452111|10/14/2011|     10000|    668.27|   502.54|    6682700.0|5025400.00|  1657300.00| 2025-03-06|\n",
      "|              Europe|             Armenia|Household|      Offline|11/10/2011|502635943|11/16/2011|     10000|    668.27|   502.54|    6682700.0|5025400.00|  1657300.00| 2025-03-06|\n",
      "|              Europe|Bosnia and Herzeg...|Household|       Online| 1/11/2012|790819776|  2/8/2012|     10000|    668.27|   502.54|    6682700.0|5025400.00|  1657300.00| 2025-03-06|\n",
      "|                Asia|              Taiwan|Household|      Offline| 2/29/2012|301366841|  4/5/2012|     10000|    668.27|   502.54|    6682700.0|5025400.00|  1657300.00| 2025-03-06|\n",
      "|              Europe|            Slovakia|Household|       Online|11/23/2011|380272710|12/14/2011|     10000|    668.27|   502.54|    6682700.0|5025400.00|  1657300.00| 2025-03-06|\n",
      "|              Europe|             Romania|Household|       Online| 9/22/2011|992088878|11/11/2011|     10000|    668.27|   502.54|    6682700.0|5025400.00|  1657300.00| 2025-03-06|\n",
      "|  Sub-Saharan Africa|          Cape Verde|Household|       Online| 12/5/2011|257909476| 1/10/2012|     10000|    668.27|   502.54|    6682700.0|5025400.00|  1657300.00| 2025-03-06|\n",
      "|  Sub-Saharan Africa|            Zimbabwe|Household|      Offline| 2/17/2012|423730075|  3/9/2012|     10000|    668.27|   502.54|    6682700.0|5025400.00|  1657300.00| 2025-03-06|\n",
      "+--------------------+--------------------+---------+-------------+----------+---------+----------+----------+----------+---------+-------------+----------+------------+-----------+\n",
      "only showing top 20 rows\n",
      "\n"
     ]
    },
    {
     "name": "stderr",
     "output_type": "stream",
     "text": [
      "                                                                                \r"
     ]
    }
   ],
   "source": [
    "df.orderBy(df[\"Total_Revenue\"].desc()).show()"
   ]
  },
  {
   "cell_type": "markdown",
   "metadata": {
    "application/vnd.databricks.v1+cell": {
     "cellMetadata": {
      "byteLimit": 2048000,
      "rowLimit": 10000
     },
     "inputWidgets": {},
     "nuid": "5136246e-6a70-4944-848a-e59558616d93",
     "showTitle": false,
     "tableResultSettingsMap": {},
     "title": ""
    }
   },
   "source": [
    "#### 9.Distinct Values"
   ]
  },
  {
   "cell_type": "code",
   "execution_count": 30,
   "metadata": {
    "application/vnd.databricks.v1+cell": {
     "cellMetadata": {
      "byteLimit": 2048000,
      "implicitDf": true,
      "rowLimit": 10000
     },
     "inputWidgets": {},
     "nuid": "9eeb97fc-8143-4176-a0e6-4563ef845631",
     "showTitle": false,
     "tableResultSettingsMap": {},
     "title": ""
    }
   },
   "outputs": [
    {
     "name": "stderr",
     "output_type": "stream",
     "text": [
      "                                                                                \r"
     ]
    },
    {
     "data": {
      "text/plain": [
       "185"
      ]
     },
     "execution_count": 30,
     "metadata": {},
     "output_type": "execute_result"
    }
   ],
   "source": [
    "df.select(\"country\").distinct().count()"
   ]
  },
  {
   "cell_type": "markdown",
   "metadata": {
    "application/vnd.databricks.v1+cell": {
     "cellMetadata": {
      "byteLimit": 2048000,
      "rowLimit": 10000
     },
     "inputWidgets": {},
     "nuid": "e598a5aa-8d15-4963-9be2-c9d778e4cb59",
     "showTitle": false,
     "tableResultSettingsMap": {},
     "title": ""
    }
   },
   "source": [
    "#### 10. Joining DataFrames"
   ]
  },
  {
   "cell_type": "code",
   "execution_count": 31,
   "metadata": {
    "application/vnd.databricks.v1+cell": {
     "cellMetadata": {
      "byteLimit": 2048000,
      "rowLimit": 10000
     },
     "inputWidgets": {},
     "nuid": "1c87fb63-ae4b-4126-a605-79d3a5f4296b",
     "showTitle": false,
     "tableResultSettingsMap": {},
     "title": ""
    }
   },
   "outputs": [
    {
     "name": "stdout",
     "output_type": "stream",
     "text": [
      "root\n",
      " |-- Order_ID: integer (nullable = true)\n",
      " |-- customer_id: integer (nullable = true)\n",
      "\n"
     ]
    }
   ],
   "source": [
    "customers = spark.read.csv('data/customers.csv', header = True, inferSchema = True)\n",
    "customerorder = spark.read.csv('data/customerorder_04102024.csv', header = True, inferSchema = True)\n",
    "customerorder.printSchema()\n"
   ]
  },
  {
   "cell_type": "code",
   "execution_count": 33,
   "metadata": {},
   "outputs": [
    {
     "name": "stderr",
     "output_type": "stream",
     "text": [
      "[Stage 35:===========================================>              (3 + 1) / 4]\r"
     ]
    },
    {
     "name": "stdout",
     "output_type": "stream",
     "text": [
      "+---------+-----------+--------------------+\n",
      "| Order_ID|customer_id|       customer_name|\n",
      "+---------+-----------+--------------------+\n",
      "|669165933|   30585978|STEPHENS,  GERALD...|\n",
      "|669165933|   11123757|     SMITH,  SHIRLEY|\n",
      "|341417157|     349822|     GUZMAN,  CARMEN|\n",
      "|514321792|   27652636| HASSETT,  PATRICK J|\n",
      "|115456712|   14437343|     HENTZ,  DIANA L|\n",
      "|547995746|   20441596|    TIRADO,  MARCO A|\n",
      "|135425221|    5945686|     SKORA,  BRIAN S|\n",
      "|871543967|    5385771|     SLAWEK,  DEAN J|\n",
      "|770463311|    1427940|   REAVES,  LIONEL C|\n",
      "|616607081|   10457387|BONGIOVANNI,  KEL...|\n",
      "|814711606|   19154815|   VERTA,  RAYMOND J|\n",
      "|939825713|    2469887|  BRYANT,  KATHRYN I|\n",
      "|187310731|   11743397|      UCZEN,  MARK D|\n",
      "|522840487|    9944827|  HOFFMANN,  AARON G|\n",
      "|832401311|   11928169|      OUTTEN,  MIA G|\n",
      "|972292029|   24917207| AGUILAR JR,  ROBERT|\n",
      "|419123971|   17211232|    BALASZEK,  LES J|\n",
      "|519820964|    7164613|  BERNARDINO,  JAIME|\n",
      "|441619336|   23608911|KLIMASZEWSKI,  GR...|\n",
      "|322067916|   10603598|     CRYLEN,  TAMMIE|\n",
      "+---------+-----------+--------------------+\n",
      "only showing top 20 rows\n",
      "\n"
     ]
    },
    {
     "name": "stderr",
     "output_type": "stream",
     "text": [
      "                                                                                \r"
     ]
    }
   ],
   "source": [
    "\n",
    "join1 = df.join(customerorder, [\"Order_ID\",\"Order_ID\"], how=\"inner\")\n",
    "final_join = join1.join(customers, on=\"customer_id\", how=\"inner\")\n",
    "result_df = final_join.select(\"Order_ID\", \"customer_id\", \"customer_name\")\n",
    "result_df.show()"
   ]
  },
  {
   "cell_type": "markdown",
   "metadata": {
    "application/vnd.databricks.v1+cell": {
     "cellMetadata": {
      "byteLimit": 2048000,
      "rowLimit": 10000
     },
     "inputWidgets": {},
     "nuid": "82dffa03-a27c-4dbc-b51c-133e2182ad44",
     "showTitle": false,
     "tableResultSettingsMap": {},
     "title": ""
    }
   },
   "source": [
    "#### 11. Pivoting"
   ]
  },
  {
   "cell_type": "code",
   "execution_count": null,
   "metadata": {
    "application/vnd.databricks.v1+cell": {
     "cellMetadata": {},
     "inputWidgets": {},
     "nuid": "14899ddd-b9fe-4c1c-9f92-67cab7940aba",
     "showTitle": false,
     "tableResultSettingsMap": {},
     "title": ""
    }
   },
   "outputs": [],
   "source": [
    "%sql\n",
    "SELECT Country,Item_Type,\n",
    "       SUM(CASE WHEN Item_Type = 'Office Supplies' THEN Total_Revenue ELSE 0 END) AS Office_Supplies_Revenue,\n",
    "       SUM(CASE WHEN Item_Type = 'Beverages' THEN Total_Revenue ELSE 0 END) AS Beverages_Revenue\n",
    "FROM salesdata\n",
    "GROUP BY Country,Item_Type;"
   ]
  },
  {
   "cell_type": "code",
   "execution_count": 34,
   "metadata": {
    "application/vnd.databricks.v1+cell": {
     "cellMetadata": {
      "byteLimit": 2048000,
      "implicitDf": true,
      "rowLimit": 10000
     },
     "inputWidgets": {},
     "nuid": "51a3fa2b-d4f4-4e42-bc77-51fd54c80950",
     "showTitle": false,
     "tableResultSettingsMap": {},
     "title": ""
    }
   },
   "outputs": [
    {
     "name": "stderr",
     "output_type": "stream",
     "text": [
      "[Stage 36:==============================================>           (4 + 1) / 5]\r"
     ]
    },
    {
     "name": "stdout",
     "output_type": "stream",
     "text": [
      "+--------------------+---------------+-----------------------+-----------------+\n",
      "|             Country|      Item_Type|Office_Supplies_Revenue|Beverages_Revenue|\n",
      "+--------------------+---------------+-----------------------+-----------------+\n",
      "|           Swaziland|      Beverages|                    0.0|     5.31458396E8|\n",
      "|         South Korea|  Personal Care|                    0.0|              0.0|\n",
      "|         Afghanistan|      Cosmetics|                    0.0|              0.0|\n",
      "|              Panama|      Household|                    0.0|              0.0|\n",
      "|            Barbados|      Baby Food|                    0.0|              0.0|\n",
      "|           Macedonia|         Snacks|                    0.0|              0.0|\n",
      "|Saint Vincent and...|        Clothes|                    0.0|              0.0|\n",
      "|             Germany|         Fruits|                    0.0|              0.0|\n",
      "|       Liechtenstein|      Cosmetics|                    0.0|              0.0|\n",
      "|                Togo|      Household|                    0.0|              0.0|\n",
      "|               Nepal|Office Supplies|          7.318637448E9|              0.0|\n",
      "|              Rwanda|      Household|                    0.0|              0.0|\n",
      "|             Nigeria|      Baby Food|                    0.0|              0.0|\n",
      "|          Montenegro|      Baby Food|                    0.0|              0.0|\n",
      "|               India|      Baby Food|                    0.0|              0.0|\n",
      "|Federated States ...|           Meat|                    0.0|              0.0|\n",
      "|             Belgium|     Vegetables|                    0.0|              0.0|\n",
      "|             Croatia|      Cosmetics|                    0.0|              0.0|\n",
      "|          Azerbaijan|         Cereal|                    0.0|              0.0|\n",
      "|               Kenya|           Meat|                    0.0|              0.0|\n",
      "+--------------------+---------------+-----------------------+-----------------+\n",
      "only showing top 20 rows\n",
      "\n"
     ]
    },
    {
     "name": "stderr",
     "output_type": "stream",
     "text": [
      "                                                                                \r"
     ]
    }
   ],
   "source": [
    "from pyspark.sql.functions import sum, when\n",
    "\n",
    "result_df = (\n",
    "    df.groupBy(\"Country\", \"Item_Type\").agg(\n",
    "        sum(when(df.Item_Type == 'Office Supplies', df.Total_Revenue).otherwise(0)).alias('Office_Supplies_Revenue'),\n",
    "        sum(when(df.Item_Type == 'Beverages', df.Total_Revenue).otherwise(0)).alias('Beverages_Revenue')\n",
    "    )\n",
    ")\n",
    "result_df.show()"
   ]
  },
  {
   "cell_type": "markdown",
   "metadata": {
    "application/vnd.databricks.v1+cell": {
     "cellMetadata": {
      "byteLimit": 2048000,
      "rowLimit": 10000
     },
     "inputWidgets": {},
     "nuid": "e1b29a72-1ec2-4718-854a-f4fc0c083302",
     "showTitle": false,
     "tableResultSettingsMap": {},
     "title": ""
    }
   },
   "source": [
    "#### 12. Window Functions"
   ]
  },
  {
   "cell_type": "code",
   "execution_count": null,
   "metadata": {
    "application/vnd.databricks.v1+cell": {
     "cellMetadata": {},
     "inputWidgets": {},
     "nuid": "b17e8d11-e0e3-46c7-8e6e-511e9379fcd6",
     "showTitle": false,
     "tableResultSettingsMap": {},
     "title": ""
    }
   },
   "outputs": [],
   "source": [
    "%sql\n",
    "SELECT Country,Order_Id,Total_Revenue,Units_Sold,\n",
    "       RANK() OVER ( ORDER BY Total_Revenue DESC, Units_Sold DESC) AS revenue_units_rank\n",
    "FROM salesdata;"
   ]
  },
  {
   "cell_type": "code",
   "execution_count": 35,
   "metadata": {
    "application/vnd.databricks.v1+cell": {
     "cellMetadata": {
      "byteLimit": 2048000,
      "implicitDf": true,
      "rowLimit": 10000
     },
     "inputWidgets": {},
     "nuid": "e1fda5f5-31e4-40e7-af2a-f136cddd7784",
     "showTitle": false,
     "tableResultSettingsMap": {},
     "title": ""
    }
   },
   "outputs": [
    {
     "name": "stderr",
     "output_type": "stream",
     "text": [
      "25/03/06 04:50:30 WARN WindowExec: No Partition Defined for Window operation! Moving all data to a single partition, this can cause serious performance degradation.\n",
      "25/03/06 04:50:30 WARN WindowExec: No Partition Defined for Window operation! Moving all data to a single partition, this can cause serious performance degradation.\n",
      "25/03/06 04:50:30 WARN WindowExec: No Partition Defined for Window operation! Moving all data to a single partition, this can cause serious performance degradation.\n",
      "25/03/06 04:50:30 WARN WindowExec: No Partition Defined for Window operation! Moving all data to a single partition, this can cause serious performance degradation.\n",
      "25/03/06 04:50:30 WARN WindowExec: No Partition Defined for Window operation! Moving all data to a single partition, this can cause serious performance degradation.\n",
      "[Stage 39:==============================================>           (4 + 1) / 5]\r"
     ]
    },
    {
     "name": "stdout",
     "output_type": "stream",
     "text": [
      "+-----------+---------+-------------+----------+------------------+\n",
      "|    Country| Order_ID|Total_Revenue|Units_Sold|revenue_units_rank|\n",
      "+-----------+---------+-------------+----------+------------------+\n",
      "|      Yemen|214452111|    6682700.0|     10000|                 1|\n",
      "|    Armenia|502635943|    6682700.0|     10000|                 1|\n",
      "|   Zimbabwe|423730075|    6682700.0|     10000|                 1|\n",
      "|   Slovakia|380272710|    6682700.0|     10000|                 1|\n",
      "|    Comoros|546093308|    6682700.0|     10000|                 1|\n",
      "|    Romania|992088878|    6682700.0|     10000|                 1|\n",
      "|    Armenia|502635943|    6682700.0|     10000|                 1|\n",
      "|    Comoros|546093308|    6682700.0|     10000|                 1|\n",
      "|     Taiwan|301366841|    6682700.0|     10000|                 1|\n",
      "|     Taiwan|301366841|    6682700.0|     10000|                 1|\n",
      "|   Tanzania|135546243|    6682700.0|     10000|                 1|\n",
      "| Cape Verde|257909476|    6682700.0|     10000|                 1|\n",
      "| Cape Verde|257909476|    6682700.0|     10000|                 1|\n",
      "|   Botswana|869725644|    6682700.0|     10000|                 1|\n",
      "|Philippines|913183009|    6682700.0|     10000|                 1|\n",
      "|   Mongolia|624999177|    6682700.0|     10000|                 1|\n",
      "|   Botswana|869725644|    6682700.0|     10000|                 1|\n",
      "|     Sweden|668456542|    6682700.0|     10000|                 1|\n",
      "| Kyrgyzstan|336815345|    6682700.0|     10000|                 1|\n",
      "|South Sudan|747362411|    6682700.0|     10000|                 1|\n",
      "+-----------+---------+-------------+----------+------------------+\n",
      "only showing top 20 rows\n",
      "\n"
     ]
    },
    {
     "name": "stderr",
     "output_type": "stream",
     "text": [
      "                                                                                \r"
     ]
    }
   ],
   "source": [
    "from pyspark.sql import Window\n",
    "from pyspark.sql.functions import col,rank\n",
    "\n",
    "# window specification for ranking based on Total_Revenue and Units_Sold\n",
    "window_spec = Window.orderBy(col(\"Total_Revenue\").desc(), col(\"Units_Sold\").desc())\n",
    "\n",
    "ranked_df = df.withColumn(\"revenue_units_rank\", rank().over(window_spec))\n",
    "result_df = ranked_df.select(\"Country\", \"Order_ID\", \"Total_Revenue\", \"Units_Sold\", \"revenue_units_rank\")\n",
    "result_df.show()"
   ]
  },
  {
   "cell_type": "code",
   "execution_count": null,
   "metadata": {},
   "outputs": [],
   "source": [
    "from pyspark.sql import Window\n",
    "from pyspark.sql.functions import col,rank,dense_rank\n",
    "\n",
    "# window specification for ranking based on Total_Revenue and Units_Sold\n",
    "window_spec = Window.orderBy(col(\"Total_Revenue\").desc(), col(\"Units_Sold\").desc())\n",
    "\n",
    "ranked_df = df.withColumn(\"revenue_units_rank\", dense_rank().over(window_spec))\n",
    "result_df = ranked_df.select(\"Country\", \"Order_ID\", \"Total_Revenue\", \"Units_Sold\", \"revenue_units_rank\")\n",
    "result_df.show()"
   ]
  },
  {
   "cell_type": "markdown",
   "metadata": {
    "application/vnd.databricks.v1+cell": {
     "cellMetadata": {},
     "inputWidgets": {},
     "nuid": "4ab619b2-fed0-4ec4-94e3-6976edba95d5",
     "showTitle": false,
     "tableResultSettingsMap": {},
     "title": ""
    }
   },
   "source": [
    "####  Chaining Transformations"
   ]
  },
  {
   "cell_type": "code",
   "execution_count": null,
   "metadata": {
    "application/vnd.databricks.v1+cell": {
     "cellMetadata": {
      "byteLimit": 2048000,
      "rowLimit": 10000
     },
     "inputWidgets": {},
     "nuid": "915b105a-c90e-4f3e-94cf-66bb3095197f",
     "showTitle": false,
     "tableResultSettingsMap": {},
     "title": ""
    }
   },
   "outputs": [],
   "source": [
    "df_cleaned = (\n",
    "    df.filter(df[\"Sales_Channel\"] == \"Online\")  # Filter online sales\n",
    "      .withColumn(\"Profit_Per_Unit\", df[\"Total_Profit\"] / df[\"Units_Sold\"])  # Add new column\n",
    "      .orderBy(\"Total_Revenue\", ascending=False)  # Sort by total revenue\n",
    ")\n",
    "\n",
    "df_cleaned.show()"
   ]
  },
  {
   "cell_type": "code",
   "execution_count": null,
   "metadata": {
    "application/vnd.databricks.v1+cell": {
     "cellMetadata": {
      "byteLimit": 2048000,
      "rowLimit": 10000
     },
     "inputWidgets": {},
     "nuid": "816f2c75-8993-42dc-8545-6021e80c8840",
     "showTitle": false,
     "tableResultSettingsMap": {},
     "title": ""
    }
   },
   "outputs": [],
   "source": [
    "df_cleaned = (\n",
    "    df.filter(df[\"Sales_Channel\"] == \"Online\")  # Filter online sales\n",
    "      .withColumn(\"Profit_Per_Unit\", df[\"Total_Profit\"] / df[\"Units_Sold\"])  # Add new column\n",
    "      .groupBy(\"Country\").agg(F.sum(\"Total_Revenue\").alias(\"Total_Revenue_by_Country\"))  # Aggregate revenue by region\n",
    "      .orderBy(\"Total_Revenue_by_Country\", ascending=False)  # Sort by total revenue\n",
    ")\n",
    "\n",
    "df_cleaned.show()"
   ]
  },
  {
   "cell_type": "markdown",
   "metadata": {
    "application/vnd.databricks.v1+cell": {
     "cellMetadata": {},
     "inputWidgets": {},
     "nuid": "be27a1d0-1f32-413a-85b8-cf460fc9a48e",
     "showTitle": false,
     "tableResultSettingsMap": {},
     "title": ""
    }
   },
   "source": [
    "### Data Quality Checks"
   ]
  },
  {
   "cell_type": "code",
   "execution_count": null,
   "metadata": {
    "application/vnd.databricks.v1+cell": {
     "cellMetadata": {
      "byteLimit": 2048000,
      "rowLimit": 10000
     },
     "inputWidgets": {},
     "nuid": "b8e23551-7ace-406b-8a78-a426eaa389d8",
     "showTitle": false,
     "tableResultSettingsMap": {},
     "title": ""
    }
   },
   "outputs": [],
   "source": [
    "from pyspark.sql import functions as F\n",
    "\n",
    "\n",
    "# Apply the necessary transformations to create the error_flag column\n",
    "df_with_error_flags = (\n",
    "    spark.table(\"salesdata\")\n",
    "    .withColumn(\n",
    "        \"error_flag\",\n",
    "        F.when(F.col(\"Order_ID\").isNull(), \"Order_ID is NULL\")\n",
    "        .when(F.col(\"Country\").isNull(), \"Country is NULL\")\n",
    "        .when(F.col(\"Units_Sold\").isNull(), \"Units_Sold is NULL\")\n",
    "        .when(F.col(\"Units_Sold\") < 0, \"Units_Sold is negative\")\n",
    "        .when(F.col(\"Total_Revenue\") < 0, \"Total_Revenue is negative\")\n",
    "        .when(F.col(\"Total_Profit\") < 0, \"Total_Profit is negative\")\n",
    "        .when(F.col(\"Order_Date\").isNull(), \"Order_Date is NULL\")\n",
    "        .when(F.col(\"Ship_Date\").isNull(), \"Ship_Date is NULL\")\n",
    "        .when(\n",
    "            ~F.col(\"Order_Date\").rlike(\"^[1-9]{1}[0-9]{0,1}/[1-9]{1}[0-9]{0,1}/[0-9]{4}$\"),\n",
    "            \"Order_Date has invalid format (expected M/d/yyyy)\"\n",
    "        )\n",
    "        .when(\n",
    "            ~F.col(\"Ship_Date\").rlike(\"^[1-9]{1}[0-9]{0,1}/[1-9]{1}[0-9]{0,1}/[0-9]{4}$\"),\n",
    "            \"Ship_Date has invalid format (expected M/d/yyyy)\"\n",
    "        )\n",
    "        # Uncomment this line if you want to include Ship_Date before Order_Date check\n",
    "        # .when(F.col(\"Ship_Date\") < F.col(\"Order_Date\"), \"Ship_Date before Order_Date\")\n",
    "        .otherwise(None)\n",
    "    )\n",
    ")\n",
    "\n",
    "# Filter out records with error_flag as None (valid records)\n",
    "valid_records_df = df_with_error_flags.filter(F.col(\"error_flag\").isNull())\n",
    "\n",
    "# Show the results\n",
    "valid_records_df.show()\n",
    "\n",
    "# Create a temporary view for further SQL operations\n",
    "valid_records_df.createOrReplaceTempView(\"valid_salesdata\")\n",
    "\n",
    "# Filter error records where error_flag is NOT NULL\n",
    "error_records_df = sales_df_with_flag.filter(F.col(\"error_flag\").isNotNull())\n",
    "\n",
    "# Show or process error records\n",
    "error_records_df.show()\n",
    "\n",
    "vaild_records_df = sales_df_with_flag.filter(F.col(\"error_flag\").isNull())\n",
    "print(vaild_records_df.count())"
   ]
  },
  {
   "cell_type": "code",
   "execution_count": null,
   "metadata": {},
   "outputs": [],
   "source": [
    "# Aggregating data with groupBy and agg\n",
    "salesdata_aggregated_df = (\n",
    "    valid_records_df\n",
    "    .groupBy(\"Region\", \"Country\", \"Item_Type\", \"Sales_Channel\", \"Order_Priority\")\n",
    "    .agg(\n",
    "        F.sum(\"Units_Sold\").alias(\"Total_Units_Sold\"),\n",
    "        F.sum(\"Total_Revenue\").alias(\"Total_Revenue\"),\n",
    "        F.sum(\"Total_Cost\").alias(\"Total_Cost\"),\n",
    "        F.sum(\"Total_Profit\").alias(\"Total_Profit\")\n",
    "    )\n",
    ")"
   ]
  },
  {
   "cell_type": "code",
   "execution_count": null,
   "metadata": {},
   "outputs": [],
   "source": [
    "MYSQL_URL = \"jdbc:mysql://172.17.0.3:3306/demo\"\n",
    "MYSQL_PROPERTIES = {\n",
    "    'user': 'root',\n",
    "    'password': '*7E567C9DC06217268D72D52BABCA14EAB8993ACF',\n",
    "    'driver': 'com.mysql.jdbc.Driver',\n",
    "    'allowPublicKeyRetrieval':'true',\n",
    "    'useSSL':'false'\n",
    "}\n",
    "salesdata_aggregated_df.write.jdbc(url=MYSQL_URL, table=\"salesdata\", mode=\"append\", properties=MYSQL_PROPERTIES)"
   ]
  }
 ],
 "metadata": {
  "application/vnd.databricks.v1+notebook": {
   "computePreferences": null,
   "dashboards": [],
   "environmentMetadata": null,
   "language": "python",
   "notebookMetadata": {
    "mostRecentlyExecutedCommandWithImplicitDF": {
     "commandId": 1107381975655994,
     "dataframes": [
      "_sqldf"
     ]
    },
    "pythonIndentUnit": 2
   },
   "notebookName": "Day8-Common-Transformation-Dataframe",
   "widgets": {}
  },
  "kernelspec": {
   "display_name": "Python 3 (ipykernel)",
   "language": "python",
   "name": "python3"
  },
  "language_info": {
   "codemirror_mode": {
    "name": "ipython",
    "version": 3
   },
   "file_extension": ".py",
   "mimetype": "text/x-python",
   "name": "python",
   "nbconvert_exporter": "python",
   "pygments_lexer": "ipython3",
   "version": "3.10.2"
  }
 },
 "nbformat": 4,
 "nbformat_minor": 4
}
