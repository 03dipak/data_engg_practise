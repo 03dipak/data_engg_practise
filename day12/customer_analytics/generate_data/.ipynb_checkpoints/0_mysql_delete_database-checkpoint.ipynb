{
 "cells": [
  {
   "cell_type": "code",
   "execution_count": 1,
   "id": "7369780a-923f-4e64-8f47-dfb9130192c2",
   "metadata": {},
   "outputs": [],
   "source": [
    "%run ../common.ipynb"
   ]
  },
  {
   "cell_type": "code",
   "execution_count": 2,
   "id": "06f71f8c-dea6-4985-aafd-91b5a54e9b24",
   "metadata": {},
   "outputs": [],
   "source": [
    "import pymysql\n",
    "import boto3\n",
    "from urllib.parse import urlparse, parse_qs\n",
    "\n",
    "def create_connection(host, user, password, db_name=None):\n",
    "    try:\n",
    "        conn = pymysql.connect(\n",
    "            host=host,\n",
    "            user=user,\n",
    "            password=password,\n",
    "            database=db_name if db_name else None,\n",
    "            ssl={\"ssl\": False},\n",
    "            cursorclass=pymysql.cursors.DictCursor,\n",
    "            client_flag=pymysql.constants.CLIENT.MULTI_STATEMENTS\n",
    "        )\n",
    "        return conn\n",
    "    except Exception as e:\n",
    "        print(f\"Error connecting to database: {e}\")\n",
    "        return None\n",
    "\n"
   ]
  },
  {
   "cell_type": "code",
   "execution_count": 3,
   "id": "5be6d9fe-36fc-4215-b203-25d51cf429b0",
   "metadata": {},
   "outputs": [],
   "source": [
    "def delete_database(conn, db_name):\n",
    "    with conn.cursor() as cursor:\n",
    "        cursor.execute(f\"DROP DATABASE  {db_name}\")\n",
    "    conn.commit()"
   ]
  },
  {
   "cell_type": "code",
   "execution_count": 4,
   "id": "adf86ed9-469d-46a9-9b69-f082d7941ebb",
   "metadata": {},
   "outputs": [],
   "source": [
    "def delete_all(connection):\n",
    "    delete_database(connection, \"UserService\")\n",
    "    delete_database(connection, \"OrderService\")\n",
    "    delete_database(connection, \"MarketingService\")\n",
    "    delete_database(connection, \"ProductService\")\n",
    "    \n",
    "    "
   ]
  },
  {
   "cell_type": "code",
   "execution_count": 5,
   "id": "8b3f1081-2ada-45ec-9f17-20c8753f7738",
   "metadata": {},
   "outputs": [],
   "source": [
    "\n",
    "\n",
    "parsed_url = urlparse(USER_MYSQL_URL.replace(\"jdbc:\", \"\"))  # Remove 'jdbc:' prefix\n",
    "host = parsed_url.hostname\n",
    "user = MYSQL_PROPERTIES.get('user')\n",
    "password = MYSQL_PROPERTIES.get('password')"
   ]
  },
  {
   "cell_type": "code",
   "execution_count": 6,
   "id": "d2883978-cad3-4f2b-883a-83d0fe69a024",
   "metadata": {},
   "outputs": [],
   "source": [
    "\n",
    "connection = create_connection(host, user, password)\n",
    "delete_all(connection)\n",
    "connection.close()"
   ]
  }
 ],
 "metadata": {
  "kernelspec": {
   "display_name": "Python 3 (ipykernel)",
   "language": "python",
   "name": "python3"
  },
  "language_info": {
   "codemirror_mode": {
    "name": "ipython",
    "version": 3
   },
   "file_extension": ".py",
   "mimetype": "text/x-python",
   "name": "python",
   "nbconvert_exporter": "python",
   "pygments_lexer": "ipython3",
   "version": "3.10.2"
  }
 },
 "nbformat": 4,
 "nbformat_minor": 5
}
