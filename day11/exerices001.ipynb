{
 "cells": [
  {
   "cell_type": "code",
   "execution_count": 1,
   "id": "b98391b6-2847-4d80-8cef-ad491c000119",
   "metadata": {},
   "outputs": [],
   "source": [
    "%run common.ipynb"
   ]
  },
  {
   "cell_type": "code",
   "execution_count": 2,
   "id": "34e71c39-f30f-418d-aec3-e77ac4e4e064",
   "metadata": {},
   "outputs": [
    {
     "name": "stderr",
     "output_type": "stream",
     "text": [
      "SLF4J: Class path contains multiple SLF4J bindings.\n",
      "SLF4J: Found binding in [jar:file:/home/glue_user/spark/jars/log4j-slf4j-impl-2.17.2.jar!/org/slf4j/impl/StaticLoggerBinder.class]\n",
      "SLF4J: Found binding in [jar:file:/home/glue_user/spark/jars/slf4j-reload4j-1.7.36.jar!/org/slf4j/impl/StaticLoggerBinder.class]\n",
      "SLF4J: Found binding in [jar:file:/home/glue_user/aws-glue-libs/jars/log4j-slf4j-impl-2.17.2.jar!/org/slf4j/impl/StaticLoggerBinder.class]\n",
      "SLF4J: Found binding in [jar:file:/home/glue_user/aws-glue-libs/jars/slf4j-reload4j-1.7.36.jar!/org/slf4j/impl/StaticLoggerBinder.class]\n",
      "SLF4J: See http://www.slf4j.org/codes.html#multiple_bindings for an explanation.\n",
      "SLF4J: Actual binding is of type [org.apache.logging.slf4j.Log4jLoggerFactory]\n"
     ]
    },
    {
     "name": "stdout",
     "output_type": "stream",
     "text": [
      ":: loading settings :: url = jar:file:/home/glue_user/spark/jars/ivy-2.5.0.jar!/org/apache/ivy/core/settings/ivysettings.xml\n"
     ]
    },
    {
     "name": "stderr",
     "output_type": "stream",
     "text": [
      "Ivy Default Cache set to: /home/glue_user/.ivy2/cache\n",
      "The jars for the packages stored in: /home/glue_user/.ivy2/jars\n",
      "mysql#mysql-connector-java added as a dependency\n",
      ":: resolving dependencies :: org.apache.spark#spark-submit-parent-ffee2f79-c7fa-4f6f-b660-96da77ace3e3;1.0\n",
      "\tconfs: [default]\n",
      "mysql#mysql-connector-java;8.0.33 is relocated to com.mysql#mysql-connector-j;8.0.33. Please update your dependencies.\n",
      "\tfound mysql#mysql-connector-java;8.0.33 in central\n",
      "\tfound com.mysql#mysql-connector-j;8.0.33 in central\n",
      "\tfound com.google.protobuf#protobuf-java;3.21.9 in central\n",
      "downloading https://repo1.maven.org/maven2/com/mysql/mysql-connector-j/8.0.33/mysql-connector-j-8.0.33.jar ...\n",
      "\t[SUCCESSFUL ] com.mysql#mysql-connector-j;8.0.33!mysql-connector-j.jar (3254ms)\n",
      "downloading https://repo1.maven.org/maven2/com/google/protobuf/protobuf-java/3.21.9/protobuf-java-3.21.9.jar ...\n",
      "\t[SUCCESSFUL ] com.google.protobuf#protobuf-java;3.21.9!protobuf-java.jar(bundle) (1857ms)\n",
      ":: resolution report :: resolve 21523ms :: artifacts dl 5149ms\n",
      "\t:: modules in use:\n",
      "\tcom.google.protobuf#protobuf-java;3.21.9 from central in [default]\n",
      "\tcom.mysql#mysql-connector-j;8.0.33 from central in [default]\n",
      "\tmysql#mysql-connector-java;8.0.33 from central in [default]\n",
      "\t---------------------------------------------------------------------\n",
      "\t|                  |            modules            ||   artifacts   |\n",
      "\t|       conf       | number| search|dwnlded|evicted|| number|dwnlded|\n",
      "\t---------------------------------------------------------------------\n",
      "\t|      default     |   3   |   3   |   3   |   0   ||   2   |   2   |\n",
      "\t---------------------------------------------------------------------\n",
      ":: retrieving :: org.apache.spark#spark-submit-parent-ffee2f79-c7fa-4f6f-b660-96da77ace3e3\n",
      "\tconfs: [default]\n",
      "\t2 artifacts copied, 0 already retrieved (4055kB/1289ms)\n",
      "Setting default log level to \"WARN\".\n",
      "To adjust logging level use sc.setLogLevel(newLevel). For SparkR, use setLogLevel(newLevel).\n",
      "25/03/18 18:45:04 WARN Utils: Service 'SparkUI' could not bind on port 4040. Attempting port 4041.\n",
      "25/03/18 18:45:04 WARN Utils: Service 'SparkUI' could not bind on port 4041. Attempting port 4042.\n"
     ]
    }
   ],
   "source": [
    "from pyspark.sql import SparkSession\n",
    "\n",
    "\n",
    "# Initialize Spark Session with MySQL JDBC Driver\n",
    "sparkCustomer = SparkSession.builder.appName(\"viewCustomer\")\\\n",
    "        .config(\"spark.jars.packages\", \"mysql:mysql-connector-java:8.0.33\")\\\n",
    "        .getOrCreate()\n"
   ]
  },
  {
   "cell_type": "code",
   "execution_count": 3,
   "id": "38b70d7f-092e-43c1-aff5-2c5ffbea1f33",
   "metadata": {},
   "outputs": [
    {
     "name": "stdout",
     "output_type": "stream",
     "text": [
      "<pyspark.sql.session.SparkSession object at 0x7f6794dac850>\n"
     ]
    }
   ],
   "source": [
    "print(sparkCustomer)"
   ]
  },
  {
   "cell_type": "code",
   "execution_count": 4,
   "id": "7203d13a-2348-45e1-af9a-2de7f6557e1d",
   "metadata": {},
   "outputs": [
    {
     "name": "stdout",
     "output_type": "stream",
     "text": [
      "jdbc:mysql://172.17.0.2:3306/UserService\n",
      "{'user': 'root', 'password': '*dipak9', 'driver': 'com.mysql.cj.jdbc.Driver', 'allowPublicKeyRetrieval': 'true', 'useSSL': 'false'}\n"
     ]
    }
   ],
   "source": [
    "print(USER_MYSQL_URL)\n",
    "print(MYSQL_PROPERTIES)"
   ]
  },
  {
   "cell_type": "code",
   "execution_count": 5,
   "id": "f1f0742c-c526-4cf0-bc41-002838a3944e",
   "metadata": {},
   "outputs": [],
   "source": [
    "# Read MySQL table into PySpark DataFrame\n",
    "customer_df = sparkCustomer.read.jdbc(url=USER_MYSQL_URL, table=\"Customers\", properties=MYSQL_PROPERTIES)\n",
    "order_df = sparkCustomer.read.jdbc(url=ORDER_MYSQL_URL, table=\"Orders\", properties=MYSQL_PROPERTIES)\n",
    "products_df = sparkCustomer.read.jdbc(url=PRODUCT_MYSQL_URL, table=\"Products\", properties=MYSQL_PROPERTIES)\n",
    "\n",
    "# Register as Temp Tables\n",
    "customer_df.createOrReplaceTempView(\"customers\")\n",
    "order_df.createOrReplaceTempView(\"orders\")\n",
    "products_df.createOrReplaceTempView(\"products\")\n"
   ]
  },
  {
   "cell_type": "code",
   "execution_count": 6,
   "id": "8789e71f-6396-4aa4-bb9c-f29786d9a6b0",
   "metadata": {},
   "outputs": [],
   "source": [
    "orderItems_df = sparkCustomer.read.jdbc(url=ORDER_MYSQL_URL, table=\"Order_Items\", properties=MYSQL_PROPERTIES)\n",
    "orderItems_df.createOrReplaceTempView(\"Order_Items\")"
   ]
  },
  {
   "cell_type": "code",
   "execution_count": 7,
   "id": "16f61b61-1997-48a4-9465-8c2fd204f29e",
   "metadata": {},
   "outputs": [
    {
     "name": "stderr",
     "output_type": "stream",
     "text": [
      "[Stage 0:>                                                          (0 + 1) / 1]\r"
     ]
    },
    {
     "name": "stdout",
     "output_type": "stream",
     "text": [
      "+-----------+----------+---------+--------------------+--------------------+--------------------+------------+--------+--------+-----------+-------------------+\n",
      "|customer_id|first_name|last_name|               email|               phone|             address|        city|   state|zip_code|    country|         created_at|\n",
      "+-----------+----------+---------+--------------------+--------------------+--------------------+------------+--------+--------+-----------+-------------------+\n",
      "|          1|   Michael|  Rodgers|katiecasey@exampl...|+1-664-301-3316x9...|USS Dudley\\nFPO A...| North Traci|   Idaho|   38917|Saint Lucia|2025-03-15 07:34:22|\n",
      "|          2|     Paula|    Berry|carolyn15@example...|  971-396-8026x98919|PSC 9301, Box 951...|Hornechester|Michigan|   14169|     Turkey|2025-03-15 07:34:32|\n",
      "+-----------+----------+---------+--------------------+--------------------+--------------------+------------+--------+--------+-----------+-------------------+\n",
      "only showing top 2 rows\n",
      "\n"
     ]
    },
    {
     "name": "stderr",
     "output_type": "stream",
     "text": [
      "                                                                                \r"
     ]
    }
   ],
   "source": [
    "customer_df.show(2)"
   ]
  },
  {
   "cell_type": "code",
   "execution_count": 8,
   "id": "a6e21908-d810-4a0c-807c-9ac8e6e33b25",
   "metadata": {},
   "outputs": [
    {
     "name": "stdout",
     "output_type": "stream",
     "text": [
      "root\n",
      " |-- customer_id: integer (nullable = true)\n",
      " |-- first_name: string (nullable = true)\n",
      " |-- last_name: string (nullable = true)\n",
      " |-- email: string (nullable = true)\n",
      " |-- phone: string (nullable = true)\n",
      " |-- address: string (nullable = true)\n",
      " |-- city: string (nullable = true)\n",
      " |-- state: string (nullable = true)\n",
      " |-- zip_code: string (nullable = true)\n",
      " |-- country: string (nullable = true)\n",
      " |-- created_at: timestamp (nullable = true)\n",
      "\n"
     ]
    }
   ],
   "source": [
    "customer_df.printSchema()"
   ]
  },
  {
   "cell_type": "code",
   "execution_count": 9,
   "id": "d9550913-ca8b-4fcd-b834-4fc4b4445c10",
   "metadata": {},
   "outputs": [
    {
     "name": "stdout",
     "output_type": "stream",
     "text": [
      "root\n",
      " |-- order_id: integer (nullable = true)\n",
      " |-- customer_id: integer (nullable = true)\n",
      " |-- order_date: timestamp (nullable = true)\n",
      " |-- status: string (nullable = true)\n",
      " |-- total_amount: decimal(10,2) (nullable = true)\n",
      "\n"
     ]
    }
   ],
   "source": [
    "order_df.printSchema()"
   ]
  },
  {
   "cell_type": "code",
   "execution_count": 10,
   "id": "d9d45275-af12-4802-a56d-65dc086fbb5b",
   "metadata": {},
   "outputs": [
    {
     "name": "stdout",
     "output_type": "stream",
     "text": [
      "root\n",
      " |-- product_id: integer (nullable = true)\n",
      " |-- name: string (nullable = true)\n",
      " |-- description: string (nullable = true)\n",
      " |-- category: string (nullable = true)\n",
      " |-- price: decimal(10,2) (nullable = true)\n",
      " |-- stock_quantity: integer (nullable = true)\n",
      " |-- created_at: timestamp (nullable = true)\n",
      "\n"
     ]
    }
   ],
   "source": [
    "products_df.printSchema()"
   ]
  },
  {
   "cell_type": "code",
   "execution_count": 11,
   "id": "c7744cde-0b13-4737-82e3-e33f3382230c",
   "metadata": {},
   "outputs": [
    {
     "name": "stderr",
     "output_type": "stream",
     "text": [
      "                                                                                \r"
     ]
    },
    {
     "data": {
      "text/plain": [
       "[Row(order_id=1, customer_id=68, order_date=datetime.datetime(2022, 7, 22, 0, 0), status='Shipped', total_amount=Decimal('236.06')),\n",
       " Row(order_id=2, customer_id=458, order_date=datetime.datetime(2021, 9, 13, 0, 0), status='Cancelled', total_amount=Decimal('191.20')),\n",
       " Row(order_id=3, customer_id=158, order_date=datetime.datetime(2021, 3, 12, 0, 0), status='Shipped', total_amount=Decimal('227.43')),\n",
       " Row(order_id=4, customer_id=199, order_date=datetime.datetime(2020, 10, 18, 0, 0), status='Cancelled', total_amount=Decimal('357.54'))]"
      ]
     },
     "execution_count": 11,
     "metadata": {},
     "output_type": "execute_result"
    }
   ],
   "source": [
    "order_df.head(4)"
   ]
  },
  {
   "cell_type": "code",
   "execution_count": 12,
   "id": "a34d6b7b-d464-4ad5-9f36-aec5beaf27fd",
   "metadata": {},
   "outputs": [
    {
     "data": {
      "text/plain": [
       "[Row(order_id=435, customer_id=199, order_date=datetime.datetime(2021, 4, 28, 0, 0), status='Delivered', total_amount=Decimal('387.55')),\n",
       " Row(order_id=681, customer_id=458, order_date=datetime.datetime(2021, 2, 17, 0, 0), status='Delivered', total_amount=Decimal('168.91')),\n",
       " Row(order_id=1627, customer_id=199, order_date=datetime.datetime(2025, 1, 19, 0, 0), status='Delivered', total_amount=Decimal('57.34')),\n",
       " Row(order_id=1755, customer_id=458, order_date=datetime.datetime(2023, 12, 13, 0, 0), status='Delivered', total_amount=Decimal('313.09'))]"
      ]
     },
     "execution_count": 12,
     "metadata": {},
     "output_type": "execute_result"
    }
   ],
   "source": [
    "order_df.filter((order_df.customer_id == 199) |  (order_df.customer_id == 458)).filter(order_df.status == \"Delivered\").head(4)"
   ]
  },
  {
   "cell_type": "code",
   "execution_count": null,
   "id": "0f5fd0ed-b6fb-43ea-99b2-1a76c68d5303",
   "metadata": {},
   "outputs": [],
   "source": [
    "# Calculate the top 5 products with the highest sales in each region."
   ]
  },
  {
   "cell_type": "code",
   "execution_count": 13,
   "id": "50e66857-161d-47d1-829c-831f61f8c301",
   "metadata": {},
   "outputs": [],
   "source": [
    "order_complete_df = order_df.filter(order_df.status == \"Delivered\")"
   ]
  },
  {
   "cell_type": "code",
   "execution_count": 14,
   "id": "6ec769d4-5408-429e-b3b0-f8b80fed58d5",
   "metadata": {},
   "outputs": [
    {
     "name": "stdout",
     "output_type": "stream",
     "text": [
      "+--------+-----------+-------------------+---------+------------+\n",
      "|order_id|customer_id|         order_date|   status|total_amount|\n",
      "+--------+-----------+-------------------+---------+------------+\n",
      "|       7|        379|2021-03-18 00:00:00|Delivered|      247.31|\n",
      "|       9|        648|2020-05-09 00:00:00|Delivered|      319.87|\n",
      "|      14|        938|2020-06-23 00:00:00|Delivered|      492.61|\n",
      "|      19|        126|2021-03-09 00:00:00|Delivered|       41.17|\n",
      "|      29|        743|2025-01-03 00:00:00|Delivered|      179.07|\n",
      "|      32|        672|2024-02-26 00:00:00|Delivered|      129.59|\n",
      "|      49|        209|2024-08-16 00:00:00|Delivered|      322.80|\n",
      "|      55|        469|2021-10-18 00:00:00|Delivered|      418.63|\n",
      "|      61|        730|2023-05-24 00:00:00|Delivered|      274.24|\n",
      "|      67|        579|2023-06-11 00:00:00|Delivered|      265.36|\n",
      "|      68|        873|2022-08-23 00:00:00|Delivered|      467.04|\n",
      "|      72|        179|2020-04-09 00:00:00|Delivered|      238.93|\n",
      "|      73|        962|2023-02-27 00:00:00|Delivered|       58.07|\n",
      "|      74|        420|2021-06-24 00:00:00|Delivered|      424.24|\n",
      "|      75|        219|2023-08-01 00:00:00|Delivered|      338.31|\n",
      "|      78|        898|2021-05-04 00:00:00|Delivered|      211.42|\n",
      "|      80|        514|2020-02-25 00:00:00|Delivered|      266.98|\n",
      "|      86|        381|2023-10-23 00:00:00|Delivered|      432.73|\n",
      "|      94|         79|2021-04-01 00:00:00|Delivered|      102.66|\n",
      "|     114|        154|2022-07-29 00:00:00|Delivered|      288.50|\n",
      "+--------+-----------+-------------------+---------+------------+\n",
      "only showing top 20 rows\n",
      "\n"
     ]
    }
   ],
   "source": [
    "order_complete_df.show()"
   ]
  },
  {
   "cell_type": "code",
   "execution_count": 15,
   "id": "c2d485e8-55c6-4446-8b7a-28a8841b5686",
   "metadata": {},
   "outputs": [],
   "source": [
    "order_complete_df.createOrReplaceTempView(\"order_complete\")"
   ]
  },
  {
   "cell_type": "code",
   "execution_count": 21,
   "id": "f3b212f0-db55-4d58-bdf4-d7aab56c863b",
   "metadata": {},
   "outputs": [
    {
     "name": "stderr",
     "output_type": "stream",
     "text": [
      "25/03/18 19:33:19 WARN WindowExec: No Partition Defined for Window operation! Moving all data to a single partition, this can cause serious performance degradation.\n",
      "25/03/18 19:33:19 WARN WindowExec: No Partition Defined for Window operation! Moving all data to a single partition, this can cause serious performance degradation.\n",
      "25/03/18 19:33:19 WARN WindowExec: No Partition Defined for Window operation! Moving all data to a single partition, this can cause serious performance degradation.\n",
      "25/03/18 19:33:20 WARN WindowExec: No Partition Defined for Window operation! Moving all data to a single partition, this can cause serious performance degradation.\n",
      "25/03/18 19:33:20 WARN WindowExec: No Partition Defined for Window operation! Moving all data to a single partition, this can cause serious performance degradation.\n",
      "25/03/18 19:33:21 WARN WindowExec: No Partition Defined for Window operation! Moving all data to a single partition, this can cause serious performance degradation.\n",
      "25/03/18 19:33:21 WARN WindowExec: No Partition Defined for Window operation! Moving all data to a single partition, this can cause serious performance degradation.\n",
      "25/03/18 19:33:21 WARN WindowExec: No Partition Defined for Window operation! Moving all data to a single partition, this can cause serious performance degradation.\n",
      "25/03/18 19:33:21 WARN WindowExec: No Partition Defined for Window operation! Moving all data to a single partition, this can cause serious performance degradation.\n",
      "                                                                                \r"
     ]
    },
    {
     "name": "stdout",
     "output_type": "stream",
     "text": [
      "+-----------+--------+-----------+-------------------+-----------+\n",
      "|customer_id|spending|total_order|    last_order_date|spends_rank|\n",
      "+-----------+--------+-----------+-------------------+-----------+\n",
      "|        666|11469.72|         40|2025-01-06 00:00:00|          1|\n",
      "|        190|11465.77|         40|2024-10-11 00:00:00|          2|\n",
      "|        335|11213.27|         38|2025-03-14 00:00:00|          3|\n",
      "|        457|11071.19|         38|2025-01-28 00:00:00|          4|\n",
      "|        863|11053.31|         35|2024-12-31 00:00:00|          5|\n",
      "|        577|11013.82|         36|2024-10-31 00:00:00|          6|\n",
      "|        228|11006.96|         39|2025-02-18 00:00:00|          7|\n",
      "|        847|10565.05|         36|2024-09-26 00:00:00|          8|\n",
      "|        717|10425.51|         41|2024-12-12 00:00:00|          9|\n",
      "|        839|10312.79|         34|2025-02-08 00:00:00|         10|\n",
      "|        309|10232.12|         46|2025-03-06 00:00:00|         11|\n",
      "|        846|10159.42|         40|2025-02-07 00:00:00|         12|\n",
      "|        287|10125.00|         37|2025-01-25 00:00:00|         13|\n",
      "|        865|10022.60|         33|2025-01-29 00:00:00|         14|\n",
      "|        103| 9975.41|         35|2025-02-11 00:00:00|         15|\n",
      "|          2| 9916.90|         32|2025-03-01 00:00:00|         16|\n",
      "|        746| 9896.93|         36|2025-03-03 00:00:00|         17|\n",
      "|        582| 9788.15|         32|2025-01-28 00:00:00|         18|\n",
      "|        441| 9744.47|         36|2025-01-02 00:00:00|         19|\n",
      "|        249| 9734.14|         39|2025-01-18 00:00:00|         20|\n",
      "+-----------+--------+-----------+-------------------+-----------+\n",
      "only showing top 20 rows\n",
      "\n"
     ]
    }
   ],
   "source": [
    "sparkCustomer.sql(\"\"\"\n",
    "            with customerData as (\n",
    "           select customer_id,sum(total_amount) as spending,count(order_id) as total_order,max(order_date) last_order_date\n",
    "           from order_complete group by customer_id \n",
    "   ),\n",
    "   rankSpending as(\n",
    "        select customer_id,spending,total_order,last_order_date, rank() over(order by spending desc) as spends_rank\n",
    "        from customerData\n",
    "   )\n",
    "   select customer_id,spending,total_order,last_order_date,spends_rank from rankSpending where spends_rank < 100\n",
    "\"\"\").show()"
   ]
  },
  {
   "cell_type": "code",
   "execution_count": 23,
   "id": "eab672c3-7471-4489-b6aa-546c0c049367",
   "metadata": {},
   "outputs": [],
   "source": [
    "from pyspark.sql.functions import sum,count,max"
   ]
  },
  {
   "cell_type": "code",
   "execution_count": 24,
   "id": "3170032c-c786-4a81-b4b8-c1e7fb5acd6e",
   "metadata": {},
   "outputs": [],
   "source": [
    "order_group_sum = order_complete_df.groupBy(\"customer_id\").agg(sum(\"total_amount\").alias(\"spending\"),count(\"order_id\").alias(\"total_order\"),max(\"order_date\").alias(\"last_order_date\"))"
   ]
  },
  {
   "cell_type": "code",
   "execution_count": 25,
   "id": "0275d79c-84f7-427b-887f-8ff0240f394d",
   "metadata": {},
   "outputs": [
    {
     "name": "stdout",
     "output_type": "stream",
     "text": [
      "+-----------+--------+-----------+-------------------+\n",
      "|customer_id|spending|total_order|    last_order_date|\n",
      "+-----------+--------+-----------+-------------------+\n",
      "|        148| 4859.68|         21|2024-11-26 00:00:00|\n",
      "|        496| 5819.39|         27|2025-01-08 00:00:00|\n",
      "|        833| 5233.27|         18|2024-09-20 00:00:00|\n",
      "|        540| 4728.19|         19|2025-03-06 00:00:00|\n",
      "|        243| 3617.70|         17|2025-02-06 00:00:00|\n",
      "|        879| 6286.23|         27|2025-03-04 00:00:00|\n",
      "|         65| 8632.09|         38|2025-02-21 00:00:00|\n",
      "|        481| 7987.46|         30|2025-01-17 00:00:00|\n",
      "|        804| 3621.17|         18|2024-10-17 00:00:00|\n",
      "|        133| 6830.57|         23|2024-05-30 00:00:00|\n",
      "|        633| 4386.72|         20|2024-12-12 00:00:00|\n",
      "|        876| 9398.92|         34|2025-02-11 00:00:00|\n",
      "|        597| 7302.42|         25|2025-01-28 00:00:00|\n",
      "|        744| 5042.58|         18|2025-03-07 00:00:00|\n",
      "|        126| 7267.06|         28|2024-10-20 00:00:00|\n",
      "|        772| 5914.31|         27|2025-02-08 00:00:00|\n",
      "|        756| 6809.71|         22|2025-03-07 00:00:00|\n",
      "|         81| 7315.49|         24|2025-01-14 00:00:00|\n",
      "|        874| 7700.40|         28|2025-03-07 00:00:00|\n",
      "|        847|10565.05|         36|2024-09-26 00:00:00|\n",
      "+-----------+--------+-----------+-------------------+\n",
      "only showing top 20 rows\n",
      "\n"
     ]
    }
   ],
   "source": [
    "order_group_sum.show()"
   ]
  },
  {
   "cell_type": "code",
   "execution_count": 26,
   "id": "aed3a434-679a-4683-8b6f-0da9a755879c",
   "metadata": {},
   "outputs": [],
   "source": [
    "from pyspark.sql.window import Window"
   ]
  },
  {
   "cell_type": "code",
   "execution_count": 32,
   "id": "ca764f5d-628a-4e9b-bb17-758a617ce8b8",
   "metadata": {},
   "outputs": [],
   "source": [
    "from pyspark.sql.functions import col,rank"
   ]
  },
  {
   "cell_type": "code",
   "execution_count": 30,
   "id": "e92285af-4a28-43db-9e0a-64911f421146",
   "metadata": {},
   "outputs": [],
   "source": [
    "windowSpec = Window.orderBy(col(\"spending\").desc())"
   ]
  },
  {
   "cell_type": "code",
   "execution_count": 35,
   "id": "9994ea5d-5303-4697-a7c6-8fb6f068a384",
   "metadata": {},
   "outputs": [],
   "source": [
    "order_group_sum_rank = order_group_sum.withColumn(\"spends_rank\",rank().over(windowSpec))"
   ]
  },
  {
   "cell_type": "code",
   "execution_count": 36,
   "id": "c51bbcdc-7b70-4632-907f-2f75b2a1f62e",
   "metadata": {},
   "outputs": [
    {
     "name": "stderr",
     "output_type": "stream",
     "text": [
      "25/03/18 19:47:43 WARN WindowExec: No Partition Defined for Window operation! Moving all data to a single partition, this can cause serious performance degradation.\n",
      "25/03/18 19:47:43 WARN WindowExec: No Partition Defined for Window operation! Moving all data to a single partition, this can cause serious performance degradation.\n",
      "25/03/18 19:47:43 WARN WindowExec: No Partition Defined for Window operation! Moving all data to a single partition, this can cause serious performance degradation.\n",
      "25/03/18 19:47:44 WARN WindowExec: No Partition Defined for Window operation! Moving all data to a single partition, this can cause serious performance degradation.\n",
      "25/03/18 19:47:44 WARN WindowExec: No Partition Defined for Window operation! Moving all data to a single partition, this can cause serious performance degradation.\n",
      "25/03/18 19:47:44 WARN WindowExec: No Partition Defined for Window operation! Moving all data to a single partition, this can cause serious performance degradation.\n",
      "25/03/18 19:47:44 WARN WindowExec: No Partition Defined for Window operation! Moving all data to a single partition, this can cause serious performance degradation.\n",
      "25/03/18 19:47:44 WARN WindowExec: No Partition Defined for Window operation! Moving all data to a single partition, this can cause serious performance degradation.\n"
     ]
    },
    {
     "name": "stdout",
     "output_type": "stream",
     "text": [
      "+-----------+--------+-----------+-------------------+-----------+\n",
      "|customer_id|spending|total_order|    last_order_date|spends_rank|\n",
      "+-----------+--------+-----------+-------------------+-----------+\n",
      "|        666|11469.72|         40|2025-01-06 00:00:00|          1|\n",
      "|        190|11465.77|         40|2024-10-11 00:00:00|          2|\n",
      "|        335|11213.27|         38|2025-03-14 00:00:00|          3|\n",
      "|        457|11071.19|         38|2025-01-28 00:00:00|          4|\n",
      "|        863|11053.31|         35|2024-12-31 00:00:00|          5|\n",
      "|        577|11013.82|         36|2024-10-31 00:00:00|          6|\n",
      "|        228|11006.96|         39|2025-02-18 00:00:00|          7|\n",
      "|        847|10565.05|         36|2024-09-26 00:00:00|          8|\n",
      "|        717|10425.51|         41|2024-12-12 00:00:00|          9|\n",
      "|        839|10312.79|         34|2025-02-08 00:00:00|         10|\n",
      "|        309|10232.12|         46|2025-03-06 00:00:00|         11|\n",
      "|        846|10159.42|         40|2025-02-07 00:00:00|         12|\n",
      "|        287|10125.00|         37|2025-01-25 00:00:00|         13|\n",
      "|        865|10022.60|         33|2025-01-29 00:00:00|         14|\n",
      "|        103| 9975.41|         35|2025-02-11 00:00:00|         15|\n",
      "|          2| 9916.90|         32|2025-03-01 00:00:00|         16|\n",
      "|        746| 9896.93|         36|2025-03-03 00:00:00|         17|\n",
      "|        582| 9788.15|         32|2025-01-28 00:00:00|         18|\n",
      "|        441| 9744.47|         36|2025-01-02 00:00:00|         19|\n",
      "|        249| 9734.14|         39|2025-01-18 00:00:00|         20|\n",
      "+-----------+--------+-----------+-------------------+-----------+\n",
      "only showing top 20 rows\n",
      "\n"
     ]
    },
    {
     "name": "stderr",
     "output_type": "stream",
     "text": [
      "                                                                                \r"
     ]
    }
   ],
   "source": [
    "order_group_sum_rank.show()"
   ]
  },
  {
   "cell_type": "code",
   "execution_count": null,
   "id": "249c4709-dd96-418c-a7fd-807fad94a75d",
   "metadata": {},
   "outputs": [],
   "source": []
  },
  {
   "cell_type": "code",
   "execution_count": null,
   "id": "010a25b8-9c50-4319-aba3-a2878a1ff9ca",
   "metadata": {},
   "outputs": [],
   "source": []
  },
  {
   "cell_type": "code",
   "execution_count": null,
   "id": "377ccd01-8018-451e-8ddb-64a6983016d3",
   "metadata": {},
   "outputs": [],
   "source": []
  },
  {
   "cell_type": "code",
   "execution_count": null,
   "id": "fe90d4af-1821-447b-a4e5-267d9e989be9",
   "metadata": {},
   "outputs": [],
   "source": []
  },
  {
   "cell_type": "code",
   "execution_count": null,
   "id": "90c24f3f-409e-42b3-b9f0-88db1685cce5",
   "metadata": {},
   "outputs": [],
   "source": []
  },
  {
   "cell_type": "code",
   "execution_count": null,
   "id": "6e4447f1-5a2f-4091-a308-1f516efd2578",
   "metadata": {},
   "outputs": [],
   "source": []
  },
  {
   "cell_type": "code",
   "execution_count": null,
   "id": "fb19db86-9d05-46af-92a9-cf94f54ca365",
   "metadata": {},
   "outputs": [],
   "source": []
  },
  {
   "cell_type": "code",
   "execution_count": null,
   "id": "5d7bd113-0054-448f-aa3e-8e6f23dd43bb",
   "metadata": {},
   "outputs": [],
   "source": []
  },
  {
   "cell_type": "code",
   "execution_count": null,
   "id": "4409e1b4-8807-4118-b5b1-20f292aed9ed",
   "metadata": {},
   "outputs": [],
   "source": []
  },
  {
   "cell_type": "code",
   "execution_count": null,
   "id": "72a83b62-a8f8-478c-867f-91cd97da98f5",
   "metadata": {},
   "outputs": [],
   "source": []
  },
  {
   "cell_type": "code",
   "execution_count": null,
   "id": "9307b787-a735-4105-ae0a-b38bbdb415c8",
   "metadata": {},
   "outputs": [],
   "source": []
  },
  {
   "cell_type": "code",
   "execution_count": null,
   "id": "32099022-9936-4df4-bda7-c3a5b504b2ea",
   "metadata": {},
   "outputs": [],
   "source": []
  },
  {
   "cell_type": "code",
   "execution_count": 8,
   "id": "20a0f007-8b95-4efd-acce-fc28a9cd816a",
   "metadata": {},
   "outputs": [],
   "source": [
    "df = sparkCustomer.createDataFrame(\n",
    "    [(14, \"Tom\"), (23, \"Alice\"), (16, \"Bob\")], [\"age\", \"name\"])"
   ]
  },
  {
   "cell_type": "code",
   "execution_count": 9,
   "id": "fccdb797-8d87-4043-bbb3-392315afc46b",
   "metadata": {},
   "outputs": [
    {
     "name": "stderr",
     "output_type": "stream",
     "text": [
      "                                                                                \r"
     ]
    },
    {
     "name": "stdout",
     "output_type": "stream",
     "text": [
      "+---+-----+\n",
      "|age| name|\n",
      "+---+-----+\n",
      "| 14|  Tom|\n",
      "| 23|Alice|\n",
      "| 16|  Bob|\n",
      "+---+-----+\n",
      "\n"
     ]
    }
   ],
   "source": [
    "df.show()"
   ]
  },
  {
   "cell_type": "code",
   "execution_count": 14,
   "id": "4161db60-e1a1-44ca-b2fb-bab75d35929a",
   "metadata": {},
   "outputs": [
    {
     "name": "stderr",
     "output_type": "stream",
     "text": [
      "25/03/15 08:18:14 WARN SparkSession: Using an existing Spark session; only runtime SQL configurations will take effect.\n"
     ]
    }
   ],
   "source": [
    "sparkdf = SparkSession.builder.appName(\"ddf\").getOrCreate()"
   ]
  },
  {
   "cell_type": "code",
   "execution_count": 15,
   "id": "bdd74143-692d-46c0-9d53-9952d44f897e",
   "metadata": {},
   "outputs": [
    {
     "name": "stdout",
     "output_type": "stream",
     "text": [
      "<pyspark.sql.session.SparkSession object at 0x7f82b4274a00>\n"
     ]
    }
   ],
   "source": [
    "print(sparkdf)"
   ]
  },
  {
   "cell_type": "code",
   "execution_count": 19,
   "id": "24090d7d-eb50-40b6-a922-436669f979ee",
   "metadata": {},
   "outputs": [],
   "source": [
    "dfOne = sparkdf.createDataFrame(\n",
    "    [(1,2,(3,14)),(4,5,(6,15)),(7,8,(9,16)),(10,11,(12,13))],[\"a\",\"b\",\"c\"])"
   ]
  },
  {
   "cell_type": "code",
   "execution_count": 20,
   "id": "f9d5e038-7d16-4d38-90e2-4354114d1b3b",
   "metadata": {},
   "outputs": [
    {
     "name": "stdout",
     "output_type": "stream",
     "text": [
      "+---+---+--------+\n",
      "|  a|  b|       c|\n",
      "+---+---+--------+\n",
      "|  1|  2| {3, 14}|\n",
      "|  4|  5| {6, 15}|\n",
      "|  7|  8| {9, 16}|\n",
      "| 10| 11|{12, 13}|\n",
      "+---+---+--------+\n",
      "\n"
     ]
    }
   ],
   "source": [
    "dfOne.show()"
   ]
  },
  {
   "cell_type": "code",
   "execution_count": 21,
   "id": "871a3395-5ada-468b-b257-6f7d7b6c0091",
   "metadata": {},
   "outputs": [
    {
     "name": "stdout",
     "output_type": "stream",
     "text": [
      "root\n",
      " |-- a: long (nullable = true)\n",
      " |-- b: long (nullable = true)\n",
      " |-- c: struct (nullable = true)\n",
      " |    |-- _1: long (nullable = true)\n",
      " |    |-- _2: long (nullable = true)\n",
      "\n"
     ]
    }
   ],
   "source": [
    "dfOne.printSchema()"
   ]
  },
  {
   "cell_type": "code",
   "execution_count": 26,
   "id": "deaa44ff-7906-4fd2-bf31-b2e51dcc39fb",
   "metadata": {},
   "outputs": [
    {
     "data": {
      "text/plain": [
       "['customer_id',\n",
       " 'first_name',\n",
       " 'last_name',\n",
       " 'email',\n",
       " 'phone',\n",
       " 'address',\n",
       " 'city',\n",
       " 'state',\n",
       " 'zip_code',\n",
       " 'country',\n",
       " 'created_at']"
      ]
     },
     "execution_count": 26,
     "metadata": {},
     "output_type": "execute_result"
    }
   ],
   "source": [
    "#print columns\n",
    "customer_df.columns"
   ]
  },
  {
   "cell_type": "code",
   "execution_count": 24,
   "id": "572809d7-0dd7-4018-93e4-06524a3ffabd",
   "metadata": {},
   "outputs": [
    {
     "name": "stdout",
     "output_type": "stream",
     "text": [
      "root\n",
      " |-- customer_id: integer (nullable = true)\n",
      " |-- first_name: string (nullable = true)\n",
      " |-- last_name: string (nullable = true)\n",
      " |-- email: string (nullable = true)\n",
      " |-- phone: string (nullable = true)\n",
      " |-- address: string (nullable = true)\n",
      " |-- city: string (nullable = true)\n",
      " |-- state: string (nullable = true)\n",
      " |-- zip_code: string (nullable = true)\n",
      " |-- country: string (nullable = true)\n",
      " |-- created_at: timestamp (nullable = true)\n",
      "\n"
     ]
    }
   ],
   "source": [
    "#print schema\n",
    "customer_df.printSchema()"
   ]
  },
  {
   "cell_type": "code",
   "execution_count": 28,
   "id": "891b80db-3caa-4a13-933f-831a401123bd",
   "metadata": {},
   "outputs": [
    {
     "data": {
      "text/plain": [
       "[Row(customer_id=1, first_name='Michael', last_name='Rodgers', email='katiecasey@example.net', phone='+1-664-301-3316x91300', address='USS Dudley\\nFPO AA 46717', city='North Traci', state='Idaho', zip_code='38917', country='Saint Lucia', created_at=datetime.datetime(2025, 3, 15, 7, 34, 22)),\n",
       " Row(customer_id=2, first_name='Paula', last_name='Berry', email='carolyn15@example.com', phone='971-396-8026x98919', address='PSC 9301, Box 9514\\nAPO AE 66260', city='Hornechester', state='Michigan', zip_code='14169', country='Turkey', created_at=datetime.datetime(2025, 3, 15, 7, 34, 32)),\n",
       " Row(customer_id=3, first_name='Angela', last_name='Lawrence', email='kchung@example.org', phone='616-578-2644x4229', address='884 Brandi Pike Apt. 946\\nJonesborough, MI 69095', city='New Kelsey', state='Maryland', zip_code='38467', country='Lesotho', created_at=datetime.datetime(2025, 3, 15, 7, 34, 24)),\n",
       " Row(customer_id=4, first_name='Nancy', last_name='May', email='carol17@example.org', phone='823-433-0320x8126', address='254 Watson Via Suite 018\\nHannahfort, CO 47550', city='Andersonport', state='Arkansas', zip_code='38645', country='Vietnam', created_at=datetime.datetime(2025, 3, 15, 7, 34, 37)),\n",
       " Row(customer_id=5, first_name='Christopher', last_name='Howell', email='melanie13@example.com', phone='+1-585-711-2536x71092', address='1818 William Gateway Suite 060\\nKleinside, TN 81183', city='Spencerhaven', state='New York', zip_code='64962', country='Bahamas', created_at=datetime.datetime(2025, 3, 15, 7, 34, 30))]"
      ]
     },
     "execution_count": 28,
     "metadata": {},
     "output_type": "execute_result"
    }
   ],
   "source": [
    "customer_df.head(5)"
   ]
  },
  {
   "cell_type": "code",
   "execution_count": 31,
   "id": "5f911953-d2bd-4f3f-9dc3-c8b230320629",
   "metadata": {},
   "outputs": [
    {
     "name": "stdout",
     "output_type": "stream",
     "text": [
      "+-----------+----------+---------+--------------------+--------------------+--------------------+------------+--------+--------+-----------+-------------------+\n",
      "|customer_id|first_name|last_name|               email|               phone|             address|        city|   state|zip_code|    country|         created_at|\n",
      "+-----------+----------+---------+--------------------+--------------------+--------------------+------------+--------+--------+-----------+-------------------+\n",
      "|          1|   Michael|  Rodgers|katiecasey@exampl...|+1-664-301-3316x9...|USS Dudley\\nFPO A...| North Traci|   Idaho|   38917|Saint Lucia|2025-03-15 07:34:22|\n",
      "|          2|     Paula|    Berry|carolyn15@example...|  971-396-8026x98919|PSC 9301, Box 951...|Hornechester|Michigan|   14169|     Turkey|2025-03-15 07:34:32|\n",
      "+-----------+----------+---------+--------------------+--------------------+--------------------+------------+--------+--------+-----------+-------------------+\n",
      "only showing top 2 rows\n",
      "\n"
     ]
    }
   ],
   "source": [
    "customer_df.show(2)"
   ]
  },
  {
   "cell_type": "code",
   "execution_count": 38,
   "id": "e33a3666-ea0e-49a0-aa34-43c1c9d9f617",
   "metadata": {},
   "outputs": [
    {
     "name": "stderr",
     "output_type": "stream",
     "text": [
      "                                                                                \r"
     ]
    },
    {
     "data": {
      "text/plain": [
       "[Row(customer_id=1, first_name='Michael', last_name='Rodgers', email='katiecasey@example.net', phone='+1-664-301-3316x91300', address='USS Dudley\\nFPO AA 46717', city='North Traci', state='Idaho', zip_code='38917', country='Saint Lucia', created_at=datetime.datetime(2025, 3, 15, 7, 34, 22)),\n",
       " Row(customer_id=2, first_name='Paula', last_name='Berry', email='carolyn15@example.com', phone='971-396-8026x98919', address='PSC 9301, Box 9514\\nAPO AE 66260', city='Hornechester', state='Michigan', zip_code='14169', country='Turkey', created_at=datetime.datetime(2025, 3, 15, 7, 34, 32))]"
      ]
     },
     "execution_count": 38,
     "metadata": {},
     "output_type": "execute_result"
    }
   ],
   "source": [
    "customer_df.take(2)"
   ]
  },
  {
   "cell_type": "code",
   "execution_count": 44,
   "id": "c691caf5-5658-400f-8f5c-c5cfb93952c4",
   "metadata": {},
   "outputs": [
    {
     "data": {
      "text/plain": [
       "DataFrame[customer_id: int, first_name: string, last_name: string, email: string, phone: string, address: string, city: string, state: string, zip_code: string, country: string, created_at: timestamp]"
      ]
     },
     "execution_count": 44,
     "metadata": {},
     "output_type": "execute_result"
    }
   ],
   "source": [
    "customer_df.limit(1)"
   ]
  },
  {
   "cell_type": "code",
   "execution_count": 45,
   "id": "0a228578-484d-4427-9945-6b2dc2401745",
   "metadata": {},
   "outputs": [
    {
     "data": {
      "text/plain": [
       "Row(customer_id=1, first_name='Michael', last_name='Rodgers', email='katiecasey@example.net', phone='+1-664-301-3316x91300', address='USS Dudley\\nFPO AA 46717', city='North Traci', state='Idaho', zip_code='38917', country='Saint Lucia', created_at=datetime.datetime(2025, 3, 15, 7, 34, 22))"
      ]
     },
     "execution_count": 45,
     "metadata": {},
     "output_type": "execute_result"
    }
   ],
   "source": [
    "customer_df.head()"
   ]
  },
  {
   "cell_type": "code",
   "execution_count": 51,
   "id": "e14ab6eb-cac2-447f-83b2-79e603cc24b8",
   "metadata": {},
   "outputs": [
    {
     "name": "stdout",
     "output_type": "stream",
     "text": [
      "+-----------+----------+---------+--------------------+--------------------+--------------------+----------------+--------+--------+-----------+-------------------+\n",
      "|customer_id|first_name|last_name|               email|               phone|             address|            city|   state|zip_code|    country|         created_at|\n",
      "+-----------+----------+---------+--------------------+--------------------+--------------------+----------------+--------+--------+-----------+-------------------+\n",
      "|          1|   Michael|  Rodgers|katiecasey@exampl...|+1-664-301-3316x9...|USS Dudley\\nFPO A...|     North Traci|   Idaho|   38917|Saint Lucia|2025-03-15 07:34:22|\n",
      "|        110|   Gregory|    Walls|josedavis@example...|   231-313-7890x9429|98429 Katherine P...|     Austinburgh|Maryland|   36829|Saint Lucia|2025-03-15 07:34:35|\n",
      "|        390|     David| Peterson|samuel00@example.net|+1-433-855-2564x0...|57056 Stacy Islan...|East Michaeltown|Virginia|   47324|Saint Lucia|2025-03-15 07:34:35|\n",
      "+-----------+----------+---------+--------------------+--------------------+--------------------+----------------+--------+--------+-----------+-------------------+\n",
      "\n"
     ]
    }
   ],
   "source": [
    "customer_df.filter(customer_df.country==\"Saint Lucia\").show()"
   ]
  },
  {
   "cell_type": "code",
   "execution_count": null,
   "id": "04f0086c-c15f-44c0-a646-541e78bbfbf2",
   "metadata": {},
   "outputs": [],
   "source": [
    "customer_df.filter(customer_id == )"
   ]
  }
 ],
 "metadata": {
  "kernelspec": {
   "display_name": "Python 3 (ipykernel)",
   "language": "python",
   "name": "python3"
  },
  "language_info": {
   "codemirror_mode": {
    "name": "ipython",
    "version": 3
   },
   "file_extension": ".py",
   "mimetype": "text/x-python",
   "name": "python",
   "nbconvert_exporter": "python",
   "pygments_lexer": "ipython3",
   "version": "3.10.2"
  }
 },
 "nbformat": 4,
 "nbformat_minor": 5
}
