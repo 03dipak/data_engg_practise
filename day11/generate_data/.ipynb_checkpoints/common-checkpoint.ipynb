{
 "cells": [
  {
   "cell_type": "code",
   "execution_count": null,
   "id": "450d0d9b-0a0c-43af-ad1f-a2e3eaea938d",
   "metadata": {},
   "outputs": [],
   "source": [
    "USER_MYSQL_URL = \"jdbc:mysql://172.17.0.2:3306/UserService\"\n",
    "ORDER_MYSQL_URL = \"jdbc:mysql://172.17.0.2:3306/OrderService\"\n",
    "PRODUCT_MYSQL_URL = \"jdbc:mysql://172.17.0.2:3306/ProductService\"\n",
    "MYSQL_PROPERTIES = {\n",
    "    'user': 'root',\n",
    "    'password': '*7E567C9DC06217268D72D52BABCA14EAB8993ACF',\n",
    "    'driver': 'com.mysql.cj.jdbc.Driver',\n",
    "    'allowPublicKeyRetrieval':'true',\n",
    "    'useSSL':'false'\n",
    "}\n",
    "# Read Customers table"
   ]
  },
  {
   "cell_type": "code",
   "execution_count": null,
   "id": "8dcd4e05-e3c4-4e94-bc5c-ca1f650664c4",
   "metadata": {},
   "outputs": [],
   "source": [
    "def write_data_mysql(df,tablename):\n",
    "    df.write.jdbc(url=MYSQL_URL, table=tablename, mode=\"append\", properties=MYSQL_PROPERTIES)\n",
    "    print(\"Data written to MySQL successfully\")\n",
    "    "
   ]
  }
 ],
 "metadata": {
  "kernelspec": {
   "display_name": "Python 3 (ipykernel)",
   "language": "python",
   "name": "python3"
  },
  "language_info": {
   "codemirror_mode": {
    "name": "ipython",
    "version": 3
   },
   "file_extension": ".py",
   "mimetype": "text/x-python",
   "name": "python",
   "nbconvert_exporter": "python",
   "pygments_lexer": "ipython3",
   "version": "3.10.2"
  }
 },
 "nbformat": 4,
 "nbformat_minor": 5
}
