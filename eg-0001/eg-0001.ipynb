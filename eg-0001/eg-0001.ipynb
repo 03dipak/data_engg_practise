{
 "cells": [
  {
   "cell_type": "code",
   "execution_count": 1,
   "id": "0b4ef0d2-58c5-4f37-97d8-ceeb360e07a6",
   "metadata": {},
   "outputs": [
    {
     "name": "stdout",
     "output_type": "stream",
     "text": [
      "hello\n"
     ]
    }
   ],
   "source": [
    "print(\"hello\")"
   ]
  },
  {
   "cell_type": "code",
   "execution_count": 5,
   "id": "5b20e4f2-94e7-4160-ae19-25611b956093",
   "metadata": {},
   "outputs": [],
   "source": [
    "import os"
   ]
  },
  {
   "cell_type": "code",
   "execution_count": 3,
   "id": "bbdee8b4-ba10-49d3-9b19-4d19f1490147",
   "metadata": {},
   "outputs": [],
   "source": [
    "from pathlib import Path\n",
    "absolute_path = Path().absolute()"
   ]
  },
  {
   "cell_type": "code",
   "execution_count": 6,
   "id": "031df35d-4371-448a-b073-5115d27ed002",
   "metadata": {},
   "outputs": [],
   "source": [
    "input_path = os.path.join(absolute_path, 'input.csv')"
   ]
  },
  {
   "cell_type": "code",
   "execution_count": 4,
   "id": "02a11105-a4ee-450d-9e0d-53b8b504262e",
   "metadata": {},
   "outputs": [
    {
     "name": "stdout",
     "output_type": "stream",
     "text": [
      "/home/glue_user/workspace/jupyter_workspace/external_pra/eg-0001\n"
     ]
    }
   ],
   "source": [
    "print(absolute_path)"
   ]
  },
  {
   "cell_type": "code",
   "execution_count": 7,
   "id": "00d5c66b-93c8-49f2-9314-05cfc0915a18",
   "metadata": {},
   "outputs": [
    {
     "name": "stdout",
     "output_type": "stream",
     "text": [
      "/home/glue_user/workspace/jupyter_workspace/external_pra/eg-0001/input.csv\n"
     ]
    }
   ],
   "source": [
    "print(input_path)"
   ]
  },
  {
   "cell_type": "code",
   "execution_count": 8,
   "id": "4a50eb4d-dee5-437d-9cea-6d3f97ecddf5",
   "metadata": {},
   "outputs": [],
   "source": [
    "from pyspark.sql.session import SparkSession"
   ]
  },
  {
   "cell_type": "code",
   "execution_count": 9,
   "id": "2258c286-8ee7-4b1c-bde0-522dd14d7d92",
   "metadata": {},
   "outputs": [
    {
     "name": "stderr",
     "output_type": "stream",
     "text": [
      "SLF4J: Class path contains multiple SLF4J bindings.\n",
      "SLF4J: Found binding in [jar:file:/home/glue_user/spark/jars/log4j-slf4j-impl-2.17.2.jar!/org/slf4j/impl/StaticLoggerBinder.class]\n",
      "SLF4J: Found binding in [jar:file:/home/glue_user/spark/jars/slf4j-reload4j-1.7.36.jar!/org/slf4j/impl/StaticLoggerBinder.class]\n",
      "SLF4J: Found binding in [jar:file:/home/glue_user/aws-glue-libs/jars/log4j-slf4j-impl-2.17.2.jar!/org/slf4j/impl/StaticLoggerBinder.class]\n",
      "SLF4J: Found binding in [jar:file:/home/glue_user/aws-glue-libs/jars/slf4j-reload4j-1.7.36.jar!/org/slf4j/impl/StaticLoggerBinder.class]\n",
      "SLF4J: See http://www.slf4j.org/codes.html#multiple_bindings for an explanation.\n",
      "SLF4J: Actual binding is of type [org.apache.logging.slf4j.Log4jLoggerFactory]\n",
      "Setting default log level to \"WARN\".\n",
      "To adjust logging level use sc.setLogLevel(newLevel). For SparkR, use setLogLevel(newLevel).\n"
     ]
    }
   ],
   "source": [
    "spark = SparkSession.builder.master('local[4]').appName('eg-0001').getOrCreate()"
   ]
  },
  {
   "cell_type": "code",
   "execution_count": 10,
   "id": "ce13ee94-d8a0-4cfd-b870-cfccc3b81ebb",
   "metadata": {},
   "outputs": [
    {
     "name": "stdout",
     "output_type": "stream",
     "text": [
      "<pyspark.sql.session.SparkSession object at 0x7f6a3cf6d1b0>\n"
     ]
    }
   ],
   "source": [
    "print(spark)"
   ]
  },
  {
   "cell_type": "code",
   "execution_count": 11,
   "id": "eca7f207-8cb0-475b-b44c-35284b58338b",
   "metadata": {},
   "outputs": [
    {
     "name": "stderr",
     "output_type": "stream",
     "text": [
      "                                                                                \r"
     ]
    }
   ],
   "source": [
    "sparkdf = spark.read.csv(input_path,header=True,inferSchema=True)"
   ]
  },
  {
   "cell_type": "code",
   "execution_count": 12,
   "id": "015022aa-d13d-49fa-abfe-cc30e35d8276",
   "metadata": {},
   "outputs": [
    {
     "name": "stdout",
     "output_type": "stream",
     "text": [
      "+-----+---+------+\n",
      "| name|age|gender|\n",
      "+-----+---+------+\n",
      "| Paul| 40|  male|\n",
      "| John| 40|  male|\n",
      "|David| 15|  male|\n",
      "|Susan| 40|female|\n",
      "|Karen| 34|female|\n",
      "+-----+---+------+\n",
      "\n"
     ]
    }
   ],
   "source": [
    "sparkdf.show()"
   ]
  },
  {
   "cell_type": "code",
   "execution_count": 13,
   "id": "782a31f7-1f03-485e-900b-721bcd8f53e1",
   "metadata": {},
   "outputs": [
    {
     "name": "stdout",
     "output_type": "stream",
     "text": [
      "DataFrame[name: string, age: int, gender: string]\n"
     ]
    }
   ],
   "source": [
    "print(sparkdf)"
   ]
  },
  {
   "cell_type": "code",
   "execution_count": 16,
   "id": "050e2fa0-5983-461b-a286-6b4b61e36e6c",
   "metadata": {},
   "outputs": [
    {
     "name": "stdout",
     "output_type": "stream",
     "text": [
      "Row(name='Paul', age=40, gender='male')\n"
     ]
    }
   ],
   "source": [
    "print(sparkdf.first())"
   ]
  },
  {
   "cell_type": "code",
   "execution_count": 26,
   "id": "b09dfe91-ccf1-4814-a4fe-44af3b504b23",
   "metadata": {},
   "outputs": [
    {
     "name": "stdout",
     "output_type": "stream",
     "text": [
      "male\n"
     ]
    }
   ],
   "source": [
    "print(sparkdf.first()[2])"
   ]
  },
  {
   "cell_type": "code",
   "execution_count": 27,
   "id": "e3c61309-294c-4e5b-967c-262855716b45",
   "metadata": {},
   "outputs": [
    {
     "name": "stdout",
     "output_type": "stream",
     "text": [
      "[Row(name='Paul', age=40, gender='male'), Row(name='John', age=40, gender='male'), Row(name='David', age=15, gender='male')]\n"
     ]
    }
   ],
   "source": [
    "print(sparkdf.take(3))"
   ]
  },
  {
   "cell_type": "code",
   "execution_count": 29,
   "id": "ed8767e4-28d9-4571-9aca-b8db6d177e40",
   "metadata": {},
   "outputs": [
    {
     "name": "stdout",
     "output_type": "stream",
     "text": [
      "[Row(name='Paul', age=40, gender='male'), Row(name='John', age=40, gender='male'), Row(name='David', age=15, gender='male'), Row(name='Susan', age=40, gender='female'), Row(name='Karen', age=34, gender='female')]\n"
     ]
    }
   ],
   "source": [
    "print(sparkdf.head(12))"
   ]
  },
  {
   "cell_type": "code",
   "execution_count": null,
   "id": "c628fd2c-750a-4f67-8202-78f3dad2c63c",
   "metadata": {},
   "outputs": [],
   "source": []
  }
 ],
 "metadata": {
  "kernelspec": {
   "display_name": "Python 3 (ipykernel)",
   "language": "python",
   "name": "python3"
  },
  "language_info": {
   "codemirror_mode": {
    "name": "ipython",
    "version": 3
   },
   "file_extension": ".py",
   "mimetype": "text/x-python",
   "name": "python",
   "nbconvert_exporter": "python",
   "pygments_lexer": "ipython3",
   "version": "3.10.2"
  }
 },
 "nbformat": 4,
 "nbformat_minor": 5
}
