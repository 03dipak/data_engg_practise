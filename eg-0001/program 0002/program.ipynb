{
 "cells": [
  {
   "cell_type": "code",
   "execution_count": 1,
   "id": "dafd26cd-bd5b-4681-9651-b1fa7a6184c6",
   "metadata": {},
   "outputs": [],
   "source": [
    "import os\n",
    "from pyspark.sql.session import SparkSession\n",
    "from pathlib import Path"
   ]
  },
  {
   "cell_type": "code",
   "execution_count": 2,
   "id": "72aa7c8c-1c24-4baf-8368-d8746b1764c2",
   "metadata": {},
   "outputs": [
    {
     "name": "stderr",
     "output_type": "stream",
     "text": [
      "SLF4J: Class path contains multiple SLF4J bindings.\n",
      "SLF4J: Found binding in [jar:file:/home/glue_user/spark/jars/log4j-slf4j-impl-2.17.2.jar!/org/slf4j/impl/StaticLoggerBinder.class]\n",
      "SLF4J: Found binding in [jar:file:/home/glue_user/spark/jars/slf4j-reload4j-1.7.36.jar!/org/slf4j/impl/StaticLoggerBinder.class]\n",
      "SLF4J: Found binding in [jar:file:/home/glue_user/aws-glue-libs/jars/log4j-slf4j-impl-2.17.2.jar!/org/slf4j/impl/StaticLoggerBinder.class]\n",
      "SLF4J: Found binding in [jar:file:/home/glue_user/aws-glue-libs/jars/slf4j-reload4j-1.7.36.jar!/org/slf4j/impl/StaticLoggerBinder.class]\n",
      "SLF4J: See http://www.slf4j.org/codes.html#multiple_bindings for an explanation.\n",
      "SLF4J: Actual binding is of type [org.apache.logging.slf4j.Log4jLoggerFactory]\n",
      "Setting default log level to \"WARN\".\n",
      "To adjust logging level use sc.setLogLevel(newLevel). For SparkR, use setLogLevel(newLevel).\n"
     ]
    }
   ],
   "source": [
    "spark = SparkSession.builder.master(\"local[2]\").appName(\"egprog002\").getOrCreate()"
   ]
  },
  {
   "cell_type": "code",
   "execution_count": 3,
   "id": "5cab2079-babb-4a0c-8b40-baecd4b2ca43",
   "metadata": {},
   "outputs": [],
   "source": [
    "absolutpath = Path().absolute()\n",
    "inputcsv = os.path.join(absolutpath,\"input.csv\")\n",
    "outputPath = os.path.join(absolutpath,\"output\")"
   ]
  },
  {
   "cell_type": "code",
   "execution_count": 4,
   "id": "b999e5cd-2345-4897-8c96-eeac002d7a5a",
   "metadata": {},
   "outputs": [
    {
     "name": "stdout",
     "output_type": "stream",
     "text": [
      "/home/glue_user/workspace/jupyter_workspace/external_pra/eg-0001/program 0002/input.csv\n",
      "/home/glue_user/workspace/jupyter_workspace/external_pra/eg-0001/program 0002/output\n"
     ]
    }
   ],
   "source": [
    "print(inputcsv)\n",
    "print(outputPath)"
   ]
  },
  {
   "cell_type": "code",
   "execution_count": 5,
   "id": "f0991bb1-cbed-4017-8876-314234a11981",
   "metadata": {},
   "outputs": [
    {
     "name": "stderr",
     "output_type": "stream",
     "text": [
      "                                                                                \r"
     ]
    },
    {
     "name": "stdout",
     "output_type": "stream",
     "text": [
      "+-----+-------+---+\n",
      "| name|surname|age|\n",
      "+-----+-------+---+\n",
      "|Paolo|  Garza| 42|\n",
      "| Luca| Boccia| 41|\n",
      "|Maura|Bianchi| 16|\n",
      "+-----+-------+---+\n",
      "\n"
     ]
    }
   ],
   "source": [
    "sparkdf = spark.read.csv(inputcsv, header=True, inferSchema=True)\n",
    "sparkdf.show()"
   ]
  },
  {
   "cell_type": "code",
   "execution_count": 7,
   "id": "565f8462-78a0-4b3c-b533-4e52b232c3ca",
   "metadata": {},
   "outputs": [],
   "source": [
    "sparkdf.createOrReplaceTempView(\"filtersql\")"
   ]
  },
  {
   "cell_type": "code",
   "execution_count": 13,
   "id": "3584beee-2cd4-4b0d-8e3e-95c360fa5600",
   "metadata": {},
   "outputs": [],
   "source": [
    "filterdf = spark.sql(\"select name , surname , age / 10 as fromTest from filtersql\")"
   ]
  },
  {
   "cell_type": "code",
   "execution_count": 14,
   "id": "0ff84c4a-a683-4ccb-af4d-a8ce45960f60",
   "metadata": {},
   "outputs": [
    {
     "name": "stdout",
     "output_type": "stream",
     "text": [
      "+-----+-------+--------+\n",
      "| name|surname|fromTest|\n",
      "+-----+-------+--------+\n",
      "|Paolo|  Garza|     4.2|\n",
      "| Luca| Boccia|     4.1|\n",
      "|Maura|Bianchi|     1.6|\n",
      "+-----+-------+--------+\n",
      "\n"
     ]
    }
   ],
   "source": [
    "filterdf.show()"
   ]
  },
  {
   "cell_type": "code",
   "execution_count": 15,
   "id": "bf1a474f-d7a2-407b-bcc0-38cd9d1e8c83",
   "metadata": {},
   "outputs": [
    {
     "name": "stderr",
     "output_type": "stream",
     "text": [
      "                                                                                \r"
     ]
    }
   ],
   "source": [
    "filterdf.repartition(1).write.mode(\"overwrite\").json(outputPath)"
   ]
  },
  {
   "cell_type": "code",
   "execution_count": null,
   "id": "e8991384-db85-4535-9186-ec25a75a63da",
   "metadata": {},
   "outputs": [],
   "source": []
  }
 ],
 "metadata": {
  "kernelspec": {
   "display_name": "Python 3 (ipykernel)",
   "language": "python",
   "name": "python3"
  },
  "language_info": {
   "codemirror_mode": {
    "name": "ipython",
    "version": 3
   },
   "file_extension": ".py",
   "mimetype": "text/x-python",
   "name": "python",
   "nbconvert_exporter": "python",
   "pygments_lexer": "ipython3",
   "version": "3.10.2"
  }
 },
 "nbformat": 4,
 "nbformat_minor": 5
}
