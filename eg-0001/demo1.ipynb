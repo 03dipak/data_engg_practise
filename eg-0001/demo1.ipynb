{
 "cells": [
  {
   "cell_type": "code",
   "execution_count": null,
   "id": "d9034831-69c7-467f-b6a8-70e53a5c6cf9",
   "metadata": {},
   "outputs": [],
   "source": [
    "spark.read.csv"
   ]
  },
  {
   "cell_type": "code",
   "execution_count": null,
   "id": "1d6cfe37-290b-467a-bc85-60a614c5fa76",
   "metadata": {},
   "outputs": [],
   "source": [
    "print(\"hello\")"
   ]
  },
  {
   "cell_type": "code",
   "execution_count": null,
   "id": "9dece67e-6cce-4f05-a108-cc044da65105",
   "metadata": {},
   "outputs": [],
   "source": []
  },
  {
   "cell_type": "code",
   "execution_count": null,
   "id": "f5633d27-c1be-4baf-872f-86ab6dc423f4",
   "metadata": {},
   "outputs": [],
   "source": [
    "def sum(a, b):\n",
    "    return a+b \n"
   ]
  },
  {
   "cell_type": "code",
   "execution_count": null,
   "id": "144dc500-94f4-4b12-8657-dff006622720",
   "metadata": {},
   "outputs": [],
   "source": [
    "sum(100,382288)"
   ]
  },
  {
   "cell_type": "code",
   "execution_count": 1,
   "id": "c749b911-084c-4701-9075-95425b2706d8",
   "metadata": {},
   "outputs": [
    {
     "name": "stderr",
     "output_type": "stream",
     "text": [
      "SLF4J: Class path contains multiple SLF4J bindings.\n",
      "SLF4J: Found binding in [jar:file:/home/glue_user/spark/jars/log4j-slf4j-impl-2.17.2.jar!/org/slf4j/impl/StaticLoggerBinder.class]\n",
      "SLF4J: Found binding in [jar:file:/home/glue_user/spark/jars/slf4j-reload4j-1.7.36.jar!/org/slf4j/impl/StaticLoggerBinder.class]\n",
      "SLF4J: Found binding in [jar:file:/home/glue_user/aws-glue-libs/jars/log4j-slf4j-impl-2.17.2.jar!/org/slf4j/impl/StaticLoggerBinder.class]\n",
      "SLF4J: Found binding in [jar:file:/home/glue_user/aws-glue-libs/jars/slf4j-reload4j-1.7.36.jar!/org/slf4j/impl/StaticLoggerBinder.class]\n",
      "SLF4J: See http://www.slf4j.org/codes.html#multiple_bindings for an explanation.\n",
      "SLF4J: Actual binding is of type [org.apache.logging.slf4j.Log4jLoggerFactory]\n",
      "Setting default log level to \"WARN\".\n",
      "To adjust logging level use sc.setLogLevel(newLevel). For SparkR, use setLogLevel(newLevel).\n"
     ]
    }
   ],
   "source": [
    "from pyspark.sql.session import SparkSession\n",
    "\n",
    "spark = SparkSession.builder.master('local[6]').appName('Dataframedemo').getOrCreate()\n",
    "\n"
   ]
  },
  {
   "cell_type": "code",
   "execution_count": null,
   "id": "c75e9cff-b04c-48e0-be0d-3c81bd9a246c",
   "metadata": {},
   "outputs": [],
   "source": [
    "spark"
   ]
  },
  {
   "cell_type": "code",
   "execution_count": 2,
   "id": "12cf1191-44ad-445d-bb34-6207b0164839",
   "metadata": {},
   "outputs": [
    {
     "name": "stderr",
     "output_type": "stream",
     "text": [
      "25/02/28 05:00:39 WARN MetricsConfig: Cannot locate configuration: tried hadoop-metrics2-s3a-file-system.properties,hadoop-metrics2.properties\n",
      "                                                                                \r"
     ]
    },
    {
     "name": "stdout",
     "output_type": "stream",
     "text": [
      "6\n"
     ]
    }
   ],
   "source": [
    "salesdf=spark.read.csv('s3://feb2025-training-bucket/data/SalesData_1m.csv',header=True,inferSchema=True)\n",
    "print(salesdf.rdd.getNumPartitions())\n",
    "#salesdf.show()\n",
    "#salesdf.count()\n",
    "salesdf.createOrReplaceTempView(\"sales_temp_view\")\n",
    "#salesdf.printSchema()"
   ]
  },
  {
   "cell_type": "code",
   "execution_count": 3,
   "id": "bae178cd-79bf-4bf9-9c08-cd08b4064207",
   "metadata": {},
   "outputs": [
    {
     "name": "stdout",
     "output_type": "stream",
     "text": [
      "+-------+-------+---------+-------+-------------+---------+-----------+--------+---------+-------------------+\n",
      "|OrderID|Country|     City|StoreID|CustomerGroup|ProductID|   Category|Quantity|UnitPrice|       DeliveryDate|\n",
      "+-------+-------+---------+-------+-------------+---------+-----------+--------+---------+-------------------+\n",
      "|      4|  India|   Mumbai|   S076|       Budget|     P004|     Laptop|       5|   390.72|2024-11-14 00:00:00|\n",
      "|     17|  India|    Delhi|   S072|       Budget|     P008|Accessories|       9|   537.23|2024-11-09 00:00:00|\n",
      "|     23|  India|    Delhi|   S068|       Budget|     P009|     Tablet|       5|   143.36|2024-11-05 00:00:00|\n",
      "|     28|  India|Bangalore|   S086|      Regular|     P005|     Laptop|       4|    319.1|2024-11-01 00:00:00|\n",
      "|     31|  India|   Mumbai|   S031|       Budget|     P006|     Laptop|       1|   455.25|2024-11-22 00:00:00|\n",
      "|     32|  India|Bangalore|   S044|      Premium|     P001|     Mobile|       5|   903.94|2024-11-05 00:00:00|\n",
      "|     42|  India|   Mumbai|   S060|      Regular|     P010|     Tablet|       3|   144.57|2024-11-06 00:00:00|\n",
      "|     43|  India|    Delhi|   S040|      Regular|     P007|     Laptop|      10|   806.26|2024-11-06 00:00:00|\n",
      "|     51|  India|Bangalore|   S004|       Budget|     P006|Accessories|       7|    52.41|2024-11-12 00:00:00|\n",
      "|     54|  India|Bangalore|   S073|       Budget|     P003|     Mobile|       5|   138.43|2024-11-05 00:00:00|\n",
      "|     63|  India|   Mumbai|   S003|      Premium|     P003|     Mobile|       8|    15.52|2024-11-16 00:00:00|\n",
      "|     67|  India|    Delhi|   S061|       Budget|     P008|Accessories|       2|   568.62|2024-11-09 00:00:00|\n",
      "|     76|  India|   Mumbai|   S082|       Budget|     P006|     Mobile|       4|   427.88|2024-11-08 00:00:00|\n",
      "|     77|  India|   Mumbai|   S041|       Budget|     P005|     Tablet|       6|   237.99|2024-11-21 00:00:00|\n",
      "|     79|  India|   Mumbai|   S012|      Regular|     P003|     Laptop|       7|   554.74|2024-11-06 00:00:00|\n",
      "|     80|  India|Bangalore|   S023|       Budget|     P006|     Tablet|       3|   219.36|2024-11-13 00:00:00|\n",
      "|     88|  India|    Delhi|   S077|       Budget|     P004|Accessories|       6|   762.42|2024-11-22 00:00:00|\n",
      "|     89|  India|    Delhi|   S024|      Regular|     P007|     Tablet|       8|    56.41|2024-11-02 00:00:00|\n",
      "|     98|  India|    Delhi|   S054|       Budget|     P007|     Mobile|       8|   390.45|2024-11-12 00:00:00|\n",
      "|     99|  India|    Delhi|   S055|      Regular|     P008|     Mobile|       7|   219.74|2024-11-21 00:00:00|\n",
      "+-------+-------+---------+-------+-------------+---------+-----------+--------+---------+-------------------+\n",
      "only showing top 20 rows\n",
      "\n"
     ]
    }
   ],
   "source": [
    "filterd_df =spark.sql(\"select * from sales_temp_view where Country='India' \")\n",
    "filterd_df.show()"
   ]
  },
  {
   "cell_type": "code",
   "execution_count": 4,
   "id": "bdc37ce8-c2dc-48c1-9879-8b71ba0318cb",
   "metadata": {},
   "outputs": [
    {
     "name": "stderr",
     "output_type": "stream",
     "text": [
      "                                                                                \r"
     ]
    },
    {
     "data": {
      "text/plain": [
       "111135"
      ]
     },
     "execution_count": 4,
     "metadata": {},
     "output_type": "execute_result"
    }
   ],
   "source": [
    "filterd_df.count()"
   ]
  },
  {
   "cell_type": "code",
   "execution_count": 6,
   "id": "5f72dc9b-90c9-4a67-b9cc-ac2e13ac985d",
   "metadata": {},
   "outputs": [
    {
     "name": "stderr",
     "output_type": "stream",
     "text": [
      "                                                                                \r"
     ]
    }
   ],
   "source": [
    "filterd_df.repartition(1).write.mode(\"overwrite\").json(\"s3://feb2025-training-bucket/data/finance/sales_json\")"
   ]
  },
  {
   "cell_type": "code",
   "execution_count": null,
   "id": "0367d157-5a7d-4ee5-97cc-4219630958eb",
   "metadata": {},
   "outputs": [],
   "source": []
  }
 ],
 "metadata": {
  "kernelspec": {
   "display_name": "Python 3 (ipykernel)",
   "language": "python",
   "name": "python3"
  },
  "language_info": {
   "codemirror_mode": {
    "name": "ipython",
    "version": 3
   },
   "file_extension": ".py",
   "mimetype": "text/x-python",
   "name": "python",
   "nbconvert_exporter": "python",
   "pygments_lexer": "ipython3",
   "version": "3.10.2"
  }
 },
 "nbformat": 4,
 "nbformat_minor": 5
}
