{
 "cells": [
  {
   "cell_type": "code",
   "execution_count": 3,
   "id": "2fbec8e3-32ae-413a-b775-138626605ad9",
   "metadata": {},
   "outputs": [],
   "source": [
    "import os\n",
    "from pyspark.sql.session import SparkSession\n",
    "from pathlib import Path"
   ]
  },
  {
   "cell_type": "code",
   "execution_count": 9,
   "id": "ef29ea0a-2808-4a67-afea-d3d625999d82",
   "metadata": {},
   "outputs": [
    {
     "name": "stderr",
     "output_type": "stream",
     "text": [
      "SLF4J: Class path contains multiple SLF4J bindings.\n",
      "SLF4J: Found binding in [jar:file:/home/glue_user/spark/jars/log4j-slf4j-impl-2.17.2.jar!/org/slf4j/impl/StaticLoggerBinder.class]\n",
      "SLF4J: Found binding in [jar:file:/home/glue_user/spark/jars/slf4j-reload4j-1.7.36.jar!/org/slf4j/impl/StaticLoggerBinder.class]\n",
      "SLF4J: Found binding in [jar:file:/home/glue_user/aws-glue-libs/jars/log4j-slf4j-impl-2.17.2.jar!/org/slf4j/impl/StaticLoggerBinder.class]\n",
      "SLF4J: Found binding in [jar:file:/home/glue_user/aws-glue-libs/jars/slf4j-reload4j-1.7.36.jar!/org/slf4j/impl/StaticLoggerBinder.class]\n",
      "SLF4J: See http://www.slf4j.org/codes.html#multiple_bindings for an explanation.\n",
      "SLF4J: Actual binding is of type [org.apache.logging.slf4j.Log4jLoggerFactory]\n",
      "Setting default log level to \"WARN\".\n",
      "To adjust logging level use sc.setLogLevel(newLevel). For SparkR, use setLogLevel(newLevel).\n",
      "25/03/01 04:19:57 WARN Utils: Service 'SparkUI' could not bind on port 4040. Attempting port 4041.\n",
      "25/03/01 04:19:57 WARN Utils: Service 'SparkUI' could not bind on port 4041. Attempting port 4042.\n"
     ]
    }
   ],
   "source": [
    "spark = SparkSession.builder.master(\"local[2]\").appName(\"test001-944\").getOrCreate()"
   ]
  },
  {
   "cell_type": "code",
   "execution_count": 6,
   "id": "7431ce68-ce87-42a0-a60d-b9930e333852",
   "metadata": {},
   "outputs": [
    {
     "name": "stdout",
     "output_type": "stream",
     "text": [
      "/home/glue_user/workspace/jupyter_workspace/external_pra/eg-0001\n"
     ]
    }
   ],
   "source": [
    "absolutePath = Path().absolute()\n",
    "print(absolutePath)"
   ]
  },
  {
   "cell_type": "code",
   "execution_count": 11,
   "id": "890f632d-04b4-48e1-aeb9-79c46ad48abc",
   "metadata": {},
   "outputs": [],
   "source": [
    "inputcsv = os.path.join(absolutePath,'input.csv')"
   ]
  },
  {
   "cell_type": "code",
   "execution_count": 12,
   "id": "e26f61ae-682d-4970-9b4e-cb4dab73e8cb",
   "metadata": {},
   "outputs": [
    {
     "name": "stderr",
     "output_type": "stream",
     "text": [
      "                                                                                \r"
     ]
    },
    {
     "name": "stdout",
     "output_type": "stream",
     "text": [
      "+-----+---+------+\n",
      "| name|age|gender|\n",
      "+-----+---+------+\n",
      "| Paul| 40|  male|\n",
      "| John| 40|  male|\n",
      "|David| 15|  male|\n",
      "|Susan| 40|female|\n",
      "|Karen| 34|female|\n",
      "+-----+---+------+\n",
      "\n"
     ]
    },
    {
     "name": "stderr",
     "output_type": "stream",
     "text": [
      "                                                                                \r"
     ]
    }
   ],
   "source": [
    "sparkdf = spark.read.csv(inputcsv,header=True,inferSchema=True)\n",
    "sparkdf.show()"
   ]
  },
  {
   "cell_type": "code",
   "execution_count": 14,
   "id": "3f21126a-0442-443d-a2e1-16c96e8fe8ad",
   "metadata": {},
   "outputs": [],
   "source": [
    "sparkdf.createOrReplaceTempView('sparksql')"
   ]
  },
  {
   "cell_type": "code",
   "execution_count": 15,
   "id": "b94fa7b4-1c30-4ee4-8655-f841a1a77cba",
   "metadata": {},
   "outputs": [],
   "source": [
    "sparksql = spark.sql(\"select name as name, age+1 as age from sparksql where gender = 'male' order by age desc , name asc\")"
   ]
  },
  {
   "cell_type": "code",
   "execution_count": 16,
   "id": "66d8a06d-e150-43c0-8662-d37c27b539c2",
   "metadata": {},
   "outputs": [
    {
     "name": "stdout",
     "output_type": "stream",
     "text": [
      "+-----+---+\n",
      "| name|age|\n",
      "+-----+---+\n",
      "| John| 41|\n",
      "| Paul| 41|\n",
      "|David| 16|\n",
      "+-----+---+\n",
      "\n"
     ]
    }
   ],
   "source": [
    "sparksql.show()"
   ]
  },
  {
   "cell_type": "code",
   "execution_count": 17,
   "id": "ebcd00d9-5ed1-4eb0-86a3-4a581a7ae7fa",
   "metadata": {},
   "outputs": [
    {
     "name": "stdout",
     "output_type": "stream",
     "text": [
      "/home/glue_user/workspace/jupyter_workspace/external_pra/eg-0001/output\n"
     ]
    }
   ],
   "source": [
    "outputpath = os.path.join(absolutePath,'output')\n",
    "print(outputpath)"
   ]
  },
  {
   "cell_type": "code",
   "execution_count": 20,
   "id": "81bf9449-44ef-46c6-ba0f-5071ca1dcb4a",
   "metadata": {},
   "outputs": [
    {
     "name": "stderr",
     "output_type": "stream",
     "text": [
      "                                                                                \r"
     ]
    }
   ],
   "source": [
    "sparksql.repartition(1).write.mode(\"overwrite\").csv(outputpath)"
   ]
  },
  {
   "cell_type": "code",
   "execution_count": 21,
   "id": "48d02c0a-65bb-44e1-b4eb-4a37f68df58b",
   "metadata": {},
   "outputs": [],
   "source": [
    "sparksqlnew = spark.sql(\"select name, avg(age) from sparksql group by name having count(name) > 1\")"
   ]
  },
  {
   "cell_type": "code",
   "execution_count": 22,
   "id": "125447f5-0e46-432a-a901-a6d303ae6fa7",
   "metadata": {},
   "outputs": [
    {
     "name": "stdout",
     "output_type": "stream",
     "text": [
      "+----+--------+\n",
      "|name|avg(age)|\n",
      "+----+--------+\n",
      "+----+--------+\n",
      "\n"
     ]
    }
   ],
   "source": [
    "sparksqlnew.show()"
   ]
  },
  {
   "cell_type": "code",
   "execution_count": null,
   "id": "6030a654-c6d7-4c6c-b2aa-5deaa7e047d9",
   "metadata": {},
   "outputs": [],
   "source": []
  }
 ],
 "metadata": {
  "kernelspec": {
   "display_name": "Python 3 (ipykernel)",
   "language": "python",
   "name": "python3"
  },
  "language_info": {
   "codemirror_mode": {
    "name": "ipython",
    "version": 3
   },
   "file_extension": ".py",
   "mimetype": "text/x-python",
   "name": "python",
   "nbconvert_exporter": "python",
   "pygments_lexer": "ipython3",
   "version": "3.10.2"
  }
 },
 "nbformat": 4,
 "nbformat_minor": 5
}
