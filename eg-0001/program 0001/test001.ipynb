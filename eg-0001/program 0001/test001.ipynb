{
 "cells": [
  {
   "cell_type": "code",
   "execution_count": 2,
   "id": "e57f5315-0151-49a4-9c50-588e5eb82063",
   "metadata": {},
   "outputs": [],
   "source": [
    "import os\n",
    "from pyspark.sql.session import SparkSession\n",
    "from pathlib import Path"
   ]
  },
  {
   "cell_type": "code",
   "execution_count": 5,
   "id": "985cd738-6452-4e99-89fb-2071531b07c2",
   "metadata": {},
   "outputs": [
    {
     "name": "stdout",
     "output_type": "stream",
     "text": [
      "/home/glue_user/workspace/jupyter_workspace/external_pra/eg-0001/program 0001\n"
     ]
    }
   ],
   "source": [
    "absolatepath = Path().absolute()\n",
    "print(absolatepath)"
   ]
  },
  {
   "cell_type": "code",
   "execution_count": 6,
   "id": "f9f271bf-fc11-49a4-8dee-3429628132e0",
   "metadata": {},
   "outputs": [],
   "source": [
    "inputcsv = os.path.join(absolatepath,'input.csv')"
   ]
  },
  {
   "cell_type": "code",
   "execution_count": 10,
   "id": "c362649c-25eb-4f4e-a4a0-9686425e650c",
   "metadata": {},
   "outputs": [
    {
     "name": "stderr",
     "output_type": "stream",
     "text": [
      "SLF4J: Class path contains multiple SLF4J bindings.\n",
      "SLF4J: Found binding in [jar:file:/home/glue_user/spark/jars/log4j-slf4j-impl-2.17.2.jar!/org/slf4j/impl/StaticLoggerBinder.class]\n",
      "SLF4J: Found binding in [jar:file:/home/glue_user/spark/jars/slf4j-reload4j-1.7.36.jar!/org/slf4j/impl/StaticLoggerBinder.class]\n",
      "SLF4J: Found binding in [jar:file:/home/glue_user/aws-glue-libs/jars/log4j-slf4j-impl-2.17.2.jar!/org/slf4j/impl/StaticLoggerBinder.class]\n",
      "SLF4J: Found binding in [jar:file:/home/glue_user/aws-glue-libs/jars/slf4j-reload4j-1.7.36.jar!/org/slf4j/impl/StaticLoggerBinder.class]\n",
      "SLF4J: See http://www.slf4j.org/codes.html#multiple_bindings for an explanation.\n",
      "SLF4J: Actual binding is of type [org.apache.logging.slf4j.Log4jLoggerFactory]\n",
      "Setting default log level to \"WARN\".\n",
      "To adjust logging level use sc.setLogLevel(newLevel). For SparkR, use setLogLevel(newLevel).\n",
      "25/03/01 05:04:13 WARN Utils: Service 'SparkUI' could not bind on port 4040. Attempting port 4041.\n",
      "25/03/01 05:04:13 WARN Utils: Service 'SparkUI' could not bind on port 4041. Attempting port 4042.\n",
      "25/03/01 05:04:13 WARN Utils: Service 'SparkUI' could not bind on port 4042. Attempting port 4043.\n"
     ]
    }
   ],
   "source": [
    "spark = SparkSession.builder.master(\"local[2]\").appName(\"pr0001\").getOrCreate()"
   ]
  },
  {
   "cell_type": "code",
   "execution_count": 12,
   "id": "00211f6a-6ad8-469a-ad43-c77f0250f0e1",
   "metadata": {},
   "outputs": [
    {
     "name": "stdout",
     "output_type": "stream",
     "text": [
      "+-----+---+------+\n",
      "| name|age|gender|\n",
      "+-----+---+------+\n",
      "| Paul| 40|  male|\n",
      "| Paul| 38|  male|\n",
      "|David| 15|  male|\n",
      "|Susan| 40|female|\n",
      "|Susan| 34|female|\n",
      "+-----+---+------+\n",
      "\n"
     ]
    }
   ],
   "source": [
    "sparkdf = spark.read.csv(inputcsv,header=True,inferSchema=True)\n",
    "sparkdf.show()"
   ]
  },
  {
   "cell_type": "code",
   "execution_count": 13,
   "id": "ee73c128-62b6-462d-bf48-3848ba60ad97",
   "metadata": {},
   "outputs": [],
   "source": [
    "sparkdf.createOrReplaceTempView(\"sqlscript\")"
   ]
  },
  {
   "cell_type": "code",
   "execution_count": 14,
   "id": "7caec1b4-2389-4efc-83cc-bc11758f3d7f",
   "metadata": {},
   "outputs": [
    {
     "name": "stderr",
     "output_type": "stream",
     "text": [
      "[Stage 5:>                                                          (0 + 1) / 1]\r"
     ]
    },
    {
     "name": "stdout",
     "output_type": "stream",
     "text": [
      "+-----+--------+\n",
      "| name|avg(age)|\n",
      "+-----+--------+\n",
      "|Susan|    37.0|\n",
      "| Paul|    39.0|\n",
      "+-----+--------+\n",
      "\n"
     ]
    },
    {
     "name": "stderr",
     "output_type": "stream",
     "text": [
      "                                                                                \r"
     ]
    }
   ],
   "source": [
    "filterData = spark.sql(\"select name,avg(age) from sqlscript group by name having count(name) > 1\")\n",
    "filterData.show()"
   ]
  },
  {
   "cell_type": "code",
   "execution_count": 16,
   "id": "cdfdbc03-a651-44f5-a040-3ae3b8639f88",
   "metadata": {},
   "outputs": [],
   "source": [
    "outputpath = os.path.join(absolatepath,\"output\")"
   ]
  },
  {
   "cell_type": "code",
   "execution_count": 18,
   "id": "031d24f1-382b-4666-9c03-b2d6b3eee824",
   "metadata": {},
   "outputs": [],
   "source": [
    "filterData.repartition(1).write.mode(\"overwrite\").json(outputpath)"
   ]
  },
  {
   "cell_type": "code",
   "execution_count": null,
   "id": "99eb0b48-1a90-4d38-b13b-e2d60375c726",
   "metadata": {},
   "outputs": [],
   "source": []
  }
 ],
 "metadata": {
  "kernelspec": {
   "display_name": "Python 3 (ipykernel)",
   "language": "python",
   "name": "python3"
  },
  "language_info": {
   "codemirror_mode": {
    "name": "ipython",
    "version": 3
   },
   "file_extension": ".py",
   "mimetype": "text/x-python",
   "name": "python",
   "nbconvert_exporter": "python",
   "pygments_lexer": "ipython3",
   "version": "3.10.2"
  }
 },
 "nbformat": 4,
 "nbformat_minor": 5
}
