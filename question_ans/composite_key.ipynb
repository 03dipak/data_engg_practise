{
 "cells": [
  {
   "cell_type": "code",
   "execution_count": 1,
   "id": "d2f80005-5427-47cc-a965-c6c521b79560",
   "metadata": {},
   "outputs": [],
   "source": [
    "from pyspark.sql import SparkSession\n",
    "from pyspark.sql.functions import col"
   ]
  },
  {
   "cell_type": "code",
   "execution_count": 2,
   "id": "4978af24-e4a3-4bf2-b0b7-67a70cf8d085",
   "metadata": {},
   "outputs": [
    {
     "name": "stderr",
     "output_type": "stream",
     "text": [
      "SLF4J: Class path contains multiple SLF4J bindings.\n",
      "SLF4J: Found binding in [jar:file:/home/glue_user/spark/jars/log4j-slf4j-impl-2.17.2.jar!/org/slf4j/impl/StaticLoggerBinder.class]\n",
      "SLF4J: Found binding in [jar:file:/home/glue_user/spark/jars/slf4j-reload4j-1.7.36.jar!/org/slf4j/impl/StaticLoggerBinder.class]\n",
      "SLF4J: Found binding in [jar:file:/home/glue_user/aws-glue-libs/jars/log4j-slf4j-impl-2.17.2.jar!/org/slf4j/impl/StaticLoggerBinder.class]\n",
      "SLF4J: Found binding in [jar:file:/home/glue_user/aws-glue-libs/jars/slf4j-reload4j-1.7.36.jar!/org/slf4j/impl/StaticLoggerBinder.class]\n",
      "SLF4J: See http://www.slf4j.org/codes.html#multiple_bindings for an explanation.\n",
      "SLF4J: Actual binding is of type [org.apache.logging.slf4j.Log4jLoggerFactory]\n",
      "Setting default log level to \"WARN\".\n",
      "To adjust logging level use sc.setLogLevel(newLevel). For SparkR, use setLogLevel(newLevel).\n"
     ]
    }
   ],
   "source": [
    "spark = SparkSession.builder.appName(\"compositeKey\").getOrCreate()"
   ]
  },
  {
   "cell_type": "code",
   "execution_count": 3,
   "id": "6645d3b7-347d-4416-b86a-6619ef4ba4a5",
   "metadata": {},
   "outputs": [],
   "source": [
    "# Sample DataFrames\n",
    "df1 = spark.createDataFrame([\n",
    "    (1, 101, 500),\n",
    "    (2, 102, 1500),\n",
    "    (3, 103, 2500),\n",
    "    (4, 104, 1000)\n",
    "], [\"StoreID\", \"ProductID\", \"SalesAmount\"])\n",
    "\n",
    "df2 = spark.createDataFrame([\n",
    "    (1, 101, 'A'),\n",
    "    (2, 102, 'B'),\n",
    "    (3, 103, 'A'),\n",
    "    (4, 104, 'C')\n",
    "], [\"StoreID\", \"ProductID\", \"Category\"])"
   ]
  },
  {
   "cell_type": "code",
   "execution_count": 7,
   "id": "672d2830-c488-4651-b044-07281bb29470",
   "metadata": {},
   "outputs": [],
   "source": [
    "df3 = df1.join(df2,on=[\"StoreID\", \"ProductID\"],how=\"inner\")"
   ]
  },
  {
   "cell_type": "code",
   "execution_count": 8,
   "id": "833ab581-694a-4ae9-a17b-b57dd52c3ade",
   "metadata": {},
   "outputs": [
    {
     "name": "stderr",
     "output_type": "stream",
     "text": [
      "                                                                                \r"
     ]
    },
    {
     "data": {
      "text/plain": [
       "[Row(StoreID=1, ProductID=101, SalesAmount=500, Category='A'),\n",
       " Row(StoreID=2, ProductID=102, SalesAmount=1500, Category='B'),\n",
       " Row(StoreID=3, ProductID=103, SalesAmount=2500, Category='A')]"
      ]
     },
     "execution_count": 8,
     "metadata": {},
     "output_type": "execute_result"
    }
   ],
   "source": [
    "df3.head(3)"
   ]
  },
  {
   "cell_type": "code",
   "execution_count": 12,
   "id": "baaa56ab-8259-4104-8abe-9d7dfd62ee9d",
   "metadata": {},
   "outputs": [],
   "source": [
    "# sales amount exceeds a threshold.\n",
    "threshold = 1200"
   ]
  },
  {
   "cell_type": "code",
   "execution_count": 13,
   "id": "503e0ebc-ff60-4e38-89c5-0d8acc039946",
   "metadata": {},
   "outputs": [
    {
     "name": "stderr",
     "output_type": "stream",
     "text": [
      "[Stage 11:=============================>                            (2 + 2) / 4]\r"
     ]
    },
    {
     "name": "stdout",
     "output_type": "stream",
     "text": [
      "+-------+---------+-----------+--------+\n",
      "|StoreID|ProductID|SalesAmount|Category|\n",
      "+-------+---------+-----------+--------+\n",
      "|      2|      102|       1500|       B|\n",
      "|      3|      103|       2500|       A|\n",
      "+-------+---------+-----------+--------+\n",
      "\n"
     ]
    },
    {
     "name": "stderr",
     "output_type": "stream",
     "text": [
      "                                                                                \r"
     ]
    }
   ],
   "source": [
    "df3.filter(col(\"SalesAmount\")  >threshold).show()"
   ]
  },
  {
   "cell_type": "code",
   "execution_count": null,
   "id": "55fa7f05-702f-46f1-b2bb-b70322e35c30",
   "metadata": {},
   "outputs": [],
   "source": []
  }
 ],
 "metadata": {
  "kernelspec": {
   "display_name": "Python 3 (ipykernel)",
   "language": "python",
   "name": "python3"
  },
  "language_info": {
   "codemirror_mode": {
    "name": "ipython",
    "version": 3
   },
   "file_extension": ".py",
   "mimetype": "text/x-python",
   "name": "python",
   "nbconvert_exporter": "python",
   "pygments_lexer": "ipython3",
   "version": "3.10.2"
  }
 },
 "nbformat": 4,
 "nbformat_minor": 5
}
