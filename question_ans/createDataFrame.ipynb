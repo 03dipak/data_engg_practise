{
 "cells": [
  {
   "cell_type": "code",
   "execution_count": 4,
   "id": "d87052e7-ff57-40bf-a57e-92ea18ddde15",
   "metadata": {},
   "outputs": [],
   "source": [
    "from pyspark.sql import SparkSession\n"
   ]
  },
  {
   "cell_type": "code",
   "execution_count": 5,
   "id": "2e357f46-5c7d-46b5-8d6b-273b7b56818b",
   "metadata": {},
   "outputs": [
    {
     "name": "stderr",
     "output_type": "stream",
     "text": [
      "SLF4J: Class path contains multiple SLF4J bindings.\n",
      "SLF4J: Found binding in [jar:file:/home/glue_user/spark/jars/log4j-slf4j-impl-2.17.2.jar!/org/slf4j/impl/StaticLoggerBinder.class]\n",
      "SLF4J: Found binding in [jar:file:/home/glue_user/spark/jars/slf4j-reload4j-1.7.36.jar!/org/slf4j/impl/StaticLoggerBinder.class]\n",
      "SLF4J: Found binding in [jar:file:/home/glue_user/aws-glue-libs/jars/log4j-slf4j-impl-2.17.2.jar!/org/slf4j/impl/StaticLoggerBinder.class]\n",
      "SLF4J: Found binding in [jar:file:/home/glue_user/aws-glue-libs/jars/slf4j-reload4j-1.7.36.jar!/org/slf4j/impl/StaticLoggerBinder.class]\n",
      "SLF4J: See http://www.slf4j.org/codes.html#multiple_bindings for an explanation.\n",
      "SLF4J: Actual binding is of type [org.apache.logging.slf4j.Log4jLoggerFactory]\n",
      "Setting default log level to \"WARN\".\n",
      "To adjust logging level use sc.setLogLevel(newLevel). For SparkR, use setLogLevel(newLevel).\n"
     ]
    }
   ],
   "source": [
    "spark = SparkSession.builder.appName(\"dataFrame\").getOrCreate()"
   ]
  },
  {
   "cell_type": "code",
   "execution_count": 6,
   "id": "0dfd9108-b09d-49e0-9c88-c644d529e09a",
   "metadata": {},
   "outputs": [
    {
     "data": {
      "text/html": [
       "\n",
       "            <div>\n",
       "                <p><b>SparkSession - hive</b></p>\n",
       "                \n",
       "        <div>\n",
       "            <p><b>SparkContext</b></p>\n",
       "\n",
       "            <p><a href=\"http://25ea147491eb:4040\">Spark UI</a></p>\n",
       "\n",
       "            <dl>\n",
       "              <dt>Version</dt>\n",
       "                <dd><code>v3.3.0-amzn-1</code></dd>\n",
       "              <dt>Master</dt>\n",
       "                <dd><code>local[*]</code></dd>\n",
       "              <dt>AppName</dt>\n",
       "                <dd><code>dataFrame</code></dd>\n",
       "            </dl>\n",
       "        </div>\n",
       "        \n",
       "            </div>\n",
       "        "
      ],
      "text/plain": [
       "<pyspark.sql.session.SparkSession at 0x7fd274794ca0>"
      ]
     },
     "execution_count": 6,
     "metadata": {},
     "output_type": "execute_result"
    }
   ],
   "source": [
    "spark"
   ]
  },
  {
   "cell_type": "code",
   "execution_count": 12,
   "id": "70889836-a408-4234-84ab-f24af751df49",
   "metadata": {},
   "outputs": [],
   "source": [
    "columns = ['product','region','amount']\n",
    "frameData = [\n",
    "        ('pen','north','4'),\n",
    "        ('car','north','40'),\n",
    "        ('pen','north','3'),\n",
    "        ('toy','north','76'),\n",
    "        ('book','north','7'),\n",
    "        ('car','north','11'),\n",
    "        ('pen','south','5'),\n",
    "        ('car','south','90'),\n",
    "        ('pen','south','31'),\n",
    "        ('toy','south','23'),\n",
    "        ('book','south','30'),\n",
    "        ('car','south','8'),\n",
    "        ('pen','west','125'),\n",
    "        ('car','west','1'),\n",
    "        ('pen','west','3'),\n",
    "        ('toy','west','38'),\n",
    "        ('book','west','17'),\n",
    "        ('car','west','23'),\n",
    "        ('pen','east','56'),\n",
    "        ('car','east','9'),\n",
    "        ('pen','east','3'),\n",
    "        ('toy','east','213'),\n",
    "        ('book','east','20'),\n",
    "        ('car','east','81'), \n",
    "]"
   ]
  },
  {
   "cell_type": "code",
   "execution_count": 13,
   "id": "9519e0e1-74f8-4a66-98ea-acc78a9a659f",
   "metadata": {},
   "outputs": [],
   "source": [
    "df = spark.createDataFrame(frameData,columns)"
   ]
  },
  {
   "cell_type": "code",
   "execution_count": 14,
   "id": "38f2eee6-176b-408f-bec7-c6ce3ad8f053",
   "metadata": {},
   "outputs": [
    {
     "data": {
      "text/plain": [
       "24"
      ]
     },
     "execution_count": 14,
     "metadata": {},
     "output_type": "execute_result"
    }
   ],
   "source": [
    "df.head()\n",
    "df.count()"
   ]
  },
  {
   "cell_type": "code",
   "execution_count": 16,
   "id": "01b75b71-73b5-40e8-8c8c-a3ca12af04df",
   "metadata": {},
   "outputs": [],
   "source": [
    "df.createOrReplaceTempView('tableDataFrame')"
   ]
  },
  {
   "cell_type": "code",
   "execution_count": 22,
   "id": "98aedd2f-a0d3-4e3a-a853-9c0029f75578",
   "metadata": {},
   "outputs": [
    {
     "name": "stdout",
     "output_type": "stream",
     "text": [
      "+-------+------+----------+----------+\n",
      "|product|region|sales_data|rank_sales|\n",
      "+-------+------+----------+----------+\n",
      "|    toy|  east|     213.0|         1|\n",
      "|    car|  east|      90.0|         2|\n",
      "|    pen|  east|      59.0|         3|\n",
      "|    toy| north|      76.0|         1|\n",
      "|    car| north|      51.0|         2|\n",
      "|    pen| north|       7.0|         3|\n",
      "|   book| north|       7.0|         3|\n",
      "|    car| south|      98.0|         1|\n",
      "|    pen| south|      36.0|         2|\n",
      "|   book| south|      30.0|         3|\n",
      "|    pen|  west|     128.0|         1|\n",
      "|    toy|  west|      38.0|         2|\n",
      "+-------+------+----------+----------+\n",
      "only showing top 12 rows\n",
      "\n"
     ]
    }
   ],
   "source": [
    "spark.sql(\n",
    "    \"\"\"\n",
    "       with topProduct as (\n",
    "            select product,region,sum(amount) as sales_data\n",
    "            from tableDataFrame\n",
    "            group by region,product\n",
    "       ),\n",
    "       rankProduct as(\n",
    "           select product,region,sales_data, rank() over(partition by region order by sales_data desc) as rank_sales\n",
    "           from topProduct\n",
    "       )\n",
    "       select product,region,sales_data,rank_sales from rankProduct where rank_sales <= 3\n",
    "    \"\"\"\n",
    ").show(12)"
   ]
  },
  {
   "cell_type": "code",
   "execution_count": 27,
   "id": "1e4c50ef-9057-4e91-9bf3-3e1439907d36",
   "metadata": {},
   "outputs": [],
   "source": [
    "from pyspark.sql.functions import sum,col,rank\n",
    "from pyspark.sql.window import Window"
   ]
  },
  {
   "cell_type": "code",
   "execution_count": 31,
   "id": "058243f8-953c-4ae8-b67a-faf7fe0cf9eb",
   "metadata": {},
   "outputs": [],
   "source": [
    "sales_datas = [\n",
    "    (\"North\", \"Laptop\", 5000),\n",
    "    (\"North\", \"Phone\", 7000),\n",
    "    (\"North\", \"Tablet\", 3500),\n",
    "    (\"North\", \"Monitor\", 1200),\n",
    "    (\"North\", \"Keyboard\", 750),\n",
    "    (\"North\", \"Mouse\", 600),\n",
    "    (\"South\", \"Laptop\", 6000),\n",
    "    (\"South\", \"Phone\", 8400),\n",
    "    (\"South\", \"Tablet\", 4500),\n",
    "    (\"South\", \"Monitor\", 2000),\n",
    "    (\"South\", \"Keyboard\", 1000),\n",
    "    (\"South\", \"Mouse\", 540),\n",
    "    (\"East\", \"Laptop\", 7000),\n",
    "    (\"East\", \"Phone\", 9000),\n",
    "    (\"East\", \"Tablet\", 4000),\n",
    "    (\"East\", \"Monitor\", 2000),\n",
    "    (\"East\", \"Keyboard\", 700),\n",
    "    (\"East\", \"Mouse\", 660),\n",
    "]"
   ]
  },
  {
   "cell_type": "code",
   "execution_count": 32,
   "id": "8921e085-35e3-49d6-8004-98d34ffb4059",
   "metadata": {},
   "outputs": [],
   "source": [
    "colums_df = [\"region\",\"product\",\"amount\"]"
   ]
  },
  {
   "cell_type": "code",
   "execution_count": 33,
   "id": "0aae0b39-1746-4875-8474-e824cf45807f",
   "metadata": {},
   "outputs": [],
   "source": [
    "df_frame = spark.createDataFrame(sales_datas,colums_df)"
   ]
  },
  {
   "cell_type": "code",
   "execution_count": 34,
   "id": "a4f0cc82-5b7a-4906-8576-bdbf4524a331",
   "metadata": {},
   "outputs": [
    {
     "name": "stdout",
     "output_type": "stream",
     "text": [
      "+------+--------+------+\n",
      "|region| product|amount|\n",
      "+------+--------+------+\n",
      "| North|  Laptop|  5000|\n",
      "| North|   Phone|  7000|\n",
      "| North|  Tablet|  3500|\n",
      "| North| Monitor|  1200|\n",
      "| North|Keyboard|   750|\n",
      "| North|   Mouse|   600|\n",
      "| South|  Laptop|  6000|\n",
      "| South|   Phone|  8400|\n",
      "| South|  Tablet|  4500|\n",
      "| South| Monitor|  2000|\n",
      "| South|Keyboard|  1000|\n",
      "| South|   Mouse|   540|\n",
      "|  East|  Laptop|  7000|\n",
      "|  East|   Phone|  9000|\n",
      "|  East|  Tablet|  4000|\n",
      "|  East| Monitor|  2000|\n",
      "|  East|Keyboard|   700|\n",
      "|  East|   Mouse|   660|\n",
      "+------+--------+------+\n",
      "\n"
     ]
    }
   ],
   "source": [
    "df_frame.show()"
   ]
  },
  {
   "cell_type": "code",
   "execution_count": 35,
   "id": "3b63f5b5-3848-4674-8fb6-eb9d43fa2f72",
   "metadata": {},
   "outputs": [],
   "source": [
    "df_group = df_frame.groupBy(\"product\",\"region\").agg(sum(\"amount\").alias(\"total_sales\"))"
   ]
  },
  {
   "cell_type": "code",
   "execution_count": 36,
   "id": "0b76a7cd-b056-43cb-bf0f-73f405198b52",
   "metadata": {},
   "outputs": [
    {
     "name": "stdout",
     "output_type": "stream",
     "text": [
      "+--------+------+-----------+\n",
      "| product|region|total_sales|\n",
      "+--------+------+-----------+\n",
      "|   Phone| North|       7000|\n",
      "|  Laptop| North|       5000|\n",
      "|  Tablet| North|       3500|\n",
      "| Monitor| North|       1200|\n",
      "|Keyboard| North|        750|\n",
      "|   Phone| South|       8400|\n",
      "|   Mouse| North|        600|\n",
      "|  Laptop| South|       6000|\n",
      "|   Mouse| South|        540|\n",
      "| Monitor| South|       2000|\n",
      "|Keyboard| South|       1000|\n",
      "|  Tablet| South|       4500|\n",
      "|  Tablet|  East|       4000|\n",
      "| Monitor|  East|       2000|\n",
      "|   Mouse|  East|        660|\n",
      "|   Phone|  East|       9000|\n",
      "|  Laptop|  East|       7000|\n",
      "|Keyboard|  East|        700|\n",
      "+--------+------+-----------+\n",
      "\n"
     ]
    }
   ],
   "source": [
    "df_group.show()"
   ]
  },
  {
   "cell_type": "code",
   "execution_count": 37,
   "id": "c1e19cc3-3eb4-4536-8045-e736a191e0a1",
   "metadata": {},
   "outputs": [],
   "source": [
    "windowSpefic = Window.partitionBy(\"region\").orderBy(col(\"total_sales\").desc())"
   ]
  },
  {
   "cell_type": "code",
   "execution_count": 38,
   "id": "bf1b6275-70c7-4a70-a46b-9acab562cd06",
   "metadata": {},
   "outputs": [],
   "source": [
    "rank_product = df_group.withColumn(\"rank_pr\",rank().over(windowSpefic))"
   ]
  },
  {
   "cell_type": "code",
   "execution_count": 39,
   "id": "f0571d80-b431-4062-a520-731e846a268f",
   "metadata": {},
   "outputs": [
    {
     "name": "stderr",
     "output_type": "stream",
     "text": [
      "[Stage 35:==============>                                           (1 + 3) / 4]\r"
     ]
    },
    {
     "name": "stdout",
     "output_type": "stream",
     "text": [
      "+--------+------+-----------+-------+\n",
      "| product|region|total_sales|rank_pr|\n",
      "+--------+------+-----------+-------+\n",
      "|   Phone|  East|       9000|      1|\n",
      "|  Laptop|  East|       7000|      2|\n",
      "|  Tablet|  East|       4000|      3|\n",
      "| Monitor|  East|       2000|      4|\n",
      "|Keyboard|  East|        700|      5|\n",
      "|   Mouse|  East|        660|      6|\n",
      "|   Phone| North|       7000|      1|\n",
      "|  Laptop| North|       5000|      2|\n",
      "|  Tablet| North|       3500|      3|\n",
      "| Monitor| North|       1200|      4|\n",
      "|Keyboard| North|        750|      5|\n",
      "|   Mouse| North|        600|      6|\n",
      "|   Phone| South|       8400|      1|\n",
      "|  Laptop| South|       6000|      2|\n",
      "|  Tablet| South|       4500|      3|\n",
      "| Monitor| South|       2000|      4|\n",
      "|Keyboard| South|       1000|      5|\n",
      "|   Mouse| South|        540|      6|\n",
      "+--------+------+-----------+-------+\n",
      "\n"
     ]
    },
    {
     "name": "stderr",
     "output_type": "stream",
     "text": [
      "                                                                                \r"
     ]
    }
   ],
   "source": [
    "rank_product.show()"
   ]
  },
  {
   "cell_type": "code",
   "execution_count": 42,
   "id": "4c66ae51-cf46-44af-b6cb-1166a3041925",
   "metadata": {},
   "outputs": [],
   "source": [
    "top3pr = rank_product.filter(col(\"rank_pr\") <=3)"
   ]
  },
  {
   "cell_type": "raw",
   "id": "3a0e5443-1b21-4485-bf69-0f4edecb0ef1",
   "metadata": {},
   "source": []
  },
  {
   "cell_type": "code",
   "execution_count": 43,
   "id": "a9b8e375-854a-4b9e-b5cb-46c374b83b81",
   "metadata": {},
   "outputs": [
    {
     "name": "stdout",
     "output_type": "stream",
     "text": [
      "+-------+------+-----------+-------+\n",
      "|product|region|total_sales|rank_pr|\n",
      "+-------+------+-----------+-------+\n",
      "|  Phone|  East|       9000|      1|\n",
      "| Laptop|  East|       7000|      2|\n",
      "| Tablet|  East|       4000|      3|\n",
      "|  Phone| North|       7000|      1|\n",
      "| Laptop| North|       5000|      2|\n",
      "| Tablet| North|       3500|      3|\n",
      "|  Phone| South|       8400|      1|\n",
      "| Laptop| South|       6000|      2|\n",
      "| Tablet| South|       4500|      3|\n",
      "+-------+------+-----------+-------+\n",
      "\n"
     ]
    },
    {
     "name": "stderr",
     "output_type": "stream",
     "text": [
      "25/03/17 15:38:47 WARN HeartbeatReceiver: Removing executor driver with no recent heartbeats: 148526 ms exceeds timeout 120000 ms\n",
      "25/03/17 15:38:50 WARN SparkContext: Killing executors is not supported by current scheduler.\n"
     ]
    }
   ],
   "source": [
    "top3pr.show()"
   ]
  }
 ],
 "metadata": {
  "kernelspec": {
   "display_name": "Python 3 (ipykernel)",
   "language": "python",
   "name": "python3"
  },
  "language_info": {
   "codemirror_mode": {
    "name": "ipython",
    "version": 3
   },
   "file_extension": ".py",
   "mimetype": "text/x-python",
   "name": "python",
   "nbconvert_exporter": "python",
   "pygments_lexer": "ipython3",
   "version": "3.10.2"
  }
 },
 "nbformat": 4,
 "nbformat_minor": 5
}
