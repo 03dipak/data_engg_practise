{
 "cells": [
  {
   "cell_type": "code",
   "execution_count": 1,
   "id": "1a9d5589-125a-450a-9b00-e4f5342cbaf3",
   "metadata": {},
   "outputs": [],
   "source": [
    "import os\n",
    "from pathlib import Path\n",
    "from pyspark.sql import SparkSession\n",
    "from pyspark.sql.functions import col,explode,from_json\n",
    "from pyspark.sql.types import StructType,StructField,IntegerType,StringType,ArrayType,LongType"
   ]
  },
  {
   "cell_type": "code",
   "execution_count": 2,
   "id": "7ca19dcb-3186-4a76-a87e-d41377103464",
   "metadata": {},
   "outputs": [],
   "source": [
    "absolute_path = Path().absolute()"
   ]
  },
  {
   "cell_type": "code",
   "execution_count": 3,
   "id": "87be81fc-24c9-4e1d-9d66-fcdd986282db",
   "metadata": {},
   "outputs": [],
   "source": [
    "input_path = os.path.join(absolute_path, 'json/customer_order.json')"
   ]
  },
  {
   "cell_type": "code",
   "execution_count": 4,
   "id": "446578d8-088a-44a0-b44c-434b3df8acbc",
   "metadata": {},
   "outputs": [
    {
     "name": "stderr",
     "output_type": "stream",
     "text": [
      "SLF4J: Class path contains multiple SLF4J bindings.\n",
      "SLF4J: Found binding in [jar:file:/home/glue_user/spark/jars/log4j-slf4j-impl-2.17.2.jar!/org/slf4j/impl/StaticLoggerBinder.class]\n",
      "SLF4J: Found binding in [jar:file:/home/glue_user/spark/jars/slf4j-reload4j-1.7.36.jar!/org/slf4j/impl/StaticLoggerBinder.class]\n",
      "SLF4J: Found binding in [jar:file:/home/glue_user/aws-glue-libs/jars/log4j-slf4j-impl-2.17.2.jar!/org/slf4j/impl/StaticLoggerBinder.class]\n",
      "SLF4J: Found binding in [jar:file:/home/glue_user/aws-glue-libs/jars/slf4j-reload4j-1.7.36.jar!/org/slf4j/impl/StaticLoggerBinder.class]\n",
      "SLF4J: See http://www.slf4j.org/codes.html#multiple_bindings for an explanation.\n",
      "SLF4J: Actual binding is of type [org.apache.logging.slf4j.Log4jLoggerFactory]\n",
      "Setting default log level to \"WARN\".\n",
      "To adjust logging level use sc.setLogLevel(newLevel). For SparkR, use setLogLevel(newLevel).\n",
      "25/03/19 21:36:59 WARN Utils: Service 'SparkUI' could not bind on port 4040. Attempting port 4041.\n"
     ]
    }
   ],
   "source": [
    "spark = SparkSession.builder.appName(\"customerOrder\").getOrCreate()"
   ]
  },
  {
   "cell_type": "code",
   "execution_count": 46,
   "id": "5ebedc7c-01cb-4026-88b1-71e6e3144eb9",
   "metadata": {},
   "outputs": [],
   "source": [
    "df = spark.read.option(\"mode\", \"PERMISSIVE\").json(input_path)"
   ]
  },
  {
   "cell_type": "code",
   "execution_count": 47,
   "id": "1bfdd8e8-dafd-418a-a7c4-45b580ee2dfa",
   "metadata": {},
   "outputs": [
    {
     "name": "stdout",
     "output_type": "stream",
     "text": [
      "root\n",
      " |-- address: struct (nullable = true)\n",
      " |    |-- city: string (nullable = true)\n",
      " |    |-- state: string (nullable = true)\n",
      " |    |-- street: string (nullable = true)\n",
      " |    |-- zip: string (nullable = true)\n",
      " |-- customer_id: string (nullable = true)\n",
      " |-- email: string (nullable = true)\n",
      " |-- name: string (nullable = true)\n",
      " |-- orders: array (nullable = true)\n",
      " |    |-- element: struct (containsNull = true)\n",
      " |    |    |-- items: array (nullable = true)\n",
      " |    |    |    |-- element: struct (containsNull = true)\n",
      " |    |    |    |    |-- item_id: string (nullable = true)\n",
      " |    |    |    |    |-- price: long (nullable = true)\n",
      " |    |    |    |    |-- product: string (nullable = true)\n",
      " |    |    |    |    |-- quantity: long (nullable = true)\n",
      " |    |    |-- order_date: string (nullable = true)\n",
      " |    |    |-- order_id: string (nullable = true)\n",
      " |    |    |-- payment: struct (nullable = true)\n",
      " |    |    |    |-- method: string (nullable = true)\n",
      " |    |    |    |-- status: string (nullable = true)\n",
      " |    |    |-- total_amount: long (nullable = true)\n",
      "\n"
     ]
    }
   ],
   "source": [
    "df.printSchema()"
   ]
  },
  {
   "cell_type": "code",
   "execution_count": 48,
   "id": "3bd20cf9-b48c-4c72-9c5d-0ace8f25d7dc",
   "metadata": {},
   "outputs": [
    {
     "name": "stdout",
     "output_type": "stream",
     "text": [
      "+--------------------------------------+-----------+-----------------+-----+--------------------------------------------------------------------------------------------------------------------------------------------------------------------------------+\n",
      "|address                               |customer_id|email            |name |orders                                                                                                                                                                          |\n",
      "+--------------------------------------+-----------+-----------------+-----+--------------------------------------------------------------------------------------------------------------------------------------------------------------------------------+\n",
      "|{New York, NY, 123 Main St, 10001}    |C001       |alice@example.com|Alice|[{[{I001, 1200, Laptop, 1}, {I002, 50, Mouse, 1}], 2024-01-01, O1001, {Credit Card, Completed}, 350}, {[{I003, 150, Headphones, 1}], 2024-02-15, O1002, {PayPal, Pending}, 150}]|\n",
      "|{San Francisco, CA, 456 Elm St, 94105}|C002       |bob@example.com  |Bob  |[{[{I004, 600, Smartphone, 1}], 2024-03-10, O2001, {Debit Card, Completed}, 600}, {[{I005, 75, Charger, 1}], 2024-04-05, O2002, {Credit Card, Completed}, 75}]                  |\n",
      "+--------------------------------------+-----------+-----------------+-----+--------------------------------------------------------------------------------------------------------------------------------------------------------------------------------+\n",
      "\n"
     ]
    }
   ],
   "source": [
    "df.show(truncate=False)"
   ]
  },
  {
   "cell_type": "code",
   "execution_count": 49,
   "id": "36c8448e-bb47-453c-a08f-6748f6e63bd3",
   "metadata": {},
   "outputs": [],
   "source": [
    "df = df.withColumn(\"order\",explode(col(\"orders\")))"
   ]
  },
  {
   "cell_type": "code",
   "execution_count": 50,
   "id": "84dbfbfc-d573-404c-a0fc-dd52c20f60e1",
   "metadata": {},
   "outputs": [
    {
     "name": "stdout",
     "output_type": "stream",
     "text": [
      "root\n",
      " |-- address: struct (nullable = true)\n",
      " |    |-- city: string (nullable = true)\n",
      " |    |-- state: string (nullable = true)\n",
      " |    |-- street: string (nullable = true)\n",
      " |    |-- zip: string (nullable = true)\n",
      " |-- customer_id: string (nullable = true)\n",
      " |-- email: string (nullable = true)\n",
      " |-- name: string (nullable = true)\n",
      " |-- orders: array (nullable = true)\n",
      " |    |-- element: struct (containsNull = true)\n",
      " |    |    |-- items: array (nullable = true)\n",
      " |    |    |    |-- element: struct (containsNull = true)\n",
      " |    |    |    |    |-- item_id: string (nullable = true)\n",
      " |    |    |    |    |-- price: long (nullable = true)\n",
      " |    |    |    |    |-- product: string (nullable = true)\n",
      " |    |    |    |    |-- quantity: long (nullable = true)\n",
      " |    |    |-- order_date: string (nullable = true)\n",
      " |    |    |-- order_id: string (nullable = true)\n",
      " |    |    |-- payment: struct (nullable = true)\n",
      " |    |    |    |-- method: string (nullable = true)\n",
      " |    |    |    |-- status: string (nullable = true)\n",
      " |    |    |-- total_amount: long (nullable = true)\n",
      " |-- order: struct (nullable = true)\n",
      " |    |-- items: array (nullable = true)\n",
      " |    |    |-- element: struct (containsNull = true)\n",
      " |    |    |    |-- item_id: string (nullable = true)\n",
      " |    |    |    |-- price: long (nullable = true)\n",
      " |    |    |    |-- product: string (nullable = true)\n",
      " |    |    |    |-- quantity: long (nullable = true)\n",
      " |    |-- order_date: string (nullable = true)\n",
      " |    |-- order_id: string (nullable = true)\n",
      " |    |-- payment: struct (nullable = true)\n",
      " |    |    |-- method: string (nullable = true)\n",
      " |    |    |-- status: string (nullable = true)\n",
      " |    |-- total_amount: long (nullable = true)\n",
      "\n"
     ]
    }
   ],
   "source": [
    "df.printSchema()"
   ]
  },
  {
   "cell_type": "code",
   "execution_count": 51,
   "id": "edf79757-b585-4634-8c3d-66f5425958e0",
   "metadata": {},
   "outputs": [],
   "source": [
    "df = df.drop(\"orders\")"
   ]
  },
  {
   "cell_type": "code",
   "execution_count": 52,
   "id": "8f350745-79de-4880-ae68-a600b82c7885",
   "metadata": {},
   "outputs": [
    {
     "name": "stdout",
     "output_type": "stream",
     "text": [
      "root\n",
      " |-- address: struct (nullable = true)\n",
      " |    |-- city: string (nullable = true)\n",
      " |    |-- state: string (nullable = true)\n",
      " |    |-- street: string (nullable = true)\n",
      " |    |-- zip: string (nullable = true)\n",
      " |-- customer_id: string (nullable = true)\n",
      " |-- email: string (nullable = true)\n",
      " |-- name: string (nullable = true)\n",
      " |-- order: struct (nullable = true)\n",
      " |    |-- items: array (nullable = true)\n",
      " |    |    |-- element: struct (containsNull = true)\n",
      " |    |    |    |-- item_id: string (nullable = true)\n",
      " |    |    |    |-- price: long (nullable = true)\n",
      " |    |    |    |-- product: string (nullable = true)\n",
      " |    |    |    |-- quantity: long (nullable = true)\n",
      " |    |-- order_date: string (nullable = true)\n",
      " |    |-- order_id: string (nullable = true)\n",
      " |    |-- payment: struct (nullable = true)\n",
      " |    |    |-- method: string (nullable = true)\n",
      " |    |    |-- status: string (nullable = true)\n",
      " |    |-- total_amount: long (nullable = true)\n",
      "\n"
     ]
    }
   ],
   "source": [
    "df.printSchema()"
   ]
  },
  {
   "cell_type": "code",
   "execution_count": 53,
   "id": "b089cfe0-ef00-4bc9-ac20-01b2de654c4b",
   "metadata": {},
   "outputs": [],
   "source": [
    "df = df.withColumn(\"item\",explode(col(\"order.items\")))"
   ]
  },
  {
   "cell_type": "code",
   "execution_count": 54,
   "id": "7bc36f6d-be86-4e66-a94b-d7e71e89be07",
   "metadata": {},
   "outputs": [
    {
     "name": "stdout",
     "output_type": "stream",
     "text": [
      "root\n",
      " |-- address: struct (nullable = true)\n",
      " |    |-- city: string (nullable = true)\n",
      " |    |-- state: string (nullable = true)\n",
      " |    |-- street: string (nullable = true)\n",
      " |    |-- zip: string (nullable = true)\n",
      " |-- customer_id: string (nullable = true)\n",
      " |-- email: string (nullable = true)\n",
      " |-- name: string (nullable = true)\n",
      " |-- order: struct (nullable = true)\n",
      " |    |-- items: array (nullable = true)\n",
      " |    |    |-- element: struct (containsNull = true)\n",
      " |    |    |    |-- item_id: string (nullable = true)\n",
      " |    |    |    |-- price: long (nullable = true)\n",
      " |    |    |    |-- product: string (nullable = true)\n",
      " |    |    |    |-- quantity: long (nullable = true)\n",
      " |    |-- order_date: string (nullable = true)\n",
      " |    |-- order_id: string (nullable = true)\n",
      " |    |-- payment: struct (nullable = true)\n",
      " |    |    |-- method: string (nullable = true)\n",
      " |    |    |-- status: string (nullable = true)\n",
      " |    |-- total_amount: long (nullable = true)\n",
      " |-- item: struct (nullable = true)\n",
      " |    |-- item_id: string (nullable = true)\n",
      " |    |-- price: long (nullable = true)\n",
      " |    |-- product: string (nullable = true)\n",
      " |    |-- quantity: long (nullable = true)\n",
      "\n"
     ]
    }
   ],
   "source": [
    "df.printSchema()"
   ]
  },
  {
   "cell_type": "code",
   "execution_count": 55,
   "id": "024cf5cc-50c8-4e32-9789-f8f4be7a5fe8",
   "metadata": {},
   "outputs": [],
   "source": [
    "df = df.drop(\"order.items\")"
   ]
  },
  {
   "cell_type": "code",
   "execution_count": 56,
   "id": "bf5e5448-b41e-4756-aded-022ac0834700",
   "metadata": {},
   "outputs": [
    {
     "name": "stdout",
     "output_type": "stream",
     "text": [
      "root\n",
      " |-- address: struct (nullable = true)\n",
      " |    |-- city: string (nullable = true)\n",
      " |    |-- state: string (nullable = true)\n",
      " |    |-- street: string (nullable = true)\n",
      " |    |-- zip: string (nullable = true)\n",
      " |-- customer_id: string (nullable = true)\n",
      " |-- email: string (nullable = true)\n",
      " |-- name: string (nullable = true)\n",
      " |-- order: struct (nullable = true)\n",
      " |    |-- items: array (nullable = true)\n",
      " |    |    |-- element: struct (containsNull = true)\n",
      " |    |    |    |-- item_id: string (nullable = true)\n",
      " |    |    |    |-- price: long (nullable = true)\n",
      " |    |    |    |-- product: string (nullable = true)\n",
      " |    |    |    |-- quantity: long (nullable = true)\n",
      " |    |-- order_date: string (nullable = true)\n",
      " |    |-- order_id: string (nullable = true)\n",
      " |    |-- payment: struct (nullable = true)\n",
      " |    |    |-- method: string (nullable = true)\n",
      " |    |    |-- status: string (nullable = true)\n",
      " |    |-- total_amount: long (nullable = true)\n",
      " |-- item: struct (nullable = true)\n",
      " |    |-- item_id: string (nullable = true)\n",
      " |    |-- price: long (nullable = true)\n",
      " |    |-- product: string (nullable = true)\n",
      " |    |-- quantity: long (nullable = true)\n",
      "\n"
     ]
    }
   ],
   "source": [
    "df.printSchema()"
   ]
  },
  {
   "cell_type": "code",
   "execution_count": 41,
   "id": "ff764592-154f-440b-a58f-68b9ce99d13b",
   "metadata": {},
   "outputs": [
    {
     "name": "stdout",
     "output_type": "stream",
     "text": [
      "+-------+-----+----------+--------+\n",
      "|item_id|price|product   |quantity|\n",
      "+-------+-----+----------+--------+\n",
      "|I001   |1200 |Laptop    |1       |\n",
      "|I002   |50   |Mouse     |1       |\n",
      "|I001   |1200 |Laptop    |1       |\n",
      "|I002   |50   |Mouse     |1       |\n",
      "|I001   |1200 |Laptop    |1       |\n",
      "|I002   |50   |Mouse     |1       |\n",
      "|I001   |1200 |Laptop    |1       |\n",
      "|I002   |50   |Mouse     |1       |\n",
      "|I003   |150  |Headphones|1       |\n",
      "|I004   |600  |Smartphone|1       |\n",
      "|I005   |75   |Charger   |1       |\n",
      "+-------+-----+----------+--------+\n",
      "\n"
     ]
    }
   ],
   "source": [
    "df.select(\"item.item_id\",\"item.price\",\"item.product\",\"item.quantity\").show(truncate=False)"
   ]
  },
  {
   "cell_type": "code",
   "execution_count": 57,
   "id": "a3650254-c458-4a05-8f4d-151d2171207a",
   "metadata": {},
   "outputs": [],
   "source": [
    "df_flat = df.select(\"customer_id\",\"name\",\"email\",\"address.city\",\"address.state\",\"address.zip\",\"address.street\",\"order.order_date\",\"order.order_id\",\"order.payment.method\",\"order.payment.status\",\"order.total_amount\",\"item.item_id\",\"item.price\",\"item.product\",\"item.quantity\")"
   ]
  },
  {
   "cell_type": "code",
   "execution_count": 58,
   "id": "68a718b7-f389-4a28-9b22-c879cc4314c1",
   "metadata": {},
   "outputs": [
    {
     "name": "stdout",
     "output_type": "stream",
     "text": [
      "+-----------+-----+-----------------+-------------+-----+-----+-----------+----------+--------+-----------+---------+------------+-------+-----+----------+--------+\n",
      "|customer_id|name |email            |city         |state|zip  |street     |order_date|order_id|method     |status   |total_amount|item_id|price|product   |quantity|\n",
      "+-----------+-----+-----------------+-------------+-----+-----+-----------+----------+--------+-----------+---------+------------+-------+-----+----------+--------+\n",
      "|C001       |Alice|alice@example.com|New York     |NY   |10001|123 Main St|2024-01-01|O1001   |Credit Card|Completed|350         |I001   |1200 |Laptop    |1       |\n",
      "|C001       |Alice|alice@example.com|New York     |NY   |10001|123 Main St|2024-01-01|O1001   |Credit Card|Completed|350         |I002   |50   |Mouse     |1       |\n",
      "|C001       |Alice|alice@example.com|New York     |NY   |10001|123 Main St|2024-02-15|O1002   |PayPal     |Pending  |150         |I003   |150  |Headphones|1       |\n",
      "|C002       |Bob  |bob@example.com  |San Francisco|CA   |94105|456 Elm St |2024-03-10|O2001   |Debit Card |Completed|600         |I004   |600  |Smartphone|1       |\n",
      "|C002       |Bob  |bob@example.com  |San Francisco|CA   |94105|456 Elm St |2024-04-05|O2002   |Credit Card|Completed|75          |I005   |75   |Charger   |1       |\n",
      "+-----------+-----+-----------------+-------------+-----+-----+-----------+----------+--------+-----------+---------+------------+-------+-----+----------+--------+\n",
      "\n"
     ]
    }
   ],
   "source": [
    "df_flat.show(truncate=False)"
   ]
  },
  {
   "cell_type": "code",
   "execution_count": 59,
   "id": "4022bc59-4835-4943-a5d9-65d28f999e41",
   "metadata": {},
   "outputs": [
    {
     "data": {
      "text/plain": [
       "5"
      ]
     },
     "execution_count": 59,
     "metadata": {},
     "output_type": "execute_result"
    }
   ],
   "source": [
    "df_flat.count()"
   ]
  },
  {
   "cell_type": "code",
   "execution_count": null,
   "id": "3dbb9e37-0470-45d6-a91d-9bb52896df57",
   "metadata": {},
   "outputs": [],
   "source": []
  }
 ],
 "metadata": {
  "kernelspec": {
   "display_name": "Python 3 (ipykernel)",
   "language": "python",
   "name": "python3"
  },
  "language_info": {
   "codemirror_mode": {
    "name": "ipython",
    "version": 3
   },
   "file_extension": ".py",
   "mimetype": "text/x-python",
   "name": "python",
   "nbconvert_exporter": "python",
   "pygments_lexer": "ipython3",
   "version": "3.10.2"
  }
 },
 "nbformat": 4,
 "nbformat_minor": 5
}
