{
 "cells": [
  {
   "cell_type": "code",
   "execution_count": 1,
   "id": "abdd4fae-479c-4344-ab2b-9fd51586df14",
   "metadata": {},
   "outputs": [],
   "source": [
    "import os\n",
    "from pyspark.sql.functions import col,explode,from_json\n",
    "from pyspark.sql import SparkSession\n",
    "from pyspark.sql.types import ArrayType,StructType,StructField,IntegerType,StringType"
   ]
  },
  {
   "cell_type": "code",
   "execution_count": 2,
   "id": "657d8879-8fa6-4f54-a616-7d4cb92ce2e3",
   "metadata": {},
   "outputs": [],
   "source": [
    "from pathlib import Path"
   ]
  },
  {
   "cell_type": "code",
   "execution_count": 3,
   "id": "06bd5101-6855-4f97-a75d-0ac891ba2076",
   "metadata": {},
   "outputs": [],
   "source": [
    "absolute_path = Path().absolute()"
   ]
  },
  {
   "cell_type": "code",
   "execution_count": 4,
   "id": "f3c4973f-c4e8-46fd-835f-b7e049323797",
   "metadata": {},
   "outputs": [],
   "source": [
    "input_path = os.path.join(absolute_path, 'json/map_array_struct.json')"
   ]
  },
  {
   "cell_type": "code",
   "execution_count": 5,
   "id": "d7ba1ba5-4e81-4f88-902e-f54163ab9520",
   "metadata": {},
   "outputs": [
    {
     "name": "stderr",
     "output_type": "stream",
     "text": [
      "SLF4J: Class path contains multiple SLF4J bindings.\n",
      "SLF4J: Found binding in [jar:file:/home/glue_user/spark/jars/log4j-slf4j-impl-2.17.2.jar!/org/slf4j/impl/StaticLoggerBinder.class]\n",
      "SLF4J: Found binding in [jar:file:/home/glue_user/spark/jars/slf4j-reload4j-1.7.36.jar!/org/slf4j/impl/StaticLoggerBinder.class]\n",
      "SLF4J: Found binding in [jar:file:/home/glue_user/aws-glue-libs/jars/log4j-slf4j-impl-2.17.2.jar!/org/slf4j/impl/StaticLoggerBinder.class]\n",
      "SLF4J: Found binding in [jar:file:/home/glue_user/aws-glue-libs/jars/slf4j-reload4j-1.7.36.jar!/org/slf4j/impl/StaticLoggerBinder.class]\n",
      "SLF4J: See http://www.slf4j.org/codes.html#multiple_bindings for an explanation.\n",
      "SLF4J: Actual binding is of type [org.apache.logging.slf4j.Log4jLoggerFactory]\n",
      "Setting default log level to \"WARN\".\n",
      "To adjust logging level use sc.setLogLevel(newLevel). For SparkR, use setLogLevel(newLevel).\n"
     ]
    }
   ],
   "source": [
    "spark = SparkSession.builder.appName(\"map_array_struct\").getOrCreate()"
   ]
  },
  {
   "cell_type": "code",
   "execution_count": 8,
   "id": "c21ac017-1dfb-46f9-ba41-66c303521c62",
   "metadata": {},
   "outputs": [],
   "source": [
    "df = spark.read.option(\"mode\", \"PERMISSIVE\").json(input_path)"
   ]
  },
  {
   "cell_type": "code",
   "execution_count": 9,
   "id": "62b41901-ed29-42e6-9a5d-959a9438aa66",
   "metadata": {},
   "outputs": [
    {
     "name": "stdout",
     "output_type": "stream",
     "text": [
      "root\n",
      " |-- address: struct (nullable = true)\n",
      " |    |-- city: string (nullable = true)\n",
      " |    |-- geo: struct (nullable = true)\n",
      " |    |    |-- lat: string (nullable = true)\n",
      " |    |    |-- long: string (nullable = true)\n",
      " |    |-- street: string (nullable = true)\n",
      " |-- contacts: array (nullable = true)\n",
      " |    |-- element: struct (containsNull = true)\n",
      " |    |    |-- type: string (nullable = true)\n",
      " |    |    |-- value: string (nullable = true)\n",
      " |-- id: long (nullable = true)\n",
      " |-- name: string (nullable = true)\n",
      " |-- preferences: struct (nullable = true)\n",
      " |    |-- categories: array (nullable = true)\n",
      " |    |    |-- element: string (containsNull = true)\n",
      " |    |-- notifications: struct (nullable = true)\n",
      " |    |    |-- email: boolean (nullable = true)\n",
      " |    |    |-- sms: boolean (nullable = true)\n",
      "\n"
     ]
    }
   ],
   "source": [
    "df.printSchema()"
   ]
  },
  {
   "cell_type": "code",
   "execution_count": 10,
   "id": "58dd4bf9-e4d0-4205-a3a2-796746a81a91",
   "metadata": {},
   "outputs": [],
   "source": [
    "df = df.withColumn(\"contact\",explode(col(\"contacts\")))"
   ]
  },
  {
   "cell_type": "code",
   "execution_count": 11,
   "id": "d6a042a9-bc9a-420e-8859-5ea33a574dda",
   "metadata": {},
   "outputs": [
    {
     "name": "stdout",
     "output_type": "stream",
     "text": [
      "root\n",
      " |-- address: struct (nullable = true)\n",
      " |    |-- city: string (nullable = true)\n",
      " |    |-- geo: struct (nullable = true)\n",
      " |    |    |-- lat: string (nullable = true)\n",
      " |    |    |-- long: string (nullable = true)\n",
      " |    |-- street: string (nullable = true)\n",
      " |-- contacts: array (nullable = true)\n",
      " |    |-- element: struct (containsNull = true)\n",
      " |    |    |-- type: string (nullable = true)\n",
      " |    |    |-- value: string (nullable = true)\n",
      " |-- id: long (nullable = true)\n",
      " |-- name: string (nullable = true)\n",
      " |-- preferences: struct (nullable = true)\n",
      " |    |-- categories: array (nullable = true)\n",
      " |    |    |-- element: string (containsNull = true)\n",
      " |    |-- notifications: struct (nullable = true)\n",
      " |    |    |-- email: boolean (nullable = true)\n",
      " |    |    |-- sms: boolean (nullable = true)\n",
      " |-- contact: struct (nullable = true)\n",
      " |    |-- type: string (nullable = true)\n",
      " |    |-- value: string (nullable = true)\n",
      "\n"
     ]
    }
   ],
   "source": [
    "df.printSchema()"
   ]
  },
  {
   "cell_type": "code",
   "execution_count": 12,
   "id": "0d4ee47e-7f20-40dd-aed6-c0a34515bd70",
   "metadata": {},
   "outputs": [],
   "source": [
    "df = df.drop(\"contacts\")"
   ]
  },
  {
   "cell_type": "code",
   "execution_count": 14,
   "id": "171887f2-4c55-467e-b638-f374a49813ea",
   "metadata": {},
   "outputs": [
    {
     "name": "stdout",
     "output_type": "stream",
     "text": [
      "+-------------------------------------------------+---+-----+-------------------------------------+--------------------------+\n",
      "|address                                          |id |name |preferences                          |contact                   |\n",
      "+-------------------------------------------------+---+-----+-------------------------------------+--------------------------+\n",
      "|{New York, {40.7128, -74.0060}, 123 Main St}     |1  |Alice|{[electronics, books], {true, false}}|{email, alice@example.com}|\n",
      "|{New York, {40.7128, -74.0060}, 123 Main St}     |1  |Alice|{[electronics, books], {true, false}}|{phone, +123456789}       |\n",
      "|{San Francisco, {37.7749, -122.4194}, 456 Elm St}|2  |Bob  |{[fashion, sports], {false, true}}   |{email, bob@example.com}  |\n",
      "+-------------------------------------------------+---+-----+-------------------------------------+--------------------------+\n",
      "\n"
     ]
    }
   ],
   "source": [
    "df.show(truncate=False)"
   ]
  },
  {
   "cell_type": "code",
   "execution_count": 15,
   "id": "78cbafe3-76d1-41dd-bea9-5d23f585e039",
   "metadata": {},
   "outputs": [
    {
     "name": "stdout",
     "output_type": "stream",
     "text": [
      "+--------------------+\n",
      "|          categories|\n",
      "+--------------------+\n",
      "|[electronics, books]|\n",
      "|[electronics, books]|\n",
      "|   [fashion, sports]|\n",
      "+--------------------+\n",
      "\n"
     ]
    }
   ],
   "source": [
    "df.select(\"preferences.categories\").show()"
   ]
  },
  {
   "cell_type": "code",
   "execution_count": 16,
   "id": "7252ba94-36ea-4396-8045-fab59f6c4f82",
   "metadata": {},
   "outputs": [],
   "source": [
    "df = df.withColumn(\"categories\",explode(col(\"preferences.categories\")))"
   ]
  },
  {
   "cell_type": "code",
   "execution_count": 17,
   "id": "f7aa161e-9f52-4ba1-a8e3-690c980ee5f0",
   "metadata": {},
   "outputs": [
    {
     "name": "stdout",
     "output_type": "stream",
     "text": [
      "+-------------------------------------------------+---+-----+-------------------------------------+--------------------------+-----------+\n",
      "|address                                          |id |name |preferences                          |contact                   |categories |\n",
      "+-------------------------------------------------+---+-----+-------------------------------------+--------------------------+-----------+\n",
      "|{New York, {40.7128, -74.0060}, 123 Main St}     |1  |Alice|{[electronics, books], {true, false}}|{email, alice@example.com}|electronics|\n",
      "|{New York, {40.7128, -74.0060}, 123 Main St}     |1  |Alice|{[electronics, books], {true, false}}|{email, alice@example.com}|books      |\n",
      "|{New York, {40.7128, -74.0060}, 123 Main St}     |1  |Alice|{[electronics, books], {true, false}}|{phone, +123456789}       |electronics|\n",
      "|{New York, {40.7128, -74.0060}, 123 Main St}     |1  |Alice|{[electronics, books], {true, false}}|{phone, +123456789}       |books      |\n",
      "|{San Francisco, {37.7749, -122.4194}, 456 Elm St}|2  |Bob  |{[fashion, sports], {false, true}}   |{email, bob@example.com}  |fashion    |\n",
      "|{San Francisco, {37.7749, -122.4194}, 456 Elm St}|2  |Bob  |{[fashion, sports], {false, true}}   |{email, bob@example.com}  |sports     |\n",
      "+-------------------------------------------------+---+-----+-------------------------------------+--------------------------+-----------+\n",
      "\n"
     ]
    }
   ],
   "source": [
    "df.show(truncate=False)"
   ]
  },
  {
   "cell_type": "code",
   "execution_count": 18,
   "id": "864e1b0c-a0f7-4dc9-84b2-43deb9c1ac68",
   "metadata": {},
   "outputs": [
    {
     "name": "stdout",
     "output_type": "stream",
     "text": [
      "root\n",
      " |-- address: struct (nullable = true)\n",
      " |    |-- city: string (nullable = true)\n",
      " |    |-- geo: struct (nullable = true)\n",
      " |    |    |-- lat: string (nullable = true)\n",
      " |    |    |-- long: string (nullable = true)\n",
      " |    |-- street: string (nullable = true)\n",
      " |-- id: long (nullable = true)\n",
      " |-- name: string (nullable = true)\n",
      " |-- preferences: struct (nullable = true)\n",
      " |    |-- categories: array (nullable = true)\n",
      " |    |    |-- element: string (containsNull = true)\n",
      " |    |-- notifications: struct (nullable = true)\n",
      " |    |    |-- email: boolean (nullable = true)\n",
      " |    |    |-- sms: boolean (nullable = true)\n",
      " |-- contact: struct (nullable = true)\n",
      " |    |-- type: string (nullable = true)\n",
      " |    |-- value: string (nullable = true)\n",
      " |-- categories: string (nullable = true)\n",
      "\n"
     ]
    }
   ],
   "source": [
    "df.printSchema()"
   ]
  },
  {
   "cell_type": "code",
   "execution_count": 19,
   "id": "6cdca6fd-7270-4205-a5f5-f39196c5ab66",
   "metadata": {},
   "outputs": [],
   "source": [
    "df_flatter = df.select(\"id\",\"name\",\"address.city\",\"address.geo.lat\",\"address.geo.long\",\"address.street\",\"preferences.notifications.email\",\"preferences.notifications.sms\",\"contact.type\",\"contact.value\",\"categories\")"
   ]
  },
  {
   "cell_type": "code",
   "execution_count": 20,
   "id": "6dbb534c-fce6-4a37-a298-4f6e95329610",
   "metadata": {},
   "outputs": [
    {
     "name": "stdout",
     "output_type": "stream",
     "text": [
      "+---+-----+-------------+-------+---------+-----------+-----+-----+-----+-----------------+-----------+\n",
      "|id |name |city         |lat    |long     |street     |email|sms  |type |value            |categories |\n",
      "+---+-----+-------------+-------+---------+-----------+-----+-----+-----+-----------------+-----------+\n",
      "|1  |Alice|New York     |40.7128|-74.0060 |123 Main St|true |false|email|alice@example.com|electronics|\n",
      "|1  |Alice|New York     |40.7128|-74.0060 |123 Main St|true |false|email|alice@example.com|books      |\n",
      "|1  |Alice|New York     |40.7128|-74.0060 |123 Main St|true |false|phone|+123456789       |electronics|\n",
      "|1  |Alice|New York     |40.7128|-74.0060 |123 Main St|true |false|phone|+123456789       |books      |\n",
      "|2  |Bob  |San Francisco|37.7749|-122.4194|456 Elm St |false|true |email|bob@example.com  |fashion    |\n",
      "|2  |Bob  |San Francisco|37.7749|-122.4194|456 Elm St |false|true |email|bob@example.com  |sports     |\n",
      "+---+-----+-------------+-------+---------+-----------+-----+-----+-----+-----------------+-----------+\n",
      "\n"
     ]
    }
   ],
   "source": [
    "df_flatter.show(truncate=False)"
   ]
  },
  {
   "cell_type": "code",
   "execution_count": null,
   "id": "a9bf9a7d-4e0f-4b3f-9e52-1919fff0990c",
   "metadata": {},
   "outputs": [],
   "source": []
  }
 ],
 "metadata": {
  "kernelspec": {
   "display_name": "Python 3 (ipykernel)",
   "language": "python",
   "name": "python3"
  },
  "language_info": {
   "codemirror_mode": {
    "name": "ipython",
    "version": 3
   },
   "file_extension": ".py",
   "mimetype": "text/x-python",
   "name": "python",
   "nbconvert_exporter": "python",
   "pygments_lexer": "ipython3",
   "version": "3.10.2"
  }
 },
 "nbformat": 4,
 "nbformat_minor": 5
}
