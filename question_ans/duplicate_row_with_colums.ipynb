{
 "cells": [
  {
   "cell_type": "code",
   "execution_count": 1,
   "id": "6078e572-c84d-4a9e-8213-6ecb6ce78473",
   "metadata": {},
   "outputs": [],
   "source": [
    "from pyspark.sql import SparkSession\n",
    "from pyspark.sql.functions import col,count"
   ]
  },
  {
   "cell_type": "code",
   "execution_count": 2,
   "id": "6a4fe58b-80b6-495d-9fea-091e4b86b4b5",
   "metadata": {},
   "outputs": [
    {
     "name": "stderr",
     "output_type": "stream",
     "text": [
      "SLF4J: Class path contains multiple SLF4J bindings.\n",
      "SLF4J: Found binding in [jar:file:/home/glue_user/spark/jars/log4j-slf4j-impl-2.17.2.jar!/org/slf4j/impl/StaticLoggerBinder.class]\n",
      "SLF4J: Found binding in [jar:file:/home/glue_user/spark/jars/slf4j-reload4j-1.7.36.jar!/org/slf4j/impl/StaticLoggerBinder.class]\n",
      "SLF4J: Found binding in [jar:file:/home/glue_user/aws-glue-libs/jars/log4j-slf4j-impl-2.17.2.jar!/org/slf4j/impl/StaticLoggerBinder.class]\n",
      "SLF4J: Found binding in [jar:file:/home/glue_user/aws-glue-libs/jars/slf4j-reload4j-1.7.36.jar!/org/slf4j/impl/StaticLoggerBinder.class]\n",
      "SLF4J: See http://www.slf4j.org/codes.html#multiple_bindings for an explanation.\n",
      "SLF4J: Actual binding is of type [org.apache.logging.slf4j.Log4jLoggerFactory]\n",
      "Setting default log level to \"WARN\".\n",
      "To adjust logging level use sc.setLogLevel(newLevel). For SparkR, use setLogLevel(newLevel).\n",
      "25/03/20 16:23:29 WARN Utils: Service 'SparkUI' could not bind on port 4040. Attempting port 4041.\n"
     ]
    }
   ],
   "source": [
    "spark = SparkSession.builder.appName(\"duplicateRow\").getOrCreate()"
   ]
  },
  {
   "cell_type": "code",
   "execution_count": 3,
   "id": "4f463116-e9b5-4dc2-9f74-0b0189082f1e",
   "metadata": {},
   "outputs": [],
   "source": [
    "# Sample Data\n",
    "data = [\n",
    "    (1, \"Alice\", \"NY\", 25),\n",
    "    (2, \"Bob\", \"SF\", 30),\n",
    "    (3, \"Alice\", \"NY\", 25),\n",
    "    (4, \"David\", \"LA\", 28),\n",
    "    (5, \"Alice\", \"NY\", 25),\n",
    "    (6, \"Bob\", \"SF\", 30)\n",
    "]\n",
    "\n",
    "# Define Schema\n",
    "columns = [\"id\", \"name\", \"city\", \"age\"]"
   ]
  },
  {
   "cell_type": "code",
   "execution_count": 4,
   "id": "9dc83ae2-d747-4888-b3c4-98b8aa673557",
   "metadata": {},
   "outputs": [],
   "source": [
    "df = spark.createDataFrame(data,columns)"
   ]
  },
  {
   "cell_type": "code",
   "execution_count": 5,
   "id": "86a9a4ef-28e5-4fb8-896b-9c6894c9a09f",
   "metadata": {},
   "outputs": [
    {
     "name": "stdout",
     "output_type": "stream",
     "text": [
      "root\n",
      " |-- id: long (nullable = true)\n",
      " |-- name: string (nullable = true)\n",
      " |-- city: string (nullable = true)\n",
      " |-- age: long (nullable = true)\n",
      "\n"
     ]
    }
   ],
   "source": [
    "df.printSchema()"
   ]
  },
  {
   "cell_type": "code",
   "execution_count": 6,
   "id": "b53edb2a-90b8-4535-9d1f-84a8ee4383d7",
   "metadata": {},
   "outputs": [],
   "source": [
    "columns_to_check = [\"name\", \"city\", \"age\"]"
   ]
  },
  {
   "cell_type": "code",
   "execution_count": 9,
   "id": "b025cac4-fa4a-473f-be2d-a6ba437ec2de",
   "metadata": {},
   "outputs": [
    {
     "name": "stderr",
     "output_type": "stream",
     "text": [
      "                                                                                \r"
     ]
    },
    {
     "name": "stdout",
     "output_type": "stream",
     "text": [
      "+-----+----+---+---------+\n",
      "| name|city|age|count(id)|\n",
      "+-----+----+---+---------+\n",
      "|Alice|  NY| 25|        3|\n",
      "|  Bob|  SF| 30|        2|\n",
      "|David|  LA| 28|        1|\n",
      "+-----+----+---+---------+\n",
      "\n"
     ]
    }
   ],
   "source": [
    "df.groupBy(\"name\",\"city\",\"age\").agg(count(\"id\")).show()"
   ]
  },
  {
   "cell_type": "code",
   "execution_count": null,
   "id": "2b6804c3-2d07-4188-8a4b-83df0df65154",
   "metadata": {},
   "outputs": [],
   "source": []
  }
 ],
 "metadata": {
  "kernelspec": {
   "display_name": "Python 3 (ipykernel)",
   "language": "python",
   "name": "python3"
  },
  "language_info": {
   "codemirror_mode": {
    "name": "ipython",
    "version": 3
   },
   "file_extension": ".py",
   "mimetype": "text/x-python",
   "name": "python",
   "nbconvert_exporter": "python",
   "pygments_lexer": "ipython3",
   "version": "3.10.2"
  }
 },
 "nbformat": 4,
 "nbformat_minor": 5
}
