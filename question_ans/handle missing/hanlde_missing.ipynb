{
 "cells": [
  {
   "cell_type": "code",
   "execution_count": 1,
   "id": "ee7166f8-44d3-4273-8aed-6a638fd20f33",
   "metadata": {},
   "outputs": [],
   "source": [
    "from pyspark.sql import SparkSession"
   ]
  },
  {
   "cell_type": "code",
   "execution_count": 10,
   "id": "e2cec664-a093-4c77-bed5-e25181c5a393",
   "metadata": {},
   "outputs": [],
   "source": [
    "from pyspark.sql.functions import col,mean"
   ]
  },
  {
   "cell_type": "code",
   "execution_count": 3,
   "id": "d39591b1-cc74-41ee-b421-03a272bb8c2d",
   "metadata": {},
   "outputs": [
    {
     "name": "stderr",
     "output_type": "stream",
     "text": [
      "SLF4J: Class path contains multiple SLF4J bindings.\n",
      "SLF4J: Found binding in [jar:file:/home/glue_user/spark/jars/log4j-slf4j-impl-2.17.2.jar!/org/slf4j/impl/StaticLoggerBinder.class]\n",
      "SLF4J: Found binding in [jar:file:/home/glue_user/spark/jars/slf4j-reload4j-1.7.36.jar!/org/slf4j/impl/StaticLoggerBinder.class]\n",
      "SLF4J: Found binding in [jar:file:/home/glue_user/aws-glue-libs/jars/log4j-slf4j-impl-2.17.2.jar!/org/slf4j/impl/StaticLoggerBinder.class]\n",
      "SLF4J: Found binding in [jar:file:/home/glue_user/aws-glue-libs/jars/slf4j-reload4j-1.7.36.jar!/org/slf4j/impl/StaticLoggerBinder.class]\n",
      "SLF4J: See http://www.slf4j.org/codes.html#multiple_bindings for an explanation.\n",
      "SLF4J: Actual binding is of type [org.apache.logging.slf4j.Log4jLoggerFactory]\n",
      "Setting default log level to \"WARN\".\n",
      "To adjust logging level use sc.setLogLevel(newLevel). For SparkR, use setLogLevel(newLevel).\n",
      "25/03/18 16:31:10 WARN Utils: Service 'SparkUI' could not bind on port 4040. Attempting port 4041.\n"
     ]
    }
   ],
   "source": [
    "spark = SparkSession.builder.appName(\"handleMissing\").getOrCreate()"
   ]
  },
  {
   "cell_type": "code",
   "execution_count": null,
   "id": "df569c71-dbc4-4798-acc7-aa92b2c0cc27",
   "metadata": {},
   "outputs": [],
   "source": []
  },
  {
   "cell_type": "code",
   "execution_count": 4,
   "id": "6a934e6d-ba8d-441b-944b-180ec977f23d",
   "metadata": {},
   "outputs": [],
   "source": [
    "# Sample Data with Null Values\n",
    "data = [\n",
    "    (1, \"Alice\", 50000, \"HR\"),\n",
    "    (2, \"Bob\", None, \"IT\"),\n",
    "    (3, \"Charlie\", 70000, None),\n",
    "    (4, \"David\", None, \"Finance\"),\n",
    "    (5, None, 90000, \"Marketing\"),\n",
    "    (6, \"Eve\", 100000, None)\n",
    "]\n",
    "\n",
    "columns = [\"emp_id\", \"name\", \"salary\", \"department\"]\n",
    "\n",
    "# Create DataFrame\n",
    "df = spark.createDataFrame(data, columns)"
   ]
  },
  {
   "cell_type": "code",
   "execution_count": 5,
   "id": "bebf0650-1e62-4c40-9e36-abde819eb489",
   "metadata": {},
   "outputs": [
    {
     "name": "stdout",
     "output_type": "stream",
     "text": [
      "root\n",
      " |-- emp_id: long (nullable = true)\n",
      " |-- name: string (nullable = true)\n",
      " |-- salary: long (nullable = true)\n",
      " |-- department: string (nullable = true)\n",
      "\n"
     ]
    }
   ],
   "source": [
    "df.printSchema()"
   ]
  },
  {
   "cell_type": "code",
   "execution_count": 6,
   "id": "e353bb82-6311-4ffd-b588-e860c9cb0c3c",
   "metadata": {},
   "outputs": [
    {
     "name": "stderr",
     "output_type": "stream",
     "text": [
      "                                                                                \r"
     ]
    },
    {
     "name": "stdout",
     "output_type": "stream",
     "text": [
      "+------+-------+------+----------+\n",
      "|emp_id|   name|salary|department|\n",
      "+------+-------+------+----------+\n",
      "|     1|  Alice| 50000|        HR|\n",
      "|     2|    Bob|  null|        IT|\n",
      "|     3|Charlie| 70000|      null|\n",
      "|     4|  David|  null|   Finance|\n",
      "|     5|   null| 90000| Marketing|\n",
      "|     6|    Eve|100000|      null|\n",
      "+------+-------+------+----------+\n",
      "\n"
     ]
    }
   ],
   "source": [
    "df.show()"
   ]
  },
  {
   "cell_type": "code",
   "execution_count": 7,
   "id": "148c6056-a060-4908-93fc-e4c9fa07c042",
   "metadata": {},
   "outputs": [
    {
     "name": "stdout",
     "output_type": "stream",
     "text": [
      "+------+-----+------+----------+\n",
      "|emp_id| name|salary|department|\n",
      "+------+-----+------+----------+\n",
      "|     1|Alice| 50000|        HR|\n",
      "+------+-----+------+----------+\n",
      "\n"
     ]
    }
   ],
   "source": [
    "# Write a PySpark query to drop rows where any column has a NULL value.\n",
    "df_no_nulls = df.na.drop()\n",
    "df_no_nulls.show()"
   ]
  },
  {
   "cell_type": "code",
   "execution_count": 8,
   "id": "799cd238-5ae5-4677-af4e-37da8687f329",
   "metadata": {},
   "outputs": [
    {
     "name": "stdout",
     "output_type": "stream",
     "text": [
      "+------+-------+------+----------+\n",
      "|emp_id|   name|salary|department|\n",
      "+------+-------+------+----------+\n",
      "|     1|  Alice| 50000|        HR|\n",
      "|     2|    Bob|  null|        IT|\n",
      "|     3|Charlie| 70000|      null|\n",
      "|     4|  David|  null|   Finance|\n",
      "|     5|   null| 90000| Marketing|\n",
      "|     6|    Eve|100000|      null|\n",
      "+------+-------+------+----------+\n",
      "\n"
     ]
    }
   ],
   "source": [
    "df.show()"
   ]
  },
  {
   "cell_type": "code",
   "execution_count": 19,
   "id": "c5bec451-6b69-43af-91e0-cce66eaaa2cf",
   "metadata": {},
   "outputs": [],
   "source": [
    "#Replace missing salary values with the average salary.\n",
    "avgSal = df.select(mean(col(\"salary\"))).collect()[0][0]"
   ]
  },
  {
   "cell_type": "code",
   "execution_count": 20,
   "id": "9e64f9f4-109c-43fe-bc69-8573d2a743f7",
   "metadata": {},
   "outputs": [
    {
     "name": "stdout",
     "output_type": "stream",
     "text": [
      "77500.0\n"
     ]
    }
   ],
   "source": [
    "print(avgSal)"
   ]
  },
  {
   "cell_type": "markdown",
   "id": "8533bcf0-df0c-47a4-b2d7-6cddbfa32a24",
   "metadata": {},
   "source": [
    "Replace missing salary values with the average salary.\n",
    "Replace missing department values with \"Unknown\"."
   ]
  },
  {
   "cell_type": "code",
   "execution_count": 22,
   "id": "eac531c8-c81b-40e3-b2db-65d96ef85e1d",
   "metadata": {},
   "outputs": [],
   "source": [
    "df_filled = df.na.fill({\"salary\":avgSal,\"department\":\"unknown\"})"
   ]
  },
  {
   "cell_type": "code",
   "execution_count": 23,
   "id": "4dfaf732-72e5-43bf-b744-95bfc16cb0c0",
   "metadata": {},
   "outputs": [
    {
     "name": "stdout",
     "output_type": "stream",
     "text": [
      "+------+-------+------+----------+\n",
      "|emp_id|   name|salary|department|\n",
      "+------+-------+------+----------+\n",
      "|     1|  Alice| 50000|        HR|\n",
      "|     2|    Bob| 77500|        IT|\n",
      "|     3|Charlie| 70000|   unknown|\n",
      "|     4|  David| 77500|   Finance|\n",
      "|     5|   null| 90000| Marketing|\n",
      "|     6|    Eve|100000|   unknown|\n",
      "+------+-------+------+----------+\n",
      "\n"
     ]
    }
   ],
   "source": [
    "df_filled.show()"
   ]
  },
  {
   "cell_type": "code",
   "execution_count": 26,
   "id": "c6fe18db-fdea-4a5f-879f-2bde7c65884e",
   "metadata": {},
   "outputs": [],
   "source": [
    "from pyspark.sql.functions import col"
   ]
  },
  {
   "cell_type": "code",
   "execution_count": 28,
   "id": "fd12c236-e853-484b-9662-44f42871a95c",
   "metadata": {},
   "outputs": [
    {
     "name": "stdout",
     "output_type": "stream",
     "text": [
      "+------+-----+------+----------+\n",
      "|emp_id| name|salary|department|\n",
      "+------+-----+------+----------+\n",
      "|     2|  Bob|  null|        IT|\n",
      "|     4|David|  null|   Finance|\n",
      "+------+-----+------+----------+\n",
      "\n"
     ]
    }
   ],
   "source": [
    "#Retrieve only the rows where salary is NULL\n",
    "df.filter(col(\"salary\").isNull()).show()"
   ]
  },
  {
   "cell_type": "code",
   "execution_count": null,
   "id": "00f9682d-924b-4e1a-b7a4-12018d2efbfc",
   "metadata": {},
   "outputs": [],
   "source": [
    "#Write a PySpark query to drop rows where at least two columns have NULL values.\n"
   ]
  }
 ],
 "metadata": {
  "kernelspec": {
   "display_name": "Python 3 (ipykernel)",
   "language": "python",
   "name": "python3"
  },
  "language_info": {
   "codemirror_mode": {
    "name": "ipython",
    "version": 3
   },
   "file_extension": ".py",
   "mimetype": "text/x-python",
   "name": "python",
   "nbconvert_exporter": "python",
   "pygments_lexer": "ipython3",
   "version": "3.10.2"
  }
 },
 "nbformat": 4,
 "nbformat_minor": 5
}
