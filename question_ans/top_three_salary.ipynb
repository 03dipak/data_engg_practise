{
 "cells": [
  {
   "cell_type": "code",
   "execution_count": 1,
   "id": "bca6cb9e-8af3-4db4-95ff-621b1a1bc91d",
   "metadata": {},
   "outputs": [],
   "source": [
    "from pyspark.sql import SparkSession\n",
    "from pyspark.sql.functions import col,rank\n",
    "from pyspark.sql.window import Window"
   ]
  },
  {
   "cell_type": "code",
   "execution_count": 2,
   "id": "c4fb53fa-44e9-41fc-b1e6-20b87b4753fc",
   "metadata": {},
   "outputs": [
    {
     "name": "stderr",
     "output_type": "stream",
     "text": [
      "SLF4J: Class path contains multiple SLF4J bindings.\n",
      "SLF4J: Found binding in [jar:file:/home/glue_user/spark/jars/log4j-slf4j-impl-2.17.2.jar!/org/slf4j/impl/StaticLoggerBinder.class]\n",
      "SLF4J: Found binding in [jar:file:/home/glue_user/spark/jars/slf4j-reload4j-1.7.36.jar!/org/slf4j/impl/StaticLoggerBinder.class]\n",
      "SLF4J: Found binding in [jar:file:/home/glue_user/aws-glue-libs/jars/log4j-slf4j-impl-2.17.2.jar!/org/slf4j/impl/StaticLoggerBinder.class]\n",
      "SLF4J: Found binding in [jar:file:/home/glue_user/aws-glue-libs/jars/slf4j-reload4j-1.7.36.jar!/org/slf4j/impl/StaticLoggerBinder.class]\n",
      "SLF4J: See http://www.slf4j.org/codes.html#multiple_bindings for an explanation.\n",
      "SLF4J: Actual binding is of type [org.apache.logging.slf4j.Log4jLoggerFactory]\n",
      "Setting default log level to \"WARN\".\n",
      "To adjust logging level use sc.setLogLevel(newLevel). For SparkR, use setLogLevel(newLevel).\n",
      "25/03/17 15:21:49 WARN Utils: Service 'SparkUI' could not bind on port 4040. Attempting port 4041.\n",
      "25/03/17 15:21:49 WARN Utils: Service 'SparkUI' could not bind on port 4041. Attempting port 4042.\n"
     ]
    }
   ],
   "source": [
    "spark = SparkSession.builder.appName(\"topSalary\").getOrCreate()"
   ]
  },
  {
   "cell_type": "code",
   "execution_count": 3,
   "id": "e09f5c2d-a216-4570-aa19-bf439f1fd849",
   "metadata": {},
   "outputs": [],
   "source": [
    "employee_data = [\n",
    "    (\"HR\", \"Alice\", 60000),\n",
    "    (\"HR\", \"Bob\", 75000),\n",
    "    (\"HR\", \"Charlie\", 80000),\n",
    "    (\"HR\", \"David\", 72000),\n",
    "    (\"IT\", \"Eve\", 90000),\n",
    "    (\"IT\", \"Frank\", 85000),\n",
    "    (\"IT\", \"Grace\", 95000),\n",
    "    (\"IT\", \"Hank\", 87000),\n",
    "    (\"Finance\", \"Ivy\", 70000),\n",
    "    (\"Finance\", \"Jack\", 65000),\n",
    "    (\"Finance\", \"Kevin\", 72000),\n",
    "    (\"Finance\", \"Liam\", 71000),\n",
    "]\n",
    "\n",
    "# Creating DataFrame\n",
    "columns = [\"department\", \"employee\", \"salary\"]"
   ]
  },
  {
   "cell_type": "code",
   "execution_count": 4,
   "id": "d2749874-110e-46e3-b722-d95c9c4c9391",
   "metadata": {},
   "outputs": [],
   "source": [
    "employee_df = spark.createDataFrame(employee_data,columns)"
   ]
  },
  {
   "cell_type": "code",
   "execution_count": 5,
   "id": "22e55074-5a74-46f9-98d5-edb1143998f8",
   "metadata": {},
   "outputs": [
    {
     "name": "stderr",
     "output_type": "stream",
     "text": [
      "                                                                                \r"
     ]
    },
    {
     "name": "stdout",
     "output_type": "stream",
     "text": [
      "+----------+--------+------+\n",
      "|department|employee|salary|\n",
      "+----------+--------+------+\n",
      "|        HR|   Alice| 60000|\n",
      "|        HR|     Bob| 75000|\n",
      "|        HR| Charlie| 80000|\n",
      "|        HR|   David| 72000|\n",
      "|        IT|     Eve| 90000|\n",
      "|        IT|   Frank| 85000|\n",
      "|        IT|   Grace| 95000|\n",
      "|        IT|    Hank| 87000|\n",
      "|   Finance|     Ivy| 70000|\n",
      "|   Finance|    Jack| 65000|\n",
      "|   Finance|   Kevin| 72000|\n",
      "|   Finance|    Liam| 71000|\n",
      "+----------+--------+------+\n",
      "\n"
     ]
    }
   ],
   "source": [
    "employee_df.show()"
   ]
  },
  {
   "cell_type": "code",
   "execution_count": 6,
   "id": "38d42d90-d5d8-4fb1-a7f7-1d0121a2843b",
   "metadata": {},
   "outputs": [],
   "source": [
    "employee_df.createOrReplaceTempView(\"empSalary\")"
   ]
  },
  {
   "cell_type": "code",
   "execution_count": 8,
   "id": "94208337-36b1-47c3-b40a-67090fae55c5",
   "metadata": {},
   "outputs": [
    {
     "name": "stderr",
     "output_type": "stream",
     "text": [
      "[Stage 5:=============================>                             (2 + 2) / 4]\r"
     ]
    },
    {
     "name": "stdout",
     "output_type": "stream",
     "text": [
      "+----------+--------+------+--------------+\n",
      "|department|employee|salary|salary_ranking|\n",
      "+----------+--------+------+--------------+\n",
      "|   Finance|   Kevin| 72000|             1|\n",
      "|   Finance|    Liam| 71000|             2|\n",
      "|   Finance|     Ivy| 70000|             3|\n",
      "|        HR| Charlie| 80000|             1|\n",
      "|        HR|     Bob| 75000|             2|\n",
      "|        HR|   David| 72000|             3|\n",
      "|        IT|   Grace| 95000|             1|\n",
      "|        IT|     Eve| 90000|             2|\n",
      "|        IT|    Hank| 87000|             3|\n",
      "+----------+--------+------+--------------+\n",
      "\n"
     ]
    },
    {
     "name": "stderr",
     "output_type": "stream",
     "text": [
      "                                                                                \r"
     ]
    }
   ],
   "source": [
    "spark.sql(\n",
    "    \"\"\"\n",
    "    with rankSalaryQuery as (\n",
    "        select department,employee,salary, RANK() over(partition by department order by salary desc) as salary_ranking \n",
    "        from empSalary \n",
    "    )\n",
    "    select department,employee,salary,salary_ranking from rankSalaryQuery where salary_ranking <= 3\n",
    "    \"\"\"\n",
    "         ).show()"
   ]
  },
  {
   "cell_type": "code",
   "execution_count": null,
   "id": "2d66784e-e983-4868-b9d3-c924f9cfe1f4",
   "metadata": {},
   "outputs": [],
   "source": [
    "# select department,employee,salary, RANK() over(partition by department order by salary desc) as salary_ranking \n",
    "# from table_name "
   ]
  },
  {
   "cell_type": "code",
   "execution_count": 10,
   "id": "cd2028f3-0b37-4db2-8999-faa85938576f",
   "metadata": {},
   "outputs": [
    {
     "name": "stdout",
     "output_type": "stream",
     "text": [
      "root\n",
      " |-- department: string (nullable = true)\n",
      " |-- employee: string (nullable = true)\n",
      " |-- salary: long (nullable = true)\n",
      "\n"
     ]
    }
   ],
   "source": [
    "employee_df.printSchema()"
   ]
  },
  {
   "cell_type": "code",
   "execution_count": 11,
   "id": "15850a95-4984-40e0-8af5-03191ca82166",
   "metadata": {},
   "outputs": [],
   "source": [
    "windowSpec = Window.partitionBy(\"department\").orderBy(col(\"salary\").desc())"
   ]
  },
  {
   "cell_type": "code",
   "execution_count": 12,
   "id": "fab42a06-d6f9-4f5d-a696-5d9613f0c256",
   "metadata": {},
   "outputs": [],
   "source": [
    "employee_rank_sal_df = employee_df.withColumn(\"salary_ranking\",rank().over(windowSpec))"
   ]
  },
  {
   "cell_type": "code",
   "execution_count": 13,
   "id": "ebdc9fa9-82bf-478d-8411-810a7c39d880",
   "metadata": {},
   "outputs": [
    {
     "name": "stderr",
     "output_type": "stream",
     "text": [
      "[Stage 8:============================================>              (3 + 1) / 4]\r"
     ]
    },
    {
     "name": "stdout",
     "output_type": "stream",
     "text": [
      "+----------+--------+------+--------------+\n",
      "|department|employee|salary|salary_ranking|\n",
      "+----------+--------+------+--------------+\n",
      "|   Finance|   Kevin| 72000|             1|\n",
      "|   Finance|    Liam| 71000|             2|\n",
      "|   Finance|     Ivy| 70000|             3|\n",
      "|   Finance|    Jack| 65000|             4|\n",
      "|        HR| Charlie| 80000|             1|\n",
      "|        HR|     Bob| 75000|             2|\n",
      "|        HR|   David| 72000|             3|\n",
      "|        HR|   Alice| 60000|             4|\n",
      "|        IT|   Grace| 95000|             1|\n",
      "|        IT|     Eve| 90000|             2|\n",
      "|        IT|    Hank| 87000|             3|\n",
      "|        IT|   Frank| 85000|             4|\n",
      "+----------+--------+------+--------------+\n",
      "\n"
     ]
    },
    {
     "name": "stderr",
     "output_type": "stream",
     "text": [
      "                                                                                \r"
     ]
    }
   ],
   "source": [
    "employee_rank_sal_df.show()"
   ]
  },
  {
   "cell_type": "code",
   "execution_count": 15,
   "id": "919e060a-f0d3-46e7-872e-9e40dfb2e37c",
   "metadata": {},
   "outputs": [
    {
     "name": "stderr",
     "output_type": "stream",
     "text": [
      "[Stage 11:===========================================>              (3 + 1) / 4]\r"
     ]
    },
    {
     "name": "stdout",
     "output_type": "stream",
     "text": [
      "+----------+--------+------+--------------+\n",
      "|department|employee|salary|salary_ranking|\n",
      "+----------+--------+------+--------------+\n",
      "|   Finance|   Kevin| 72000|             1|\n",
      "|   Finance|    Liam| 71000|             2|\n",
      "|        HR| Charlie| 80000|             1|\n",
      "|        HR|     Bob| 75000|             2|\n",
      "|        IT|   Grace| 95000|             1|\n",
      "|        IT|     Eve| 90000|             2|\n",
      "+----------+--------+------+--------------+\n",
      "\n"
     ]
    },
    {
     "name": "stderr",
     "output_type": "stream",
     "text": [
      "                                                                                \r"
     ]
    }
   ],
   "source": [
    "employee_rank_sal_df.filter(col(\"salary_ranking\") <= 2).show()"
   ]
  },
  {
   "cell_type": "code",
   "execution_count": null,
   "id": "9de52493-4013-47a1-95fa-a94d05f67f71",
   "metadata": {},
   "outputs": [],
   "source": []
  }
 ],
 "metadata": {
  "kernelspec": {
   "display_name": "Python 3 (ipykernel)",
   "language": "python",
   "name": "python3"
  },
  "language_info": {
   "codemirror_mode": {
    "name": "ipython",
    "version": 3
   },
   "file_extension": ".py",
   "mimetype": "text/x-python",
   "name": "python",
   "nbconvert_exporter": "python",
   "pygments_lexer": "ipython3",
   "version": "3.10.2"
  }
 },
 "nbformat": 4,
 "nbformat_minor": 5
}
