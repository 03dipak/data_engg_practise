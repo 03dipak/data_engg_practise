{
 "cells": [
  {
   "cell_type": "code",
   "execution_count": null,
   "id": "88439749-c469-43d7-b42c-d088b410ed75",
   "metadata": {},
   "outputs": [],
   "source": [
    "Intermediate-Level (Aggregations & Joins)\n",
    "Aggregations:\n",
    "    \n",
    "    Find the average salary per department.\n",
    "    Find the highest and lowest salary in each department.\n",
    "    Count the number of employees per department.\n",
    "\n",
    "Joins (Create another DataFrame for department details like dept_id, dept_name, location):\n",
    "\n",
    "    Join the employee DataFrame with department details based on dept_id.\n",
    "    Find employees who belong to the \"Finance\" department.\n",
    "\n",
    "\n",
    "Grouping & Sorting:\n",
    "\n",
    "    Get the total salary expense per department.\n",
    "    Sort employees by salary in descending order.\n",
    "    Sort employees by department first, then by salary."
   ]
  },
  {
   "cell_type": "code",
   "execution_count": 4,
   "id": "ebc1a6f1-a891-434c-a0cb-03d31c16566d",
   "metadata": {},
   "outputs": [],
   "source": [
    "from pyspark.sql import SparkSession\n",
    "from pyspark.sql.functions import col,avg,min,max,count\n",
    "from pyspark.sql.window import Window"
   ]
  },
  {
   "cell_type": "code",
   "execution_count": 3,
   "id": "1852b7eb-54b1-42ba-8707-aea42e558b10",
   "metadata": {},
   "outputs": [
    {
     "name": "stderr",
     "output_type": "stream",
     "text": [
      "SLF4J: Class path contains multiple SLF4J bindings.\n",
      "SLF4J: Found binding in [jar:file:/home/glue_user/spark/jars/log4j-slf4j-impl-2.17.2.jar!/org/slf4j/impl/StaticLoggerBinder.class]\n",
      "SLF4J: Found binding in [jar:file:/home/glue_user/spark/jars/slf4j-reload4j-1.7.36.jar!/org/slf4j/impl/StaticLoggerBinder.class]\n",
      "SLF4J: Found binding in [jar:file:/home/glue_user/aws-glue-libs/jars/log4j-slf4j-impl-2.17.2.jar!/org/slf4j/impl/StaticLoggerBinder.class]\n",
      "SLF4J: Found binding in [jar:file:/home/glue_user/aws-glue-libs/jars/slf4j-reload4j-1.7.36.jar!/org/slf4j/impl/StaticLoggerBinder.class]\n",
      "SLF4J: See http://www.slf4j.org/codes.html#multiple_bindings for an explanation.\n",
      "SLF4J: Actual binding is of type [org.apache.logging.slf4j.Log4jLoggerFactory]\n",
      "Setting default log level to \"WARN\".\n",
      "To adjust logging level use sc.setLogLevel(newLevel). For SparkR, use setLogLevel(newLevel).\n"
     ]
    }
   ],
   "source": [
    "spark = SparkSession.builder.appName(\"aggrJoin\").getOrCreate()"
   ]
  },
  {
   "cell_type": "code",
   "execution_count": 5,
   "id": "dd602712-5cbf-42a3-991a-96e517bb2404",
   "metadata": {},
   "outputs": [],
   "source": [
    "employee_data = [\n",
    "    (\"HR\", \"Alice\", 60000),\n",
    "    (\"HR\", \"Bob\", 75000),\n",
    "    (\"HR\", \"Charlie\", 80000),\n",
    "    (\"HR\", \"David\", 72000),\n",
    "    (\"IT\", \"Eve\", 90000),\n",
    "    (\"IT\", \"Frank\", 85000),\n",
    "    (\"IT\", \"Grace\", 95000),\n",
    "    (\"IT\", \"Hank\", 87000),\n",
    "    (\"Finance\", \"Ivy\", 70000),\n",
    "    (\"Finance\", \"Jack\", 65000),\n",
    "    (\"Finance\", \"Kevin\", 72000),\n",
    "    (\"Finance\", \"Liam\", 71000),\n",
    "]\n",
    "\n",
    "# Creating DataFrame\n",
    "columns = [\"department\", \"employee\", \"salary\"]"
   ]
  },
  {
   "cell_type": "code",
   "execution_count": 6,
   "id": "b93ace53-294a-41dd-8166-ab2ee8d80cd8",
   "metadata": {},
   "outputs": [],
   "source": [
    "emp_df = spark.createDataFrame(employee_data,columns)"
   ]
  },
  {
   "cell_type": "code",
   "execution_count": 7,
   "id": "6e58b19d-e361-41cf-88ca-1f853e01c58e",
   "metadata": {},
   "outputs": [],
   "source": [
    "emp_df.createOrReplaceTempView(\"employee_data\")"
   ]
  },
  {
   "cell_type": "code",
   "execution_count": null,
   "id": "adeecc54-a580-4bd2-ac54-c621d4552035",
   "metadata": {},
   "outputs": [],
   "source": [
    "Aggregations:\n",
    "    \n",
    "    Find the average salary per department.\n",
    "    Find the highest and lowest salary in each department.\n",
    "    Count the number of employees per department."
   ]
  },
  {
   "cell_type": "code",
   "execution_count": 8,
   "id": "e5a434e3-d116-4754-8e13-e675ef008581",
   "metadata": {},
   "outputs": [
    {
     "name": "stdout",
     "output_type": "stream",
     "text": [
      "root\n",
      " |-- department: string (nullable = true)\n",
      " |-- employee: string (nullable = true)\n",
      " |-- salary: long (nullable = true)\n",
      "\n"
     ]
    }
   ],
   "source": [
    "emp_df.printSchema()"
   ]
  },
  {
   "cell_type": "code",
   "execution_count": 10,
   "id": "0fb12f8d-ce19-4fa8-b868-fff37e0cee2a",
   "metadata": {},
   "outputs": [
    {
     "data": {
      "text/plain": [
       "[Row(department='HR', employee='Alice', salary=60000),\n",
       " Row(department='HR', employee='Bob', salary=75000)]"
      ]
     },
     "execution_count": 10,
     "metadata": {},
     "output_type": "execute_result"
    }
   ],
   "source": [
    "emp_df.head(2)"
   ]
  },
  {
   "cell_type": "code",
   "execution_count": 15,
   "id": "db1675aa-56b1-4960-81df-5544a8add80f",
   "metadata": {},
   "outputs": [
    {
     "name": "stdout",
     "output_type": "stream",
     "text": [
      "+----------+-------+\n",
      "|department|avg_sal|\n",
      "+----------+-------+\n",
      "|        HR|71750.0|\n",
      "|        IT|89250.0|\n",
      "|   Finance|69500.0|\n",
      "+----------+-------+\n",
      "\n"
     ]
    }
   ],
   "source": [
    "#Find the average salary per department.\n",
    "\n",
    "spark.sql(\"\"\"\n",
    "    select department,avg(salary) as avg_sal from employee_data group by department\n",
    "\"\"\").show()"
   ]
  },
  {
   "cell_type": "code",
   "execution_count": 16,
   "id": "1d746ece-2087-4d8a-af54-81662bba8d09",
   "metadata": {},
   "outputs": [
    {
     "name": "stdout",
     "output_type": "stream",
     "text": [
      "+----------+-------+\n",
      "|department|avg_sal|\n",
      "+----------+-------+\n",
      "|        HR|71750.0|\n",
      "|        IT|89250.0|\n",
      "|   Finance|69500.0|\n",
      "+----------+-------+\n",
      "\n"
     ]
    }
   ],
   "source": [
    "#Find the average salary per department.\n",
    "\n",
    "emp_df.groupBy(\"department\").agg(avg(\"salary\").alias(\"avg_sal\")).show()"
   ]
  },
  {
   "cell_type": "code",
   "execution_count": 19,
   "id": "8c79d53c-6de6-446a-949b-924fef44cb58",
   "metadata": {},
   "outputs": [
    {
     "name": "stdout",
     "output_type": "stream",
     "text": [
      "+----------+-------+-------+\n",
      "|department|min_sal|max_sal|\n",
      "+----------+-------+-------+\n",
      "|        HR|  60000|  80000|\n",
      "|        IT|  85000|  95000|\n",
      "|   Finance|  65000|  72000|\n",
      "+----------+-------+-------+\n",
      "\n"
     ]
    }
   ],
   "source": [
    "#Find the highest and lowest salary in each department.\n",
    "spark.sql(\"\"\"\n",
    "        select department,min(salary) as min_sal,max(salary) as max_sal from employee_data group by department\n",
    "\"\"\").show()"
   ]
  },
  {
   "cell_type": "code",
   "execution_count": 22,
   "id": "b309919d-642d-43f9-a84f-528faa1b2ef7",
   "metadata": {},
   "outputs": [
    {
     "name": "stdout",
     "output_type": "stream",
     "text": [
      "+----------+-------+-------+\n",
      "|department|min_sal|max_sal|\n",
      "+----------+-------+-------+\n",
      "|        HR|  60000|  80000|\n",
      "|        IT|  85000|  95000|\n",
      "|   Finance|  65000|  72000|\n",
      "+----------+-------+-------+\n",
      "\n"
     ]
    }
   ],
   "source": [
    "#Find the highest and lowest salary in each department.\n",
    "emp_df.groupBy(\"department\").agg(min(\"salary\").alias(\"min_sal\"),max(\"salary\").alias(\"max_sal\")).show()"
   ]
  },
  {
   "cell_type": "code",
   "execution_count": 24,
   "id": "e3614eb6-773c-42e6-a854-e16807b56136",
   "metadata": {},
   "outputs": [
    {
     "name": "stdout",
     "output_type": "stream",
     "text": [
      "+----------+--------------+\n",
      "|department|no_of_employee|\n",
      "+----------+--------------+\n",
      "|        HR|             4|\n",
      "|        IT|             4|\n",
      "|   Finance|             4|\n",
      "+----------+--------------+\n",
      "\n"
     ]
    }
   ],
   "source": [
    "#Count the number of employees per department.\n",
    "spark.sql(\"\"\"\n",
    "        select department,count(employee) as no_of_employee from employee_data group by department\n",
    "\"\"\").show()"
   ]
  },
  {
   "cell_type": "code",
   "execution_count": 25,
   "id": "aa2af18e-e2b3-4eb2-90cd-96bdc765c498",
   "metadata": {},
   "outputs": [
    {
     "name": "stdout",
     "output_type": "stream",
     "text": [
      "+----------+--------------+\n",
      "|department|no_of_employee|\n",
      "+----------+--------------+\n",
      "|        HR|             4|\n",
      "|        IT|             4|\n",
      "|   Finance|             4|\n",
      "+----------+--------------+\n",
      "\n"
     ]
    }
   ],
   "source": [
    "#Count the number of employees per department.\n",
    "emp_df.groupBy(\"department\").agg(count(\"employee\").alias(\"no_of_employee\")).show()"
   ]
  },
  {
   "cell_type": "code",
   "execution_count": 26,
   "id": "0f29a3f4-dec9-4f52-8247-8a5e19042712",
   "metadata": {},
   "outputs": [
    {
     "name": "stdout",
     "output_type": "stream",
     "text": [
      "+----------+---------------+\n",
      "|department|count(employee)|\n",
      "+----------+---------------+\n",
      "|        HR|              4|\n",
      "|        IT|              4|\n",
      "|   Finance|              4|\n",
      "+----------+---------------+\n",
      "\n"
     ]
    }
   ],
   "source": [
    "emp_df.groupBy(\"department\").agg(count(\"employee\")).show()"
   ]
  },
  {
   "cell_type": "code",
   "execution_count": null,
   "id": "19d7ebf7-5497-4f61-8697-92dccd5fe4ef",
   "metadata": {},
   "outputs": [],
   "source": [
    "Get the total salary expense per department.\n",
    "    Sort employees by salary in descending order.\n",
    "    Sort employees by department first, then by salary."
   ]
  },
  {
   "cell_type": "code",
   "execution_count": 27,
   "id": "a3ec258d-24b9-4f5a-8884-c3a0ed841eae",
   "metadata": {},
   "outputs": [
    {
     "name": "stdout",
     "output_type": "stream",
     "text": [
      "+----------+-------+\n",
      "|department|expense|\n",
      "+----------+-------+\n",
      "|        HR| 287000|\n",
      "|        IT| 357000|\n",
      "|   Finance| 278000|\n",
      "+----------+-------+\n",
      "\n"
     ]
    }
   ],
   "source": [
    "#Get the total salary expense per department.\n",
    "spark.sql(\"\"\"\n",
    "    select department,sum(salary) as expense from employee_data group by department\n",
    "\"\"\").show()"
   ]
  },
  {
   "cell_type": "code",
   "execution_count": 31,
   "id": "048ca47a-37d9-4983-b50e-89a1dfc32b8e",
   "metadata": {},
   "outputs": [],
   "source": [
    "from pyspark.sql.functions import sum"
   ]
  },
  {
   "cell_type": "code",
   "execution_count": 32,
   "id": "eda959ce-26c9-4b3a-9b52-f153a1b4bf53",
   "metadata": {},
   "outputs": [
    {
     "name": "stdout",
     "output_type": "stream",
     "text": [
      "+----------+-------+\n",
      "|department|expense|\n",
      "+----------+-------+\n",
      "|        HR| 287000|\n",
      "|        IT| 357000|\n",
      "|   Finance| 278000|\n",
      "+----------+-------+\n",
      "\n"
     ]
    }
   ],
   "source": [
    "#Get the total salary expense per department.\n",
    "emp_df.groupBy(\"department\").agg(sum(\"salary\").alias(\"expense\")).show()"
   ]
  },
  {
   "cell_type": "code",
   "execution_count": 33,
   "id": "f8857d5d-e723-4f78-afe8-ce966fb3e6b3",
   "metadata": {},
   "outputs": [
    {
     "name": "stdout",
     "output_type": "stream",
     "text": [
      "root\n",
      " |-- department: string (nullable = true)\n",
      " |-- employee: string (nullable = true)\n",
      " |-- salary: long (nullable = true)\n",
      "\n"
     ]
    }
   ],
   "source": [
    "emp_df.printSchema()"
   ]
  },
  {
   "cell_type": "code",
   "execution_count": 34,
   "id": "893bed1d-eb1d-4112-8875-56c9e19036e2",
   "metadata": {},
   "outputs": [
    {
     "name": "stdout",
     "output_type": "stream",
     "text": [
      "+----------+--------+------+\n",
      "|department|employee|salary|\n",
      "+----------+--------+------+\n",
      "|        IT|   Grace| 95000|\n",
      "|        IT|     Eve| 90000|\n",
      "|        IT|    Hank| 87000|\n",
      "|        IT|   Frank| 85000|\n",
      "|        HR| Charlie| 80000|\n",
      "|        HR|     Bob| 75000|\n",
      "|        HR|   David| 72000|\n",
      "|   Finance|   Kevin| 72000|\n",
      "|   Finance|    Liam| 71000|\n",
      "|   Finance|     Ivy| 70000|\n",
      "|   Finance|    Jack| 65000|\n",
      "|        HR|   Alice| 60000|\n",
      "+----------+--------+------+\n",
      "\n"
     ]
    }
   ],
   "source": [
    "#Sort employees by salary in descending order.\n",
    "spark.sql(\"\"\"\n",
    "        select department,employee,salary from employee_data order by salary desc\n",
    "\"\"\").show()"
   ]
  },
  {
   "cell_type": "code",
   "execution_count": 36,
   "id": "d344ae77-3d6d-4f4c-b984-6d1cfa6b010b",
   "metadata": {},
   "outputs": [
    {
     "name": "stdout",
     "output_type": "stream",
     "text": [
      "+----------+--------+------+\n",
      "|department|employee|salary|\n",
      "+----------+--------+------+\n",
      "|        IT|   Grace| 95000|\n",
      "|        IT|     Eve| 90000|\n",
      "|        IT|    Hank| 87000|\n",
      "|        IT|   Frank| 85000|\n",
      "|        HR| Charlie| 80000|\n",
      "|        HR|     Bob| 75000|\n",
      "|        HR|   David| 72000|\n",
      "|   Finance|   Kevin| 72000|\n",
      "|   Finance|    Liam| 71000|\n",
      "|   Finance|     Ivy| 70000|\n",
      "|   Finance|    Jack| 65000|\n",
      "|        HR|   Alice| 60000|\n",
      "+----------+--------+------+\n",
      "\n"
     ]
    }
   ],
   "source": [
    "#Sort employees by salary in descending order.\n",
    "emp_df.orderBy(col(\"salary\").desc()).show()"
   ]
  },
  {
   "cell_type": "code",
   "execution_count": 37,
   "id": "0177f226-6984-4267-b367-6af9f37be693",
   "metadata": {},
   "outputs": [
    {
     "name": "stdout",
     "output_type": "stream",
     "text": [
      "+----------+--------+------+\n",
      "|department|employee|salary|\n",
      "+----------+--------+------+\n",
      "|   Finance|    Jack| 65000|\n",
      "|   Finance|     Ivy| 70000|\n",
      "|   Finance|    Liam| 71000|\n",
      "|   Finance|   Kevin| 72000|\n",
      "|        HR|   Alice| 60000|\n",
      "|        HR|   David| 72000|\n",
      "|        HR|     Bob| 75000|\n",
      "|        HR| Charlie| 80000|\n",
      "|        IT|   Frank| 85000|\n",
      "|        IT|    Hank| 87000|\n",
      "|        IT|     Eve| 90000|\n",
      "|        IT|   Grace| 95000|\n",
      "+----------+--------+------+\n",
      "\n"
     ]
    }
   ],
   "source": [
    "#Sort employees by department first, then by salary.\n",
    "spark.sql(\"\"\"\n",
    "        select department,employee,salary from employee_data order by department,salary \n",
    "\"\"\").show()"
   ]
  },
  {
   "cell_type": "code",
   "execution_count": 38,
   "id": "3e347dc5-b5ff-4db2-b915-9ff3b13a9005",
   "metadata": {},
   "outputs": [
    {
     "name": "stdout",
     "output_type": "stream",
     "text": [
      "+----------+--------+------+\n",
      "|department|employee|salary|\n",
      "+----------+--------+------+\n",
      "|   Finance|    Jack| 65000|\n",
      "|   Finance|     Ivy| 70000|\n",
      "|   Finance|    Liam| 71000|\n",
      "|   Finance|   Kevin| 72000|\n",
      "|        HR|   Alice| 60000|\n",
      "|        HR|   David| 72000|\n",
      "|        HR|     Bob| 75000|\n",
      "|        HR| Charlie| 80000|\n",
      "|        IT|   Frank| 85000|\n",
      "|        IT|    Hank| 87000|\n",
      "|        IT|     Eve| 90000|\n",
      "|        IT|   Grace| 95000|\n",
      "+----------+--------+------+\n",
      "\n"
     ]
    }
   ],
   "source": [
    "#Sort employees by department first, then by salary.\n",
    "emp_df.orderBy(col(\"department\"),col(\"salary\")).show()"
   ]
  },
  {
   "cell_type": "code",
   "execution_count": null,
   "id": "46b95e1c-96ca-4ee0-82f4-225aca1007a6",
   "metadata": {},
   "outputs": [],
   "source": [
    "Joins (Create another DataFrame for department details like dept_id, dept_name, location):\n",
    "\n",
    "    Join the employee DataFrame with department details based on dept_id.\n",
    "    Find employees who belong to the \"Finance\" department."
   ]
  },
  {
   "cell_type": "code",
   "execution_count": null,
   "id": "4874c174-689a-4a22-ab42-1b3b5409aa86",
   "metadata": {},
   "outputs": [],
   "source": []
  },
  {
   "cell_type": "code",
   "execution_count": 39,
   "id": "48642924-5072-4904-ab61-0886884019f5",
   "metadata": {},
   "outputs": [],
   "source": [
    "emp_data_new = [\n",
    "    (1, \"Alice\", 101, 50000),\n",
    "    (2, \"Bob\", 102, 60000),\n",
    "    (3, \"Charlie\", 101, 70000),\n",
    "    (4, \"David\", 103, 80000)\n",
    "]\n",
    "emp_columns_new = [\"emp_id\", \"name\", \"dept_id\", \"salary\"]\n",
    "employees = spark.createDataFrame(emp_data_new, emp_columns_new)"
   ]
  },
  {
   "cell_type": "code",
   "execution_count": 40,
   "id": "b5915a9c-71d7-4cac-a05b-7a763d01ed2c",
   "metadata": {},
   "outputs": [],
   "source": [
    "employees.createOrReplaceTempView(\"employees\")"
   ]
  },
  {
   "cell_type": "code",
   "execution_count": 41,
   "id": "0a84ff46-f8e4-4592-9e53-0ef5e400f8bf",
   "metadata": {},
   "outputs": [
    {
     "name": "stdout",
     "output_type": "stream",
     "text": [
      "root\n",
      " |-- emp_id: long (nullable = true)\n",
      " |-- name: string (nullable = true)\n",
      " |-- dept_id: long (nullable = true)\n",
      " |-- salary: long (nullable = true)\n",
      "\n"
     ]
    }
   ],
   "source": [
    "employees.printSchema()"
   ]
  },
  {
   "cell_type": "code",
   "execution_count": 42,
   "id": "eb95e64e-80d1-42ad-881f-67fdfcc2b8cb",
   "metadata": {},
   "outputs": [],
   "source": [
    "# Sample Department Data (dept_id, dept_name)\n",
    "dept_data = [\n",
    "    (101, \"HR\"),\n",
    "    (102, \"IT\"),\n",
    "    (103, \"Finance\"),\n",
    "    (104, \"Marketing\")  # Unmatched department\n",
    "]\n",
    "dept_columns = [\"dept_id\", \"dept_name\"]\n",
    "departments = spark.createDataFrame(dept_data, dept_columns)"
   ]
  },
  {
   "cell_type": "code",
   "execution_count": 43,
   "id": "ffaf6dcc-2afd-4207-848f-a2a3992af4ae",
   "metadata": {},
   "outputs": [
    {
     "name": "stdout",
     "output_type": "stream",
     "text": [
      "root\n",
      " |-- dept_id: long (nullable = true)\n",
      " |-- dept_name: string (nullable = true)\n",
      "\n"
     ]
    }
   ],
   "source": [
    "departments.printSchema()"
   ]
  },
  {
   "cell_type": "code",
   "execution_count": 53,
   "id": "7a7fe452-b402-40fd-9ba6-d65877e25db1",
   "metadata": {},
   "outputs": [
    {
     "name": "stdout",
     "output_type": "stream",
     "text": [
      "+-------+------+-------+------+---------+\n",
      "|dept_id|emp_id|   name|salary|dept_name|\n",
      "+-------+------+-------+------+---------+\n",
      "|    101|     1|  Alice| 50000|       HR|\n",
      "|    101|     3|Charlie| 70000|       HR|\n",
      "|    102|     2|    Bob| 60000|       IT|\n",
      "|    103|     4|  David| 80000|  Finance|\n",
      "+-------+------+-------+------+---------+\n",
      "\n"
     ]
    }
   ],
   "source": [
    "employees.join(departments,on=\"dept_id\", how=\"inner\").show()"
   ]
  },
  {
   "cell_type": "code",
   "execution_count": 48,
   "id": "7eb9fe40-099d-4775-9214-779b5c56998a",
   "metadata": {},
   "outputs": [],
   "source": [
    "# Sample Department Data (dept_id, dept_name)\n",
    "dept_data_new = [\n",
    "    (101, \"HR\"),\n",
    "    (102, \"IT\"),\n",
    "    (103, \"Finance\"),\n",
    "    (104, \"Marketing\")  # Unmatched department\n",
    "]\n",
    "dept_columns_new = [\"department_id\", \"dept_name\"]\n",
    "departments_new = spark.createDataFrame(dept_data_new, dept_columns_new)"
   ]
  },
  {
   "cell_type": "code",
   "execution_count": 50,
   "id": "0666a7f8-3cea-46db-bc40-5d8db3c13e8b",
   "metadata": {},
   "outputs": [
    {
     "name": "stdout",
     "output_type": "stream",
     "text": [
      "root\n",
      " |-- department_id: long (nullable = true)\n",
      " |-- dept_name: string (nullable = true)\n",
      "\n"
     ]
    }
   ],
   "source": [
    "departments_new.printSchema()"
   ]
  },
  {
   "cell_type": "code",
   "execution_count": 51,
   "id": "4435b97c-eaf3-4d6a-9820-2538b4d2a266",
   "metadata": {},
   "outputs": [
    {
     "name": "stdout",
     "output_type": "stream",
     "text": [
      "+------+-------+------+---------+\n",
      "|emp_id|   name|salary|dept_name|\n",
      "+------+-------+------+---------+\n",
      "|     1|  Alice| 50000|       HR|\n",
      "|     3|Charlie| 70000|       HR|\n",
      "|     2|    Bob| 60000|       IT|\n",
      "|     4|  David| 80000|  Finance|\n",
      "+------+-------+------+---------+\n",
      "\n"
     ]
    }
   ],
   "source": [
    "# Join on different column names\n",
    "emp_dept_df = employees.join(departments_new, employees.dept_id == departments_new.department_id, \"inner\") \\\n",
    "                       .select(\"emp_id\", \"name\", \"salary\", \"dept_name\")\n",
    "\n",
    "# Show Result\n",
    "emp_dept_df.show()"
   ]
  },
  {
   "cell_type": "code",
   "execution_count": 54,
   "id": "9b545abc-f6e7-4721-a969-10786f15cd73",
   "metadata": {},
   "outputs": [],
   "source": [
    "  #Find employees who belong to the \"Finance\" department.\n",
    "emp_dept_df_withoutSelect = employees.join(departments_new, employees.dept_id == departments_new.department_id, \"inner\") "
   ]
  },
  {
   "cell_type": "code",
   "execution_count": 55,
   "id": "8bb95afa-be90-4ad9-9b4b-1137425f76ef",
   "metadata": {},
   "outputs": [
    {
     "name": "stdout",
     "output_type": "stream",
     "text": [
      "+------+-------+-------+------+-------------+---------+\n",
      "|emp_id|   name|dept_id|salary|department_id|dept_name|\n",
      "+------+-------+-------+------+-------------+---------+\n",
      "|     1|  Alice|    101| 50000|          101|       HR|\n",
      "|     3|Charlie|    101| 70000|          101|       HR|\n",
      "|     2|    Bob|    102| 60000|          102|       IT|\n",
      "|     4|  David|    103| 80000|          103|  Finance|\n",
      "+------+-------+-------+------+-------------+---------+\n",
      "\n"
     ]
    }
   ],
   "source": [
    "emp_dept_df_withoutSelect.show()"
   ]
  },
  {
   "cell_type": "code",
   "execution_count": 57,
   "id": "37c9aa21-0218-40e0-b6ab-35a278652644",
   "metadata": {},
   "outputs": [
    {
     "name": "stdout",
     "output_type": "stream",
     "text": [
      "+------+-----+-------+------+-------------+---------+\n",
      "|emp_id| name|dept_id|salary|department_id|dept_name|\n",
      "+------+-----+-------+------+-------------+---------+\n",
      "|     4|David|    103| 80000|          103|  Finance|\n",
      "+------+-----+-------+------+-------------+---------+\n",
      "\n"
     ]
    }
   ],
   "source": [
    "emp_dept_df_withoutSelect.filter(col(\"dept_name\") == \"Finance\").show()"
   ]
  },
  {
   "cell_type": "code",
   "execution_count": null,
   "id": "a0279949-a822-4fb1-8beb-4b87f22aa29d",
   "metadata": {},
   "outputs": [],
   "source": []
  }
 ],
 "metadata": {
  "kernelspec": {
   "display_name": "Python 3 (ipykernel)",
   "language": "python",
   "name": "python3"
  },
  "language_info": {
   "codemirror_mode": {
    "name": "ipython",
    "version": 3
   },
   "file_extension": ".py",
   "mimetype": "text/x-python",
   "name": "python",
   "nbconvert_exporter": "python",
   "pygments_lexer": "ipython3",
   "version": "3.10.2"
  }
 },
 "nbformat": 4,
 "nbformat_minor": 5
}
