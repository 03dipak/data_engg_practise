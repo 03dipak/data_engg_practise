{
 "cells": [
  {
   "cell_type": "code",
   "execution_count": 1,
   "id": "4159578f-06c1-4792-964e-1d8db2f6a208",
   "metadata": {},
   "outputs": [],
   "source": [
    "from pyspark.sql import SparkSession\n",
    "from pyspark.sql.functions import sum,col\n",
    "from pyspark.sql.window import Window"
   ]
  },
  {
   "cell_type": "code",
   "execution_count": 2,
   "id": "1532d049-86c1-45ef-acfd-83d8fdbdfebf",
   "metadata": {},
   "outputs": [
    {
     "name": "stderr",
     "output_type": "stream",
     "text": [
      "SLF4J: Class path contains multiple SLF4J bindings.\n",
      "SLF4J: Found binding in [jar:file:/home/glue_user/spark/jars/log4j-slf4j-impl-2.17.2.jar!/org/slf4j/impl/StaticLoggerBinder.class]\n",
      "SLF4J: Found binding in [jar:file:/home/glue_user/spark/jars/slf4j-reload4j-1.7.36.jar!/org/slf4j/impl/StaticLoggerBinder.class]\n",
      "SLF4J: Found binding in [jar:file:/home/glue_user/aws-glue-libs/jars/log4j-slf4j-impl-2.17.2.jar!/org/slf4j/impl/StaticLoggerBinder.class]\n",
      "SLF4J: Found binding in [jar:file:/home/glue_user/aws-glue-libs/jars/slf4j-reload4j-1.7.36.jar!/org/slf4j/impl/StaticLoggerBinder.class]\n",
      "SLF4J: See http://www.slf4j.org/codes.html#multiple_bindings for an explanation.\n",
      "SLF4J: Actual binding is of type [org.apache.logging.slf4j.Log4jLoggerFactory]\n",
      "Setting default log level to \"WARN\".\n",
      "To adjust logging level use sc.setLogLevel(newLevel). For SparkR, use setLogLevel(newLevel).\n",
      "25/03/17 15:02:25 WARN Utils: Service 'SparkUI' could not bind on port 4040. Attempting port 4041.\n"
     ]
    }
   ],
   "source": [
    "spark = SparkSession.builder.appName(\"saleComulativeSum\").getOrCreate()"
   ]
  },
  {
   "cell_type": "code",
   "execution_count": 3,
   "id": "cec76881-d06b-4dde-9a34-fbe48dd4a6f3",
   "metadata": {},
   "outputs": [],
   "source": [
    "# Sample Data: (employee, sale_date, amount)\n",
    "sales_data = [\n",
    "    (\"E001\", \"2024-03-01\", 500),\n",
    "    (\"E001\", \"2024-03-02\", 300),\n",
    "    (\"E001\", \"2024-03-03\", 700),\n",
    "    (\"E002\", \"2024-03-01\", 400),\n",
    "    (\"E002\", \"2024-03-02\", 600),\n",
    "    (\"E002\", \"2024-03-03\", 200),\n",
    "    (\"E001\", \"2024-03-04\", 600),\n",
    "    (\"E002\", \"2024-03-04\", 500),\n",
    "    (\"E003\", \"2024-03-01\", 1000),\n",
    "    (\"E003\", \"2024-03-02\", 300),\n",
    "]\n",
    "\n",
    "# Creating DataFrame\n",
    "columns = [\"employee\", \"sale_date\", \"amount\"]"
   ]
  },
  {
   "cell_type": "code",
   "execution_count": 4,
   "id": "c81d9f75-ff0d-4c3e-90cb-0fc7ebec0e76",
   "metadata": {},
   "outputs": [],
   "source": [
    "df_sale_comu = spark.createDataFrame(sales_data,columns)"
   ]
  },
  {
   "cell_type": "code",
   "execution_count": null,
   "id": "ef6ad545-3a10-4417-9511-06ae96b82c63",
   "metadata": {},
   "outputs": [],
   "source": [
    "#select employee,sale_data,amount , sum (amount) over(partition by employee orber by sale_date) as sale_coumn_amount\n",
    "#from sale_comul_table"
   ]
  },
  {
   "cell_type": "code",
   "execution_count": 5,
   "id": "584612f0-4c1e-499c-9a5b-36193729112d",
   "metadata": {},
   "outputs": [],
   "source": [
    "window_spec = Window.partitionBy(\"employee\").orderBy(col(\"sale_date\"))"
   ]
  },
  {
   "cell_type": "code",
   "execution_count": 7,
   "id": "f86aea71-6237-4138-affb-35b8ad4e168b",
   "metadata": {},
   "outputs": [],
   "source": [
    "df_sale = df_sale_comu.withColumn(\"sale_comulative\",sum(\"amount\").over(window_spec))"
   ]
  },
  {
   "cell_type": "code",
   "execution_count": 8,
   "id": "3b71ab51-1163-4cb4-bf7d-6bb8cf70b494",
   "metadata": {},
   "outputs": [
    {
     "name": "stderr",
     "output_type": "stream",
     "text": [
      "                                                                                \r"
     ]
    },
    {
     "name": "stdout",
     "output_type": "stream",
     "text": [
      "+--------+----------+------+---------------+\n",
      "|employee| sale_date|amount|sale_comulative|\n",
      "+--------+----------+------+---------------+\n",
      "|    E001|2024-03-01|   500|            500|\n",
      "|    E001|2024-03-02|   300|            800|\n",
      "|    E001|2024-03-03|   700|           1500|\n",
      "|    E001|2024-03-04|   600|           2100|\n",
      "|    E002|2024-03-01|   400|            400|\n",
      "|    E002|2024-03-02|   600|           1000|\n",
      "|    E002|2024-03-03|   200|           1200|\n",
      "|    E002|2024-03-04|   500|           1700|\n",
      "|    E003|2024-03-01|  1000|           1000|\n",
      "|    E003|2024-03-02|   300|           1300|\n",
      "+--------+----------+------+---------------+\n",
      "\n"
     ]
    }
   ],
   "source": [
    "df_sale.show()"
   ]
  },
  {
   "cell_type": "code",
   "execution_count": null,
   "id": "5f9df8ea-93a2-4102-a3bf-2de7c94ee88d",
   "metadata": {},
   "outputs": [],
   "source": []
  }
 ],
 "metadata": {
  "kernelspec": {
   "display_name": "Python 3 (ipykernel)",
   "language": "python",
   "name": "python3"
  },
  "language_info": {
   "codemirror_mode": {
    "name": "ipython",
    "version": 3
   },
   "file_extension": ".py",
   "mimetype": "text/x-python",
   "name": "python",
   "nbconvert_exporter": "python",
   "pygments_lexer": "ipython3",
   "version": "3.10.2"
  }
 },
 "nbformat": 4,
 "nbformat_minor": 5
}
