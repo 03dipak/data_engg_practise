{
 "cells": [
  {
   "cell_type": "code",
   "execution_count": 1,
   "id": "0e157d56-c922-4689-9889-6d7324383f68",
   "metadata": {},
   "outputs": [],
   "source": [
    "from pyspark.sql import SparkSession\n",
    "from pyspark.sql.functions import col,explode,from_json\n",
    "from pyspark.sql.types import StructType,StructField,StringType,IntegerType,ArrayType"
   ]
  },
  {
   "cell_type": "code",
   "execution_count": 66,
   "id": "36a2fe01-3b83-4634-8e7e-e2e68b1408d9",
   "metadata": {},
   "outputs": [],
   "source": [
    "spark = SparkSession.builder.appName(\"nestedJson\").getOrCreate()"
   ]
  },
  {
   "cell_type": "code",
   "execution_count": 67,
   "id": "4b8d79bd-a9a7-43d2-94b4-173d85cb9d61",
   "metadata": {},
   "outputs": [],
   "source": [
    "# Sample nested JSON data\n",
    "json_data = [\n",
    "    (12345, '{\"name\": \"John Doe\", \"email\": \"john.doe@example.com\"}',\n",
    "     '[{\"product\": \"Laptop\", \"price\": 1200, \"quantity\": 1}, {\"product\": \"Mouse\", \"price\": 50, \"quantity\": 2}]',\n",
    "     \"2025-03-19\")\n",
    "]"
   ]
  },
  {
   "cell_type": "code",
   "execution_count": 68,
   "id": "2971edc3-4ff0-4ef2-ae55-7f5336bc5948",
   "metadata": {},
   "outputs": [],
   "source": [
    "schema = StructType([\n",
    "    StructField(\"order_id\",IntegerType(),True),\n",
    "    StructField(\"customer\",StringType(),True),\n",
    "    StructField(\"items\",StringType(),True),\n",
    "    StructField(\"order_date\",StringType(),True)\n",
    "])"
   ]
  },
  {
   "cell_type": "code",
   "execution_count": 81,
   "id": "2c425881-e6b7-4450-9771-5651d6801652",
   "metadata": {},
   "outputs": [],
   "source": [
    "df = spark.createDataFrame(json_data,schema)"
   ]
  },
  {
   "cell_type": "code",
   "execution_count": 9,
   "id": "28753429-7841-463f-8df9-f120f4b9c8fb",
   "metadata": {},
   "outputs": [
    {
     "name": "stderr",
     "output_type": "stream",
     "text": [
      "                                                                                \r"
     ]
    },
    {
     "name": "stdout",
     "output_type": "stream",
     "text": [
      "+--------+-----------------------------------------------------+-------------------------------------------------------------------------------------------------------+----------+\n",
      "|order_id|customer                                             |items                                                                                                  |order_date|\n",
      "+--------+-----------------------------------------------------+-------------------------------------------------------------------------------------------------------+----------+\n",
      "|12345   |{\"name\": \"John Doe\", \"email\": \"john.doe@example.com\"}|[{\"product\": \"Laptop\", \"price\": 1200, \"quantity\": 1}, {\"product\": \"Mouse\", \"price\": 50, \"quantity\": 2}]|2025-03-19|\n",
      "+--------+-----------------------------------------------------+-------------------------------------------------------------------------------------------------------+----------+\n",
      "\n"
     ]
    }
   ],
   "source": [
    "df.show(truncate= False)"
   ]
  },
  {
   "cell_type": "code",
   "execution_count": 34,
   "id": "a2aa4db1-4c77-4f97-8439-79071eaea9d5",
   "metadata": {},
   "outputs": [],
   "source": [
    "customer_schema = StructType([\n",
    "    StructField(\"name\",StringType(),True),\n",
    "    StructField(\"email\",StringType(),True)\n",
    "])"
   ]
  },
  {
   "cell_type": "code",
   "execution_count": 82,
   "id": "e6c68480-2f03-45ce-8965-098e5d251a2e",
   "metadata": {},
   "outputs": [],
   "source": [
    "df = df.withColumn(\"customer\",from_json(col(\"customer\"),customer_schema))"
   ]
  },
  {
   "cell_type": "code",
   "execution_count": 36,
   "id": "07b38029-46b3-4037-befc-8fe14bb51ce0",
   "metadata": {},
   "outputs": [
    {
     "name": "stdout",
     "output_type": "stream",
     "text": [
      "+--------+-----------------------------------------------------+-------------------------------------------------------------------------------------------------------+----------+--------------------------------+\n",
      "|order_id|customer                                             |items                                                                                                  |order_date|customer_new                    |\n",
      "+--------+-----------------------------------------------------+-------------------------------------------------------------------------------------------------------+----------+--------------------------------+\n",
      "|12345   |{\"name\": \"John Doe\", \"email\": \"john.doe@example.com\"}|[{\"product\": \"Laptop\", \"price\": 1200, \"quantity\": 1}, {\"product\": \"Mouse\", \"price\": 50, \"quantity\": 2}]|2025-03-19|{John Doe, john.doe@example.com}|\n",
      "+--------+-----------------------------------------------------+-------------------------------------------------------------------------------------------------------+----------+--------------------------------+\n",
      "\n"
     ]
    }
   ],
   "source": [
    "df.show(truncate=False)"
   ]
  },
  {
   "cell_type": "code",
   "execution_count": 73,
   "id": "524526a6-0457-430f-8e24-840a4699fe3a",
   "metadata": {},
   "outputs": [],
   "source": [
    "df = df.withColumn(\"customer\", from_json(col(\"customer\"), customer_schema))"
   ]
  },
  {
   "cell_type": "code",
   "execution_count": 83,
   "id": "cf457448-4d87-4dc9-889b-d4fa8ce87307",
   "metadata": {},
   "outputs": [],
   "source": [
    "df = df.withColumn(\"customer_name\", col(\"customer.name\")).withColumn(\"customer_email\", col(\"customer.email\"))"
   ]
  },
  {
   "cell_type": "code",
   "execution_count": 74,
   "id": "f378b047-afa6-4b3c-bbd1-440324140d67",
   "metadata": {},
   "outputs": [
    {
     "name": "stdout",
     "output_type": "stream",
     "text": [
      "+--------------------------------+\n",
      "|customer                        |\n",
      "+--------------------------------+\n",
      "|{John Doe, john.doe@example.com}|\n",
      "+--------------------------------+\n",
      "\n"
     ]
    }
   ],
   "source": [
    "df.select(col(\"customer\")).show(truncate=False)"
   ]
  },
  {
   "cell_type": "code",
   "execution_count": 42,
   "id": "e6470ef8-9df4-423c-925e-3ae1062e9f95",
   "metadata": {},
   "outputs": [
    {
     "name": "stdout",
     "output_type": "stream",
     "text": [
      "+--------+\n",
      "|name    |\n",
      "+--------+\n",
      "|John Doe|\n",
      "+--------+\n",
      "\n"
     ]
    }
   ],
   "source": [
    "df.select(col(\"customer.name\")).show(truncate=False)"
   ]
  },
  {
   "cell_type": "code",
   "execution_count": 44,
   "id": "0e2aefec-4810-4c08-ac15-27fee706aaa1",
   "metadata": {},
   "outputs": [
    {
     "name": "stdout",
     "output_type": "stream",
     "text": [
      "+--------+--------------------------------+-------------------------------------------------------------------------------------------------------+----------+--------------------------------+-------------+--------------------+\n",
      "|order_id|customer                        |items                                                                                                  |order_date|customer_new                    |customer_name|customer_email      |\n",
      "+--------+--------------------------------+-------------------------------------------------------------------------------------------------------+----------+--------------------------------+-------------+--------------------+\n",
      "|12345   |{John Doe, john.doe@example.com}|[{\"product\": \"Laptop\", \"price\": 1200, \"quantity\": 1}, {\"product\": \"Mouse\", \"price\": 50, \"quantity\": 2}]|2025-03-19|{John Doe, john.doe@example.com}|John Doe     |john.doe@example.com|\n",
      "+--------+--------------------------------+-------------------------------------------------------------------------------------------------------+----------+--------------------------------+-------------+--------------------+\n",
      "\n"
     ]
    }
   ],
   "source": [
    "df.show(truncate=False)"
   ]
  },
  {
   "cell_type": "code",
   "execution_count": 76,
   "id": "d00c1cbb-a5e3-46df-aeeb-f24b2a9f4e20",
   "metadata": {},
   "outputs": [],
   "source": [
    "df = df.drop(col(\"customer\")).drop(col(\"customer_new\"))"
   ]
  },
  {
   "cell_type": "code",
   "execution_count": 49,
   "id": "0a10f5a5-1f36-4e79-9b06-16d3208abcb4",
   "metadata": {},
   "outputs": [
    {
     "name": "stdout",
     "output_type": "stream",
     "text": [
      "+--------+-------------------------------------------------------------------------------------------------------+----------+-------------+--------------------+\n",
      "|order_id|items                                                                                                  |order_date|customer_name|customer_email      |\n",
      "+--------+-------------------------------------------------------------------------------------------------------+----------+-------------+--------------------+\n",
      "|12345   |[{\"product\": \"Laptop\", \"price\": 1200, \"quantity\": 1}, {\"product\": \"Mouse\", \"price\": 50, \"quantity\": 2}]|2025-03-19|John Doe     |john.doe@example.com|\n",
      "+--------+-------------------------------------------------------------------------------------------------------+----------+-------------+--------------------+\n",
      "\n"
     ]
    }
   ],
   "source": [
    "df.show(truncate=False)"
   ]
  },
  {
   "cell_type": "code",
   "execution_count": 84,
   "id": "f3f74d9c-601c-4060-8a0a-a7f6d6e0c669",
   "metadata": {},
   "outputs": [],
   "source": [
    "items_schema = ArrayType(StructType([\n",
    "    StructField(\"product\",StringType(),True),\n",
    "    StructField(\"price\",IntegerType(),True),\n",
    "    StructField(\"quantity\",StringType(),True)\n",
    "]))"
   ]
  },
  {
   "cell_type": "code",
   "execution_count": 85,
   "id": "931dd730-ad9b-4470-8116-5b6e15f64566",
   "metadata": {},
   "outputs": [],
   "source": [
    "df = df.withColumn(\"items\", from_json(col(\"items\"),items_schema))"
   ]
  },
  {
   "cell_type": "code",
   "execution_count": 54,
   "id": "58fa1294-d8c9-41f9-9f1e-54cedb1fc11c",
   "metadata": {},
   "outputs": [
    {
     "name": "stdout",
     "output_type": "stream",
     "text": [
      "+--------+------------------+----------+-------------+--------------------+\n",
      "|order_id|items             |order_date|customer_name|customer_email      |\n",
      "+--------+------------------+----------+-------------+--------------------+\n",
      "|12345   |{null, null, null}|2025-03-19|John Doe     |john.doe@example.com|\n",
      "+--------+------------------+----------+-------------+--------------------+\n",
      "\n"
     ]
    }
   ],
   "source": [
    "df.show(truncate=False)"
   ]
  },
  {
   "cell_type": "code",
   "execution_count": 86,
   "id": "bfb62f82-2dab-4b1f-a618-239e6b390750",
   "metadata": {},
   "outputs": [
    {
     "name": "stderr",
     "output_type": "stream",
     "text": [
      "                                                                                \r"
     ]
    },
    {
     "name": "stdout",
     "output_type": "stream",
     "text": [
      "+----------+\n",
      "|     price|\n",
      "+----------+\n",
      "|[1200, 50]|\n",
      "+----------+\n",
      "\n"
     ]
    }
   ],
   "source": [
    "df.select(\"items.price\").show()"
   ]
  },
  {
   "cell_type": "code",
   "execution_count": 88,
   "id": "f478444a-b0da-44d2-bada-d506bbe9ef24",
   "metadata": {},
   "outputs": [],
   "source": [
    "df = df.withColumn(\"item\",explode(col(\"items\")))"
   ]
  },
  {
   "cell_type": "code",
   "execution_count": 89,
   "id": "6a908345-8978-4e1b-92fe-d968f87e7f1b",
   "metadata": {},
   "outputs": [
    {
     "name": "stdout",
     "output_type": "stream",
     "text": [
      "root\n",
      " |-- order_id: integer (nullable = true)\n",
      " |-- customer: struct (nullable = true)\n",
      " |    |-- name: string (nullable = true)\n",
      " |    |-- email: string (nullable = true)\n",
      " |-- items: array (nullable = true)\n",
      " |    |-- element: struct (containsNull = true)\n",
      " |    |    |-- product: string (nullable = true)\n",
      " |    |    |-- price: integer (nullable = true)\n",
      " |    |    |-- quantity: string (nullable = true)\n",
      " |-- order_date: string (nullable = true)\n",
      " |-- customer_name: string (nullable = true)\n",
      " |-- customer_email: string (nullable = true)\n",
      " |-- item: struct (nullable = true)\n",
      " |    |-- product: string (nullable = true)\n",
      " |    |-- price: integer (nullable = true)\n",
      " |    |-- quantity: string (nullable = true)\n",
      "\n"
     ]
    }
   ],
   "source": [
    "df.printSchema()"
   ]
  },
  {
   "cell_type": "code",
   "execution_count": 90,
   "id": "ffbfaf69-2f1d-4c34-912a-f6783b2893a0",
   "metadata": {},
   "outputs": [
    {
     "name": "stdout",
     "output_type": "stream",
     "text": [
      "+--------+--------------------------------+-----------------------------------+----------+-------------+--------------------+-----------------+\n",
      "|order_id|customer                        |items                              |order_date|customer_name|customer_email      |item             |\n",
      "+--------+--------------------------------+-----------------------------------+----------+-------------+--------------------+-----------------+\n",
      "|12345   |{John Doe, john.doe@example.com}|[{Laptop, 1200, 1}, {Mouse, 50, 2}]|2025-03-19|John Doe     |john.doe@example.com|{Laptop, 1200, 1}|\n",
      "|12345   |{John Doe, john.doe@example.com}|[{Laptop, 1200, 1}, {Mouse, 50, 2}]|2025-03-19|John Doe     |john.doe@example.com|{Mouse, 50, 2}   |\n",
      "+--------+--------------------------------+-----------------------------------+----------+-------------+--------------------+-----------------+\n",
      "\n"
     ]
    }
   ],
   "source": [
    "df.show(truncate=False)"
   ]
  },
  {
   "cell_type": "code",
   "execution_count": 91,
   "id": "a75f73e8-8595-4c4d-9951-7eff645410e3",
   "metadata": {},
   "outputs": [],
   "source": [
    "df = df.drop(\"customer\",\"items\")"
   ]
  },
  {
   "cell_type": "code",
   "execution_count": 92,
   "id": "832d7f8d-5a69-4f1e-b4c6-b1dc6a5f8040",
   "metadata": {},
   "outputs": [
    {
     "name": "stdout",
     "output_type": "stream",
     "text": [
      "+--------+----------+-------------+--------------------+-----------------+\n",
      "|order_id|order_date|customer_name|customer_email      |item             |\n",
      "+--------+----------+-------------+--------------------+-----------------+\n",
      "|12345   |2025-03-19|John Doe     |john.doe@example.com|{Laptop, 1200, 1}|\n",
      "|12345   |2025-03-19|John Doe     |john.doe@example.com|{Mouse, 50, 2}   |\n",
      "+--------+----------+-------------+--------------------+-----------------+\n",
      "\n"
     ]
    }
   ],
   "source": [
    "df.show(truncate=False)"
   ]
  },
  {
   "cell_type": "code",
   "execution_count": 93,
   "id": "c29e5414-10d9-4c0d-bd1b-ce1f6ebad23b",
   "metadata": {},
   "outputs": [
    {
     "name": "stdout",
     "output_type": "stream",
     "text": [
      "root\n",
      " |-- order_id: integer (nullable = true)\n",
      " |-- order_date: string (nullable = true)\n",
      " |-- customer_name: string (nullable = true)\n",
      " |-- customer_email: string (nullable = true)\n",
      " |-- item: struct (nullable = true)\n",
      " |    |-- product: string (nullable = true)\n",
      " |    |-- price: integer (nullable = true)\n",
      " |    |-- quantity: string (nullable = true)\n",
      "\n"
     ]
    }
   ],
   "source": [
    "df.printSchema()"
   ]
  },
  {
   "cell_type": "code",
   "execution_count": 94,
   "id": "1ecc30f0-25c0-4d98-8d35-7c4e7fcf51d5",
   "metadata": {},
   "outputs": [],
   "source": [
    "df = df.withColumn(\"product\",col(\"item.product\"))"
   ]
  },
  {
   "cell_type": "code",
   "execution_count": 96,
   "id": "771e55d5-ec8a-4133-8857-c82e03aecf2b",
   "metadata": {},
   "outputs": [
    {
     "name": "stdout",
     "output_type": "stream",
     "text": [
      "+-------+\n",
      "|product|\n",
      "+-------+\n",
      "| Laptop|\n",
      "|  Mouse|\n",
      "+-------+\n",
      "\n"
     ]
    }
   ],
   "source": [
    "df.select(col(\"product\")).show()"
   ]
  },
  {
   "cell_type": "code",
   "execution_count": 97,
   "id": "7fc7dae7-1907-4810-90cf-b7ddcc4c7e24",
   "metadata": {},
   "outputs": [],
   "source": [
    "df = df.withColumn(\"price\",col(\"item.price\")) \\\n",
    "        .withColumn(\"quantity\",col(\"item.quantity\")) \\\n",
    "        .drop(\"item\")"
   ]
  },
  {
   "cell_type": "code",
   "execution_count": 98,
   "id": "199c283f-2b0d-4550-bfb5-be13f001e57d",
   "metadata": {},
   "outputs": [
    {
     "name": "stdout",
     "output_type": "stream",
     "text": [
      "root\n",
      " |-- order_id: integer (nullable = true)\n",
      " |-- order_date: string (nullable = true)\n",
      " |-- customer_name: string (nullable = true)\n",
      " |-- customer_email: string (nullable = true)\n",
      " |-- product: string (nullable = true)\n",
      " |-- price: integer (nullable = true)\n",
      " |-- quantity: string (nullable = true)\n",
      "\n"
     ]
    }
   ],
   "source": [
    "df.printSchema()"
   ]
  },
  {
   "cell_type": "code",
   "execution_count": 99,
   "id": "60dd427d-a76d-413d-9149-f08c1b122ad8",
   "metadata": {},
   "outputs": [
    {
     "name": "stdout",
     "output_type": "stream",
     "text": [
      "+--------+----------+-------------+--------------------+-------+-----+--------+\n",
      "|order_id|order_date|customer_name|      customer_email|product|price|quantity|\n",
      "+--------+----------+-------------+--------------------+-------+-----+--------+\n",
      "|   12345|2025-03-19|     John Doe|john.doe@example.com| Laptop| 1200|       1|\n",
      "|   12345|2025-03-19|     John Doe|john.doe@example.com|  Mouse|   50|       2|\n",
      "+--------+----------+-------------+--------------------+-------+-----+--------+\n",
      "\n"
     ]
    }
   ],
   "source": [
    "df.show()"
   ]
  },
  {
   "cell_type": "code",
   "execution_count": null,
   "id": "b4650a05-0ce5-4716-b221-f328832fa72d",
   "metadata": {},
   "outputs": [],
   "source": []
  }
 ],
 "metadata": {
  "kernelspec": {
   "display_name": "Python 3 (ipykernel)",
   "language": "python",
   "name": "python3"
  },
  "language_info": {
   "codemirror_mode": {
    "name": "ipython",
    "version": 3
   },
   "file_extension": ".py",
   "mimetype": "text/x-python",
   "name": "python",
   "nbconvert_exporter": "python",
   "pygments_lexer": "ipython3",
   "version": "3.10.2"
  }
 },
 "nbformat": 4,
 "nbformat_minor": 5
}
