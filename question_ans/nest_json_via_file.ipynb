{
 "cells": [
  {
   "cell_type": "code",
   "execution_count": 1,
   "id": "0fe3e046-22aa-438a-a006-a89c1242d03b",
   "metadata": {},
   "outputs": [],
   "source": [
    "import os\n",
    "from pathlib import Path"
   ]
  },
  {
   "cell_type": "code",
   "execution_count": 2,
   "id": "f6ed19e7-9e73-4ee3-a616-6274eb45195e",
   "metadata": {},
   "outputs": [],
   "source": [
    "absolute_path = Path().absolute()"
   ]
  },
  {
   "cell_type": "code",
   "execution_count": 3,
   "id": "689e8781-b91a-461e-849a-bce922654c09",
   "metadata": {},
   "outputs": [],
   "source": [
    "input_path = os.path.join(absolute_path, 'json/nested_order.json')"
   ]
  },
  {
   "cell_type": "code",
   "execution_count": 4,
   "id": "eeac2634-63d9-422c-afb7-f24a90b7568d",
   "metadata": {},
   "outputs": [
    {
     "name": "stdout",
     "output_type": "stream",
     "text": [
      "/home/glue_user/workspace/jupyter_workspace/external_pra/question_ans\n"
     ]
    }
   ],
   "source": [
    "print(absolute_path)"
   ]
  },
  {
   "cell_type": "code",
   "execution_count": 5,
   "id": "9e0b6a88-57b3-4f48-afb4-e05acf4c7df0",
   "metadata": {},
   "outputs": [
    {
     "name": "stdout",
     "output_type": "stream",
     "text": [
      "/home/glue_user/workspace/jupyter_workspace/external_pra/question_ans/json/nested_order.json\n"
     ]
    }
   ],
   "source": [
    "print(input_path)"
   ]
  },
  {
   "cell_type": "code",
   "execution_count": 6,
   "id": "fdb963fd-08bb-47d1-b885-abf82b923448",
   "metadata": {},
   "outputs": [],
   "source": [
    "from pyspark.sql import SparkSession\n",
    "from pyspark.sql.functions import col,explode\n",
    "from pyspark.sql.types import StructType,StructField,IntegerType,StringType,ArrayType"
   ]
  },
  {
   "cell_type": "code",
   "execution_count": 7,
   "id": "d82fa778-6aac-472b-b86c-150be7a1e02c",
   "metadata": {},
   "outputs": [
    {
     "name": "stderr",
     "output_type": "stream",
     "text": [
      "SLF4J: Class path contains multiple SLF4J bindings.\n",
      "SLF4J: Found binding in [jar:file:/home/glue_user/spark/jars/log4j-slf4j-impl-2.17.2.jar!/org/slf4j/impl/StaticLoggerBinder.class]\n",
      "SLF4J: Found binding in [jar:file:/home/glue_user/spark/jars/slf4j-reload4j-1.7.36.jar!/org/slf4j/impl/StaticLoggerBinder.class]\n",
      "SLF4J: Found binding in [jar:file:/home/glue_user/aws-glue-libs/jars/log4j-slf4j-impl-2.17.2.jar!/org/slf4j/impl/StaticLoggerBinder.class]\n",
      "SLF4J: Found binding in [jar:file:/home/glue_user/aws-glue-libs/jars/slf4j-reload4j-1.7.36.jar!/org/slf4j/impl/StaticLoggerBinder.class]\n",
      "SLF4J: See http://www.slf4j.org/codes.html#multiple_bindings for an explanation.\n",
      "SLF4J: Actual binding is of type [org.apache.logging.slf4j.Log4jLoggerFactory]\n",
      "Setting default log level to \"WARN\".\n",
      "To adjust logging level use sc.setLogLevel(newLevel). For SparkR, use setLogLevel(newLevel).\n"
     ]
    }
   ],
   "source": [
    "spark = SparkSession.builder.appName(\"readJson\").getOrCreate()"
   ]
  },
  {
   "cell_type": "code",
   "execution_count": 8,
   "id": "3d17f390-be9c-4f74-b519-4176c00f8203",
   "metadata": {},
   "outputs": [],
   "source": [
    "json_schema = StructType([\n",
    "    StructField(\"order_id\",IntegerType(),True),\n",
    "    StructField(\"customer\",StringType(),True),\n",
    "    StructField(\"items\",StringType(),True),\n",
    "    StructField(\"order_date\",StringType(),True)\n",
    "])"
   ]
  },
  {
   "cell_type": "code",
   "execution_count": 9,
   "id": "f4d98830-ba6d-47d3-9d86-933803d28ec6",
   "metadata": {},
   "outputs": [],
   "source": [
    "df = spark.read.schema(json_schema).option(\"mode\", \"PERMISSIVE\").json(input_path)"
   ]
  },
  {
   "cell_type": "code",
   "execution_count": 10,
   "id": "e4dc1de7-07de-49d5-90c6-35d3beb76556",
   "metadata": {},
   "outputs": [
    {
     "name": "stdout",
     "output_type": "stream",
     "text": [
      "root\n",
      " |-- order_id: integer (nullable = true)\n",
      " |-- customer: string (nullable = true)\n",
      " |-- items: string (nullable = true)\n",
      " |-- order_date: string (nullable = true)\n",
      "\n"
     ]
    }
   ],
   "source": [
    "df.printSchema()"
   ]
  },
  {
   "cell_type": "code",
   "execution_count": 11,
   "id": "ae7b8eeb-ada4-46d0-8148-b03e27a2c5d8",
   "metadata": {},
   "outputs": [
    {
     "name": "stderr",
     "output_type": "stream",
     "text": [
      "[Stage 0:>                                                          (0 + 1) / 1]\r"
     ]
    },
    {
     "name": "stdout",
     "output_type": "stream",
     "text": [
      "+--------+---------------------------------------------------------------------------------------------------------------------+---------------------------------------------------------------------------------------------------------------------------------------------------------------------------------------------------+----------+\n",
      "|order_id|customer                                                                                                             |items                                                                                                                                                                                              |order_date|\n",
      "+--------+---------------------------------------------------------------------------------------------------------------------+---------------------------------------------------------------------------------------------------------------------------------------------------------------------------------------------------+----------+\n",
      "|12345   |{\"name\":\"John Doe\",\"email\":\"john.doe@example.com\",\"address\":{\"street\":\"123 Main St\",\"city\":\"New York\",\"zip\":\"10001\"}}|[{\"product\":\"Laptop\",\"details\":{\"brand\":\"Apple\",\"model\":\"MacBook Pro\"},\"price\":1200,\"quantity\":1},{\"product\":\"Mouse\",\"details\":{\"brand\":\"Logitech\",\"model\":\"MX Master 3\"},\"price\":50,\"quantity\":2}]|2025-03-19|\n",
      "+--------+---------------------------------------------------------------------------------------------------------------------+---------------------------------------------------------------------------------------------------------------------------------------------------------------------------------------------------+----------+\n",
      "\n"
     ]
    },
    {
     "name": "stderr",
     "output_type": "stream",
     "text": [
      "                                                                                \r"
     ]
    }
   ],
   "source": [
    "df.show(truncate=False)"
   ]
  },
  {
   "cell_type": "code",
   "execution_count": 12,
   "id": "777ab745-18b0-4664-8257-6b97ab3eb823",
   "metadata": {},
   "outputs": [
    {
     "name": "stdout",
     "output_type": "stream",
     "text": [
      "+---------------------------------------------------------------------------------------------------------------------+\n",
      "|customer                                                                                                             |\n",
      "+---------------------------------------------------------------------------------------------------------------------+\n",
      "|{\"name\":\"John Doe\",\"email\":\"john.doe@example.com\",\"address\":{\"street\":\"123 Main St\",\"city\":\"New York\",\"zip\":\"10001\"}}|\n",
      "+---------------------------------------------------------------------------------------------------------------------+\n",
      "\n"
     ]
    }
   ],
   "source": [
    "df.select(\"customer\").show(truncate=False)"
   ]
  },
  {
   "cell_type": "code",
   "execution_count": 13,
   "id": "1f0cbdcc-92fe-46c0-9545-d5a22dc3da67",
   "metadata": {},
   "outputs": [],
   "source": [
    "customer_name_schema = StructType([\n",
    "    StructField(\"name\",StringType(),True),\n",
    "    StructField(\"email\",StringType(),True),\n",
    "    StructField(\"address\",StructType([\n",
    "        StructField(\"city\",StringType(),True),\n",
    "        StructField(\"street\",StringType(),True),\n",
    "        StructField(\"zip\",StringType(),True)\n",
    "    ]),True)\n",
    "])"
   ]
  },
  {
   "cell_type": "code",
   "execution_count": 15,
   "id": "14b30e7a-7e45-4bae-8fd5-e1164209ad59",
   "metadata": {},
   "outputs": [],
   "source": [
    "from pyspark.sql.functions import from_json"
   ]
  },
  {
   "cell_type": "code",
   "execution_count": 16,
   "id": "c4950398-f1ed-4da1-9fc0-550cf67d2f59",
   "metadata": {},
   "outputs": [],
   "source": [
    "df = df.withColumn(\"customer\",from_json(col(\"customer\"),customer_name_schema))"
   ]
  },
  {
   "cell_type": "code",
   "execution_count": 17,
   "id": "9474b8ae-39f1-44b5-bbd7-c905a09e5f7d",
   "metadata": {},
   "outputs": [
    {
     "name": "stdout",
     "output_type": "stream",
     "text": [
      "root\n",
      " |-- order_id: integer (nullable = true)\n",
      " |-- customer: struct (nullable = true)\n",
      " |    |-- name: string (nullable = true)\n",
      " |    |-- email: string (nullable = true)\n",
      " |    |-- address: struct (nullable = true)\n",
      " |    |    |-- city: string (nullable = true)\n",
      " |    |    |-- street: string (nullable = true)\n",
      " |    |    |-- zip: string (nullable = true)\n",
      " |-- items: string (nullable = true)\n",
      " |-- order_date: string (nullable = true)\n",
      "\n"
     ]
    }
   ],
   "source": [
    "df.printSchema()"
   ]
  },
  {
   "cell_type": "code",
   "execution_count": 18,
   "id": "22d9f6d2-9529-4661-9b55-4ed31e4a043d",
   "metadata": {},
   "outputs": [
    {
     "name": "stdout",
     "output_type": "stream",
     "text": [
      "+--------+\n",
      "|name    |\n",
      "+--------+\n",
      "|John Doe|\n",
      "+--------+\n",
      "\n"
     ]
    }
   ],
   "source": [
    "df.select(\"customer.name\").show(truncate=False)"
   ]
  },
  {
   "cell_type": "code",
   "execution_count": 19,
   "id": "ec810bc5-824d-4a64-b9c1-711e45f98600",
   "metadata": {},
   "outputs": [
    {
     "name": "stdout",
     "output_type": "stream",
     "text": [
      "+--------+----------------------------------------------------------------+---------------------------------------------------------------------------------------------------------------------------------------------------------------------------------------------------+----------+\n",
      "|order_id|customer                                                        |items                                                                                                                                                                                              |order_date|\n",
      "+--------+----------------------------------------------------------------+---------------------------------------------------------------------------------------------------------------------------------------------------------------------------------------------------+----------+\n",
      "|12345   |{John Doe, john.doe@example.com, {New York, 123 Main St, 10001}}|[{\"product\":\"Laptop\",\"details\":{\"brand\":\"Apple\",\"model\":\"MacBook Pro\"},\"price\":1200,\"quantity\":1},{\"product\":\"Mouse\",\"details\":{\"brand\":\"Logitech\",\"model\":\"MX Master 3\"},\"price\":50,\"quantity\":2}]|2025-03-19|\n",
      "+--------+----------------------------------------------------------------+---------------------------------------------------------------------------------------------------------------------------------------------------------------------------------------------------+----------+\n",
      "\n"
     ]
    }
   ],
   "source": [
    "df.show(truncate=False)"
   ]
  },
  {
   "cell_type": "code",
   "execution_count": 20,
   "id": "fd3e03a8-6689-4923-ace4-e99c4db08814",
   "metadata": {},
   "outputs": [],
   "source": [
    "df = df.withColumn(\"name\",col(\"customer.name\"))"
   ]
  },
  {
   "cell_type": "code",
   "execution_count": 21,
   "id": "f5235706-b8b7-4588-8259-5a3a74e34242",
   "metadata": {},
   "outputs": [
    {
     "name": "stdout",
     "output_type": "stream",
     "text": [
      "root\n",
      " |-- order_id: integer (nullable = true)\n",
      " |-- customer: struct (nullable = true)\n",
      " |    |-- name: string (nullable = true)\n",
      " |    |-- email: string (nullable = true)\n",
      " |    |-- address: struct (nullable = true)\n",
      " |    |    |-- city: string (nullable = true)\n",
      " |    |    |-- street: string (nullable = true)\n",
      " |    |    |-- zip: string (nullable = true)\n",
      " |-- items: string (nullable = true)\n",
      " |-- order_date: string (nullable = true)\n",
      " |-- name: string (nullable = true)\n",
      "\n"
     ]
    }
   ],
   "source": [
    "df.printSchema()"
   ]
  },
  {
   "cell_type": "code",
   "execution_count": 22,
   "id": "bedf639d-870e-4059-ad42-6dc0c733f36e",
   "metadata": {},
   "outputs": [
    {
     "data": {
      "text/plain": [
       "Row(order_id=12345, customer=Row(name='John Doe', email='john.doe@example.com', address=Row(city='New York', street='123 Main St', zip='10001')), items='[{\"product\":\"Laptop\",\"details\":{\"brand\":\"Apple\",\"model\":\"MacBook Pro\"},\"price\":1200,\"quantity\":1},{\"product\":\"Mouse\",\"details\":{\"brand\":\"Logitech\",\"model\":\"MX Master 3\"},\"price\":50,\"quantity\":2}]', order_date='2025-03-19', name='John Doe')"
      ]
     },
     "execution_count": 22,
     "metadata": {},
     "output_type": "execute_result"
    }
   ],
   "source": [
    "df.head()"
   ]
  },
  {
   "cell_type": "code",
   "execution_count": 23,
   "id": "d9773300-061d-4b8f-8736-bcb7e94f5c30",
   "metadata": {},
   "outputs": [],
   "source": [
    "df = df.withColumn(\"email\",col(\"customer.email\"))"
   ]
  },
  {
   "cell_type": "code",
   "execution_count": 24,
   "id": "dcab11ea-0042-4861-be1f-203cdcb011a5",
   "metadata": {},
   "outputs": [
    {
     "name": "stdout",
     "output_type": "stream",
     "text": [
      "root\n",
      " |-- order_id: integer (nullable = true)\n",
      " |-- customer: struct (nullable = true)\n",
      " |    |-- name: string (nullable = true)\n",
      " |    |-- email: string (nullable = true)\n",
      " |    |-- address: struct (nullable = true)\n",
      " |    |    |-- city: string (nullable = true)\n",
      " |    |    |-- street: string (nullable = true)\n",
      " |    |    |-- zip: string (nullable = true)\n",
      " |-- items: string (nullable = true)\n",
      " |-- order_date: string (nullable = true)\n",
      " |-- name: string (nullable = true)\n",
      " |-- email: string (nullable = true)\n",
      "\n"
     ]
    }
   ],
   "source": [
    "df.printSchema()"
   ]
  },
  {
   "cell_type": "code",
   "execution_count": 25,
   "id": "0ed70ac7-3d1a-4fa0-9e0c-21fe7d223a40",
   "metadata": {},
   "outputs": [
    {
     "name": "stdout",
     "output_type": "stream",
     "text": [
      "+--------+----------------------------------------------------------------+---------------------------------------------------------------------------------------------------------------------------------------------------------------------------------------------------+----------+--------+--------------------+\n",
      "|order_id|customer                                                        |items                                                                                                                                                                                              |order_date|name    |email               |\n",
      "+--------+----------------------------------------------------------------+---------------------------------------------------------------------------------------------------------------------------------------------------------------------------------------------------+----------+--------+--------------------+\n",
      "|12345   |{John Doe, john.doe@example.com, {New York, 123 Main St, 10001}}|[{\"product\":\"Laptop\",\"details\":{\"brand\":\"Apple\",\"model\":\"MacBook Pro\"},\"price\":1200,\"quantity\":1},{\"product\":\"Mouse\",\"details\":{\"brand\":\"Logitech\",\"model\":\"MX Master 3\"},\"price\":50,\"quantity\":2}]|2025-03-19|John Doe|john.doe@example.com|\n",
      "+--------+----------------------------------------------------------------+---------------------------------------------------------------------------------------------------------------------------------------------------------------------------------------------------+----------+--------+--------------------+\n",
      "\n"
     ]
    }
   ],
   "source": [
    "df.show(truncate=False)"
   ]
  },
  {
   "cell_type": "code",
   "execution_count": 26,
   "id": "1580960c-7d1c-4b8f-8b9b-de2ba59be74b",
   "metadata": {},
   "outputs": [
    {
     "name": "stdout",
     "output_type": "stream",
     "text": [
      "+--------------------+\n",
      "|             address|\n",
      "+--------------------+\n",
      "|{New York, 123 Ma...|\n",
      "+--------------------+\n",
      "\n"
     ]
    }
   ],
   "source": [
    "df.select(\"customer.address\").show()"
   ]
  },
  {
   "cell_type": "code",
   "execution_count": 27,
   "id": "04c8341b-6242-438e-8b38-e9c21e3f10ec",
   "metadata": {},
   "outputs": [
    {
     "name": "stdout",
     "output_type": "stream",
     "text": [
      "+--------+\n",
      "|    city|\n",
      "+--------+\n",
      "|New York|\n",
      "+--------+\n",
      "\n"
     ]
    }
   ],
   "source": [
    "df.select(\"customer.address.city\").show()"
   ]
  },
  {
   "cell_type": "code",
   "execution_count": 28,
   "id": "378e7543-bab4-4f1b-a0ad-a4cc35a3f5c7",
   "metadata": {},
   "outputs": [],
   "source": [
    "df = df.withColumn(\"city\",col(\"customer.address.city\"))"
   ]
  },
  {
   "cell_type": "code",
   "execution_count": 29,
   "id": "d6e8632d-7e28-4dcc-889e-fbabdbfe233f",
   "metadata": {},
   "outputs": [],
   "source": [
    "df = df.withColumn(\"street\",col(\"customer.address.street\"))\n",
    "df = df.withColumn(\"zip\",col(\"customer.address.zip\"))"
   ]
  },
  {
   "cell_type": "code",
   "execution_count": 30,
   "id": "7f83a94b-c2aa-48e5-9dc2-473f12b84085",
   "metadata": {},
   "outputs": [
    {
     "name": "stdout",
     "output_type": "stream",
     "text": [
      "root\n",
      " |-- order_id: integer (nullable = true)\n",
      " |-- customer: struct (nullable = true)\n",
      " |    |-- name: string (nullable = true)\n",
      " |    |-- email: string (nullable = true)\n",
      " |    |-- address: struct (nullable = true)\n",
      " |    |    |-- city: string (nullable = true)\n",
      " |    |    |-- street: string (nullable = true)\n",
      " |    |    |-- zip: string (nullable = true)\n",
      " |-- items: string (nullable = true)\n",
      " |-- order_date: string (nullable = true)\n",
      " |-- name: string (nullable = true)\n",
      " |-- email: string (nullable = true)\n",
      " |-- city: string (nullable = true)\n",
      " |-- street: string (nullable = true)\n",
      " |-- zip: string (nullable = true)\n",
      "\n"
     ]
    }
   ],
   "source": [
    "df.printSchema()"
   ]
  },
  {
   "cell_type": "code",
   "execution_count": 31,
   "id": "e61bfba2-2917-4de2-bebf-bd0ecc20223e",
   "metadata": {},
   "outputs": [],
   "source": [
    "df = df.drop(\"customer\")"
   ]
  },
  {
   "cell_type": "code",
   "execution_count": 32,
   "id": "101aac6b-4eb1-448f-bf37-cbc56427f2ab",
   "metadata": {},
   "outputs": [
    {
     "name": "stdout",
     "output_type": "stream",
     "text": [
      "root\n",
      " |-- order_id: integer (nullable = true)\n",
      " |-- items: string (nullable = true)\n",
      " |-- order_date: string (nullable = true)\n",
      " |-- name: string (nullable = true)\n",
      " |-- email: string (nullable = true)\n",
      " |-- city: string (nullable = true)\n",
      " |-- street: string (nullable = true)\n",
      " |-- zip: string (nullable = true)\n",
      "\n"
     ]
    }
   ],
   "source": [
    "df.printSchema()"
   ]
  },
  {
   "cell_type": "code",
   "execution_count": 33,
   "id": "1b242d04-a8c5-4d97-91d9-1730a88f3fd8",
   "metadata": {},
   "outputs": [
    {
     "name": "stdout",
     "output_type": "stream",
     "text": [
      "+--------+--------------------+----------+--------+--------------------+--------+-----------+-----+\n",
      "|order_id|               items|order_date|    name|               email|    city|     street|  zip|\n",
      "+--------+--------------------+----------+--------+--------------------+--------+-----------+-----+\n",
      "|   12345|[{\"product\":\"Lapt...|2025-03-19|John Doe|john.doe@example.com|New York|123 Main St|10001|\n",
      "+--------+--------------------+----------+--------+--------------------+--------+-----------+-----+\n",
      "\n"
     ]
    }
   ],
   "source": [
    "df.show()"
   ]
  },
  {
   "cell_type": "code",
   "execution_count": 34,
   "id": "6817fac5-28b7-4794-b82a-a9a26ccf72ef",
   "metadata": {},
   "outputs": [],
   "source": [
    "from pyspark.sql.types import LongType"
   ]
  },
  {
   "cell_type": "code",
   "execution_count": 35,
   "id": "7c0826b9-f327-411e-a9ac-c458eecf9bd3",
   "metadata": {},
   "outputs": [],
   "source": [
    "items_schema = ArrayType(\n",
    "    StructType([\n",
    "        StructField(\"details\",StructType([\n",
    "            StructField(\"brand\",StringType(),True),\n",
    "            StructField(\"model\",StringType(),True)\n",
    "        ]),True),\n",
    "        StructField(\"price\",LongType(),True),\n",
    "        StructField(\"product\",StringType(),True),\n",
    "        StructField(\"quantity\",LongType(),True)\n",
    "    ])\n",
    ")"
   ]
  },
  {
   "cell_type": "code",
   "execution_count": 36,
   "id": "b1a2a61d-eae5-4c23-b96c-9f06e10ab52f",
   "metadata": {},
   "outputs": [
    {
     "name": "stdout",
     "output_type": "stream",
     "text": [
      "+---------------------------------------------------------------------------------------------------------------------------------------------------------------------------------------------------+\n",
      "|items                                                                                                                                                                                              |\n",
      "+---------------------------------------------------------------------------------------------------------------------------------------------------------------------------------------------------+\n",
      "|[{\"product\":\"Laptop\",\"details\":{\"brand\":\"Apple\",\"model\":\"MacBook Pro\"},\"price\":1200,\"quantity\":1},{\"product\":\"Mouse\",\"details\":{\"brand\":\"Logitech\",\"model\":\"MX Master 3\"},\"price\":50,\"quantity\":2}]|\n",
      "+---------------------------------------------------------------------------------------------------------------------------------------------------------------------------------------------------+\n",
      "\n"
     ]
    }
   ],
   "source": [
    "df.select(\"items\").show(truncate=False)"
   ]
  },
  {
   "cell_type": "code",
   "execution_count": 37,
   "id": "af24ba26-9de3-40f7-8a21-fff4fc02842e",
   "metadata": {},
   "outputs": [],
   "source": [
    "df = df.withColumn(\"items\",from_json(col(\"items\"),items_schema))"
   ]
  },
  {
   "cell_type": "code",
   "execution_count": 38,
   "id": "9b143845-036e-4ddb-be4d-98aecf729176",
   "metadata": {},
   "outputs": [
    {
     "name": "stdout",
     "output_type": "stream",
     "text": [
      "root\n",
      " |-- order_id: integer (nullable = true)\n",
      " |-- items: array (nullable = true)\n",
      " |    |-- element: struct (containsNull = true)\n",
      " |    |    |-- details: struct (nullable = true)\n",
      " |    |    |    |-- brand: string (nullable = true)\n",
      " |    |    |    |-- model: string (nullable = true)\n",
      " |    |    |-- price: long (nullable = true)\n",
      " |    |    |-- product: string (nullable = true)\n",
      " |    |    |-- quantity: long (nullable = true)\n",
      " |-- order_date: string (nullable = true)\n",
      " |-- name: string (nullable = true)\n",
      " |-- email: string (nullable = true)\n",
      " |-- city: string (nullable = true)\n",
      " |-- street: string (nullable = true)\n",
      " |-- zip: string (nullable = true)\n",
      "\n"
     ]
    }
   ],
   "source": [
    "df.printSchema()"
   ]
  },
  {
   "cell_type": "code",
   "execution_count": 39,
   "id": "a38b683f-6859-4611-aa3e-f14dc3aaa28c",
   "metadata": {},
   "outputs": [],
   "source": [
    "df = df.withColumn(\"item\",explode(col(\"items\")))"
   ]
  },
  {
   "cell_type": "code",
   "execution_count": 40,
   "id": "5bc51e7b-fd8b-4cdf-8eef-00803efe26e4",
   "metadata": {},
   "outputs": [
    {
     "name": "stdout",
     "output_type": "stream",
     "text": [
      "root\n",
      " |-- order_id: integer (nullable = true)\n",
      " |-- items: array (nullable = true)\n",
      " |    |-- element: struct (containsNull = true)\n",
      " |    |    |-- details: struct (nullable = true)\n",
      " |    |    |    |-- brand: string (nullable = true)\n",
      " |    |    |    |-- model: string (nullable = true)\n",
      " |    |    |-- price: long (nullable = true)\n",
      " |    |    |-- product: string (nullable = true)\n",
      " |    |    |-- quantity: long (nullable = true)\n",
      " |-- order_date: string (nullable = true)\n",
      " |-- name: string (nullable = true)\n",
      " |-- email: string (nullable = true)\n",
      " |-- city: string (nullable = true)\n",
      " |-- street: string (nullable = true)\n",
      " |-- zip: string (nullable = true)\n",
      " |-- item: struct (nullable = true)\n",
      " |    |-- details: struct (nullable = true)\n",
      " |    |    |-- brand: string (nullable = true)\n",
      " |    |    |-- model: string (nullable = true)\n",
      " |    |-- price: long (nullable = true)\n",
      " |    |-- product: string (nullable = true)\n",
      " |    |-- quantity: long (nullable = true)\n",
      "\n"
     ]
    }
   ],
   "source": [
    "df.printSchema()"
   ]
  },
  {
   "cell_type": "code",
   "execution_count": 41,
   "id": "fe1e811a-5429-4418-9d36-cdb0d0a662e2",
   "metadata": {},
   "outputs": [
    {
     "name": "stdout",
     "output_type": "stream",
     "text": [
      "+--------+----------------------------------------------------------------------------------+----------+--------+--------------------+--------+-----------+-----+---------------------------------------+\n",
      "|order_id|items                                                                             |order_date|name    |email               |city    |street     |zip  |item                                   |\n",
      "+--------+----------------------------------------------------------------------------------+----------+--------+--------------------+--------+-----------+-----+---------------------------------------+\n",
      "|12345   |[{{Apple, MacBook Pro}, 1200, Laptop, 1}, {{Logitech, MX Master 3}, 50, Mouse, 2}]|2025-03-19|John Doe|john.doe@example.com|New York|123 Main St|10001|{{Apple, MacBook Pro}, 1200, Laptop, 1}|\n",
      "|12345   |[{{Apple, MacBook Pro}, 1200, Laptop, 1}, {{Logitech, MX Master 3}, 50, Mouse, 2}]|2025-03-19|John Doe|john.doe@example.com|New York|123 Main St|10001|{{Logitech, MX Master 3}, 50, Mouse, 2}|\n",
      "+--------+----------------------------------------------------------------------------------+----------+--------+--------------------+--------+-----------+-----+---------------------------------------+\n",
      "\n"
     ]
    }
   ],
   "source": [
    "df.show(truncate=False)"
   ]
  },
  {
   "cell_type": "code",
   "execution_count": 42,
   "id": "17f6dac5-4c3f-4eee-8af1-5d2989ca1416",
   "metadata": {},
   "outputs": [
    {
     "name": "stdout",
     "output_type": "stream",
     "text": [
      "+---------------------------------------+\n",
      "|item                                   |\n",
      "+---------------------------------------+\n",
      "|{{Apple, MacBook Pro}, 1200, Laptop, 1}|\n",
      "|{{Logitech, MX Master 3}, 50, Mouse, 2}|\n",
      "+---------------------------------------+\n",
      "\n"
     ]
    }
   ],
   "source": [
    "df.select(\"item\").show(truncate=False)"
   ]
  },
  {
   "cell_type": "code",
   "execution_count": 43,
   "id": "cc361d3d-597f-4d15-8adc-3c46628bfe5f",
   "metadata": {},
   "outputs": [],
   "source": [
    "df = df.drop(\"items\")"
   ]
  },
  {
   "cell_type": "code",
   "execution_count": 44,
   "id": "79c09d5a-2c72-43af-ac47-35d0e0420a6d",
   "metadata": {},
   "outputs": [
    {
     "name": "stdout",
     "output_type": "stream",
     "text": [
      "root\n",
      " |-- order_id: integer (nullable = true)\n",
      " |-- order_date: string (nullable = true)\n",
      " |-- name: string (nullable = true)\n",
      " |-- email: string (nullable = true)\n",
      " |-- city: string (nullable = true)\n",
      " |-- street: string (nullable = true)\n",
      " |-- zip: string (nullable = true)\n",
      " |-- item: struct (nullable = true)\n",
      " |    |-- details: struct (nullable = true)\n",
      " |    |    |-- brand: string (nullable = true)\n",
      " |    |    |-- model: string (nullable = true)\n",
      " |    |-- price: long (nullable = true)\n",
      " |    |-- product: string (nullable = true)\n",
      " |    |-- quantity: long (nullable = true)\n",
      "\n"
     ]
    }
   ],
   "source": [
    "df.printSchema()"
   ]
  },
  {
   "cell_type": "code",
   "execution_count": 45,
   "id": "69e6fb0d-a6da-4093-9965-27fbb17b55d0",
   "metadata": {},
   "outputs": [
    {
     "name": "stdout",
     "output_type": "stream",
     "text": [
      "+-----------------------+\n",
      "|details                |\n",
      "+-----------------------+\n",
      "|{Apple, MacBook Pro}   |\n",
      "|{Logitech, MX Master 3}|\n",
      "+-----------------------+\n",
      "\n"
     ]
    }
   ],
   "source": [
    "df.select(\"item.details\").show(truncate=False)"
   ]
  },
  {
   "cell_type": "code",
   "execution_count": 46,
   "id": "cdc40b68-b57e-4f2e-bbc4-ad70d38bafba",
   "metadata": {},
   "outputs": [
    {
     "name": "stdout",
     "output_type": "stream",
     "text": [
      "+--------+\n",
      "|brand   |\n",
      "+--------+\n",
      "|Apple   |\n",
      "|Logitech|\n",
      "+--------+\n",
      "\n"
     ]
    }
   ],
   "source": [
    "df.select(\"item.details.brand\").show(truncate=False)"
   ]
  },
  {
   "cell_type": "code",
   "execution_count": 47,
   "id": "8d9a7df2-5fee-4755-916f-65f97467d996",
   "metadata": {},
   "outputs": [],
   "source": [
    "df = df.withColumn(\"price\",col(\"item.price\"))"
   ]
  },
  {
   "cell_type": "code",
   "execution_count": 48,
   "id": "a4bbdfa3-ed64-4fe5-8be8-276f8f006823",
   "metadata": {},
   "outputs": [],
   "source": [
    "df = df.withColumn(\"product\",col(\"item.product\"))\n",
    "df = df.withColumn(\"quantity\",col(\"item.quantity\"))"
   ]
  },
  {
   "cell_type": "code",
   "execution_count": 49,
   "id": "aaeaeb90-311e-4992-8e24-8f42665dfe41",
   "metadata": {},
   "outputs": [
    {
     "name": "stdout",
     "output_type": "stream",
     "text": [
      "root\n",
      " |-- order_id: integer (nullable = true)\n",
      " |-- order_date: string (nullable = true)\n",
      " |-- name: string (nullable = true)\n",
      " |-- email: string (nullable = true)\n",
      " |-- city: string (nullable = true)\n",
      " |-- street: string (nullable = true)\n",
      " |-- zip: string (nullable = true)\n",
      " |-- item: struct (nullable = true)\n",
      " |    |-- details: struct (nullable = true)\n",
      " |    |    |-- brand: string (nullable = true)\n",
      " |    |    |-- model: string (nullable = true)\n",
      " |    |-- price: long (nullable = true)\n",
      " |    |-- product: string (nullable = true)\n",
      " |    |-- quantity: long (nullable = true)\n",
      " |-- price: long (nullable = true)\n",
      " |-- product: string (nullable = true)\n",
      " |-- quantity: long (nullable = true)\n",
      "\n"
     ]
    }
   ],
   "source": [
    "df.printSchema()"
   ]
  },
  {
   "cell_type": "code",
   "execution_count": 50,
   "id": "71f52e04-d8d1-476e-920d-ef742c9ae736",
   "metadata": {},
   "outputs": [],
   "source": [
    "df = df.withColumn(\"brand\",col(\"item.details.brand\"))\n",
    "df = df.withColumn(\"model\",col(\"item.details.model\"))"
   ]
  },
  {
   "cell_type": "code",
   "execution_count": 51,
   "id": "489e4fbc-4583-4e28-961d-5b89449d5b12",
   "metadata": {},
   "outputs": [
    {
     "name": "stdout",
     "output_type": "stream",
     "text": [
      "root\n",
      " |-- order_id: integer (nullable = true)\n",
      " |-- order_date: string (nullable = true)\n",
      " |-- name: string (nullable = true)\n",
      " |-- email: string (nullable = true)\n",
      " |-- city: string (nullable = true)\n",
      " |-- street: string (nullable = true)\n",
      " |-- zip: string (nullable = true)\n",
      " |-- item: struct (nullable = true)\n",
      " |    |-- details: struct (nullable = true)\n",
      " |    |    |-- brand: string (nullable = true)\n",
      " |    |    |-- model: string (nullable = true)\n",
      " |    |-- price: long (nullable = true)\n",
      " |    |-- product: string (nullable = true)\n",
      " |    |-- quantity: long (nullable = true)\n",
      " |-- price: long (nullable = true)\n",
      " |-- product: string (nullable = true)\n",
      " |-- quantity: long (nullable = true)\n",
      " |-- brand: string (nullable = true)\n",
      " |-- model: string (nullable = true)\n",
      "\n"
     ]
    }
   ],
   "source": [
    "df.printSchema()"
   ]
  },
  {
   "cell_type": "code",
   "execution_count": 52,
   "id": "bed068e5-4b25-438f-9845-b0a30f6e6851",
   "metadata": {},
   "outputs": [],
   "source": [
    "df = df.drop(\"item\")"
   ]
  },
  {
   "cell_type": "code",
   "execution_count": 53,
   "id": "665bd907-d06c-4078-9630-a00401e8c66f",
   "metadata": {},
   "outputs": [
    {
     "name": "stdout",
     "output_type": "stream",
     "text": [
      "root\n",
      " |-- order_id: integer (nullable = true)\n",
      " |-- order_date: string (nullable = true)\n",
      " |-- name: string (nullable = true)\n",
      " |-- email: string (nullable = true)\n",
      " |-- city: string (nullable = true)\n",
      " |-- street: string (nullable = true)\n",
      " |-- zip: string (nullable = true)\n",
      " |-- price: long (nullable = true)\n",
      " |-- product: string (nullable = true)\n",
      " |-- quantity: long (nullable = true)\n",
      " |-- brand: string (nullable = true)\n",
      " |-- model: string (nullable = true)\n",
      "\n"
     ]
    }
   ],
   "source": [
    "df.printSchema()"
   ]
  },
  {
   "cell_type": "code",
   "execution_count": 54,
   "id": "396204d5-e2dc-4165-8e82-c7a0525e3cd6",
   "metadata": {},
   "outputs": [
    {
     "name": "stdout",
     "output_type": "stream",
     "text": [
      "+--------+----------+--------+--------------------+--------+-----------+-----+-----+-------+--------+--------+-----------+\n",
      "|order_id|order_date|name    |email               |city    |street     |zip  |price|product|quantity|brand   |model      |\n",
      "+--------+----------+--------+--------------------+--------+-----------+-----+-----+-------+--------+--------+-----------+\n",
      "|12345   |2025-03-19|John Doe|john.doe@example.com|New York|123 Main St|10001|1200 |Laptop |1       |Apple   |MacBook Pro|\n",
      "|12345   |2025-03-19|John Doe|john.doe@example.com|New York|123 Main St|10001|50   |Mouse  |2       |Logitech|MX Master 3|\n",
      "+--------+----------+--------+--------------------+--------+-----------+-----+-----+-------+--------+--------+-----------+\n",
      "\n"
     ]
    }
   ],
   "source": [
    "df.show(truncate=False)"
   ]
  },
  {
   "cell_type": "code",
   "execution_count": null,
   "id": "c5638a11-7ac1-4038-a4e3-13ee13d707d7",
   "metadata": {},
   "outputs": [],
   "source": []
  }
 ],
 "metadata": {
  "kernelspec": {
   "display_name": "Python 3 (ipykernel)",
   "language": "python",
   "name": "python3"
  },
  "language_info": {
   "codemirror_mode": {
    "name": "ipython",
    "version": 3
   },
   "file_extension": ".py",
   "mimetype": "text/x-python",
   "name": "python",
   "nbconvert_exporter": "python",
   "pygments_lexer": "ipython3",
   "version": "3.10.2"
  }
 },
 "nbformat": 4,
 "nbformat_minor": 5
}
