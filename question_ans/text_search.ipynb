{
 "cells": [
  {
   "cell_type": "code",
   "execution_count": 1,
   "id": "e9f85dcc-c728-4bc1-a594-ea852add1a96",
   "metadata": {},
   "outputs": [],
   "source": [
    "from pyspark.sql import SparkSession\n",
    "from pyspark.sql.functions import col,explode,split"
   ]
  },
  {
   "cell_type": "code",
   "execution_count": 2,
   "id": "3ac60789-2c14-492c-a1bd-4c3560d52367",
   "metadata": {},
   "outputs": [
    {
     "name": "stderr",
     "output_type": "stream",
     "text": [
      "SLF4J: Class path contains multiple SLF4J bindings.\n",
      "SLF4J: Found binding in [jar:file:/home/glue_user/spark/jars/log4j-slf4j-impl-2.17.2.jar!/org/slf4j/impl/StaticLoggerBinder.class]\n",
      "SLF4J: Found binding in [jar:file:/home/glue_user/spark/jars/slf4j-reload4j-1.7.36.jar!/org/slf4j/impl/StaticLoggerBinder.class]\n",
      "SLF4J: Found binding in [jar:file:/home/glue_user/aws-glue-libs/jars/log4j-slf4j-impl-2.17.2.jar!/org/slf4j/impl/StaticLoggerBinder.class]\n",
      "SLF4J: Found binding in [jar:file:/home/glue_user/aws-glue-libs/jars/slf4j-reload4j-1.7.36.jar!/org/slf4j/impl/StaticLoggerBinder.class]\n",
      "SLF4J: See http://www.slf4j.org/codes.html#multiple_bindings for an explanation.\n",
      "SLF4J: Actual binding is of type [org.apache.logging.slf4j.Log4jLoggerFactory]\n",
      "Setting default log level to \"WARN\".\n",
      "To adjust logging level use sc.setLogLevel(newLevel). For SparkR, use setLogLevel(newLevel).\n",
      "25/03/19 15:28:20 WARN Utils: Service 'SparkUI' could not bind on port 4040. Attempting port 4041.\n"
     ]
    }
   ],
   "source": [
    "spark = SparkSession.builder.appName(\"textSearch\").getOrCreate()"
   ]
  },
  {
   "cell_type": "code",
   "execution_count": 3,
   "id": "c00fbdd0-baa7-4140-ad34-28515c0ddd8f",
   "metadata": {},
   "outputs": [],
   "source": [
    "data = [\n",
    "    (\"Spark is amazing and Spark is fast\",),\n",
    "    (\"Big data processing is powerful\",),\n",
    "    (\"Machine learning with Spark is fun\",),\n",
    "    (\"Data science and big data are related\",)\n",
    "]\n",
    "\n",
    "df = spark.createDataFrame(data,[\"text\"])"
   ]
  },
  {
   "cell_type": "code",
   "execution_count": 4,
   "id": "e395ccb2-e507-4157-9196-f713b0e70b92",
   "metadata": {},
   "outputs": [
    {
     "name": "stderr",
     "output_type": "stream",
     "text": [
      "                                                                                \r"
     ]
    },
    {
     "name": "stdout",
     "output_type": "stream",
     "text": [
      "+--------------------+\n",
      "|                text|\n",
      "+--------------------+\n",
      "|Spark is amazing ...|\n",
      "|Big data processi...|\n",
      "|Machine learning ...|\n",
      "|Data science and ...|\n",
      "+--------------------+\n",
      "\n"
     ]
    }
   ],
   "source": [
    "df.show()"
   ]
  },
  {
   "cell_type": "code",
   "execution_count": 9,
   "id": "7ad0ce47-2b46-41cc-a1a4-b8348a124004",
   "metadata": {},
   "outputs": [
    {
     "ename": "TypeError",
     "evalue": "'Column' object is not callable",
     "output_type": "error",
     "traceback": [
      "\u001b[0;31m---------------------------------------------------------------------------\u001b[0m",
      "\u001b[0;31mTypeError\u001b[0m                                 Traceback (most recent call last)",
      "Cell \u001b[0;32mIn[9], line 1\u001b[0m\n\u001b[0;32m----> 1\u001b[0m testWord \u001b[38;5;241m=\u001b[39m \u001b[43mdf\u001b[49m\u001b[38;5;241;43m.\u001b[39;49m\u001b[43mtext\u001b[49m\u001b[38;5;241;43m.\u001b[39;49m\u001b[43msplit\u001b[49m\u001b[43m(\u001b[49m\u001b[43m)\u001b[49m\n",
      "\u001b[0;31mTypeError\u001b[0m: 'Column' object is not callable"
     ]
    }
   ],
   "source": [
    "testWord = df.text.split()"
   ]
  },
  {
   "cell_type": "code",
   "execution_count": 17,
   "id": "ff075802-6ebf-435d-b7fe-b6daf42d19d4",
   "metadata": {},
   "outputs": [],
   "source": [
    "words_df = df.select(explode(split(col(\"text\"),\" \")).alias(\"word\"))"
   ]
  },
  {
   "cell_type": "code",
   "execution_count": 18,
   "id": "626387cd-4b60-44a9-991a-526f17890239",
   "metadata": {},
   "outputs": [
    {
     "name": "stdout",
     "output_type": "stream",
     "text": [
      "+----------+\n",
      "|      word|\n",
      "+----------+\n",
      "|     Spark|\n",
      "|        is|\n",
      "|   amazing|\n",
      "|       and|\n",
      "|     Spark|\n",
      "|        is|\n",
      "|      fast|\n",
      "|       Big|\n",
      "|      data|\n",
      "|processing|\n",
      "|        is|\n",
      "|  powerful|\n",
      "|   Machine|\n",
      "|  learning|\n",
      "|      with|\n",
      "|     Spark|\n",
      "|        is|\n",
      "|       fun|\n",
      "|      Data|\n",
      "|   science|\n",
      "+----------+\n",
      "only showing top 20 rows\n",
      "\n"
     ]
    }
   ],
   "source": [
    "words_df.show()"
   ]
  },
  {
   "cell_type": "code",
   "execution_count": 21,
   "id": "a176b8fb-6864-4e58-b494-ba6186bd2972",
   "metadata": {},
   "outputs": [],
   "source": [
    "from pyspark.sql.functions import count"
   ]
  },
  {
   "cell_type": "code",
   "execution_count": 22,
   "id": "c67ba427-dc33-40f7-b3eb-6b564fba4b98",
   "metadata": {},
   "outputs": [],
   "source": [
    "words_count_df = words_df.groupBy(\"word\").agg(count(\"word\").alias(\"countWords\"))"
   ]
  },
  {
   "cell_type": "code",
   "execution_count": 25,
   "id": "847f164c-4535-4367-992e-095da5a617d8",
   "metadata": {},
   "outputs": [
    {
     "name": "stderr",
     "output_type": "stream",
     "text": [
      "[Stage 11:>                                                         (0 + 4) / 4]\r"
     ]
    },
    {
     "name": "stdout",
     "output_type": "stream",
     "text": [
      "+----------+----------+\n",
      "|      word|countWords|\n",
      "+----------+----------+\n",
      "|        is|         4|\n",
      "|     Spark|         3|\n",
      "|      data|         2|\n",
      "|       and|         2|\n",
      "|   amazing|         1|\n",
      "|  powerful|         1|\n",
      "|      fast|         1|\n",
      "|processing|         1|\n",
      "|  learning|         1|\n",
      "|   Machine|         1|\n",
      "|       Big|         1|\n",
      "|      Data|         1|\n",
      "|       big|         1|\n",
      "|       fun|         1|\n",
      "|      with|         1|\n",
      "|       are|         1|\n",
      "|   related|         1|\n",
      "|   science|         1|\n",
      "+----------+----------+\n",
      "\n"
     ]
    },
    {
     "name": "stderr",
     "output_type": "stream",
     "text": [
      "                                                                                \r"
     ]
    }
   ],
   "source": [
    "words_count_df.orderBy(col(\"countWords\").desc()).show()"
   ]
  },
  {
   "cell_type": "code",
   "execution_count": 26,
   "id": "37fae422-3575-4a23-b682-2c94a00e7c64",
   "metadata": {},
   "outputs": [],
   "source": [
    "words_count_df.createOrReplaceTempView(\"words_count\")"
   ]
  },
  {
   "cell_type": "code",
   "execution_count": 27,
   "id": "bbb09fb9-ae09-4d00-83b1-98dcdba2ef96",
   "metadata": {},
   "outputs": [],
   "source": [
    "words_df.createOrReplaceTempView(\"words\")"
   ]
  },
  {
   "cell_type": "code",
   "execution_count": 31,
   "id": "5c03bf7b-2e81-4eda-a3e8-c214ce4babe5",
   "metadata": {},
   "outputs": [
    {
     "name": "stderr",
     "output_type": "stream",
     "text": [
      "25/03/19 16:27:28 WARN WindowExec: No Partition Defined for Window operation! Moving all data to a single partition, this can cause serious performance degradation.\n",
      "25/03/19 16:27:28 WARN WindowExec: No Partition Defined for Window operation! Moving all data to a single partition, this can cause serious performance degradation.\n",
      "25/03/19 16:27:28 WARN WindowExec: No Partition Defined for Window operation! Moving all data to a single partition, this can cause serious performance degradation.\n"
     ]
    },
    {
     "name": "stdout",
     "output_type": "stream",
     "text": [
      "+----------+-----------+----------------+\n",
      "|      word|words_count|rank_count_words|\n",
      "+----------+-----------+----------------+\n",
      "|        is|          4|               1|\n",
      "|     Spark|          3|               2|\n",
      "|       and|          2|               3|\n",
      "|      data|          2|               3|\n",
      "|   amazing|          1|               5|\n",
      "|      fast|          1|               5|\n",
      "|       Big|          1|               5|\n",
      "|  powerful|          1|               5|\n",
      "|processing|          1|               5|\n",
      "|  learning|          1|               5|\n",
      "|       fun|          1|               5|\n",
      "|   Machine|          1|               5|\n",
      "|      with|          1|               5|\n",
      "|       are|          1|               5|\n",
      "|   related|          1|               5|\n",
      "|      Data|          1|               5|\n",
      "|   science|          1|               5|\n",
      "|       big|          1|               5|\n",
      "+----------+-----------+----------------+\n",
      "\n"
     ]
    },
    {
     "name": "stderr",
     "output_type": "stream",
     "text": [
      "25/03/19 16:27:28 WARN WindowExec: No Partition Defined for Window operation! Moving all data to a single partition, this can cause serious performance degradation.\n",
      "25/03/19 16:27:28 WARN WindowExec: No Partition Defined for Window operation! Moving all data to a single partition, this can cause serious performance degradation.\n",
      "25/03/19 16:27:28 WARN WindowExec: No Partition Defined for Window operation! Moving all data to a single partition, this can cause serious performance degradation.\n",
      "25/03/19 16:27:28 WARN WindowExec: No Partition Defined for Window operation! Moving all data to a single partition, this can cause serious performance degradation.\n",
      "25/03/19 16:27:28 WARN WindowExec: No Partition Defined for Window operation! Moving all data to a single partition, this can cause serious performance degradation.\n",
      "25/03/19 16:27:28 WARN WindowExec: No Partition Defined for Window operation! Moving all data to a single partition, this can cause serious performance degradation.\n",
      "25/03/19 17:01:38 WARN NettyRpcEnv: Ignored failure: java.util.concurrent.TimeoutException: Cannot receive any reply from 8fa283ed17d3:39089 in 10000 milliseconds\n",
      "25/03/19 17:01:38 WARN Executor: Issue communicating with driver in heartbeater\n",
      "org.apache.spark.rpc.RpcTimeoutException: Futures timed out after [10000 milliseconds]. This timeout is controlled by spark.executor.heartbeatInterval\n",
      "\tat org.apache.spark.rpc.RpcTimeout.org$apache$spark$rpc$RpcTimeout$$createRpcTimeoutException(RpcTimeout.scala:47)\n",
      "\tat org.apache.spark.rpc.RpcTimeout$$anonfun$addMessageIfTimeout$1.applyOrElse(RpcTimeout.scala:62)\n",
      "\tat org.apache.spark.rpc.RpcTimeout$$anonfun$addMessageIfTimeout$1.applyOrElse(RpcTimeout.scala:58)\n",
      "\tat scala.runtime.AbstractPartialFunction.apply(AbstractPartialFunction.scala:38)\n",
      "\tat org.apache.spark.rpc.RpcTimeout.awaitResult(RpcTimeout.scala:76)\n",
      "\tat org.apache.spark.rpc.RpcEndpointRef.askSync(RpcEndpointRef.scala:103)\n",
      "\tat org.apache.spark.executor.Executor.reportHeartBeat(Executor.scala:1053)\n",
      "\tat org.apache.spark.executor.Executor.$anonfun$heartbeater$1(Executor.scala:238)\n",
      "\tat scala.runtime.java8.JFunction0$mcV$sp.apply(JFunction0$mcV$sp.java:23)\n",
      "\tat org.apache.spark.util.Utils$.logUncaughtExceptions(Utils.scala:2086)\n",
      "\tat org.apache.spark.Heartbeater$$anon$1.run(Heartbeater.scala:46)\n",
      "\tat java.util.concurrent.Executors$RunnableAdapter.call(Executors.java:511)\n",
      "\tat java.util.concurrent.FutureTask.runAndReset(FutureTask.java:308)\n",
      "\tat java.util.concurrent.ScheduledThreadPoolExecutor$ScheduledFutureTask.access$301(ScheduledThreadPoolExecutor.java:180)\n",
      "\tat java.util.concurrent.ScheduledThreadPoolExecutor$ScheduledFutureTask.run(ScheduledThreadPoolExecutor.java:294)\n",
      "\tat java.util.concurrent.ThreadPoolExecutor.runWorker(ThreadPoolExecutor.java:1149)\n",
      "\tat java.util.concurrent.ThreadPoolExecutor$Worker.run(ThreadPoolExecutor.java:624)\n",
      "\tat java.lang.Thread.run(Thread.java:750)\n",
      "Caused by: java.util.concurrent.TimeoutException: Futures timed out after [10000 milliseconds]\n",
      "\tat scala.concurrent.impl.Promise$DefaultPromise.ready(Promise.scala:259)\n",
      "\tat scala.concurrent.impl.Promise$DefaultPromise.result(Promise.scala:263)\n",
      "\tat org.apache.spark.util.ThreadUtils$.awaitResult(ThreadUtils.scala:293)\n",
      "\tat org.apache.spark.rpc.RpcTimeout.awaitResult(RpcTimeout.scala:75)\n",
      "\t... 13 more\n"
     ]
    }
   ],
   "source": [
    "spark.sql(\"\"\"\n",
    "            with countWord as (\n",
    "            select word,count(word) as words_count from words group by word            \n",
    "            ),\n",
    "            rankWordCount as (\n",
    "            select word,words_count,rank() over(order by words_count desc) as rank_count_words from countWord\n",
    "            )\n",
    "            select word,words_count,rank_count_words from rankWordCount where rank_count_words <= 10\n",
    "\"\"\").show()"
   ]
  },
  {
   "cell_type": "code",
   "execution_count": null,
   "id": "39052ce2-b2ca-45c1-b964-f231fb3f6258",
   "metadata": {},
   "outputs": [],
   "source": [
    "spark.sql(\"\"\"\n",
    "            with countWord as (\n",
    "            select word,count(word) as words_count from words group by word            \n",
    "            ),\n",
    "            rankWordCount as (\n",
    "            select word,words_count,rank() over(order by words_count desc) as rank_count_words from countWord\n",
    "            )\n",
    "            select word,words_count,rank_count_words from rankWordCount where rank_count_words <= 10\n",
    "\"\"\").show()"
   ]
  }
 ],
 "metadata": {
  "kernelspec": {
   "display_name": "Python 3 (ipykernel)",
   "language": "python",
   "name": "python3"
  },
  "language_info": {
   "codemirror_mode": {
    "name": "ipython",
    "version": 3
   },
   "file_extension": ".py",
   "mimetype": "text/x-python",
   "name": "python",
   "nbconvert_exporter": "python",
   "pygments_lexer": "ipython3",
   "version": "3.10.2"
  }
 },
 "nbformat": 4,
 "nbformat_minor": 5
}
