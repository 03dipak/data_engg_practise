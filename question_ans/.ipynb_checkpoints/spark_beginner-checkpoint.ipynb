{
 "cells": [
  {
   "cell_type": "markdown",
   "id": "3ed2b538-979b-4b5f-95e8-b462bff42ccf",
   "metadata": {},
   "source": [
    "Create a DataFrame:\n",
    "Create a Spark DataFrame from a list of tuples containing employee details: (employee_id, name, department, salary).\n",
    "\n",
    "Schema & Basic Operations:\n",
    "\n",
    "    Show the schema and first 5 rows.\n",
    "    Count the number of rows.\n",
    "    Get distinct department names.\n",
    "\n",
    "Filtering Data:\n",
    "\n",
    "    Find all employees in the \"IT\" department.\n",
    "    Find employees earning more than $50,000.\n",
    "    Find employees whose name starts with \"A\".\n",
    "\n",
    "Column Operations:\n",
    "\n",
    "    Add a new column called \"bonus\" which is 10% of salary.\n",
    "    Rename the \"salary\" column to \"base_salary\".\n",
    "    Drop the \"bonus\" column."
   ]
  },
  {
   "cell_type": "code",
   "execution_count": 1,
   "id": "6239357f-dd89-427c-9182-29652f20cbbc",
   "metadata": {},
   "outputs": [],
   "source": [
    "from pyspark.sql import SparkSession"
   ]
  },
  {
   "cell_type": "code",
   "execution_count": 2,
   "id": "8dffb12d-6750-4874-b52c-1768ed64e41d",
   "metadata": {},
   "outputs": [
    {
     "name": "stderr",
     "output_type": "stream",
     "text": [
      "SLF4J: Class path contains multiple SLF4J bindings.\n",
      "SLF4J: Found binding in [jar:file:/home/glue_user/spark/jars/log4j-slf4j-impl-2.17.2.jar!/org/slf4j/impl/StaticLoggerBinder.class]\n",
      "SLF4J: Found binding in [jar:file:/home/glue_user/spark/jars/slf4j-reload4j-1.7.36.jar!/org/slf4j/impl/StaticLoggerBinder.class]\n",
      "SLF4J: Found binding in [jar:file:/home/glue_user/aws-glue-libs/jars/log4j-slf4j-impl-2.17.2.jar!/org/slf4j/impl/StaticLoggerBinder.class]\n",
      "SLF4J: Found binding in [jar:file:/home/glue_user/aws-glue-libs/jars/slf4j-reload4j-1.7.36.jar!/org/slf4j/impl/StaticLoggerBinder.class]\n",
      "SLF4J: See http://www.slf4j.org/codes.html#multiple_bindings for an explanation.\n",
      "SLF4J: Actual binding is of type [org.apache.logging.slf4j.Log4jLoggerFactory]\n",
      "Setting default log level to \"WARN\".\n",
      "To adjust logging level use sc.setLogLevel(newLevel). For SparkR, use setLogLevel(newLevel).\n"
     ]
    }
   ],
   "source": [
    "spark = SparkSession.builder.appName(\"dataFrameBeginner\").getOrCreate()"
   ]
  },
  {
   "cell_type": "code",
   "execution_count": null,
   "id": "489caeca-88c0-494e-a60c-df17385383c6",
   "metadata": {},
   "outputs": [],
   "source": [
    "#Create a DataFrame\n",
    "#(employee_id, name, department, salary).\n"
   ]
  },
  {
   "cell_type": "code",
   "execution_count": 3,
   "id": "dd06c830-31a5-4556-a881-c1e4c9e3f5e6",
   "metadata": {},
   "outputs": [],
   "source": [
    "columns = [\"employee_id\", \"name\", \"department\", \"salary\"]\n",
    "employee_data =  [\n",
    "    (1, \"Alice\", \"IT\", 75000),\n",
    "    (2, \"Bob\", \"HR\", 68000),\n",
    "    (3, \"Charlie\", \"Finance\", 82000),\n",
    "    (4, \"David\", \"Marketing\", 72000),\n",
    "    (5, \"Emma\", \"IT\", 90000),\n",
    "    (6, \"Frank\", \"HR\", 56000),\n",
    "    (7, \"Grace\", \"Finance\", 95000),\n",
    "    (8, \"Hannah\", \"Marketing\", 67000),\n",
    "    (9, \"Ian\", \"Operations\", 87000),\n",
    "    (10, \"Jack\", \"IT\", 99000),\n",
    "    (11, \"Kate\", \"HR\", 74000),\n",
    "    (12, \"Liam\", \"Finance\", 81000),\n",
    "    (13, \"Mia\", \"Marketing\", 71000),\n",
    "    (14, \"Nathan\", \"IT\", 94000),\n",
    "    (15, \"Olivia\", \"HR\", 65000),\n",
    "    (16, \"Paul\", \"Finance\", 88000),\n",
    "    (17, \"Quinn\", \"Marketing\", 79000),\n",
    "    (18, \"Ryan\", \"Operations\", 85000),\n",
    "    (19, \"Sophia\", \"IT\", 92000),\n",
    "    (20, \"Tom\", \"HR\", 70000),\n",
    "    (21, \"Uma\", \"Finance\", 93000),\n",
    "    (22, \"Victor\", \"Marketing\", 69000),\n",
    "    (23, \"Wendy\", \"Operations\", 89000),\n",
    "    (24, \"Xander\", \"IT\", 97000),\n",
    "    (25, \"Yvonne\", \"HR\", 73000),\n",
    "    (26, \"Zach\", \"Finance\", 76000),\n",
    "    (27, \"Adam\", \"Marketing\", 78000),\n",
    "    (28, \"Bella\", \"Operations\", 81000),\n",
    "    (29, \"Carter\", \"IT\", 85000),\n",
    "    (30, \"Diana\", \"HR\", 66000),\n",
    "    (31, \"Ethan\", \"Finance\", 87000),\n",
    "    (32, \"Fiona\", \"Marketing\", 73000),\n",
    "    (33, \"George\", \"Operations\", 84000),\n",
    "    (34, \"Harper\", \"IT\", 95000),\n",
    "    (35, \"Isaac\", \"HR\", 69000),\n",
    "    (36, \"Julia\", \"Finance\", 88000),\n",
    "    (37, \"Kevin\", \"Marketing\", 72000),\n",
    "    (38, \"Laura\", \"Operations\", 91000),\n",
    "    (39, \"Michael\", \"IT\", 98000),\n",
    "    (40, \"Nina\", \"HR\", 64000),\n",
    "    (41, \"Oscar\", \"Finance\", 86000),\n",
    "    (42, \"Penny\", \"Marketing\", 75000),\n",
    "    (43, \"Quincy\", \"Operations\", 82000),\n",
    "    (44, \"Rachel\", \"IT\", 93000),\n",
    "    (45, \"Samuel\", \"HR\", 68000),\n",
    "    (46, \"Tina\", \"Finance\", 90000),\n",
    "    (47, \"Umar\", \"Marketing\", 77000),\n",
    "    (48, \"Violet\", \"Operations\", 83000),\n",
    "    (49, \"Will\", \"IT\", 97000),\n",
    "    (50, \"Xena\", \"HR\", 72000)\n",
    "]"
   ]
  },
  {
   "cell_type": "code",
   "execution_count": 63,
   "id": "0aa68e78-c327-4bd3-a1f8-285318a8a3be",
   "metadata": {},
   "outputs": [],
   "source": [
    "df_employee_data = spark.createDataFrame(employee_data,columns)"
   ]
  },
  {
   "cell_type": "code",
   "execution_count": 5,
   "id": "6be1a9fe-58a3-420a-8a6e-9034f5d11ff6",
   "metadata": {},
   "outputs": [
    {
     "name": "stderr",
     "output_type": "stream",
     "text": [
      "                                                                                \r"
     ]
    },
    {
     "name": "stdout",
     "output_type": "stream",
     "text": [
      "+-----------+-------+----------+------+\n",
      "|employee_id|   name|department|salary|\n",
      "+-----------+-------+----------+------+\n",
      "|          1|  Alice|        IT| 75000|\n",
      "|          2|    Bob|        HR| 68000|\n",
      "|          3|Charlie|   Finance| 82000|\n",
      "|          4|  David| Marketing| 72000|\n",
      "|          5|   Emma|        IT| 90000|\n",
      "|          6|  Frank|        HR| 56000|\n",
      "|          7|  Grace|   Finance| 95000|\n",
      "|          8| Hannah| Marketing| 67000|\n",
      "|          9|    Ian|Operations| 87000|\n",
      "|         10|   Jack|        IT| 99000|\n",
      "|         11|   Kate|        HR| 74000|\n",
      "|         12|   Liam|   Finance| 81000|\n",
      "|         13|    Mia| Marketing| 71000|\n",
      "|         14| Nathan|        IT| 94000|\n",
      "|         15| Olivia|        HR| 65000|\n",
      "|         16|   Paul|   Finance| 88000|\n",
      "|         17|  Quinn| Marketing| 79000|\n",
      "|         18|   Ryan|Operations| 85000|\n",
      "|         19| Sophia|        IT| 92000|\n",
      "|         20|    Tom|        HR| 70000|\n",
      "+-----------+-------+----------+------+\n",
      "only showing top 20 rows\n",
      "\n"
     ]
    }
   ],
   "source": [
    "df_employee_data.show()"
   ]
  },
  {
   "cell_type": "code",
   "execution_count": 7,
   "id": "aad79b2c-c2b7-4003-a66f-aeddff5a656d",
   "metadata": {},
   "outputs": [
    {
     "name": "stdout",
     "output_type": "stream",
     "text": [
      "root\n",
      " |-- employee_id: long (nullable = true)\n",
      " |-- name: string (nullable = true)\n",
      " |-- department: string (nullable = true)\n",
      " |-- salary: long (nullable = true)\n",
      "\n"
     ]
    }
   ],
   "source": [
    "#Show the schema\n",
    "df_employee_data.printSchema()"
   ]
  },
  {
   "cell_type": "code",
   "execution_count": 8,
   "id": "5f11efd0-a3dc-4087-ab14-e2bdfab6a128",
   "metadata": {},
   "outputs": [
    {
     "data": {
      "text/plain": [
       "[Row(employee_id=1, name='Alice', department='IT', salary=75000),\n",
       " Row(employee_id=2, name='Bob', department='HR', salary=68000),\n",
       " Row(employee_id=3, name='Charlie', department='Finance', salary=82000),\n",
       " Row(employee_id=4, name='David', department='Marketing', salary=72000),\n",
       " Row(employee_id=5, name='Emma', department='IT', salary=90000)]"
      ]
     },
     "execution_count": 8,
     "metadata": {},
     "output_type": "execute_result"
    }
   ],
   "source": [
    "#first 5 rows\n",
    "df_employee_data.head(5)"
   ]
  },
  {
   "cell_type": "code",
   "execution_count": 9,
   "id": "54daa6cf-c5d9-439e-9e13-ec85cbab1027",
   "metadata": {},
   "outputs": [
    {
     "name": "stderr",
     "output_type": "stream",
     "text": [
      "                                                                                \r"
     ]
    },
    {
     "data": {
      "text/plain": [
       "50"
      ]
     },
     "execution_count": 9,
     "metadata": {},
     "output_type": "execute_result"
    }
   ],
   "source": [
    "#Count the number of rows.\n",
    "df_employee_data.count()"
   ]
  },
  {
   "cell_type": "code",
   "execution_count": 15,
   "id": "f5c1a020-8751-48b0-8092-7bb2446ba0f2",
   "metadata": {},
   "outputs": [
    {
     "name": "stdout",
     "output_type": "stream",
     "text": [
      "+----------+\n",
      "|department|\n",
      "+----------+\n",
      "|        IT|\n",
      "|        HR|\n",
      "|   Finance|\n",
      "| Marketing|\n",
      "|        IT|\n",
      "|        HR|\n",
      "|   Finance|\n",
      "| Marketing|\n",
      "|Operations|\n",
      "|        IT|\n",
      "|        HR|\n",
      "|   Finance|\n",
      "| Marketing|\n",
      "|        IT|\n",
      "|        HR|\n",
      "|   Finance|\n",
      "| Marketing|\n",
      "|Operations|\n",
      "|        IT|\n",
      "|        HR|\n",
      "+----------+\n",
      "only showing top 20 rows\n",
      "\n"
     ]
    }
   ],
   "source": [
    "df_employee_data.select(df_employee_data[\"department\"]).show()"
   ]
  },
  {
   "cell_type": "code",
   "execution_count": 27,
   "id": "bf050173-e940-4c9b-baf1-49a8c18b88c0",
   "metadata": {},
   "outputs": [
    {
     "name": "stdout",
     "output_type": "stream",
     "text": [
      "+----------+\n",
      "|department|\n",
      "+----------+\n",
      "|   Finance|\n",
      "| Marketing|\n",
      "|        IT|\n",
      "|Operations|\n",
      "|        HR|\n",
      "+----------+\n",
      "\n"
     ]
    }
   ],
   "source": [
    "df_employee_data.select(\"department\").distinct().show(10)"
   ]
  },
  {
   "cell_type": "code",
   "execution_count": 28,
   "id": "27832c4b-5d74-44e8-90b4-80bb08e3737f",
   "metadata": {},
   "outputs": [
    {
     "data": {
      "text/plain": [
       "5"
      ]
     },
     "execution_count": 28,
     "metadata": {},
     "output_type": "execute_result"
    }
   ],
   "source": [
    "df_employee_data.select(\"department\").distinct().count()"
   ]
  },
  {
   "cell_type": "code",
   "execution_count": 29,
   "id": "9bdaeaca-361e-48fc-bcf7-d3a91bd106bd",
   "metadata": {},
   "outputs": [],
   "source": [
    "from pyspark.sql.functions import col"
   ]
  },
  {
   "cell_type": "code",
   "execution_count": 39,
   "id": "481861f8-7fd5-42b0-a29a-6573151193e9",
   "metadata": {},
   "outputs": [
    {
     "name": "stdout",
     "output_type": "stream",
     "text": [
      "+-----------+-----+----------+------+\n",
      "|employee_id| name|department|salary|\n",
      "+-----------+-----+----------+------+\n",
      "|          1|Alice|        IT| 75000|\n",
      "|          5| Emma|        IT| 90000|\n",
      "+-----------+-----+----------+------+\n",
      "only showing top 2 rows\n",
      "\n"
     ]
    }
   ],
   "source": [
    "# Find all employees in the \"IT\" department.\n",
    "df_employee_data.select(\"employee_id\",\"name\",\"department\",\"salary\").filter(col(\"department\") == \"IT\").show(2)"
   ]
  },
  {
   "cell_type": "code",
   "execution_count": 40,
   "id": "58c30cae-ed0b-479f-acf4-486aed1a65c0",
   "metadata": {},
   "outputs": [
    {
     "data": {
      "text/plain": [
       "[Row(name='Alice', department='IT', salary=75000),\n",
       " Row(name='Charlie', department='Finance', salary=82000)]"
      ]
     },
     "execution_count": 40,
     "metadata": {},
     "output_type": "execute_result"
    }
   ],
   "source": [
    "df_employee_data.select(\"name\",\"department\",\"salary\").filter((col(\"department\") == \"IT\") | (col(\"department\") == \"Finance\") ).head(2)"
   ]
  },
  {
   "cell_type": "code",
   "execution_count": 43,
   "id": "b41e54b7-2dd4-49e1-ae1d-cf8f3deb9b3e",
   "metadata": {},
   "outputs": [
    {
     "data": {
      "text/plain": [
       "[Row(employee_id=1, name='Alice', department='IT', salary=75000),\n",
       " Row(employee_id=2, name='Bob', department='HR', salary=68000),\n",
       " Row(employee_id=3, name='Charlie', department='Finance', salary=82000),\n",
       " Row(employee_id=4, name='David', department='Marketing', salary=72000),\n",
       " Row(employee_id=5, name='Emma', department='IT', salary=90000)]"
      ]
     },
     "execution_count": 43,
     "metadata": {},
     "output_type": "execute_result"
    }
   ],
   "source": [
    " #Find employees earning more than $50,000.\n",
    "df_employee_data.filter(col(\"salary\") > 50000).head(5)"
   ]
  },
  {
   "cell_type": "code",
   "execution_count": 51,
   "id": "edc6326b-a9dc-4977-adce-1889eb21720f",
   "metadata": {},
   "outputs": [
    {
     "data": {
      "text/plain": [
       "[Row(employee_id=1, name='Alice', department='IT', salary=75000),\n",
       " Row(employee_id=27, name='Adam', department='Marketing', salary=78000)]"
      ]
     },
     "execution_count": 51,
     "metadata": {},
     "output_type": "execute_result"
    }
   ],
   "source": [
    "df_employee_data.filter(col(\"salary\") > 50000).filter(col(\"name\").like(\"A%\")).head(5)"
   ]
  },
  {
   "cell_type": "code",
   "execution_count": 53,
   "id": "3ba6f439-92e0-442e-9890-85365c95c4e4",
   "metadata": {},
   "outputs": [
    {
     "data": {
      "text/plain": [
       "[Row(employee_id=1, name='Alice', department='IT', salary=75000),\n",
       " Row(employee_id=27, name='Adam', department='Marketing', salary=78000)]"
      ]
     },
     "execution_count": 53,
     "metadata": {},
     "output_type": "execute_result"
    }
   ],
   "source": [
    "# Find employees whose name starts with \"A\".\n",
    "#result_df = df.filter(col(\"name\").like(\"%A%\"))\n",
    "# result_df = df.filter(col(\"name\").rlike(\"[Aa]\"))\n",
    "df_employee_data.filter(col(\"name\").rlike(\"[A]\")).head(5)\n"
   ]
  },
  {
   "cell_type": "code",
   "execution_count": 64,
   "id": "20984147-bb5a-4708-ae93-a1a5fbf6ff6d",
   "metadata": {},
   "outputs": [],
   "source": [
    "\n",
    "#Add a new column called \"bonus\" which is 10% of salary.\n",
    "df_employee_data = df_employee_data.withColumn(\"bonus\",col(\"salary\") * 0.1)"
   ]
  },
  {
   "cell_type": "code",
   "execution_count": 66,
   "id": "49b21987-607d-41b6-8c1d-05b7c7910060",
   "metadata": {},
   "outputs": [
    {
     "data": {
      "text/plain": [
       "[Row(employee_id=1, name='Alice', department='IT', salary=75000, bonus=7500.0),\n",
       " Row(employee_id=2, name='Bob', department='HR', salary=68000, bonus=6800.0),\n",
       " Row(employee_id=3, name='Charlie', department='Finance', salary=82000, bonus=8200.0),\n",
       " Row(employee_id=4, name='David', department='Marketing', salary=72000, bonus=7200.0),\n",
       " Row(employee_id=5, name='Emma', department='IT', salary=90000, bonus=9000.0)]"
      ]
     },
     "execution_count": 66,
     "metadata": {},
     "output_type": "execute_result"
    }
   ],
   "source": [
    "df_employee_data.head(5)"
   ]
  },
  {
   "cell_type": "code",
   "execution_count": 70,
   "id": "41b8e218-cd21-4356-aa3d-034afc6b3f88",
   "metadata": {},
   "outputs": [],
   "source": [
    "df_employee_data = df_employee_data.withColumnRenamed(\"salary\",\"base_salary\")"
   ]
  },
  {
   "cell_type": "code",
   "execution_count": 71,
   "id": "bf71937c-9965-483a-b3df-5443bf9dad4c",
   "metadata": {},
   "outputs": [
    {
     "name": "stdout",
     "output_type": "stream",
     "text": [
      "root\n",
      " |-- employee_id: long (nullable = true)\n",
      " |-- name: string (nullable = true)\n",
      " |-- department: string (nullable = true)\n",
      " |-- base_salary: long (nullable = true)\n",
      " |-- bonus: double (nullable = true)\n",
      "\n"
     ]
    }
   ],
   "source": [
    "df_employee_data.printSchema()"
   ]
  },
  {
   "cell_type": "code",
   "execution_count": 72,
   "id": "4a64bf62-9dba-4b80-bffc-d5fa4beeb0b6",
   "metadata": {},
   "outputs": [
    {
     "data": {
      "text/plain": [
       "[Row(employee_id=1, name='Alice', department='IT', base_salary=75000, bonus=7500.0),\n",
       " Row(employee_id=2, name='Bob', department='HR', base_salary=68000, bonus=6800.0),\n",
       " Row(employee_id=3, name='Charlie', department='Finance', base_salary=82000, bonus=8200.0),\n",
       " Row(employee_id=4, name='David', department='Marketing', base_salary=72000, bonus=7200.0),\n",
       " Row(employee_id=5, name='Emma', department='IT', base_salary=90000, bonus=9000.0)]"
      ]
     },
     "execution_count": 72,
     "metadata": {},
     "output_type": "execute_result"
    }
   ],
   "source": [
    "df_employee_data.head(5)"
   ]
  },
  {
   "cell_type": "code",
   "execution_count": 73,
   "id": "a6883c79-2537-4f4e-8fbb-048b9042c3f2",
   "metadata": {},
   "outputs": [
    {
     "name": "stdout",
     "output_type": "stream",
     "text": [
      "+-----------+-----+----------+-----------+\n",
      "|employee_id| name|department|base_salary|\n",
      "+-----------+-----+----------+-----------+\n",
      "|          1|Alice|        IT|      75000|\n",
      "|          2|  Bob|        HR|      68000|\n",
      "+-----------+-----+----------+-----------+\n",
      "only showing top 2 rows\n",
      "\n"
     ]
    }
   ],
   "source": [
    "df_employee_data.drop(\"bonus\").show(2)"
   ]
  },
  {
   "cell_type": "code",
   "execution_count": null,
   "id": "c09004f3-99cb-4c95-9910-6cebe7c731a4",
   "metadata": {},
   "outputs": [],
   "source": [
    "\n",
    "Add a new column called \"bonus\" which is 10% of salary.\n",
    "Rename the \"salary\" column to \"base_salary\".\n",
    "Drop the \"bonus\" column.\n",
    "\n",
    "Column Operations:\n",
    "\n",
    "    \n",
    "    Rename the \"salary\" column to \"base_salary\".\n",
    "    Drop the \"bonus\" column."
   ]
  }
 ],
 "metadata": {
  "kernelspec": {
   "display_name": "Python 3 (ipykernel)",
   "language": "python",
   "name": "python3"
  },
  "language_info": {
   "codemirror_mode": {
    "name": "ipython",
    "version": 3
   },
   "file_extension": ".py",
   "mimetype": "text/x-python",
   "name": "python",
   "nbconvert_exporter": "python",
   "pygments_lexer": "ipython3",
   "version": "3.10.2"
  }
 },
 "nbformat": 4,
 "nbformat_minor": 5
}
